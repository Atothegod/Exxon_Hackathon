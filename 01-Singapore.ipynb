{
 "cells": [
  {
   "cell_type": "markdown",
   "id": "3a0d35db",
   "metadata": {},
   "source": [
    "# **Libraries**"
   ]
  },
  {
   "cell_type": "code",
   "execution_count": 833,
   "id": "dc7548bd",
   "metadata": {},
   "outputs": [],
   "source": [
    "import pandas as pd\n",
    "import numpy as np\n",
    "import pandas as pd\n",
    "import numpy as np\n",
    "from sklearn.ensemble import GradientBoostingRegressor, RandomForestRegressor\n",
    "import matplotlib.pyplot as plt\n",
    "import xgboost as xgb\n",
    "from sklearn.preprocessing import RobustScaler\n",
    "from sklearn.metrics import mean_absolute_error, mean_squared_error\n",
    "import plotly.express as px\n",
    "from sklearn.linear_model import Ridge, LinearRegression\n",
    "from lightgbm import LGBMRegressor\n",
    "from sklearn.linear_model import Ridge\n",
    "from pulp import LpProblem, LpVariable, LpMinimize, lpSum, LpContinuous, value"
   ]
  },
  {
   "cell_type": "markdown",
   "id": "cbfe6572",
   "metadata": {},
   "source": [
    "# **Load Data**"
   ]
  },
  {
   "cell_type": "code",
   "execution_count": 834,
   "id": "d9690634",
   "metadata": {},
   "outputs": [],
   "source": [
    "Inbound = pd.read_csv('exfolder/Inbound.csv', encoding='utf-8-sig')\n",
    "Inventory = pd.read_csv('exfolder/Inventory.csv', encoding='utf-8-sig')\n",
    "MaterialMaster = pd.read_csv('exfolder/MaterialMaster.csv', encoding='utf-8-sig')\n",
    "OperationCost = pd.read_csv('exfolder/OperationCost.csv', encoding='utf-8-sig')\n",
    "Outbound = pd.read_csv('exfolder/Outbound.csv', encoding='utf-8-sig')"
   ]
  },
  {
   "cell_type": "markdown",
   "id": "01025e54",
   "metadata": {},
   "source": [
    "# **Sample of Each Dataset**"
   ]
  },
  {
   "cell_type": "code",
   "execution_count": 835,
   "id": "2aa9d6ed",
   "metadata": {},
   "outputs": [
    {
     "data": {
      "text/plain": [
       "((19593, 4), (28328, 8), (431, 4), (4, 4), (26994, 6))"
      ]
     },
     "execution_count": 835,
     "metadata": {},
     "output_type": "execute_result"
    }
   ],
   "source": [
    "Inbound.shape, Inventory.shape, MaterialMaster.shape, OperationCost.shape, Outbound.shape"
   ]
  },
  {
   "cell_type": "code",
   "execution_count": 836,
   "id": "004713f4",
   "metadata": {},
   "outputs": [
    {
     "data": {
      "text/html": [
       "<div>\n",
       "<style scoped>\n",
       "    .dataframe tbody tr th:only-of-type {\n",
       "        vertical-align: middle;\n",
       "    }\n",
       "\n",
       "    .dataframe tbody tr th {\n",
       "        vertical-align: top;\n",
       "    }\n",
       "\n",
       "    .dataframe thead th {\n",
       "        text-align: right;\n",
       "    }\n",
       "</style>\n",
       "<table border=\"1\" class=\"dataframe\">\n",
       "  <thead>\n",
       "    <tr style=\"text-align: right;\">\n",
       "      <th></th>\n",
       "      <th>INBOUND_DATE</th>\n",
       "      <th>PLANT_NAME</th>\n",
       "      <th>MATERIAL_NAME</th>\n",
       "      <th>NET_QUANTITY_MT</th>\n",
       "    </tr>\n",
       "  </thead>\n",
       "  <tbody>\n",
       "    <tr>\n",
       "      <th>6030</th>\n",
       "      <td>2024/11/06</td>\n",
       "      <td>SINGAPORE-WAREHOUSE</td>\n",
       "      <td>MAT-0037</td>\n",
       "      <td>24.75</td>\n",
       "    </tr>\n",
       "    <tr>\n",
       "      <th>18034</th>\n",
       "      <td>2024/10/09</td>\n",
       "      <td>CHINA-WAREHOUSE</td>\n",
       "      <td>MAT-0332</td>\n",
       "      <td>1.25</td>\n",
       "    </tr>\n",
       "    <tr>\n",
       "      <th>3837</th>\n",
       "      <td>2024/07/06</td>\n",
       "      <td>SINGAPORE-WAREHOUSE</td>\n",
       "      <td>MAT-0354</td>\n",
       "      <td>24.75</td>\n",
       "    </tr>\n",
       "    <tr>\n",
       "      <th>10181</th>\n",
       "      <td>2024/04/04</td>\n",
       "      <td>CHINA-WAREHOUSE</td>\n",
       "      <td>MAT-0144</td>\n",
       "      <td>25.50</td>\n",
       "    </tr>\n",
       "    <tr>\n",
       "      <th>18461</th>\n",
       "      <td>2024/11/19</td>\n",
       "      <td>CHINA-WAREHOUSE</td>\n",
       "      <td>MAT-0013</td>\n",
       "      <td>25.50</td>\n",
       "    </tr>\n",
       "  </tbody>\n",
       "</table>\n",
       "</div>"
      ],
      "text/plain": [
       "      INBOUND_DATE           PLANT_NAME MATERIAL_NAME  NET_QUANTITY_MT\n",
       "6030    2024/11/06  SINGAPORE-WAREHOUSE      MAT-0037            24.75\n",
       "18034   2024/10/09      CHINA-WAREHOUSE      MAT-0332             1.25\n",
       "3837    2024/07/06  SINGAPORE-WAREHOUSE      MAT-0354            24.75\n",
       "10181   2024/04/04      CHINA-WAREHOUSE      MAT-0144            25.50\n",
       "18461   2024/11/19      CHINA-WAREHOUSE      MAT-0013            25.50"
      ]
     },
     "execution_count": 836,
     "metadata": {},
     "output_type": "execute_result"
    }
   ],
   "source": [
    "Inbound.sample(5)"
   ]
  },
  {
   "cell_type": "code",
   "execution_count": 837,
   "id": "09e33561",
   "metadata": {},
   "outputs": [
    {
     "data": {
      "text/html": [
       "<div>\n",
       "<style scoped>\n",
       "    .dataframe tbody tr th:only-of-type {\n",
       "        vertical-align: middle;\n",
       "    }\n",
       "\n",
       "    .dataframe tbody tr th {\n",
       "        vertical-align: top;\n",
       "    }\n",
       "\n",
       "    .dataframe thead th {\n",
       "        text-align: right;\n",
       "    }\n",
       "</style>\n",
       "<table border=\"1\" class=\"dataframe\">\n",
       "  <thead>\n",
       "    <tr style=\"text-align: right;\">\n",
       "      <th></th>\n",
       "      <th>OUTBOUND_DATE</th>\n",
       "      <th>PLANT_NAME</th>\n",
       "      <th>MODE_OF_TRANSPORT</th>\n",
       "      <th>MATERIAL_NAME</th>\n",
       "      <th>CUSTOMER_NUMBER</th>\n",
       "      <th>NET_QUANTITY_MT</th>\n",
       "    </tr>\n",
       "  </thead>\n",
       "  <tbody>\n",
       "    <tr>\n",
       "      <th>11285</th>\n",
       "      <td>2024/08/27</td>\n",
       "      <td>CHINA-WAREHOUSE</td>\n",
       "      <td>Truck</td>\n",
       "      <td>MAT-0084</td>\n",
       "      <td>CST-00334</td>\n",
       "      <td>12.380</td>\n",
       "    </tr>\n",
       "    <tr>\n",
       "      <th>8579</th>\n",
       "      <td>2024/06/27</td>\n",
       "      <td>CHINA-WAREHOUSE</td>\n",
       "      <td>Truck</td>\n",
       "      <td>MAT-0100</td>\n",
       "      <td>CST-00717</td>\n",
       "      <td>0.150</td>\n",
       "    </tr>\n",
       "    <tr>\n",
       "      <th>21885</th>\n",
       "      <td>2024/06/28</td>\n",
       "      <td>SINGAPORE-WAREHOUSE</td>\n",
       "      <td>Marine</td>\n",
       "      <td>MAT-0234</td>\n",
       "      <td>CST-01187</td>\n",
       "      <td>1.375</td>\n",
       "    </tr>\n",
       "    <tr>\n",
       "      <th>18898</th>\n",
       "      <td>2024/02/10</td>\n",
       "      <td>SINGAPORE-WAREHOUSE</td>\n",
       "      <td>Marine</td>\n",
       "      <td>MAT-0099</td>\n",
       "      <td>CST-01154</td>\n",
       "      <td>24.750</td>\n",
       "    </tr>\n",
       "    <tr>\n",
       "      <th>16028</th>\n",
       "      <td>2024/11/21</td>\n",
       "      <td>CHINA-WAREHOUSE</td>\n",
       "      <td>Truck</td>\n",
       "      <td>MAT-0144</td>\n",
       "      <td>CST-00676</td>\n",
       "      <td>25.500</td>\n",
       "    </tr>\n",
       "  </tbody>\n",
       "</table>\n",
       "</div>"
      ],
      "text/plain": [
       "      OUTBOUND_DATE           PLANT_NAME MODE_OF_TRANSPORT MATERIAL_NAME  \\\n",
       "11285    2024/08/27      CHINA-WAREHOUSE             Truck      MAT-0084   \n",
       "8579     2024/06/27      CHINA-WAREHOUSE             Truck      MAT-0100   \n",
       "21885    2024/06/28  SINGAPORE-WAREHOUSE            Marine      MAT-0234   \n",
       "18898    2024/02/10  SINGAPORE-WAREHOUSE            Marine      MAT-0099   \n",
       "16028    2024/11/21      CHINA-WAREHOUSE             Truck      MAT-0144   \n",
       "\n",
       "      CUSTOMER_NUMBER  NET_QUANTITY_MT  \n",
       "11285       CST-00334           12.380  \n",
       "8579        CST-00717            0.150  \n",
       "21885       CST-01187            1.375  \n",
       "18898       CST-01154           24.750  \n",
       "16028       CST-00676           25.500  "
      ]
     },
     "execution_count": 837,
     "metadata": {},
     "output_type": "execute_result"
    }
   ],
   "source": [
    "Outbound.sample(5)"
   ]
  },
  {
   "cell_type": "code",
   "execution_count": 838,
   "id": "f1e31f65",
   "metadata": {},
   "outputs": [
    {
     "data": {
      "text/html": [
       "<div>\n",
       "<style scoped>\n",
       "    .dataframe tbody tr th:only-of-type {\n",
       "        vertical-align: middle;\n",
       "    }\n",
       "\n",
       "    .dataframe tbody tr th {\n",
       "        vertical-align: top;\n",
       "    }\n",
       "\n",
       "    .dataframe thead th {\n",
       "        text-align: right;\n",
       "    }\n",
       "</style>\n",
       "<table border=\"1\" class=\"dataframe\">\n",
       "  <thead>\n",
       "    <tr style=\"text-align: right;\">\n",
       "      <th></th>\n",
       "      <th>BALANCE_AS_OF_DATE</th>\n",
       "      <th>PLANT_NAME</th>\n",
       "      <th>MATERIAL_NAME</th>\n",
       "      <th>BATCH_NUMBER</th>\n",
       "      <th>UNRESRICTED_STOCK</th>\n",
       "      <th>STOCK_UNIT</th>\n",
       "      <th>STOCK_SELL_VALUE</th>\n",
       "      <th>CURRENCY</th>\n",
       "    </tr>\n",
       "  </thead>\n",
       "  <tbody>\n",
       "    <tr>\n",
       "      <th>24812</th>\n",
       "      <td>9/30/2024</td>\n",
       "      <td>SINGAPORE-WAREHOUSE</td>\n",
       "      <td>MAT-0354</td>\n",
       "      <td>M6204C</td>\n",
       "      <td>89375</td>\n",
       "      <td>KG</td>\n",
       "      <td>44688</td>\n",
       "      <td>SGD</td>\n",
       "    </tr>\n",
       "    <tr>\n",
       "      <th>19726</th>\n",
       "      <td>4/30/2024</td>\n",
       "      <td>SINGAPORE-WAREHOUSE</td>\n",
       "      <td>MAT-0327</td>\n",
       "      <td>M5973A</td>\n",
       "      <td>2750</td>\n",
       "      <td>KG</td>\n",
       "      <td>1843</td>\n",
       "      <td>SGD</td>\n",
       "    </tr>\n",
       "    <tr>\n",
       "      <th>4784</th>\n",
       "      <td>5/31/2024</td>\n",
       "      <td>CHINA-WAREHOUSE</td>\n",
       "      <td>MAT-0086</td>\n",
       "      <td>E2769A</td>\n",
       "      <td>28375</td>\n",
       "      <td>KG</td>\n",
       "      <td>215366</td>\n",
       "      <td>CNY</td>\n",
       "    </tr>\n",
       "    <tr>\n",
       "      <th>21036</th>\n",
       "      <td>6/30/2024</td>\n",
       "      <td>SINGAPORE-WAREHOUSE</td>\n",
       "      <td>MAT-0364</td>\n",
       "      <td>2814A1415</td>\n",
       "      <td>11000</td>\n",
       "      <td>KG</td>\n",
       "      <td>25410</td>\n",
       "      <td>SGD</td>\n",
       "    </tr>\n",
       "    <tr>\n",
       "      <th>7979</th>\n",
       "      <td>7/31/2024</td>\n",
       "      <td>CHINA-WAREHOUSE</td>\n",
       "      <td>MAT-0389</td>\n",
       "      <td>V6029A</td>\n",
       "      <td>160175</td>\n",
       "      <td>KG</td>\n",
       "      <td>1928507</td>\n",
       "      <td>CNY</td>\n",
       "    </tr>\n",
       "  </tbody>\n",
       "</table>\n",
       "</div>"
      ],
      "text/plain": [
       "      BALANCE_AS_OF_DATE           PLANT_NAME MATERIAL_NAME BATCH_NUMBER  \\\n",
       "24812          9/30/2024  SINGAPORE-WAREHOUSE      MAT-0354       M6204C   \n",
       "19726          4/30/2024  SINGAPORE-WAREHOUSE      MAT-0327       M5973A   \n",
       "4784           5/31/2024      CHINA-WAREHOUSE      MAT-0086       E2769A   \n",
       "21036          6/30/2024  SINGAPORE-WAREHOUSE      MAT-0364    2814A1415   \n",
       "7979           7/31/2024      CHINA-WAREHOUSE      MAT-0389       V6029A   \n",
       "\n",
       "       UNRESRICTED_STOCK STOCK_UNIT  STOCK_SELL_VALUE CURRENCY  \n",
       "24812              89375         KG             44688      SGD  \n",
       "19726               2750         KG              1843      SGD  \n",
       "4784               28375         KG            215366      CNY  \n",
       "21036              11000         KG             25410      SGD  \n",
       "7979              160175         KG           1928507      CNY  "
      ]
     },
     "execution_count": 838,
     "metadata": {},
     "output_type": "execute_result"
    }
   ],
   "source": [
    "Inventory.sample(5)"
   ]
  },
  {
   "cell_type": "code",
   "execution_count": 839,
   "id": "6076565d",
   "metadata": {},
   "outputs": [
    {
     "data": {
      "text/html": [
       "<div>\n",
       "<style scoped>\n",
       "    .dataframe tbody tr th:only-of-type {\n",
       "        vertical-align: middle;\n",
       "    }\n",
       "\n",
       "    .dataframe tbody tr th {\n",
       "        vertical-align: top;\n",
       "    }\n",
       "\n",
       "    .dataframe thead th {\n",
       "        text-align: right;\n",
       "    }\n",
       "</style>\n",
       "<table border=\"1\" class=\"dataframe\">\n",
       "  <thead>\n",
       "    <tr style=\"text-align: right;\">\n",
       "      <th></th>\n",
       "      <th>MATERIAL_NAME</th>\n",
       "      <th>POLYMER_TYPE</th>\n",
       "      <th>SHELF_LIFE_IN_MONTH</th>\n",
       "      <th>DOWNGRADE_VALUE_LOST_PERCENT</th>\n",
       "    </tr>\n",
       "  </thead>\n",
       "  <tbody>\n",
       "    <tr>\n",
       "      <th>213</th>\n",
       "      <td>MAT-0214</td>\n",
       "      <td>P-001</td>\n",
       "      <td>6</td>\n",
       "      <td>15</td>\n",
       "    </tr>\n",
       "    <tr>\n",
       "      <th>242</th>\n",
       "      <td>MAT-0243</td>\n",
       "      <td>P-001</td>\n",
       "      <td>4</td>\n",
       "      <td>30</td>\n",
       "    </tr>\n",
       "    <tr>\n",
       "      <th>4</th>\n",
       "      <td>MAT-0005</td>\n",
       "      <td>P-002</td>\n",
       "      <td>5</td>\n",
       "      <td>20</td>\n",
       "    </tr>\n",
       "    <tr>\n",
       "      <th>191</th>\n",
       "      <td>MAT-0192</td>\n",
       "      <td>P-001</td>\n",
       "      <td>2</td>\n",
       "      <td>5</td>\n",
       "    </tr>\n",
       "    <tr>\n",
       "      <th>46</th>\n",
       "      <td>MAT-0047</td>\n",
       "      <td>P-002</td>\n",
       "      <td>3</td>\n",
       "      <td>30</td>\n",
       "    </tr>\n",
       "  </tbody>\n",
       "</table>\n",
       "</div>"
      ],
      "text/plain": [
       "    MATERIAL_NAME POLYMER_TYPE  SHELF_LIFE_IN_MONTH  \\\n",
       "213      MAT-0214        P-001                    6   \n",
       "242      MAT-0243        P-001                    4   \n",
       "4        MAT-0005        P-002                    5   \n",
       "191      MAT-0192        P-001                    2   \n",
       "46       MAT-0047        P-002                    3   \n",
       "\n",
       "     DOWNGRADE_VALUE_LOST_PERCENT  \n",
       "213                            15  \n",
       "242                            30  \n",
       "4                              20  \n",
       "191                             5  \n",
       "46                             30  "
      ]
     },
     "execution_count": 839,
     "metadata": {},
     "output_type": "execute_result"
    }
   ],
   "source": [
    "MaterialMaster.sample(5)"
   ]
  },
  {
   "cell_type": "code",
   "execution_count": 840,
   "id": "5ff1789d",
   "metadata": {},
   "outputs": [
    {
     "data": {
      "text/html": [
       "<div>\n",
       "<style scoped>\n",
       "    .dataframe tbody tr th:only-of-type {\n",
       "        vertical-align: middle;\n",
       "    }\n",
       "\n",
       "    .dataframe tbody tr th {\n",
       "        vertical-align: top;\n",
       "    }\n",
       "\n",
       "    .dataframe thead th {\n",
       "        text-align: right;\n",
       "    }\n",
       "</style>\n",
       "<table border=\"1\" class=\"dataframe\">\n",
       "  <thead>\n",
       "    <tr style=\"text-align: right;\">\n",
       "      <th></th>\n",
       "      <th>Operation</th>\n",
       "      <th>Plant/Mode of Transport</th>\n",
       "      <th>Cost</th>\n",
       "      <th>Currency</th>\n",
       "    </tr>\n",
       "  </thead>\n",
       "  <tbody>\n",
       "    <tr>\n",
       "      <th>0</th>\n",
       "      <td>Inventory Storage per MT per day</td>\n",
       "      <td>SINGAPORE WAREHOUSE</td>\n",
       "      <td>15.0</td>\n",
       "      <td>SGD</td>\n",
       "    </tr>\n",
       "    <tr>\n",
       "      <th>1</th>\n",
       "      <td>Inventory Storage per MT per day</td>\n",
       "      <td>CHINA WAREHOUSE</td>\n",
       "      <td>1.7</td>\n",
       "      <td>CNY</td>\n",
       "    </tr>\n",
       "    <tr>\n",
       "      <th>2</th>\n",
       "      <td>Transfer cost per container (24.75MT)</td>\n",
       "      <td>Truck</td>\n",
       "      <td>150.0</td>\n",
       "      <td>SGD</td>\n",
       "    </tr>\n",
       "    <tr>\n",
       "      <th>3</th>\n",
       "      <td>Transfer cost per container (24.75MT)</td>\n",
       "      <td>Marine</td>\n",
       "      <td>75.0</td>\n",
       "      <td>USD</td>\n",
       "    </tr>\n",
       "  </tbody>\n",
       "</table>\n",
       "</div>"
      ],
      "text/plain": [
       "                               Operation Plant/Mode of Transport   Cost  \\\n",
       "0       Inventory Storage per MT per day     SINGAPORE WAREHOUSE   15.0   \n",
       "1       Inventory Storage per MT per day         CHINA WAREHOUSE    1.7   \n",
       "2  Transfer cost per container (24.75MT)                   Truck  150.0   \n",
       "3  Transfer cost per container (24.75MT)                  Marine   75.0   \n",
       "\n",
       "  Currency  \n",
       "0      SGD  \n",
       "1      CNY  \n",
       "2      SGD  \n",
       "3      USD  "
      ]
     },
     "execution_count": 840,
     "metadata": {},
     "output_type": "execute_result"
    }
   ],
   "source": [
    "OperationCost"
   ]
  },
  {
   "cell_type": "markdown",
   "id": "5a88e605",
   "metadata": {},
   "source": [
    "# **Data Cleaning**"
   ]
  },
  {
   "cell_type": "code",
   "execution_count": 841,
   "id": "c9457f1f",
   "metadata": {},
   "outputs": [
    {
     "data": {
      "text/plain": [
       "BALANCE_AS_OF_DATE    0\n",
       "PLANT_NAME            0\n",
       "MATERIAL_NAME         0\n",
       "BATCH_NUMBER          1\n",
       "UNRESRICTED_STOCK     0\n",
       "STOCK_UNIT            0\n",
       "STOCK_SELL_VALUE      0\n",
       "CURRENCY              0\n",
       "dtype: int64"
      ]
     },
     "execution_count": 841,
     "metadata": {},
     "output_type": "execute_result"
    }
   ],
   "source": [
    "Inventory.isnull().sum()"
   ]
  },
  {
   "cell_type": "code",
   "execution_count": 842,
   "id": "d1ac7b08",
   "metadata": {},
   "outputs": [
    {
     "data": {
      "text/plain": [
       "OUTBOUND_DATE        0\n",
       "PLANT_NAME           0\n",
       "MODE_OF_TRANSPORT    0\n",
       "MATERIAL_NAME        4\n",
       "CUSTOMER_NUMBER      0\n",
       "NET_QUANTITY_MT      0\n",
       "dtype: int64"
      ]
     },
     "execution_count": 842,
     "metadata": {},
     "output_type": "execute_result"
    }
   ],
   "source": [
    "Outbound.isnull().sum() "
   ]
  },
  {
   "cell_type": "code",
   "execution_count": 843,
   "id": "c8ff8110",
   "metadata": {},
   "outputs": [],
   "source": [
    "Inventory.dropna(subset=['BATCH_NUMBER'], inplace=True)\n",
    "Outbound.dropna(subset=['MATERIAL_NAME'], inplace=True)"
   ]
  },
  {
   "cell_type": "code",
   "execution_count": 844,
   "id": "e7ea0832",
   "metadata": {},
   "outputs": [
    {
     "data": {
      "text/html": [
       "<div>\n",
       "<style scoped>\n",
       "    .dataframe tbody tr th:only-of-type {\n",
       "        vertical-align: middle;\n",
       "    }\n",
       "\n",
       "    .dataframe tbody tr th {\n",
       "        vertical-align: top;\n",
       "    }\n",
       "\n",
       "    .dataframe thead th {\n",
       "        text-align: right;\n",
       "    }\n",
       "</style>\n",
       "<table border=\"1\" class=\"dataframe\">\n",
       "  <thead>\n",
       "    <tr style=\"text-align: right;\">\n",
       "      <th></th>\n",
       "      <th>INBOUND_DATE</th>\n",
       "      <th>PLANT_NAME</th>\n",
       "      <th>MATERIAL_NAME</th>\n",
       "      <th>NET_QUANTITY_MT</th>\n",
       "    </tr>\n",
       "  </thead>\n",
       "  <tbody>\n",
       "    <tr>\n",
       "      <th>0</th>\n",
       "      <td>2023/12/15</td>\n",
       "      <td>SINGAPORE-WAREHOUSE</td>\n",
       "      <td>MAT-0354</td>\n",
       "      <td>23.375</td>\n",
       "    </tr>\n",
       "    <tr>\n",
       "      <th>1</th>\n",
       "      <td>2023/12/22</td>\n",
       "      <td>SINGAPORE-WAREHOUSE</td>\n",
       "      <td>MAT-0413</td>\n",
       "      <td>1.375</td>\n",
       "    </tr>\n",
       "    <tr>\n",
       "      <th>2</th>\n",
       "      <td>2023/12/22</td>\n",
       "      <td>SINGAPORE-WAREHOUSE</td>\n",
       "      <td>MAT-0413</td>\n",
       "      <td>23.375</td>\n",
       "    </tr>\n",
       "    <tr>\n",
       "      <th>3</th>\n",
       "      <td>2023/12/22</td>\n",
       "      <td>SINGAPORE-WAREHOUSE</td>\n",
       "      <td>MAT-0413</td>\n",
       "      <td>24.750</td>\n",
       "    </tr>\n",
       "    <tr>\n",
       "      <th>4</th>\n",
       "      <td>2023/12/22</td>\n",
       "      <td>SINGAPORE-WAREHOUSE</td>\n",
       "      <td>MAT-0413</td>\n",
       "      <td>19.250</td>\n",
       "    </tr>\n",
       "    <tr>\n",
       "      <th>...</th>\n",
       "      <td>...</td>\n",
       "      <td>...</td>\n",
       "      <td>...</td>\n",
       "      <td>...</td>\n",
       "    </tr>\n",
       "    <tr>\n",
       "      <th>19588</th>\n",
       "      <td>2024/12/24</td>\n",
       "      <td>CHINA-WAREHOUSE</td>\n",
       "      <td>MAT-0118</td>\n",
       "      <td>24.750</td>\n",
       "    </tr>\n",
       "    <tr>\n",
       "      <th>19589</th>\n",
       "      <td>2024/12/24</td>\n",
       "      <td>CHINA-WAREHOUSE</td>\n",
       "      <td>MAT-0118</td>\n",
       "      <td>24.750</td>\n",
       "    </tr>\n",
       "    <tr>\n",
       "      <th>19590</th>\n",
       "      <td>2024/12/24</td>\n",
       "      <td>CHINA-WAREHOUSE</td>\n",
       "      <td>MAT-0118</td>\n",
       "      <td>24.750</td>\n",
       "    </tr>\n",
       "    <tr>\n",
       "      <th>19591</th>\n",
       "      <td>2024/12/24</td>\n",
       "      <td>CHINA-WAREHOUSE</td>\n",
       "      <td>MAT-0118</td>\n",
       "      <td>24.750</td>\n",
       "    </tr>\n",
       "    <tr>\n",
       "      <th>19592</th>\n",
       "      <td>2024/12/24</td>\n",
       "      <td>CHINA-WAREHOUSE</td>\n",
       "      <td>MAT-0118</td>\n",
       "      <td>24.750</td>\n",
       "    </tr>\n",
       "  </tbody>\n",
       "</table>\n",
       "<p>19593 rows × 4 columns</p>\n",
       "</div>"
      ],
      "text/plain": [
       "      INBOUND_DATE           PLANT_NAME MATERIAL_NAME  NET_QUANTITY_MT\n",
       "0       2023/12/15  SINGAPORE-WAREHOUSE      MAT-0354           23.375\n",
       "1       2023/12/22  SINGAPORE-WAREHOUSE      MAT-0413            1.375\n",
       "2       2023/12/22  SINGAPORE-WAREHOUSE      MAT-0413           23.375\n",
       "3       2023/12/22  SINGAPORE-WAREHOUSE      MAT-0413           24.750\n",
       "4       2023/12/22  SINGAPORE-WAREHOUSE      MAT-0413           19.250\n",
       "...            ...                  ...           ...              ...\n",
       "19588   2024/12/24      CHINA-WAREHOUSE      MAT-0118           24.750\n",
       "19589   2024/12/24      CHINA-WAREHOUSE      MAT-0118           24.750\n",
       "19590   2024/12/24      CHINA-WAREHOUSE      MAT-0118           24.750\n",
       "19591   2024/12/24      CHINA-WAREHOUSE      MAT-0118           24.750\n",
       "19592   2024/12/24      CHINA-WAREHOUSE      MAT-0118           24.750\n",
       "\n",
       "[19593 rows x 4 columns]"
      ]
     },
     "execution_count": 844,
     "metadata": {},
     "output_type": "execute_result"
    }
   ],
   "source": [
    "Inbound"
   ]
  },
  {
   "cell_type": "code",
   "execution_count": 845,
   "id": "a43a334a",
   "metadata": {},
   "outputs": [],
   "source": [
    "# แปลงวันที่ให้เป็น datetime\n",
    "Inbound['INBOUND_DATE'] = pd.to_datetime(Inbound['INBOUND_DATE'])\n",
    "Outbound['OUTBOUND_DATE'] = pd.to_datetime(Outbound['OUTBOUND_DATE'])\n",
    "Inventory['BALANCE_AS_OF_DATE'] = pd.to_datetime(Inventory['BALANCE_AS_OF_DATE'])\n",
    "\n",
    "Inbound['DATE'] = Inbound['INBOUND_DATE'].dt.date\n",
    "Outbound['DATE'] = Outbound['OUTBOUND_DATE'].dt.date\n",
    "Inventory['DATE'] = Inventory['BALANCE_AS_OF_DATE'].dt.date\n",
    "\n",
    "Inventory['Quantity_KT_Inventory'] = Inventory['UNRESRICTED_STOCK'] / 1000  # 1 KT = 1000000 KG\n",
    "Inbound['Quantity_KT_In'] = Inbound['NET_QUANTITY_MT'] # / 1000  # 1 KT = 1000 MT\n",
    "Outbound['Quantity_KT_Out'] = Outbound['NET_QUANTITY_MT'] # / 1000  # 1 KT = 1000 MT\n",
    "\n",
    "Inventory.drop(columns=['UNRESRICTED_STOCK', 'STOCK_UNIT'], inplace=True)\n",
    "Inbound.drop(columns=['NET_QUANTITY_MT'], inplace=True)\n",
    "Outbound.drop(columns=['NET_QUANTITY_MT'], inplace=True)"
   ]
  },
  {
   "cell_type": "markdown",
   "id": "273e5373",
   "metadata": {},
   "source": [
    "# **Split Cleaned Data By \"PLANT_NAME\" (Singapore and China)**"
   ]
  },
  {
   "cell_type": "code",
   "execution_count": 846,
   "id": "05b885d7",
   "metadata": {},
   "outputs": [],
   "source": [
    "### แบ่ง dataframe ตาม PLANT_NAME ###\n",
    "\n",
    "# inventory\n",
    "# raw_inventory_singapore = Inventory[Inventory['PLANT_NAME'] == 'SINGAPORE-WAREHOUSE'].copy()\n",
    "raw_inventory_china = Inventory[Inventory['PLANT_NAME'] == 'CHINA-WAREHOUSE'].copy()\n",
    "\n",
    "# inbound\n",
    "raw_inbound_singapore = Inbound[Inbound['PLANT_NAME'] == 'SINGAPORE-WAREHOUSE'].copy()\n",
    "raw_inbound_china = Inbound[Inbound['PLANT_NAME'] == 'CHINA-WAREHOUSE'].copy()\n",
    "\n",
    "# outbound\n",
    "raw_outbound_singapore = Outbound[Outbound['PLANT_NAME'] == 'SINGAPORE-WAREHOUSE'].copy()\n",
    "raw_outbound_china = Outbound[Outbound['PLANT_NAME'] == 'CHINA-WAREHOUSE'].copy()"
   ]
  },
  {
   "cell_type": "code",
   "execution_count": 847,
   "id": "0ac1ecb6",
   "metadata": {},
   "outputs": [],
   "source": [
    "# # inventory\n",
    "# raw_inventory_china.to_csv(\"raw_inventory_china.csv\", index=False)\n",
    "\n",
    "# # inbound\n",
    "# raw_inbound_china.to_csv(\"raw_inbound_china.csv\", index=False)\n",
    "\n",
    "# # outbound\n",
    "# raw_outbound_china.to_csv(\"raw_outbound_china.csv\", index=False) "
   ]
  },
  {
   "cell_type": "markdown",
   "id": "15ffba34",
   "metadata": {},
   "source": [
    "---"
   ]
  },
  {
   "cell_type": "markdown",
   "id": "002d6c22",
   "metadata": {},
   "source": [
    "# **Singapore**"
   ]
  },
  {
   "cell_type": "code",
   "execution_count": 848,
   "id": "0bfbc27e",
   "metadata": {},
   "outputs": [],
   "source": [
    "raw_inventory_singapore = pd.read_excel('exfolder/Real_Clean_Singapore.xlsx')"
   ]
  },
  {
   "cell_type": "code",
   "execution_count": 849,
   "id": "a48cf6f2",
   "metadata": {},
   "outputs": [
    {
     "data": {
      "text/html": [
       "<div>\n",
       "<style scoped>\n",
       "    .dataframe tbody tr th:only-of-type {\n",
       "        vertical-align: middle;\n",
       "    }\n",
       "\n",
       "    .dataframe tbody tr th {\n",
       "        vertical-align: top;\n",
       "    }\n",
       "\n",
       "    .dataframe thead th {\n",
       "        text-align: right;\n",
       "    }\n",
       "</style>\n",
       "<table border=\"1\" class=\"dataframe\">\n",
       "  <thead>\n",
       "    <tr style=\"text-align: right;\">\n",
       "      <th></th>\n",
       "      <th>BALANCE_AS_OF_DATE</th>\n",
       "      <th>PLANT_NAME</th>\n",
       "      <th>MATERIAL_NAME</th>\n",
       "      <th>BATCH_NUMBER</th>\n",
       "      <th>UNRESTRICTED_STOCK_MT</th>\n",
       "      <th>STOCK_SELL_VALUE</th>\n",
       "    </tr>\n",
       "  </thead>\n",
       "  <tbody>\n",
       "    <tr>\n",
       "      <th>0</th>\n",
       "      <td>2023-12-31</td>\n",
       "      <td>SINGAPORE-WAREHOUSE</td>\n",
       "      <td>MAT-0005</td>\n",
       "      <td>L1883A</td>\n",
       "      <td>4.500</td>\n",
       "      <td>6750</td>\n",
       "    </tr>\n",
       "    <tr>\n",
       "      <th>1</th>\n",
       "      <td>2023-12-31</td>\n",
       "      <td>SINGAPORE-WAREHOUSE</td>\n",
       "      <td>MAT-0005</td>\n",
       "      <td>L8442A</td>\n",
       "      <td>10.500</td>\n",
       "      <td>15750</td>\n",
       "    </tr>\n",
       "    <tr>\n",
       "      <th>2</th>\n",
       "      <td>2023-12-31</td>\n",
       "      <td>SINGAPORE-WAREHOUSE</td>\n",
       "      <td>MAT-0007</td>\n",
       "      <td>2182A5396</td>\n",
       "      <td>1.350</td>\n",
       "      <td>824</td>\n",
       "    </tr>\n",
       "    <tr>\n",
       "      <th>3</th>\n",
       "      <td>2023-12-31</td>\n",
       "      <td>SINGAPORE-WAREHOUSE</td>\n",
       "      <td>MAT-0007</td>\n",
       "      <td>3932A2476</td>\n",
       "      <td>1.275</td>\n",
       "      <td>778</td>\n",
       "    </tr>\n",
       "    <tr>\n",
       "      <th>4</th>\n",
       "      <td>2023-12-31</td>\n",
       "      <td>SINGAPORE-WAREHOUSE</td>\n",
       "      <td>MAT-0007</td>\n",
       "      <td>4715A4841</td>\n",
       "      <td>1.350</td>\n",
       "      <td>824</td>\n",
       "    </tr>\n",
       "  </tbody>\n",
       "</table>\n",
       "</div>"
      ],
      "text/plain": [
       "  BALANCE_AS_OF_DATE           PLANT_NAME MATERIAL_NAME BATCH_NUMBER  \\\n",
       "0         2023-12-31  SINGAPORE-WAREHOUSE      MAT-0005       L1883A   \n",
       "1         2023-12-31  SINGAPORE-WAREHOUSE      MAT-0005       L8442A   \n",
       "2         2023-12-31  SINGAPORE-WAREHOUSE      MAT-0007    2182A5396   \n",
       "3         2023-12-31  SINGAPORE-WAREHOUSE      MAT-0007    3932A2476   \n",
       "4         2023-12-31  SINGAPORE-WAREHOUSE      MAT-0007    4715A4841   \n",
       "\n",
       "   UNRESTRICTED_STOCK_MT  STOCK_SELL_VALUE  \n",
       "0                  4.500              6750  \n",
       "1                 10.500             15750  \n",
       "2                  1.350               824  \n",
       "3                  1.275               778  \n",
       "4                  1.350               824  "
      ]
     },
     "execution_count": 849,
     "metadata": {},
     "output_type": "execute_result"
    }
   ],
   "source": [
    "raw_inventory_singapore.head()"
   ]
  },
  {
   "cell_type": "code",
   "execution_count": 850,
   "id": "eba920fc",
   "metadata": {},
   "outputs": [],
   "source": [
    "raw_inventory_singapore['Quantity_MT_Inventory'] = raw_inventory_singapore['UNRESTRICTED_STOCK_MT']"
   ]
  },
  {
   "cell_type": "markdown",
   "id": "8874b41c",
   "metadata": {},
   "source": [
    "### **Time Range Selection**"
   ]
  },
  {
   "cell_type": "code",
   "execution_count": 851,
   "id": "7736c80b",
   "metadata": {},
   "outputs": [
    {
     "name": "stdout",
     "output_type": "stream",
     "text": [
      "Inbound dates: 2023-11-07 00:00:00 - 2024-12-20 00:00:00\n",
      "Outbound dates: 2023-12-06 00:00:00 - 2025-01-02 00:00:00\n",
      "Inventory dates: 2023-12-31 00:00:00 - 2024-12-31 00:00:00\n"
     ]
    }
   ],
   "source": [
    "print(\"Inbound dates:\", raw_inbound_singapore['INBOUND_DATE'].min(), \"-\", raw_inbound_singapore['INBOUND_DATE'].max())\n",
    "print(\"Outbound dates:\", raw_outbound_singapore['OUTBOUND_DATE'].min(), \"-\", raw_outbound_singapore['OUTBOUND_DATE'].max())\n",
    "print(\"Inventory dates:\", raw_inventory_singapore['BALANCE_AS_OF_DATE'].min(), \"-\", raw_inventory_singapore['BALANCE_AS_OF_DATE'].max())"
   ]
  },
  {
   "cell_type": "code",
   "execution_count": 852,
   "id": "f750ad11",
   "metadata": {},
   "outputs": [],
   "source": [
    "start_date = pd.to_datetime('2024-01-01')\n",
    "end_date   = pd.to_datetime('2024-12-31')"
   ]
  },
  {
   "cell_type": "code",
   "execution_count": 853,
   "id": "96d4b104",
   "metadata": {},
   "outputs": [],
   "source": [
    "inbound_singapore = raw_inbound_singapore[\n",
    "    (raw_inbound_singapore['INBOUND_DATE'] >= start_date) & \n",
    "    (raw_inbound_singapore['INBOUND_DATE'] <= end_date)\n",
    "].copy()\n",
    "\n",
    "outbound_singapore = raw_outbound_singapore[\n",
    "    (raw_outbound_singapore['OUTBOUND_DATE'] >= start_date) & \n",
    "    (raw_outbound_singapore['OUTBOUND_DATE'] <= end_date)\n",
    "].copy()\n",
    "\n",
    "inventory_singapore = raw_inventory_singapore[\n",
    "    (raw_inventory_singapore['BALANCE_AS_OF_DATE'] >= start_date) & \n",
    "    (raw_inventory_singapore['BALANCE_AS_OF_DATE'] <= end_date)\n",
    "].copy()"
   ]
  },
  {
   "cell_type": "code",
   "execution_count": 854,
   "id": "b295fa85",
   "metadata": {},
   "outputs": [
    {
     "name": "stdout",
     "output_type": "stream",
     "text": [
      "Inbound dates: 2024-01-01 00:00:00 - 2024-12-20 00:00:00\n",
      "Outbound dates: 2024-01-01 00:00:00 - 2024-12-31 00:00:00\n",
      "Inventory dates: 2024-01-31 00:00:00 - 2024-12-31 00:00:00\n"
     ]
    }
   ],
   "source": [
    "print(\"Inbound dates:\", inbound_singapore['INBOUND_DATE'].min(), \"-\", inbound_singapore['INBOUND_DATE'].max())\n",
    "print(\"Outbound dates:\", outbound_singapore['OUTBOUND_DATE'].min(), \"-\", outbound_singapore['OUTBOUND_DATE'].max())\n",
    "print(\"Inventory dates:\", inventory_singapore['BALANCE_AS_OF_DATE'].min(), \"-\", inventory_singapore['BALANCE_AS_OF_DATE'].max())"
   ]
  },
  {
   "cell_type": "markdown",
   "id": "b332d83f",
   "metadata": {},
   "source": [
    "---"
   ]
  },
  {
   "cell_type": "markdown",
   "id": "4369c741",
   "metadata": {},
   "source": [
    "# **EDA**"
   ]
  },
  {
   "cell_type": "markdown",
   "id": "1bdad628",
   "metadata": {},
   "source": [
    "### **Monthly of Inventory, Inbound & Outbound**"
   ]
  },
  {
   "cell_type": "markdown",
   "id": "d917cce3",
   "metadata": {},
   "source": [
    "**Inventory**"
   ]
  },
  {
   "cell_type": "code",
   "execution_count": 855,
   "id": "0e2b5ec3",
   "metadata": {},
   "outputs": [
    {
     "data": {
      "text/html": [
       "<div>\n",
       "<style scoped>\n",
       "    .dataframe tbody tr th:only-of-type {\n",
       "        vertical-align: middle;\n",
       "    }\n",
       "\n",
       "    .dataframe tbody tr th {\n",
       "        vertical-align: top;\n",
       "    }\n",
       "\n",
       "    .dataframe thead th {\n",
       "        text-align: right;\n",
       "    }\n",
       "</style>\n",
       "<table border=\"1\" class=\"dataframe\">\n",
       "  <thead>\n",
       "    <tr style=\"text-align: right;\">\n",
       "      <th></th>\n",
       "      <th>month</th>\n",
       "      <th>PLANT_NAME</th>\n",
       "      <th>Quantity_MT_Inventory</th>\n",
       "    </tr>\n",
       "  </thead>\n",
       "  <tbody>\n",
       "    <tr>\n",
       "      <th>0</th>\n",
       "      <td>2024-01-01</td>\n",
       "      <td>SINGAPORE-WAREHOUSE</td>\n",
       "      <td>40213.850</td>\n",
       "    </tr>\n",
       "    <tr>\n",
       "      <th>1</th>\n",
       "      <td>2024-02-01</td>\n",
       "      <td>SINGAPORE-WAREHOUSE</td>\n",
       "      <td>36465.800</td>\n",
       "    </tr>\n",
       "    <tr>\n",
       "      <th>2</th>\n",
       "      <td>2024-03-01</td>\n",
       "      <td>SINGAPORE-WAREHOUSE</td>\n",
       "      <td>34938.300</td>\n",
       "    </tr>\n",
       "    <tr>\n",
       "      <th>3</th>\n",
       "      <td>2024-04-01</td>\n",
       "      <td>SINGAPORE-WAREHOUSE</td>\n",
       "      <td>34619.875</td>\n",
       "    </tr>\n",
       "    <tr>\n",
       "      <th>4</th>\n",
       "      <td>2024-05-01</td>\n",
       "      <td>SINGAPORE-WAREHOUSE</td>\n",
       "      <td>35428.425</td>\n",
       "    </tr>\n",
       "  </tbody>\n",
       "</table>\n",
       "</div>"
      ],
      "text/plain": [
       "       month           PLANT_NAME  Quantity_MT_Inventory\n",
       "0 2024-01-01  SINGAPORE-WAREHOUSE              40213.850\n",
       "1 2024-02-01  SINGAPORE-WAREHOUSE              36465.800\n",
       "2 2024-03-01  SINGAPORE-WAREHOUSE              34938.300\n",
       "3 2024-04-01  SINGAPORE-WAREHOUSE              34619.875\n",
       "4 2024-05-01  SINGAPORE-WAREHOUSE              35428.425"
      ]
     },
     "execution_count": 855,
     "metadata": {},
     "output_type": "execute_result"
    }
   ],
   "source": [
    "inventory_singapore['month'] = inventory_singapore['BALANCE_AS_OF_DATE'].dt.to_period('M').dt.to_timestamp()\n",
    "\n",
    "Inventory_monthly_singapore = (\n",
    "    inventory_singapore.groupby(['month', 'PLANT_NAME'])['Quantity_MT_Inventory']\n",
    "    .sum()\n",
    "    .reset_index()\n",
    ")\n",
    "Inventory_monthly_singapore.head(5)"
   ]
  },
  {
   "cell_type": "markdown",
   "id": "cf9a9921",
   "metadata": {},
   "source": [
    "**Inbound**"
   ]
  },
  {
   "cell_type": "code",
   "execution_count": 856,
   "id": "acbfdacc",
   "metadata": {},
   "outputs": [
    {
     "data": {
      "text/html": [
       "<div>\n",
       "<style scoped>\n",
       "    .dataframe tbody tr th:only-of-type {\n",
       "        vertical-align: middle;\n",
       "    }\n",
       "\n",
       "    .dataframe tbody tr th {\n",
       "        vertical-align: top;\n",
       "    }\n",
       "\n",
       "    .dataframe thead th {\n",
       "        text-align: right;\n",
       "    }\n",
       "</style>\n",
       "<table border=\"1\" class=\"dataframe\">\n",
       "  <thead>\n",
       "    <tr style=\"text-align: right;\">\n",
       "      <th></th>\n",
       "      <th>month</th>\n",
       "      <th>PLANT_NAME</th>\n",
       "      <th>Quantity_KT_In</th>\n",
       "    </tr>\n",
       "  </thead>\n",
       "  <tbody>\n",
       "    <tr>\n",
       "      <th>0</th>\n",
       "      <td>2024-01-01</td>\n",
       "      <td>SINGAPORE-WAREHOUSE</td>\n",
       "      <td>6867.000</td>\n",
       "    </tr>\n",
       "    <tr>\n",
       "      <th>1</th>\n",
       "      <td>2024-02-01</td>\n",
       "      <td>SINGAPORE-WAREHOUSE</td>\n",
       "      <td>7128.995</td>\n",
       "    </tr>\n",
       "    <tr>\n",
       "      <th>2</th>\n",
       "      <td>2024-03-01</td>\n",
       "      <td>SINGAPORE-WAREHOUSE</td>\n",
       "      <td>15858.001</td>\n",
       "    </tr>\n",
       "    <tr>\n",
       "      <th>3</th>\n",
       "      <td>2024-04-01</td>\n",
       "      <td>SINGAPORE-WAREHOUSE</td>\n",
       "      <td>14027.350</td>\n",
       "    </tr>\n",
       "    <tr>\n",
       "      <th>4</th>\n",
       "      <td>2024-05-01</td>\n",
       "      <td>SINGAPORE-WAREHOUSE</td>\n",
       "      <td>12248.625</td>\n",
       "    </tr>\n",
       "  </tbody>\n",
       "</table>\n",
       "</div>"
      ],
      "text/plain": [
       "       month           PLANT_NAME  Quantity_KT_In\n",
       "0 2024-01-01  SINGAPORE-WAREHOUSE        6867.000\n",
       "1 2024-02-01  SINGAPORE-WAREHOUSE        7128.995\n",
       "2 2024-03-01  SINGAPORE-WAREHOUSE       15858.001\n",
       "3 2024-04-01  SINGAPORE-WAREHOUSE       14027.350\n",
       "4 2024-05-01  SINGAPORE-WAREHOUSE       12248.625"
      ]
     },
     "execution_count": 856,
     "metadata": {},
     "output_type": "execute_result"
    }
   ],
   "source": [
    "inbound_singapore['month'] = inbound_singapore['INBOUND_DATE'].dt.to_period('M').dt.to_timestamp()\n",
    "\n",
    "Inbound_monthly_singapore = (\n",
    "    inbound_singapore.groupby(['month', 'PLANT_NAME'])['Quantity_KT_In']\n",
    "    .sum()\n",
    "    .reset_index()\n",
    ")\n",
    "Inbound_monthly_singapore.head()"
   ]
  },
  {
   "cell_type": "markdown",
   "id": "e34fcf7f",
   "metadata": {},
   "source": [
    "**Outbound**"
   ]
  },
  {
   "cell_type": "code",
   "execution_count": 857,
   "id": "c799c31b",
   "metadata": {},
   "outputs": [
    {
     "data": {
      "text/html": [
       "<div>\n",
       "<style scoped>\n",
       "    .dataframe tbody tr th:only-of-type {\n",
       "        vertical-align: middle;\n",
       "    }\n",
       "\n",
       "    .dataframe tbody tr th {\n",
       "        vertical-align: top;\n",
       "    }\n",
       "\n",
       "    .dataframe thead th {\n",
       "        text-align: right;\n",
       "    }\n",
       "</style>\n",
       "<table border=\"1\" class=\"dataframe\">\n",
       "  <thead>\n",
       "    <tr style=\"text-align: right;\">\n",
       "      <th></th>\n",
       "      <th>month</th>\n",
       "      <th>PLANT_NAME</th>\n",
       "      <th>Quantity_KT_Out</th>\n",
       "    </tr>\n",
       "  </thead>\n",
       "  <tbody>\n",
       "    <tr>\n",
       "      <th>0</th>\n",
       "      <td>2024-01-01</td>\n",
       "      <td>SINGAPORE-WAREHOUSE</td>\n",
       "      <td>8030.355</td>\n",
       "    </tr>\n",
       "    <tr>\n",
       "      <th>1</th>\n",
       "      <td>2024-02-01</td>\n",
       "      <td>SINGAPORE-WAREHOUSE</td>\n",
       "      <td>10046.795</td>\n",
       "    </tr>\n",
       "    <tr>\n",
       "      <th>2</th>\n",
       "      <td>2024-03-01</td>\n",
       "      <td>SINGAPORE-WAREHOUSE</td>\n",
       "      <td>11107.855</td>\n",
       "    </tr>\n",
       "    <tr>\n",
       "      <th>3</th>\n",
       "      <td>2024-04-01</td>\n",
       "      <td>SINGAPORE-WAREHOUSE</td>\n",
       "      <td>8797.185</td>\n",
       "    </tr>\n",
       "    <tr>\n",
       "      <th>4</th>\n",
       "      <td>2024-05-01</td>\n",
       "      <td>SINGAPORE-WAREHOUSE</td>\n",
       "      <td>10501.950</td>\n",
       "    </tr>\n",
       "  </tbody>\n",
       "</table>\n",
       "</div>"
      ],
      "text/plain": [
       "       month           PLANT_NAME  Quantity_KT_Out\n",
       "0 2024-01-01  SINGAPORE-WAREHOUSE         8030.355\n",
       "1 2024-02-01  SINGAPORE-WAREHOUSE        10046.795\n",
       "2 2024-03-01  SINGAPORE-WAREHOUSE        11107.855\n",
       "3 2024-04-01  SINGAPORE-WAREHOUSE         8797.185\n",
       "4 2024-05-01  SINGAPORE-WAREHOUSE        10501.950"
      ]
     },
     "execution_count": 857,
     "metadata": {},
     "output_type": "execute_result"
    }
   ],
   "source": [
    "outbound_singapore['month'] = outbound_singapore['OUTBOUND_DATE'].dt.to_period('M').dt.to_timestamp()\n",
    "\n",
    "Outbound_monthly_singapore = (\n",
    "    outbound_singapore.groupby(['month', 'PLANT_NAME'])['Quantity_KT_Out']\n",
    "    .sum()\n",
    "    .reset_index()\n",
    ")\n",
    "Outbound_monthly_singapore.head()"
   ]
  },
  {
   "cell_type": "markdown",
   "id": "4d3c0888",
   "metadata": {},
   "source": [
    "## **Merge**"
   ]
  },
  {
   "cell_type": "code",
   "execution_count": 858,
   "id": "73dd9aeb",
   "metadata": {},
   "outputs": [
    {
     "data": {
      "text/html": [
       "<div>\n",
       "<style scoped>\n",
       "    .dataframe tbody tr th:only-of-type {\n",
       "        vertical-align: middle;\n",
       "    }\n",
       "\n",
       "    .dataframe tbody tr th {\n",
       "        vertical-align: top;\n",
       "    }\n",
       "\n",
       "    .dataframe thead th {\n",
       "        text-align: right;\n",
       "    }\n",
       "</style>\n",
       "<table border=\"1\" class=\"dataframe\">\n",
       "  <thead>\n",
       "    <tr style=\"text-align: right;\">\n",
       "      <th></th>\n",
       "      <th>month</th>\n",
       "      <th>PLANT_NAME</th>\n",
       "      <th>Quantity_KT_In</th>\n",
       "      <th>Quantity_KT_Out</th>\n",
       "      <th>Quantity_MT_Inventory</th>\n",
       "    </tr>\n",
       "  </thead>\n",
       "  <tbody>\n",
       "    <tr>\n",
       "      <th>0</th>\n",
       "      <td>2024-01-01</td>\n",
       "      <td>SINGAPORE-WAREHOUSE</td>\n",
       "      <td>6867.000</td>\n",
       "      <td>8030.355</td>\n",
       "      <td>40213.850</td>\n",
       "    </tr>\n",
       "    <tr>\n",
       "      <th>1</th>\n",
       "      <td>2024-02-01</td>\n",
       "      <td>SINGAPORE-WAREHOUSE</td>\n",
       "      <td>7128.995</td>\n",
       "      <td>10046.795</td>\n",
       "      <td>36465.800</td>\n",
       "    </tr>\n",
       "    <tr>\n",
       "      <th>2</th>\n",
       "      <td>2024-03-01</td>\n",
       "      <td>SINGAPORE-WAREHOUSE</td>\n",
       "      <td>15858.001</td>\n",
       "      <td>11107.855</td>\n",
       "      <td>34938.300</td>\n",
       "    </tr>\n",
       "    <tr>\n",
       "      <th>3</th>\n",
       "      <td>2024-04-01</td>\n",
       "      <td>SINGAPORE-WAREHOUSE</td>\n",
       "      <td>14027.350</td>\n",
       "      <td>8797.185</td>\n",
       "      <td>34619.875</td>\n",
       "    </tr>\n",
       "    <tr>\n",
       "      <th>4</th>\n",
       "      <td>2024-05-01</td>\n",
       "      <td>SINGAPORE-WAREHOUSE</td>\n",
       "      <td>12248.625</td>\n",
       "      <td>10501.950</td>\n",
       "      <td>35428.425</td>\n",
       "    </tr>\n",
       "  </tbody>\n",
       "</table>\n",
       "</div>"
      ],
      "text/plain": [
       "       month           PLANT_NAME  Quantity_KT_In  Quantity_KT_Out  \\\n",
       "0 2024-01-01  SINGAPORE-WAREHOUSE        6867.000         8030.355   \n",
       "1 2024-02-01  SINGAPORE-WAREHOUSE        7128.995        10046.795   \n",
       "2 2024-03-01  SINGAPORE-WAREHOUSE       15858.001        11107.855   \n",
       "3 2024-04-01  SINGAPORE-WAREHOUSE       14027.350         8797.185   \n",
       "4 2024-05-01  SINGAPORE-WAREHOUSE       12248.625        10501.950   \n",
       "\n",
       "   Quantity_MT_Inventory  \n",
       "0              40213.850  \n",
       "1              36465.800  \n",
       "2              34938.300  \n",
       "3              34619.875  \n",
       "4              35428.425  "
      ]
     },
     "execution_count": 858,
     "metadata": {},
     "output_type": "execute_result"
    }
   ],
   "source": [
    "df = pd.merge(\n",
    "    Inbound_monthly_singapore,\n",
    "    Inventory_monthly_singapore,\n",
    "    on=['month', 'PLANT_NAME'],\n",
    "    how='left'\n",
    ")\n",
    "df = pd.merge(\n",
    "    df,\n",
    "    Outbound_monthly_singapore,\n",
    "    on=['month', 'PLANT_NAME'],\n",
    "    how='left'\n",
    ")\n",
    "df.fillna(0, inplace=True)\n",
    "df = df[['month', 'PLANT_NAME', 'Quantity_KT_In', 'Quantity_KT_Out', 'Quantity_MT_Inventory']]\n",
    "df.head()"
   ]
  },
  {
   "cell_type": "code",
   "execution_count": 859,
   "id": "efae50c6",
   "metadata": {},
   "outputs": [
    {
     "data": {
      "image/png": "[encoded data removed]",
      "text/plain": [
       "<Figure size 1200x600 with 1 Axes>"
      ]
     },
     "metadata": {},
     "output_type": "display_data"
    }
   ],
   "source": [
    "y = [53500] * 11 + [48000]\n",
    "plt.figure(figsize=(12, 6))\n",
    "plt.plot(df['month'], df['Quantity_KT_In'], marker='o', label='Inbound Qty (KT)')\n",
    "plt.plot(df['month'], df['Quantity_KT_Out'], marker='s', label='Outbound Qty (KT)')\n",
    "plt.plot(df['month'], y, color='r', linestyle='--', label='Baseline (WH Capacity (KT))')\n",
    "plt.plot(df['month'], df['Quantity_MT_Inventory'], marker='^', label='Inventory Qty (KT)')\n",
    "plt.title('Monthly Inbound, Outbound, and Inventory Qty (MT) - Singapore Warehouse')\n",
    "plt.xlabel('Month')\n",
    "plt.ylabel('Quantity (KT)')\n",
    "plt.legend()\n",
    "plt.grid(True)\n",
    "plt.xticks(rotation=45)\n",
    "plt.tight_layout()\n",
    "plt.show()"
   ]
  },
  {
   "cell_type": "code",
   "execution_count": 860,
   "id": "b41e4e0f",
   "metadata": {},
   "outputs": [
    {
     "data": {
      "image/png": "[encoded data removed]",
      "text/plain": [
       "<Figure size 1200x600 with 1 Axes>"
      ]
     },
     "metadata": {},
     "output_type": "display_data"
    }
   ],
   "source": [
    "plt.figure(figsize=(12, 6))\n",
    "\n",
    "plt.plot(df['month'], df['Quantity_KT_In'], marker='o', label='Inbound Qty (KT)')\n",
    "plt.plot(df['month'], df['Quantity_KT_Out'], marker='s', label='Outbound Qty (KT)')\n",
    "\n",
    "plt.title('Inbound vs Outbound - Singapore Warehouse (Monthly)')\n",
    "plt.xlabel('Month')\n",
    "plt.ylabel('Quantity (KT)')\n",
    "plt.legend()\n",
    "plt.grid(True)\n",
    "plt.xticks(rotation=45)\n",
    "\n",
    "plt.tight_layout()\n",
    "plt.show()"
   ]
  },
  {
   "cell_type": "code",
   "execution_count": 861,
   "id": "e5802488",
   "metadata": {},
   "outputs": [
    {
     "data": {
      "image/png": "[encoded data removed]",
      "text/plain": [
       "<Figure size 1200x600 with 1 Axes>"
      ]
     },
     "metadata": {},
     "output_type": "display_data"
    }
   ],
   "source": [
    "plt.figure(figsize=(12, 6))\n",
    "plt.plot(df['month'], df['Quantity_MT_Inventory'], marker='^', label='Inventory Qty (KT)')\n",
    "plt.plot(df['month'], y, color='r', linestyle='--', label='Baseline (WH Capacity (KT))')\n",
    "plt.title('Inventory vs Baseline - Singapore Warehouse (Monthly)')\n",
    "plt.xlabel('Month')\n",
    "plt.ylabel('Quantity (KT)')\n",
    "plt.legend()\n",
    "plt.grid(True)\n",
    "plt.xticks(rotation=45)\n",
    "plt.tight_layout()\n",
    "plt.show()"
   ]
  },
  {
   "cell_type": "markdown",
   "id": "b63f08ce",
   "metadata": {},
   "source": [
    "---"
   ]
  },
  {
   "cell_type": "markdown",
   "id": "a5ffcf0f",
   "metadata": {},
   "source": [
    "# **Forecasting**"
   ]
  },
  {
   "cell_type": "code",
   "execution_count": 862,
   "id": "619e85f2",
   "metadata": {},
   "outputs": [],
   "source": [
    "singapore_data = {\n",
    "    'Month': ['Jan-24', 'Feb-24', 'Mar-24', 'Apr-24', 'May-24', 'Jun-24', 'Jul-24', 'Aug-24', 'Sep-24', 'Oct-24', 'Nov-24', 'Dec-24'],\n",
    "    'Total Cap (KT)': [53500, 53500, 53500, 53500, 53500, 53500, 53500, 53500, 53500, 53500, 53500, 48000],\n",
    "    'Predicted Outbound (KT)': [8710, 10950, 9360, 7520, 10740, 9440, 11380, 11330, 16700, 20980, 16470, 13970],\n",
    "    'Predicted Inventory (KT)': [39581, 36763, 35049, 35663, 36374, 40500, 44288, 41769, 41735, 41849, 40327, 15375.05]\n",
    "}\n",
    "\n",
    "singapore_predicted = pd.DataFrame(singapore_data)\n",
    "singapore_predicted['Month'] = pd.to_datetime(singapore_predicted['Month'], format='%b-%y').dt.to_period('M')"
   ]
  },
  {
   "cell_type": "code",
   "execution_count": 863,
   "id": "eaf4a2f3",
   "metadata": {},
   "outputs": [
    {
     "data": {
      "text/html": [
       "<div>\n",
       "<style scoped>\n",
       "    .dataframe tbody tr th:only-of-type {\n",
       "        vertical-align: middle;\n",
       "    }\n",
       "\n",
       "    .dataframe tbody tr th {\n",
       "        vertical-align: top;\n",
       "    }\n",
       "\n",
       "    .dataframe thead th {\n",
       "        text-align: right;\n",
       "    }\n",
       "</style>\n",
       "<table border=\"1\" class=\"dataframe\">\n",
       "  <thead>\n",
       "    <tr style=\"text-align: right;\">\n",
       "      <th></th>\n",
       "      <th>Month</th>\n",
       "      <th>Total Cap (KT)</th>\n",
       "      <th>Predicted Outbound (KT)</th>\n",
       "      <th>Predicted Inventory (KT)</th>\n",
       "    </tr>\n",
       "  </thead>\n",
       "  <tbody>\n",
       "    <tr>\n",
       "      <th>0</th>\n",
       "      <td>2024-01</td>\n",
       "      <td>53500</td>\n",
       "      <td>8710</td>\n",
       "      <td>39581.00</td>\n",
       "    </tr>\n",
       "    <tr>\n",
       "      <th>1</th>\n",
       "      <td>2024-02</td>\n",
       "      <td>53500</td>\n",
       "      <td>10950</td>\n",
       "      <td>36763.00</td>\n",
       "    </tr>\n",
       "    <tr>\n",
       "      <th>2</th>\n",
       "      <td>2024-03</td>\n",
       "      <td>53500</td>\n",
       "      <td>9360</td>\n",
       "      <td>35049.00</td>\n",
       "    </tr>\n",
       "    <tr>\n",
       "      <th>3</th>\n",
       "      <td>2024-04</td>\n",
       "      <td>53500</td>\n",
       "      <td>7520</td>\n",
       "      <td>35663.00</td>\n",
       "    </tr>\n",
       "    <tr>\n",
       "      <th>4</th>\n",
       "      <td>2024-05</td>\n",
       "      <td>53500</td>\n",
       "      <td>10740</td>\n",
       "      <td>36374.00</td>\n",
       "    </tr>\n",
       "    <tr>\n",
       "      <th>5</th>\n",
       "      <td>2024-06</td>\n",
       "      <td>53500</td>\n",
       "      <td>9440</td>\n",
       "      <td>40500.00</td>\n",
       "    </tr>\n",
       "    <tr>\n",
       "      <th>6</th>\n",
       "      <td>2024-07</td>\n",
       "      <td>53500</td>\n",
       "      <td>11380</td>\n",
       "      <td>44288.00</td>\n",
       "    </tr>\n",
       "    <tr>\n",
       "      <th>7</th>\n",
       "      <td>2024-08</td>\n",
       "      <td>53500</td>\n",
       "      <td>11330</td>\n",
       "      <td>41769.00</td>\n",
       "    </tr>\n",
       "    <tr>\n",
       "      <th>8</th>\n",
       "      <td>2024-09</td>\n",
       "      <td>53500</td>\n",
       "      <td>16700</td>\n",
       "      <td>41735.00</td>\n",
       "    </tr>\n",
       "    <tr>\n",
       "      <th>9</th>\n",
       "      <td>2024-10</td>\n",
       "      <td>53500</td>\n",
       "      <td>20980</td>\n",
       "      <td>41849.00</td>\n",
       "    </tr>\n",
       "    <tr>\n",
       "      <th>10</th>\n",
       "      <td>2024-11</td>\n",
       "      <td>53500</td>\n",
       "      <td>16470</td>\n",
       "      <td>40327.00</td>\n",
       "    </tr>\n",
       "    <tr>\n",
       "      <th>11</th>\n",
       "      <td>2024-12</td>\n",
       "      <td>48000</td>\n",
       "      <td>13970</td>\n",
       "      <td>15375.05</td>\n",
       "    </tr>\n",
       "  </tbody>\n",
       "</table>\n",
       "</div>"
      ],
      "text/plain": [
       "      Month  Total Cap (KT)  Predicted Outbound (KT)  Predicted Inventory (KT)\n",
       "0   2024-01           53500                     8710                  39581.00\n",
       "1   2024-02           53500                    10950                  36763.00\n",
       "2   2024-03           53500                     9360                  35049.00\n",
       "3   2024-04           53500                     7520                  35663.00\n",
       "4   2024-05           53500                    10740                  36374.00\n",
       "5   2024-06           53500                     9440                  40500.00\n",
       "6   2024-07           53500                    11380                  44288.00\n",
       "7   2024-08           53500                    11330                  41769.00\n",
       "8   2024-09           53500                    16700                  41735.00\n",
       "9   2024-10           53500                    20980                  41849.00\n",
       "10  2024-11           53500                    16470                  40327.00\n",
       "11  2024-12           48000                    13970                  15375.05"
      ]
     },
     "execution_count": 863,
     "metadata": {},
     "output_type": "execute_result"
    }
   ],
   "source": [
    "singapore_predicted"
   ]
  },
  {
   "cell_type": "code",
   "execution_count": 864,
   "id": "16b7f635",
   "metadata": {},
   "outputs": [
    {
     "data": {
      "image/png": "[encoded data removed]",
      "text/plain": [
       "<Figure size 1200x600 with 1 Axes>"
      ]
     },
     "metadata": {},
     "output_type": "display_data"
    }
   ],
   "source": [
    "plt.figure(figsize=(12, 6))\n",
    "\n",
    "plt.plot(singapore_predicted['Month'].astype(str), singapore_predicted['Predicted Outbound (KT)'], marker='s', label='Predicted Outbound (KT)')\n",
    "plt.plot(singapore_predicted['Month'].astype(str), singapore_predicted['Predicted Inventory (KT)'], marker='^', label='Predicted Inventory (KT)')\n",
    "plt.plot(singapore_predicted['Month'].astype(str), singapore_predicted['Total Cap (KT)'], marker='o', linestyle='--', color='red', label='Total Cap (KT)')\n",
    "\n",
    "plt.title('Predicted Outbound, Inventory, and Total Cap - Singapore Warehouse (Monthly)')\n",
    "plt.xlabel('Month')\n",
    "plt.ylabel('Quantity (KT)')\n",
    "plt.legend()\n",
    "plt.grid(True)\n",
    "plt.xticks(rotation=45)\n",
    "plt.tight_layout()\n",
    "plt.show()"
   ]
  },
  {
   "cell_type": "markdown",
   "id": "cb2acbdb",
   "metadata": {},
   "source": [
    "## **Inventory Pred vs Actual**"
   ]
  },
  {
   "cell_type": "code",
   "execution_count": 865,
   "id": "9376656c",
   "metadata": {},
   "outputs": [
    {
     "name": "stdout",
     "output_type": "stream",
     "text": [
      "Actual vs Predicted Inventory (Singapore Warehouse):\n"
     ]
    },
    {
     "data": {
      "text/html": [
       "<div>\n",
       "<style scoped>\n",
       "    .dataframe tbody tr th:only-of-type {\n",
       "        vertical-align: middle;\n",
       "    }\n",
       "\n",
       "    .dataframe tbody tr th {\n",
       "        vertical-align: top;\n",
       "    }\n",
       "\n",
       "    .dataframe thead th {\n",
       "        text-align: right;\n",
       "    }\n",
       "</style>\n",
       "<table border=\"1\" class=\"dataframe\">\n",
       "  <thead>\n",
       "    <tr style=\"text-align: right;\">\n",
       "      <th></th>\n",
       "      <th>month</th>\n",
       "      <th>Quantity_MT_Inventory</th>\n",
       "      <th>Predicted_Inventory</th>\n",
       "      <th>Deviation</th>\n",
       "    </tr>\n",
       "  </thead>\n",
       "  <tbody>\n",
       "    <tr>\n",
       "      <th>0</th>\n",
       "      <td>2024-01-01</td>\n",
       "      <td>40213.850</td>\n",
       "      <td>39581.00</td>\n",
       "      <td>632.850</td>\n",
       "    </tr>\n",
       "    <tr>\n",
       "      <th>1</th>\n",
       "      <td>2024-02-01</td>\n",
       "      <td>36465.800</td>\n",
       "      <td>36763.00</td>\n",
       "      <td>-297.200</td>\n",
       "    </tr>\n",
       "    <tr>\n",
       "      <th>2</th>\n",
       "      <td>2024-03-01</td>\n",
       "      <td>34938.300</td>\n",
       "      <td>35049.00</td>\n",
       "      <td>-110.700</td>\n",
       "    </tr>\n",
       "    <tr>\n",
       "      <th>3</th>\n",
       "      <td>2024-04-01</td>\n",
       "      <td>34619.875</td>\n",
       "      <td>35663.00</td>\n",
       "      <td>-1043.125</td>\n",
       "    </tr>\n",
       "    <tr>\n",
       "      <th>4</th>\n",
       "      <td>2024-05-01</td>\n",
       "      <td>35428.425</td>\n",
       "      <td>36374.00</td>\n",
       "      <td>-945.575</td>\n",
       "    </tr>\n",
       "    <tr>\n",
       "      <th>5</th>\n",
       "      <td>2024-06-01</td>\n",
       "      <td>40010.550</td>\n",
       "      <td>40500.00</td>\n",
       "      <td>-489.450</td>\n",
       "    </tr>\n",
       "    <tr>\n",
       "      <th>6</th>\n",
       "      <td>2024-07-01</td>\n",
       "      <td>44052.125</td>\n",
       "      <td>44288.00</td>\n",
       "      <td>-235.875</td>\n",
       "    </tr>\n",
       "    <tr>\n",
       "      <th>7</th>\n",
       "      <td>2024-08-01</td>\n",
       "      <td>41428.880</td>\n",
       "      <td>41769.00</td>\n",
       "      <td>-340.120</td>\n",
       "    </tr>\n",
       "    <tr>\n",
       "      <th>8</th>\n",
       "      <td>2024-09-01</td>\n",
       "      <td>43000.974</td>\n",
       "      <td>41735.00</td>\n",
       "      <td>1265.974</td>\n",
       "    </tr>\n",
       "    <tr>\n",
       "      <th>9</th>\n",
       "      <td>2024-10-01</td>\n",
       "      <td>42749.300</td>\n",
       "      <td>41849.00</td>\n",
       "      <td>900.300</td>\n",
       "    </tr>\n",
       "    <tr>\n",
       "      <th>10</th>\n",
       "      <td>2024-11-01</td>\n",
       "      <td>42667.825</td>\n",
       "      <td>40327.00</td>\n",
       "      <td>2340.825</td>\n",
       "    </tr>\n",
       "    <tr>\n",
       "      <th>11</th>\n",
       "      <td>2024-12-01</td>\n",
       "      <td>57287.175</td>\n",
       "      <td>15375.05</td>\n",
       "      <td>41912.125</td>\n",
       "    </tr>\n",
       "  </tbody>\n",
       "</table>\n",
       "</div>"
      ],
      "text/plain": [
       "        month  Quantity_MT_Inventory  Predicted_Inventory  Deviation\n",
       "0  2024-01-01              40213.850             39581.00    632.850\n",
       "1  2024-02-01              36465.800             36763.00   -297.200\n",
       "2  2024-03-01              34938.300             35049.00   -110.700\n",
       "3  2024-04-01              34619.875             35663.00  -1043.125\n",
       "4  2024-05-01              35428.425             36374.00   -945.575\n",
       "5  2024-06-01              40010.550             40500.00   -489.450\n",
       "6  2024-07-01              44052.125             44288.00   -235.875\n",
       "7  2024-08-01              41428.880             41769.00   -340.120\n",
       "8  2024-09-01              43000.974             41735.00   1265.974\n",
       "9  2024-10-01              42749.300             41849.00    900.300\n",
       "10 2024-11-01              42667.825             40327.00   2340.825\n",
       "11 2024-12-01              57287.175             15375.05  41912.125"
      ]
     },
     "execution_count": 865,
     "metadata": {},
     "output_type": "execute_result"
    }
   ],
   "source": [
    "comparison = df[['month', 'Quantity_MT_Inventory']].copy()\n",
    "comparison['Predicted_Inventory'] = comparison['month'].apply(\n",
    "    lambda m: singapore_predicted.loc[singapore_predicted['Month'].dt.to_timestamp() == m, 'Predicted Inventory (KT)'].values[0]\n",
    "    if not singapore_predicted.loc[singapore_predicted['Month'].dt.to_timestamp() == m].empty else None\n",
    ")\n",
    "comparison['Deviation'] = comparison['Quantity_MT_Inventory'] - comparison['Predicted_Inventory']\n",
    "\n",
    "print(\"Actual vs Predicted Inventory (Singapore Warehouse):\")\n",
    "comparison"
   ]
  },
  {
   "cell_type": "code",
   "execution_count": 866,
   "id": "080ac611",
   "metadata": {},
   "outputs": [
    {
     "data": {
      "image/png": "[encoded data removed]",
      "text/plain": [
       "<Figure size 1200x600 with 1 Axes>"
      ]
     },
     "metadata": {},
     "output_type": "display_data"
    }
   ],
   "source": [
    "plt.figure(figsize=(12, 6))\n",
    "plt.plot(df['month'], df['Quantity_MT_Inventory'], marker='o', label='Actual Inventory (KT)')\n",
    "plt.plot(df['month'], y, color='r', linestyle='--', label='Baseline (WH Capacity 53.5 KT)')\n",
    "plt.plot(singapore_predicted['Month'].dt.to_timestamp(), singapore_predicted['Predicted Inventory (KT)'], marker='^', label='Predicted Inventory (KT)')\n",
    "plt.title('Actual vs Predicted Inventory - Singapore Warehouse')\n",
    "plt.xlabel('Month')\n",
    "plt.ylabel('Inventory (KT)')\n",
    "plt.legend()\n",
    "plt.grid(True)\n",
    "plt.xticks(rotation=45)\n",
    "plt.tight_layout()\n",
    "plt.show()\n"
   ]
  },
  {
   "cell_type": "markdown",
   "id": "62d20f2b",
   "metadata": {},
   "source": [
    "## **Adjust Inventory Predicted**"
   ]
  },
  {
   "cell_type": "code",
   "execution_count": 867,
   "id": "a4511e30",
   "metadata": {},
   "outputs": [
    {
     "name": "stdout",
     "output_type": "stream",
     "text": [
      "[Train] MAE: 525.55 | RMSE: 651.77\n",
      "[Test ] MAE: 8506.06 | RMSE: 12700.60\n"
     ]
    }
   ],
   "source": [
    "comparison_valid = comparison.dropna(subset=['Predicted_Inventory','Quantity_MT_Inventory'])\n",
    "\n",
    "X = comparison_valid[['Predicted_Inventory']]\n",
    "y = comparison_valid['Quantity_MT_Inventory']\n",
    "\n",
    "scaler = RobustScaler()\n",
    "X_scaled = scaler.fit_transform(X)\n",
    "\n",
    "cut_off_date = pd.to_datetime('2024-09-30')\n",
    "\n",
    "train_mask = comparison_valid['month'] <= cut_off_date\n",
    "test_mask = comparison_valid['month'] > cut_off_date\n",
    "\n",
    "X_train = X_scaled[train_mask]\n",
    "X_test = X_scaled[test_mask]\n",
    "y_train = y[train_mask]\n",
    "y_test = y[test_mask]\n",
    "\n",
    "xgb = xgb.XGBRegressor(\n",
    "    n_estimators=150,\n",
    "    learning_rate=0.02,   \n",
    "    max_depth=3,           \n",
    "    subsample=0.8,          \n",
    "    colsample_bytree=0.8,   \n",
    "    reg_alpha=0.5,          \n",
    "    reg_lambda=1.0,           \n",
    "    random_state=42\n",
    ")\n",
    "\n",
    "xgb.fit(X_train, y_train)\n",
    "\n",
    "y_train_pred = xgb.predict(X_train)\n",
    "y_test_pred = xgb.predict(X_test)\n",
    "\n",
    "print(f\"[Train] MAE: {mean_absolute_error(y_train, y_train_pred):.2f} | RMSE: {np.sqrt(mean_squared_error(y_train, y_train_pred)):.2f}\")\n",
    "print(f\"[Test ] MAE: {mean_absolute_error(y_test, y_test_pred):.2f} | RMSE: {np.sqrt(mean_squared_error(y_test, y_test_pred)):.2f}\")"
   ]
  },
  {
   "cell_type": "code",
   "execution_count": 868,
   "id": "473c7192",
   "metadata": {},
   "outputs": [
    {
     "data": {
      "application/vnd.plotly.v1+json": {
       "config": {
        "plotlyServerURL": "https://plot.ly"
       },
       "data": [
        {
         "hovertemplate": "variable=Quantity_MT_Inventory<br>month=%{x}<br>value=%{y}<extra></extra>",
         "legendgroup": "Quantity_MT_Inventory",
         "line": {
          "color": "#636efa",
          "dash": "solid"
         },
         "marker": {
          "symbol": "circle"
         },
         "mode": "lines+markers",
         "name": "Quantity_MT_Inventory",
         "orientation": "v",
         "showlegend": true,
         "type": "scatter",
         "x": [
          "2024-01-01T00:00:00",
          "2024-02-01T00:00:00",
          "2024-03-01T00:00:00",
          "2024-04-01T00:00:00",
          "2024-05-01T00:00:00",
          "2024-06-01T00:00:00",
          "2024-07-01T00:00:00",
          "2024-08-01T00:00:00",
          "2024-09-01T00:00:00",
          "2024-10-01T00:00:00",
          "2024-11-01T00:00:00",
          "2024-12-01T00:00:00"
         ],
         "xaxis": "x",
         "y": [
          40213.85,
          36465.8,
          34938.3,
          34619.875,
          35428.425,
          40010.55,
          44052.125,
          41428.88,
          43000.974,
          42749.3,
          42667.825,
          57287.175
         ],
         "yaxis": "y"
        },
        {
         "hovertemplate": "variable=Predicted_Inventory<br>month=%{x}<br>value=%{y}<extra></extra>",
         "legendgroup": "Predicted_Inventory",
         "line": {
          "color": "#EF553B",
          "dash": "solid"
         },
         "marker": {
          "symbol": "circle"
         },
         "mode": "lines+markers",
         "name": "Predicted_Inventory",
         "orientation": "v",
         "showlegend": true,
         "type": "scatter",
         "x": [
          "2024-01-01T00:00:00",
          "2024-02-01T00:00:00",
          "2024-03-01T00:00:00",
          "2024-04-01T00:00:00",
          "2024-05-01T00:00:00",
          "2024-06-01T00:00:00",
          "2024-07-01T00:00:00",
          "2024-08-01T00:00:00",
          "2024-09-01T00:00:00",
          "2024-10-01T00:00:00",
          "2024-11-01T00:00:00",
          "2024-12-01T00:00:00"
         ],
         "xaxis": "x",
         "y": [
          39581,
          36763,
          35049,
          35663,
          36374,
          40500,
          44288,
          41769,
          41735,
          41849,
          40327,
          15375.05
         ],
         "yaxis": "y"
        },
        {
         "hovertemplate": "variable=Predicted_Adjusted<br>month=%{x}<br>value=%{y}<extra></extra>",
         "legendgroup": "Predicted_Adjusted",
         "line": {
          "color": "#00cc96",
          "dash": "solid"
         },
         "marker": {
          "symbol": "circle"
         },
         "mode": "lines+markers",
         "name": "Predicted_Adjusted",
         "orientation": "v",
         "showlegend": true,
         "type": "scatter",
         "x": [
          "2024-01-01T00:00:00",
          "2024-02-01T00:00:00",
          "2024-03-01T00:00:00",
          "2024-04-01T00:00:00",
          "2024-05-01T00:00:00",
          "2024-06-01T00:00:00",
          "2024-07-01T00:00:00",
          "2024-08-01T00:00:00",
          "2024-09-01T00:00:00",
          "2024-10-01T00:00:00",
          "2024-11-01T00:00:00",
          "2024-12-01T00:00:00"
         ],
         "xaxis": "x",
         "y": [
          40000.84375,
          36653.24609375,
          35476.1484375,
          35476.1484375,
          35701.75390625,
          40208.19140625,
          42692.984375,
          41709.12109375,
          42175.953125,
          41709.12109375,
          40000.84375,
          35476.1484375
         ],
         "yaxis": "y"
        }
       ],
       "layout": {
        "legend": {
         "title": {
          "text": "variable"
         },
         "tracegroupgap": 0
        },
        "template": {
         "data": {
          "bar": [
           {
            "error_x": {
             "color": "#2a3f5f"
            },
            "error_y": {
             "color": "#2a3f5f"
            },
            "marker": {
             "line": {
              "color": "#E5ECF6",
              "width": 0.5
             },
             "pattern": {
              "fillmode": "overlay",
              "size": 10,
              "solidity": 0.2
             }
            },
            "type": "bar"
           }
          ],
          "barpolar": [
           {
            "marker": {
             "line": {
              "color": "#E5ECF6",
              "width": 0.5
             },
             "pattern": {
              "fillmode": "overlay",
              "size": 10,
              "solidity": 0.2
             }
            },
            "type": "barpolar"
           }
          ],
          "carpet": [
           {
            "aaxis": {
             "endlinecolor": "#2a3f5f",
             "gridcolor": "white",
             "linecolor": "white",
             "minorgridcolor": "white",
             "startlinecolor": "#2a3f5f"
            },
            "baxis": {
             "endlinecolor": "#2a3f5f",
             "gridcolor": "white",
             "linecolor": "white",
             "minorgridcolor": "white",
             "startlinecolor": "#2a3f5f"
            },
            "type": "carpet"
           }
          ],
          "choropleth": [
           {
            "colorbar": {
             "outlinewidth": 0,
             "ticks": ""
            },
            "type": "choropleth"
           }
          ],
          "contour": [
           {
            "colorbar": {
             "outlinewidth": 0,
             "ticks": ""
            },
            "colorscale": [
             [
              0,
              "#0d0887"
             ],
             [
              0.1111111111111111,
              "#46039f"
             ],
             [
              0.2222222222222222,
              "#7201a8"
             ],
             [
              0.3333333333333333,
              "#9c179e"
             ],
             [
              0.4444444444444444,
              "#bd3786"
             ],
             [
              0.5555555555555556,
              "#d8576b"
             ],
             [
              0.6666666666666666,
              "#ed7953"
             ],
             [
              0.7777777777777778,
              "#fb9f3a"
             ],
             [
              0.8888888888888888,
              "#fdca26"
             ],
             [
              1,
              "#f0f921"
             ]
            ],
            "type": "contour"
           }
          ],
          "contourcarpet": [
           {
            "colorbar": {
             "outlinewidth": 0,
             "ticks": ""
            },
            "type": "contourcarpet"
           }
          ],
          "heatmap": [
           {
            "colorbar": {
             "outlinewidth": 0,
             "ticks": ""
            },
            "colorscale": [
             [
              0,
              "#0d0887"
             ],
             [
              0.1111111111111111,
              "#46039f"
             ],
             [
              0.2222222222222222,
              "#7201a8"
             ],
             [
              0.3333333333333333,
              "#9c179e"
             ],
             [
              0.4444444444444444,
              "#bd3786"
             ],
             [
              0.5555555555555556,
              "#d8576b"
             ],
             [
              0.6666666666666666,
              "#ed7953"
             ],
             [
              0.7777777777777778,
              "#fb9f3a"
             ],
             [
              0.8888888888888888,
              "#fdca26"
             ],
             [
              1,
              "#f0f921"
             ]
            ],
            "type": "heatmap"
           }
          ],
          "heatmapgl": [
           {
            "colorbar": {
             "outlinewidth": 0,
             "ticks": ""
            },
            "colorscale": [
             [
              0,
              "#0d0887"
             ],
             [
              0.1111111111111111,
              "#46039f"
             ],
             [
              0.2222222222222222,
              "#7201a8"
             ],
             [
              0.3333333333333333,
              "#9c179e"
             ],
             [
              0.4444444444444444,
              "#bd3786"
             ],
             [
              0.5555555555555556,
              "#d8576b"
             ],
             [
              0.6666666666666666,
              "#ed7953"
             ],
             [
              0.7777777777777778,
              "#fb9f3a"
             ],
             [
              0.8888888888888888,
              "#fdca26"
             ],
             [
              1,
              "#f0f921"
             ]
            ],
            "type": "heatmapgl"
           }
          ],
          "histogram": [
           {
            "marker": {
             "pattern": {
              "fillmode": "overlay",
              "size": 10,
              "solidity": 0.2
             }
            },
            "type": "histogram"
           }
          ],
          "histogram2d": [
           {
            "colorbar": {
             "outlinewidth": 0,
             "ticks": ""
            },
            "colorscale": [
             [
              0,
              "#0d0887"
             ],
             [
              0.1111111111111111,
              "#46039f"
             ],
             [
              0.2222222222222222,
              "#7201a8"
             ],
             [
              0.3333333333333333,
              "#9c179e"
             ],
             [
              0.4444444444444444,
              "#bd3786"
             ],
             [
              0.5555555555555556,
              "#d8576b"
             ],
             [
              0.6666666666666666,
              "#ed7953"
             ],
             [
              0.7777777777777778,
              "#fb9f3a"
             ],
             [
              0.8888888888888888,
              "#fdca26"
             ],
             [
              1,
              "#f0f921"
             ]
            ],
            "type": "histogram2d"
           }
          ],
          "histogram2dcontour": [
           {
            "colorbar": {
             "outlinewidth": 0,
             "ticks": ""
            },
            "colorscale": [
             [
              0,
              "#0d0887"
             ],
             [
              0.1111111111111111,
              "#46039f"
             ],
             [
              0.2222222222222222,
              "#7201a8"
             ],
             [
              0.3333333333333333,
              "#9c179e"
             ],
             [
              0.4444444444444444,
              "#bd3786"
             ],
             [
              0.5555555555555556,
              "#d8576b"
             ],
             [
              0.6666666666666666,
              "#ed7953"
             ],
             [
              0.7777777777777778,
              "#fb9f3a"
             ],
             [
              0.8888888888888888,
              "#fdca26"
             ],
             [
              1,
              "#f0f921"
             ]
            ],
            "type": "histogram2dcontour"
           }
          ],
          "mesh3d": [
           {
            "colorbar": {
             "outlinewidth": 0,
             "ticks": ""
            },
            "type": "mesh3d"
           }
          ],
          "parcoords": [
           {
            "line": {
             "colorbar": {
              "outlinewidth": 0,
              "ticks": ""
             }
            },
            "type": "parcoords"
           }
          ],
          "pie": [
           {
            "automargin": true,
            "type": "pie"
           }
          ],
          "scatter": [
           {
            "fillpattern": {
             "fillmode": "overlay",
             "size": 10,
             "solidity": 0.2
            },
            "type": "scatter"
           }
          ],
          "scatter3d": [
           {
            "line": {
             "colorbar": {
              "outlinewidth": 0,
              "ticks": ""
             }
            },
            "marker": {
             "colorbar": {
              "outlinewidth": 0,
              "ticks": ""
             }
            },
            "type": "scatter3d"
           }
          ],
          "scattercarpet": [
           {
            "marker": {
             "colorbar": {
              "outlinewidth": 0,
              "ticks": ""
             }
            },
            "type": "scattercarpet"
           }
          ],
          "scattergeo": [
           {
            "marker": {
             "colorbar": {
              "outlinewidth": 0,
              "ticks": ""
             }
            },
            "type": "scattergeo"
           }
          ],
          "scattergl": [
           {
            "marker": {
             "colorbar": {
              "outlinewidth": 0,
              "ticks": ""
             }
            },
            "type": "scattergl"
           }
          ],
          "scattermapbox": [
           {
            "marker": {
             "colorbar": {
              "outlinewidth": 0,
              "ticks": ""
             }
            },
            "type": "scattermapbox"
           }
          ],
          "scatterpolar": [
           {
            "marker": {
             "colorbar": {
              "outlinewidth": 0,
              "ticks": ""
             }
            },
            "type": "scatterpolar"
           }
          ],
          "scatterpolargl": [
           {
            "marker": {
             "colorbar": {
              "outlinewidth": 0,
              "ticks": ""
             }
            },
            "type": "scatterpolargl"
           }
          ],
          "scatterternary": [
           {
            "marker": {
             "colorbar": {
              "outlinewidth": 0,
              "ticks": ""
             }
            },
            "type": "scatterternary"
           }
          ],
          "surface": [
           {
            "colorbar": {
             "outlinewidth": 0,
             "ticks": ""
            },
            "colorscale": [
             [
              0,
              "#0d0887"
             ],
             [
              0.1111111111111111,
              "#46039f"
             ],
             [
              0.2222222222222222,
              "#7201a8"
             ],
             [
              0.3333333333333333,
              "#9c179e"
             ],
             [
              0.4444444444444444,
              "#bd3786"
             ],
             [
              0.5555555555555556,
              "#d8576b"
             ],
             [
              0.6666666666666666,
              "#ed7953"
             ],
             [
              0.7777777777777778,
              "#fb9f3a"
             ],
             [
              0.8888888888888888,
              "#fdca26"
             ],
             [
              1,
              "#f0f921"
             ]
            ],
            "type": "surface"
           }
          ],
          "table": [
           {
            "cells": {
             "fill": {
              "color": "#EBF0F8"
             },
             "line": {
              "color": "white"
             }
            },
            "header": {
             "fill": {
              "color": "#C8D4E3"
             },
             "line": {
              "color": "white"
             }
            },
            "type": "table"
           }
          ]
         },
         "layout": {
          "annotationdefaults": {
           "arrowcolor": "#2a3f5f",
           "arrowhead": 0,
           "arrowwidth": 1
          },
          "autotypenumbers": "strict",
          "coloraxis": {
           "colorbar": {
            "outlinewidth": 0,
            "ticks": ""
           }
          },
          "colorscale": {
           "diverging": [
            [
             0,
             "#8e0152"
            ],
            [
             0.1,
             "#c51b7d"
            ],
            [
             0.2,
             "#de77ae"
            ],
            [
             0.3,
             "#f1b6da"
            ],
            [
             0.4,
             "#fde0ef"
            ],
            [
             0.5,
             "#f7f7f7"
            ],
            [
             0.6,
             "#e6f5d0"
            ],
            [
             0.7,
             "#b8e186"
            ],
            [
             0.8,
             "#7fbc41"
            ],
            [
             0.9,
             "#4d9221"
            ],
            [
             1,
             "#276419"
            ]
           ],
           "sequential": [
            [
             0,
             "#0d0887"
            ],
            [
             0.1111111111111111,
             "#46039f"
            ],
            [
             0.2222222222222222,
             "#7201a8"
            ],
            [
             0.3333333333333333,
             "#9c179e"
            ],
            [
             0.4444444444444444,
             "#bd3786"
            ],
            [
             0.5555555555555556,
             "#d8576b"
            ],
            [
             0.6666666666666666,
             "#ed7953"
            ],
            [
             0.7777777777777778,
             "#fb9f3a"
            ],
            [
             0.8888888888888888,
             "#fdca26"
            ],
            [
             1,
             "#f0f921"
            ]
           ],
           "sequentialminus": [
            [
             0,
             "#0d0887"
            ],
            [
             0.1111111111111111,
             "#46039f"
            ],
            [
             0.2222222222222222,
             "#7201a8"
            ],
            [
             0.3333333333333333,
             "#9c179e"
            ],
            [
             0.4444444444444444,
             "#bd3786"
            ],
            [
             0.5555555555555556,
             "#d8576b"
            ],
            [
             0.6666666666666666,
             "#ed7953"
            ],
            [
             0.7777777777777778,
             "#fb9f3a"
            ],
            [
             0.8888888888888888,
             "#fdca26"
            ],
            [
             1,
             "#f0f921"
            ]
           ]
          },
          "colorway": [
           "#636efa",
           "#EF553B",
           "#00cc96",
           "#ab63fa",
           "#FFA15A",
           "#19d3f3",
           "#FF6692",
           "#B6E880",
           "#FF97FF",
           "#FECB52"
          ],
          "font": {
           "color": "#2a3f5f"
          },
          "geo": {
           "bgcolor": "white",
           "lakecolor": "white",
           "landcolor": "#E5ECF6",
           "showlakes": true,
           "showland": true,
           "subunitcolor": "white"
          },
          "hoverlabel": {
           "align": "left"
          },
          "hovermode": "closest",
          "mapbox": {
           "style": "light"
          },
          "paper_bgcolor": "white",
          "plot_bgcolor": "#E5ECF6",
          "polar": {
           "angularaxis": {
            "gridcolor": "white",
            "linecolor": "white",
            "ticks": ""
           },
           "bgcolor": "#E5ECF6",
           "radialaxis": {
            "gridcolor": "white",
            "linecolor": "white",
            "ticks": ""
           }
          },
          "scene": {
           "xaxis": {
            "backgroundcolor": "#E5ECF6",
            "gridcolor": "white",
            "gridwidth": 2,
            "linecolor": "white",
            "showbackground": true,
            "ticks": "",
            "zerolinecolor": "white"
           },
           "yaxis": {
            "backgroundcolor": "#E5ECF6",
            "gridcolor": "white",
            "gridwidth": 2,
            "linecolor": "white",
            "showbackground": true,
            "ticks": "",
            "zerolinecolor": "white"
           },
           "zaxis": {
            "backgroundcolor": "#E5ECF6",
            "gridcolor": "white",
            "gridwidth": 2,
            "linecolor": "white",
            "showbackground": true,
            "ticks": "",
            "zerolinecolor": "white"
           }
          },
          "shapedefaults": {
           "line": {
            "color": "#2a3f5f"
           }
          },
          "ternary": {
           "aaxis": {
            "gridcolor": "white",
            "linecolor": "white",
            "ticks": ""
           },
           "baxis": {
            "gridcolor": "white",
            "linecolor": "white",
            "ticks": ""
           },
           "bgcolor": "#E5ECF6",
           "caxis": {
            "gridcolor": "white",
            "linecolor": "white",
            "ticks": ""
           }
          },
          "title": {
           "x": 0.05
          },
          "xaxis": {
           "automargin": true,
           "gridcolor": "white",
           "linecolor": "white",
           "ticks": "",
           "title": {
            "standoff": 15
           },
           "zerolinecolor": "white",
           "zerolinewidth": 2
          },
          "yaxis": {
           "automargin": true,
           "gridcolor": "white",
           "linecolor": "white",
           "ticks": "",
           "title": {
            "standoff": 15
           },
           "zerolinecolor": "white",
           "zerolinewidth": 2
          }
         }
        },
        "title": {
         "text": "Actual vs Predicted Inventory"
        },
        "xaxis": {
         "anchor": "y",
         "domain": [
          0,
          1
         ],
         "title": {
          "text": "Month"
         }
        },
        "yaxis": {
         "anchor": "x",
         "domain": [
          0,
          1
         ],
         "title": {
          "text": "Inventory (KT)"
         }
        }
       }
      }
     },
     "metadata": {},
     "output_type": "display_data"
    }
   ],
   "source": [
    "X_all = scaler.transform(comparison[['Predicted_Inventory']].fillna(0))\n",
    "comparison['Predicted_Adjusted'] = xgb.predict(X_all)\n",
    "comparison['Deviation_Adjusted'] = comparison['Quantity_MT_Inventory'] - comparison['Predicted_Adjusted']\n",
    "\n",
    "fig = px.line(comparison, x='month', y=['Quantity_MT_Inventory', 'Predicted_Inventory', 'Predicted_Adjusted'],\n",
    "              title='Actual vs Predicted Inventory', markers=True)\n",
    "fig.update_layout(yaxis_title='Inventory (KT)', xaxis_title='Month')\n",
    "fig.show()"
   ]
  },
  {
   "cell_type": "markdown",
   "id": "82759dab",
   "metadata": {},
   "source": [
    "# **Outbound Pred vs Actual**"
   ]
  },
  {
   "cell_type": "code",
   "execution_count": 869,
   "id": "61a137a5",
   "metadata": {},
   "outputs": [
    {
     "name": "stdout",
     "output_type": "stream",
     "text": [
      "Actual vs Predicted Outbound (Singapore Warehouse):\n"
     ]
    },
    {
     "data": {
      "text/html": [
       "<div>\n",
       "<style scoped>\n",
       "    .dataframe tbody tr th:only-of-type {\n",
       "        vertical-align: middle;\n",
       "    }\n",
       "\n",
       "    .dataframe tbody tr th {\n",
       "        vertical-align: top;\n",
       "    }\n",
       "\n",
       "    .dataframe thead th {\n",
       "        text-align: right;\n",
       "    }\n",
       "</style>\n",
       "<table border=\"1\" class=\"dataframe\">\n",
       "  <thead>\n",
       "    <tr style=\"text-align: right;\">\n",
       "      <th></th>\n",
       "      <th>month</th>\n",
       "      <th>Quantity_KT_Out</th>\n",
       "      <th>Predicted_Outbound</th>\n",
       "      <th>Deviation</th>\n",
       "    </tr>\n",
       "  </thead>\n",
       "  <tbody>\n",
       "    <tr>\n",
       "      <th>0</th>\n",
       "      <td>2024-01-01</td>\n",
       "      <td>8030.355</td>\n",
       "      <td>8710</td>\n",
       "      <td>-679.645</td>\n",
       "    </tr>\n",
       "    <tr>\n",
       "      <th>1</th>\n",
       "      <td>2024-02-01</td>\n",
       "      <td>10046.795</td>\n",
       "      <td>10950</td>\n",
       "      <td>-903.205</td>\n",
       "    </tr>\n",
       "    <tr>\n",
       "      <th>2</th>\n",
       "      <td>2024-03-01</td>\n",
       "      <td>11107.855</td>\n",
       "      <td>9360</td>\n",
       "      <td>1747.855</td>\n",
       "    </tr>\n",
       "    <tr>\n",
       "      <th>3</th>\n",
       "      <td>2024-04-01</td>\n",
       "      <td>8797.185</td>\n",
       "      <td>7520</td>\n",
       "      <td>1277.185</td>\n",
       "    </tr>\n",
       "    <tr>\n",
       "      <th>4</th>\n",
       "      <td>2024-05-01</td>\n",
       "      <td>10501.950</td>\n",
       "      <td>10740</td>\n",
       "      <td>-238.050</td>\n",
       "    </tr>\n",
       "    <tr>\n",
       "      <th>5</th>\n",
       "      <td>2024-06-01</td>\n",
       "      <td>12455.665</td>\n",
       "      <td>9440</td>\n",
       "      <td>3015.665</td>\n",
       "    </tr>\n",
       "    <tr>\n",
       "      <th>6</th>\n",
       "      <td>2024-07-01</td>\n",
       "      <td>12305.930</td>\n",
       "      <td>11380</td>\n",
       "      <td>925.930</td>\n",
       "    </tr>\n",
       "    <tr>\n",
       "      <th>7</th>\n",
       "      <td>2024-08-01</td>\n",
       "      <td>13300.645</td>\n",
       "      <td>11330</td>\n",
       "      <td>1970.645</td>\n",
       "    </tr>\n",
       "    <tr>\n",
       "      <th>8</th>\n",
       "      <td>2024-09-01</td>\n",
       "      <td>12277.775</td>\n",
       "      <td>16700</td>\n",
       "      <td>-4422.225</td>\n",
       "    </tr>\n",
       "    <tr>\n",
       "      <th>9</th>\n",
       "      <td>2024-10-01</td>\n",
       "      <td>15154.065</td>\n",
       "      <td>20980</td>\n",
       "      <td>-5825.935</td>\n",
       "    </tr>\n",
       "    <tr>\n",
       "      <th>10</th>\n",
       "      <td>2024-11-01</td>\n",
       "      <td>14412.775</td>\n",
       "      <td>16470</td>\n",
       "      <td>-2057.225</td>\n",
       "    </tr>\n",
       "    <tr>\n",
       "      <th>11</th>\n",
       "      <td>2024-12-01</td>\n",
       "      <td>11252.095</td>\n",
       "      <td>13970</td>\n",
       "      <td>-2717.905</td>\n",
       "    </tr>\n",
       "  </tbody>\n",
       "</table>\n",
       "</div>"
      ],
      "text/plain": [
       "        month  Quantity_KT_Out  Predicted_Outbound  Deviation\n",
       "0  2024-01-01         8030.355                8710   -679.645\n",
       "1  2024-02-01        10046.795               10950   -903.205\n",
       "2  2024-03-01        11107.855                9360   1747.855\n",
       "3  2024-04-01         8797.185                7520   1277.185\n",
       "4  2024-05-01        10501.950               10740   -238.050\n",
       "5  2024-06-01        12455.665                9440   3015.665\n",
       "6  2024-07-01        12305.930               11380    925.930\n",
       "7  2024-08-01        13300.645               11330   1970.645\n",
       "8  2024-09-01        12277.775               16700  -4422.225\n",
       "9  2024-10-01        15154.065               20980  -5825.935\n",
       "10 2024-11-01        14412.775               16470  -2057.225\n",
       "11 2024-12-01        11252.095               13970  -2717.905"
      ]
     },
     "execution_count": 869,
     "metadata": {},
     "output_type": "execute_result"
    }
   ],
   "source": [
    "outbound_comparison = df[['month', 'Quantity_KT_Out']].copy()\n",
    "outbound_comparison['Predicted_Outbound'] = outbound_comparison['month'].apply(\n",
    "    lambda m: singapore_predicted.loc[singapore_predicted['Month'].dt.to_timestamp() == m, 'Predicted Outbound (KT)'].values[0]\n",
    "    if not singapore_predicted.loc[singapore_predicted['Month'].dt.to_timestamp() == m].empty else None\n",
    ")\n",
    "outbound_comparison['Deviation'] = outbound_comparison['Quantity_KT_Out'] - outbound_comparison['Predicted_Outbound']\n",
    "\n",
    "print(\"Actual vs Predicted Outbound (Singapore Warehouse):\")\n",
    "outbound_comparison"
   ]
  },
  {
   "cell_type": "code",
   "execution_count": 870,
   "id": "00be2285",
   "metadata": {},
   "outputs": [
    {
     "data": {
      "image/png": "[encoded data removed]",
      "text/plain": [
       "<Figure size 1200x600 with 1 Axes>"
      ]
     },
     "metadata": {},
     "output_type": "display_data"
    }
   ],
   "source": [
    "plt.figure(figsize=(12, 6))\n",
    "plt.plot(df['month'], df['Quantity_KT_Out'], marker='o', label='Actual Outbound (KT)')\n",
    "plt.plot(singapore_predicted['Month'].dt.to_timestamp(), singapore_predicted['Predicted Outbound (KT)'], marker='^', label='Predicted Outbound (KT)')\n",
    "plt.title('Actual vs Predicted Outbound - Singapore Warehouse')\n",
    "plt.xlabel('Month')\n",
    "plt.ylabel('Outbound (KT)')\n",
    "plt.legend()\n",
    "plt.grid(True)\n",
    "plt.xticks(rotation=45)\n",
    "plt.tight_layout()\n",
    "plt.show()"
   ]
  },
  {
   "cell_type": "markdown",
   "id": "df0c3d53",
   "metadata": {},
   "source": [
    "## **Adjust Outbound Predicted**"
   ]
  },
  {
   "cell_type": "code",
   "execution_count": 871,
   "id": "6509ff4a",
   "metadata": {},
   "outputs": [
    {
     "name": "stdout",
     "output_type": "stream",
     "text": [
      "[Train] MAE: 1250.29 | RMSE: 1413.48\n",
      "[Test ] MAE: 1116.69 | RMSE: 1177.54\n"
     ]
    }
   ],
   "source": [
    "outbound_valid = outbound_comparison.dropna(subset=['Predicted_Outbound', 'Quantity_KT_Out'])\n",
    "\n",
    "X_out = outbound_valid[['Predicted_Outbound']]\n",
    "y_out = outbound_valid['Quantity_KT_Out']\n",
    "\n",
    "scaler_out = RobustScaler()\n",
    "X_out_scaled = scaler_out.fit_transform(X_out)\n",
    "\n",
    "train_mask = outbound_valid['month'] <= cut_off_date\n",
    "test_mask = outbound_valid['month'] > cut_off_date\n",
    "\n",
    "X_out_train = X_out_scaled[train_mask]  \n",
    "X_out_test = X_out_scaled[test_mask]   \n",
    "y_out_train = y_out[train_mask]       \n",
    "y_out_test = y_out[test_mask]        \n",
    "\n",
    "model = Ridge(alpha=0.45)  \n",
    "model.fit(X_out_train, y_out_train)\n",
    "\n",
    "y_out_train_pred = model.predict(X_out_train)\n",
    "y_out_test_pred = model.predict(X_out_test)\n",
    "\n",
    "print(f\"[Train] MAE: {mean_absolute_error(y_out_train, y_out_train_pred):.2f} | RMSE: {np.sqrt(mean_squared_error(y_out_train, y_out_train_pred)):.2f}\")\n",
    "print(f\"[Test ] MAE: {mean_absolute_error(y_out_test, y_out_test_pred):.2f} | RMSE: {np.sqrt(mean_squared_error(y_out_test, y_out_test_pred)):.2f}\")"
   ]
  },
  {
   "cell_type": "code",
   "execution_count": 872,
   "id": "4f800f69",
   "metadata": {},
   "outputs": [
    {
     "data": {
      "application/vnd.plotly.v1+json": {
       "config": {
        "plotlyServerURL": "https://plot.ly"
       },
       "data": [
        {
         "hovertemplate": "variable=Quantity_KT_Out<br>month=%{x}<br>value=%{y}<extra></extra>",
         "legendgroup": "Quantity_KT_Out",
         "line": {
          "color": "#636efa",
          "dash": "solid"
         },
         "marker": {
          "symbol": "circle"
         },
         "mode": "lines+markers",
         "name": "Quantity_KT_Out",
         "orientation": "v",
         "showlegend": true,
         "type": "scatter",
         "x": [
          "2024-01-01T00:00:00",
          "2024-02-01T00:00:00",
          "2024-03-01T00:00:00",
          "2024-04-01T00:00:00",
          "2024-05-01T00:00:00",
          "2024-06-01T00:00:00",
          "2024-07-01T00:00:00",
          "2024-08-01T00:00:00",
          "2024-09-01T00:00:00",
          "2024-10-01T00:00:00",
          "2024-11-01T00:00:00",
          "2024-12-01T00:00:00"
         ],
         "xaxis": "x",
         "y": [
          8030.355,
          10046.795,
          11107.855,
          8797.185,
          10501.95,
          12455.665,
          12305.93,
          13300.645,
          12277.775,
          15154.065,
          14412.775,
          11252.095
         ],
         "yaxis": "y"
        },
        {
         "hovertemplate": "variable=Predicted_Outbound<br>month=%{x}<br>value=%{y}<extra></extra>",
         "legendgroup": "Predicted_Outbound",
         "line": {
          "color": "#EF553B",
          "dash": "solid"
         },
         "marker": {
          "symbol": "circle"
         },
         "mode": "lines+markers",
         "name": "Predicted_Outbound",
         "orientation": "v",
         "showlegend": true,
         "type": "scatter",
         "x": [
          "2024-01-01T00:00:00",
          "2024-02-01T00:00:00",
          "2024-03-01T00:00:00",
          "2024-04-01T00:00:00",
          "2024-05-01T00:00:00",
          "2024-06-01T00:00:00",
          "2024-07-01T00:00:00",
          "2024-08-01T00:00:00",
          "2024-09-01T00:00:00",
          "2024-10-01T00:00:00",
          "2024-11-01T00:00:00",
          "2024-12-01T00:00:00"
         ],
         "xaxis": "x",
         "y": [
          8710,
          10950,
          9360,
          7520,
          10740,
          9440,
          11380,
          11330,
          16700,
          20980,
          16470,
          13970
         ],
         "yaxis": "y"
        },
        {
         "hovertemplate": "variable=Predicted_Outbound_Adjusted<br>month=%{x}<br>value=%{y}<extra></extra>",
         "legendgroup": "Predicted_Outbound_Adjusted",
         "line": {
          "color": "#00cc96",
          "dash": "solid"
         },
         "marker": {
          "symbol": "circle"
         },
         "mode": "lines+markers",
         "name": "Predicted_Outbound_Adjusted",
         "orientation": "v",
         "showlegend": true,
         "type": "scatter",
         "x": [
          "2024-01-01T00:00:00",
          "2024-02-01T00:00:00",
          "2024-03-01T00:00:00",
          "2024-04-01T00:00:00",
          "2024-05-01T00:00:00",
          "2024-06-01T00:00:00",
          "2024-07-01T00:00:00",
          "2024-08-01T00:00:00",
          "2024-09-01T00:00:00",
          "2024-10-01T00:00:00",
          "2024-11-01T00:00:00",
          "2024-12-01T00:00:00"
         ],
         "xaxis": "x",
         "y": [
          10366.865235553818,
          11064.165351181497,
          10569.206786963636,
          9996.424549126614,
          10998.793465341401,
          10594.110362521767,
          11198.022069806451,
          11182.45733508262,
          12854.109844422186,
          14186.451136782214,
          12782.512064692559,
          12004.275328500955
         ],
         "yaxis": "y"
        }
       ],
       "layout": {
        "legend": {
         "title": {
          "text": "variable"
         },
         "tracegroupgap": 0
        },
        "template": {
         "data": {
          "bar": [
           {
            "error_x": {
             "color": "#2a3f5f"
            },
            "error_y": {
             "color": "#2a3f5f"
            },
            "marker": {
             "line": {
              "color": "#E5ECF6",
              "width": 0.5
             },
             "pattern": {
              "fillmode": "overlay",
              "size": 10,
              "solidity": 0.2
             }
            },
            "type": "bar"
           }
          ],
          "barpolar": [
           {
            "marker": {
             "line": {
              "color": "#E5ECF6",
              "width": 0.5
             },
             "pattern": {
              "fillmode": "overlay",
              "size": 10,
              "solidity": 0.2
             }
            },
            "type": "barpolar"
           }
          ],
          "carpet": [
           {
            "aaxis": {
             "endlinecolor": "#2a3f5f",
             "gridcolor": "white",
             "linecolor": "white",
             "minorgridcolor": "white",
             "startlinecolor": "#2a3f5f"
            },
            "baxis": {
             "endlinecolor": "#2a3f5f",
             "gridcolor": "white",
             "linecolor": "white",
             "minorgridcolor": "white",
             "startlinecolor": "#2a3f5f"
            },
            "type": "carpet"
           }
          ],
          "choropleth": [
           {
            "colorbar": {
             "outlinewidth": 0,
             "ticks": ""
            },
            "type": "choropleth"
           }
          ],
          "contour": [
           {
            "colorbar": {
             "outlinewidth": 0,
             "ticks": ""
            },
            "colorscale": [
             [
              0,
              "#0d0887"
             ],
             [
              0.1111111111111111,
              "#46039f"
             ],
             [
              0.2222222222222222,
              "#7201a8"
             ],
             [
              0.3333333333333333,
              "#9c179e"
             ],
             [
              0.4444444444444444,
              "#bd3786"
             ],
             [
              0.5555555555555556,
              "#d8576b"
             ],
             [
              0.6666666666666666,
              "#ed7953"
             ],
             [
              0.7777777777777778,
              "#fb9f3a"
             ],
             [
              0.8888888888888888,
              "#fdca26"
             ],
             [
              1,
              "#f0f921"
             ]
            ],
            "type": "contour"
           }
          ],
          "contourcarpet": [
           {
            "colorbar": {
             "outlinewidth": 0,
             "ticks": ""
            },
            "type": "contourcarpet"
           }
          ],
          "heatmap": [
           {
            "colorbar": {
             "outlinewidth": 0,
             "ticks": ""
            },
            "colorscale": [
             [
              0,
              "#0d0887"
             ],
             [
              0.1111111111111111,
              "#46039f"
             ],
             [
              0.2222222222222222,
              "#7201a8"
             ],
             [
              0.3333333333333333,
              "#9c179e"
             ],
             [
              0.4444444444444444,
              "#bd3786"
             ],
             [
              0.5555555555555556,
              "#d8576b"
             ],
             [
              0.6666666666666666,
              "#ed7953"
             ],
             [
              0.7777777777777778,
              "#fb9f3a"
             ],
             [
              0.8888888888888888,
              "#fdca26"
             ],
             [
              1,
              "#f0f921"
             ]
            ],
            "type": "heatmap"
           }
          ],
          "heatmapgl": [
           {
            "colorbar": {
             "outlinewidth": 0,
             "ticks": ""
            },
            "colorscale": [
             [
              0,
              "#0d0887"
             ],
             [
              0.1111111111111111,
              "#46039f"
             ],
             [
              0.2222222222222222,
              "#7201a8"
             ],
             [
              0.3333333333333333,
              "#9c179e"
             ],
             [
              0.4444444444444444,
              "#bd3786"
             ],
             [
              0.5555555555555556,
              "#d8576b"
             ],
             [
              0.6666666666666666,
              "#ed7953"
             ],
             [
              0.7777777777777778,
              "#fb9f3a"
             ],
             [
              0.8888888888888888,
              "#fdca26"
             ],
             [
              1,
              "#f0f921"
             ]
            ],
            "type": "heatmapgl"
           }
          ],
          "histogram": [
           {
            "marker": {
             "pattern": {
              "fillmode": "overlay",
              "size": 10,
              "solidity": 0.2
             }
            },
            "type": "histogram"
           }
          ],
          "histogram2d": [
           {
            "colorbar": {
             "outlinewidth": 0,
             "ticks": ""
            },
            "colorscale": [
             [
              0,
              "#0d0887"
             ],
             [
              0.1111111111111111,
              "#46039f"
             ],
             [
              0.2222222222222222,
              "#7201a8"
             ],
             [
              0.3333333333333333,
              "#9c179e"
             ],
             [
              0.4444444444444444,
              "#bd3786"
             ],
             [
              0.5555555555555556,
              "#d8576b"
             ],
             [
              0.6666666666666666,
              "#ed7953"
             ],
             [
              0.7777777777777778,
              "#fb9f3a"
             ],
             [
              0.8888888888888888,
              "#fdca26"
             ],
             [
              1,
              "#f0f921"
             ]
            ],
            "type": "histogram2d"
           }
          ],
          "histogram2dcontour": [
           {
            "colorbar": {
             "outlinewidth": 0,
             "ticks": ""
            },
            "colorscale": [
             [
              0,
              "#0d0887"
             ],
             [
              0.1111111111111111,
              "#46039f"
             ],
             [
              0.2222222222222222,
              "#7201a8"
             ],
             [
              0.3333333333333333,
              "#9c179e"
             ],
             [
              0.4444444444444444,
              "#bd3786"
             ],
             [
              0.5555555555555556,
              "#d8576b"
             ],
             [
              0.6666666666666666,
              "#ed7953"
             ],
             [
              0.7777777777777778,
              "#fb9f3a"
             ],
             [
              0.8888888888888888,
              "#fdca26"
             ],
             [
              1,
              "#f0f921"
             ]
            ],
            "type": "histogram2dcontour"
           }
          ],
          "mesh3d": [
           {
            "colorbar": {
             "outlinewidth": 0,
             "ticks": ""
            },
            "type": "mesh3d"
           }
          ],
          "parcoords": [
           {
            "line": {
             "colorbar": {
              "outlinewidth": 0,
              "ticks": ""
             }
            },
            "type": "parcoords"
           }
          ],
          "pie": [
           {
            "automargin": true,
            "type": "pie"
           }
          ],
          "scatter": [
           {
            "fillpattern": {
             "fillmode": "overlay",
             "size": 10,
             "solidity": 0.2
            },
            "type": "scatter"
           }
          ],
          "scatter3d": [
           {
            "line": {
             "colorbar": {
              "outlinewidth": 0,
              "ticks": ""
             }
            },
            "marker": {
             "colorbar": {
              "outlinewidth": 0,
              "ticks": ""
             }
            },
            "type": "scatter3d"
           }
          ],
          "scattercarpet": [
           {
            "marker": {
             "colorbar": {
              "outlinewidth": 0,
              "ticks": ""
             }
            },
            "type": "scattercarpet"
           }
          ],
          "scattergeo": [
           {
            "marker": {
             "colorbar": {
              "outlinewidth": 0,
              "ticks": ""
             }
            },
            "type": "scattergeo"
           }
          ],
          "scattergl": [
           {
            "marker": {
             "colorbar": {
              "outlinewidth": 0,
              "ticks": ""
             }
            },
            "type": "scattergl"
           }
          ],
          "scattermapbox": [
           {
            "marker": {
             "colorbar": {
              "outlinewidth": 0,
              "ticks": ""
             }
            },
            "type": "scattermapbox"
           }
          ],
          "scatterpolar": [
           {
            "marker": {
             "colorbar": {
              "outlinewidth": 0,
              "ticks": ""
             }
            },
            "type": "scatterpolar"
           }
          ],
          "scatterpolargl": [
           {
            "marker": {
             "colorbar": {
              "outlinewidth": 0,
              "ticks": ""
             }
            },
            "type": "scatterpolargl"
           }
          ],
          "scatterternary": [
           {
            "marker": {
             "colorbar": {
              "outlinewidth": 0,
              "ticks": ""
             }
            },
            "type": "scatterternary"
           }
          ],
          "surface": [
           {
            "colorbar": {
             "outlinewidth": 0,
             "ticks": ""
            },
            "colorscale": [
             [
              0,
              "#0d0887"
             ],
             [
              0.1111111111111111,
              "#46039f"
             ],
             [
              0.2222222222222222,
              "#7201a8"
             ],
             [
              0.3333333333333333,
              "#9c179e"
             ],
             [
              0.4444444444444444,
              "#bd3786"
             ],
             [
              0.5555555555555556,
              "#d8576b"
             ],
             [
              0.6666666666666666,
              "#ed7953"
             ],
             [
              0.7777777777777778,
              "#fb9f3a"
             ],
             [
              0.8888888888888888,
              "#fdca26"
             ],
             [
              1,
              "#f0f921"
             ]
            ],
            "type": "surface"
           }
          ],
          "table": [
           {
            "cells": {
             "fill": {
              "color": "#EBF0F8"
             },
             "line": {
              "color": "white"
             }
            },
            "header": {
             "fill": {
              "color": "#C8D4E3"
             },
             "line": {
              "color": "white"
             }
            },
            "type": "table"
           }
          ]
         },
         "layout": {
          "annotationdefaults": {
           "arrowcolor": "#2a3f5f",
           "arrowhead": 0,
           "arrowwidth": 1
          },
          "autotypenumbers": "strict",
          "coloraxis": {
           "colorbar": {
            "outlinewidth": 0,
            "ticks": ""
           }
          },
          "colorscale": {
           "diverging": [
            [
             0,
             "#8e0152"
            ],
            [
             0.1,
             "#c51b7d"
            ],
            [
             0.2,
             "#de77ae"
            ],
            [
             0.3,
             "#f1b6da"
            ],
            [
             0.4,
             "#fde0ef"
            ],
            [
             0.5,
             "#f7f7f7"
            ],
            [
             0.6,
             "#e6f5d0"
            ],
            [
             0.7,
             "#b8e186"
            ],
            [
             0.8,
             "#7fbc41"
            ],
            [
             0.9,
             "#4d9221"
            ],
            [
             1,
             "#276419"
            ]
           ],
           "sequential": [
            [
             0,
             "#0d0887"
            ],
            [
             0.1111111111111111,
             "#46039f"
            ],
            [
             0.2222222222222222,
             "#7201a8"
            ],
            [
             0.3333333333333333,
             "#9c179e"
            ],
            [
             0.4444444444444444,
             "#bd3786"
            ],
            [
             0.5555555555555556,
             "#d8576b"
            ],
            [
             0.6666666666666666,
             "#ed7953"
            ],
            [
             0.7777777777777778,
             "#fb9f3a"
            ],
            [
             0.8888888888888888,
             "#fdca26"
            ],
            [
             1,
             "#f0f921"
            ]
           ],
           "sequentialminus": [
            [
             0,
             "#0d0887"
            ],
            [
             0.1111111111111111,
             "#46039f"
            ],
            [
             0.2222222222222222,
             "#7201a8"
            ],
            [
             0.3333333333333333,
             "#9c179e"
            ],
            [
             0.4444444444444444,
             "#bd3786"
            ],
            [
             0.5555555555555556,
             "#d8576b"
            ],
            [
             0.6666666666666666,
             "#ed7953"
            ],
            [
             0.7777777777777778,
             "#fb9f3a"
            ],
            [
             0.8888888888888888,
             "#fdca26"
            ],
            [
             1,
             "#f0f921"
            ]
           ]
          },
          "colorway": [
           "#636efa",
           "#EF553B",
           "#00cc96",
           "#ab63fa",
           "#FFA15A",
           "#19d3f3",
           "#FF6692",
           "#B6E880",
           "#FF97FF",
           "#FECB52"
          ],
          "font": {
           "color": "#2a3f5f"
          },
          "geo": {
           "bgcolor": "white",
           "lakecolor": "white",
           "landcolor": "#E5ECF6",
           "showlakes": true,
           "showland": true,
           "subunitcolor": "white"
          },
          "hoverlabel": {
           "align": "left"
          },
          "hovermode": "closest",
          "mapbox": {
           "style": "light"
          },
          "paper_bgcolor": "white",
          "plot_bgcolor": "#E5ECF6",
          "polar": {
           "angularaxis": {
            "gridcolor": "white",
            "linecolor": "white",
            "ticks": ""
           },
           "bgcolor": "#E5ECF6",
           "radialaxis": {
            "gridcolor": "white",
            "linecolor": "white",
            "ticks": ""
           }
          },
          "scene": {
           "xaxis": {
            "backgroundcolor": "#E5ECF6",
            "gridcolor": "white",
            "gridwidth": 2,
            "linecolor": "white",
            "showbackground": true,
            "ticks": "",
            "zerolinecolor": "white"
           },
           "yaxis": {
            "backgroundcolor": "#E5ECF6",
            "gridcolor": "white",
            "gridwidth": 2,
            "linecolor": "white",
            "showbackground": true,
            "ticks": "",
            "zerolinecolor": "white"
           },
           "zaxis": {
            "backgroundcolor": "#E5ECF6",
            "gridcolor": "white",
            "gridwidth": 2,
            "linecolor": "white",
            "showbackground": true,
            "ticks": "",
            "zerolinecolor": "white"
           }
          },
          "shapedefaults": {
           "line": {
            "color": "#2a3f5f"
           }
          },
          "ternary": {
           "aaxis": {
            "gridcolor": "white",
            "linecolor": "white",
            "ticks": ""
           },
           "baxis": {
            "gridcolor": "white",
            "linecolor": "white",
            "ticks": ""
           },
           "bgcolor": "#E5ECF6",
           "caxis": {
            "gridcolor": "white",
            "linecolor": "white",
            "ticks": ""
           }
          },
          "title": {
           "x": 0.05
          },
          "xaxis": {
           "automargin": true,
           "gridcolor": "white",
           "linecolor": "white",
           "ticks": "",
           "title": {
            "standoff": 15
           },
           "zerolinecolor": "white",
           "zerolinewidth": 2
          },
          "yaxis": {
           "automargin": true,
           "gridcolor": "white",
           "linecolor": "white",
           "ticks": "",
           "title": {
            "standoff": 15
           },
           "zerolinecolor": "white",
           "zerolinewidth": 2
          }
         }
        },
        "title": {
         "text": "Actual vs Predicted Outbound"
        },
        "xaxis": {
         "anchor": "y",
         "domain": [
          0,
          1
         ],
         "title": {
          "text": "Month"
         }
        },
        "yaxis": {
         "anchor": "x",
         "domain": [
          0,
          1
         ],
         "title": {
          "text": "Outbound (KT)"
         }
        }
       }
      }
     },
     "metadata": {},
     "output_type": "display_data"
    }
   ],
   "source": [
    "X_out_all = scaler_out.transform(outbound_comparison[['Predicted_Outbound']].fillna(0))\n",
    "outbound_comparison['Predicted_Outbound_Adjusted'] = model.predict(X_out_all)\n",
    "outbound_comparison['Deviation_Adjusted'] = outbound_comparison['Quantity_KT_Out'] - outbound_comparison['Predicted_Outbound_Adjusted']\n",
    "\n",
    "fig = px.line(\n",
    "    outbound_comparison,\n",
    "    x='month',\n",
    "    y=['Quantity_KT_Out', 'Predicted_Outbound', 'Predicted_Outbound_Adjusted'],\n",
    "    title='Actual vs Predicted Outbound',\n",
    "    markers=True\n",
    ")\n",
    "\n",
    "fig.update_layout(yaxis_title='Outbound (KT)', xaxis_title='Month')\n",
    "fig.show()"
   ]
  },
  {
   "cell_type": "markdown",
   "id": "ff1fce0c",
   "metadata": {},
   "source": [
    "---"
   ]
  },
  {
   "cell_type": "markdown",
   "id": "8973634b",
   "metadata": {},
   "source": [
    "# **Optimization**"
   ]
  },
  {
   "cell_type": "markdown",
   "id": "0a8ae8de",
   "metadata": {},
   "source": [
    "### **Create Dataframe For Optimization Model**"
   ]
  },
  {
   "cell_type": "code",
   "execution_count": 873,
   "id": "5907998f",
   "metadata": {},
   "outputs": [],
   "source": [
    "optimize = pd.DataFrame({\n",
    "    'Actual Inbound': Inbound_monthly_singapore['Quantity_KT_In'],\n",
    "    'Actual Outbound': Outbound_monthly_singapore['Quantity_KT_Out'],\n",
    "    'Actual Inventory': Inventory_monthly_singapore['Quantity_MT_Inventory'],\n",
    "    'Adjusted Inventory': comparison['Predicted_Adjusted'],\n",
    "    'Adjusted Outbound': outbound_comparison['Predicted_Outbound_Adjusted'],\n",
    "    'Capacity' : singapore_predicted['Total Cap (KT)'].values\n",
    "})\n",
    "optimize['Overflow'] = optimize['Adjusted Inventory'] > optimize['Capacity']"
   ]
  },
  {
   "cell_type": "code",
   "execution_count": 874,
   "id": "b79d2bc2",
   "metadata": {},
   "outputs": [
    {
     "data": {
      "text/html": [
       "<div>\n",
       "<style scoped>\n",
       "    .dataframe tbody tr th:only-of-type {\n",
       "        vertical-align: middle;\n",
       "    }\n",
       "\n",
       "    .dataframe tbody tr th {\n",
       "        vertical-align: top;\n",
       "    }\n",
       "\n",
       "    .dataframe thead th {\n",
       "        text-align: right;\n",
       "    }\n",
       "</style>\n",
       "<table border=\"1\" class=\"dataframe\">\n",
       "  <thead>\n",
       "    <tr style=\"text-align: right;\">\n",
       "      <th></th>\n",
       "      <th>Actual Inbound</th>\n",
       "      <th>Actual Outbound</th>\n",
       "      <th>Actual Inventory</th>\n",
       "      <th>Adjusted Inventory</th>\n",
       "      <th>Adjusted Outbound</th>\n",
       "      <th>Capacity</th>\n",
       "      <th>Overflow</th>\n",
       "    </tr>\n",
       "  </thead>\n",
       "  <tbody>\n",
       "    <tr>\n",
       "      <th>0</th>\n",
       "      <td>6867.000</td>\n",
       "      <td>8030.355</td>\n",
       "      <td>40213.850</td>\n",
       "      <td>40000.843750</td>\n",
       "      <td>10366.865236</td>\n",
       "      <td>53500</td>\n",
       "      <td>False</td>\n",
       "    </tr>\n",
       "    <tr>\n",
       "      <th>1</th>\n",
       "      <td>7128.995</td>\n",
       "      <td>10046.795</td>\n",
       "      <td>36465.800</td>\n",
       "      <td>36653.246094</td>\n",
       "      <td>11064.165351</td>\n",
       "      <td>53500</td>\n",
       "      <td>False</td>\n",
       "    </tr>\n",
       "    <tr>\n",
       "      <th>2</th>\n",
       "      <td>15858.001</td>\n",
       "      <td>11107.855</td>\n",
       "      <td>34938.300</td>\n",
       "      <td>35476.148438</td>\n",
       "      <td>10569.206787</td>\n",
       "      <td>53500</td>\n",
       "      <td>False</td>\n",
       "    </tr>\n",
       "    <tr>\n",
       "      <th>3</th>\n",
       "      <td>14027.350</td>\n",
       "      <td>8797.185</td>\n",
       "      <td>34619.875</td>\n",
       "      <td>35476.148438</td>\n",
       "      <td>9996.424549</td>\n",
       "      <td>53500</td>\n",
       "      <td>False</td>\n",
       "    </tr>\n",
       "    <tr>\n",
       "      <th>4</th>\n",
       "      <td>12248.625</td>\n",
       "      <td>10501.950</td>\n",
       "      <td>35428.425</td>\n",
       "      <td>35701.753906</td>\n",
       "      <td>10998.793465</td>\n",
       "      <td>53500</td>\n",
       "      <td>False</td>\n",
       "    </tr>\n",
       "    <tr>\n",
       "      <th>5</th>\n",
       "      <td>6233.500</td>\n",
       "      <td>12455.665</td>\n",
       "      <td>40010.550</td>\n",
       "      <td>40208.191406</td>\n",
       "      <td>10594.110363</td>\n",
       "      <td>53500</td>\n",
       "      <td>False</td>\n",
       "    </tr>\n",
       "    <tr>\n",
       "      <th>6</th>\n",
       "      <td>8659.000</td>\n",
       "      <td>12305.930</td>\n",
       "      <td>44052.125</td>\n",
       "      <td>42692.984375</td>\n",
       "      <td>11198.022070</td>\n",
       "      <td>53500</td>\n",
       "      <td>False</td>\n",
       "    </tr>\n",
       "    <tr>\n",
       "      <th>7</th>\n",
       "      <td>15971.750</td>\n",
       "      <td>13300.645</td>\n",
       "      <td>41428.880</td>\n",
       "      <td>41709.121094</td>\n",
       "      <td>11182.457335</td>\n",
       "      <td>53500</td>\n",
       "      <td>False</td>\n",
       "    </tr>\n",
       "    <tr>\n",
       "      <th>8</th>\n",
       "      <td>10510.625</td>\n",
       "      <td>12277.775</td>\n",
       "      <td>43000.974</td>\n",
       "      <td>42175.953125</td>\n",
       "      <td>12854.109844</td>\n",
       "      <td>53500</td>\n",
       "      <td>False</td>\n",
       "    </tr>\n",
       "    <tr>\n",
       "      <th>9</th>\n",
       "      <td>9600.750</td>\n",
       "      <td>15154.065</td>\n",
       "      <td>42749.300</td>\n",
       "      <td>41709.121094</td>\n",
       "      <td>14186.451137</td>\n",
       "      <td>53500</td>\n",
       "      <td>False</td>\n",
       "    </tr>\n",
       "    <tr>\n",
       "      <th>10</th>\n",
       "      <td>4344.750</td>\n",
       "      <td>14412.775</td>\n",
       "      <td>42667.825</td>\n",
       "      <td>40000.843750</td>\n",
       "      <td>12782.512065</td>\n",
       "      <td>53500</td>\n",
       "      <td>False</td>\n",
       "    </tr>\n",
       "    <tr>\n",
       "      <th>11</th>\n",
       "      <td>540.000</td>\n",
       "      <td>11252.095</td>\n",
       "      <td>57287.175</td>\n",
       "      <td>35476.148438</td>\n",
       "      <td>12004.275329</td>\n",
       "      <td>48000</td>\n",
       "      <td>False</td>\n",
       "    </tr>\n",
       "  </tbody>\n",
       "</table>\n",
       "</div>"
      ],
      "text/plain": [
       "    Actual Inbound  Actual Outbound  Actual Inventory  Adjusted Inventory  \\\n",
       "0         6867.000         8030.355         40213.850        40000.843750   \n",
       "1         7128.995        10046.795         36465.800        36653.246094   \n",
       "2        15858.001        11107.855         34938.300        35476.148438   \n",
       "3        14027.350         8797.185         34619.875        35476.148438   \n",
       "4        12248.625        10501.950         35428.425        35701.753906   \n",
       "5         6233.500        12455.665         40010.550        40208.191406   \n",
       "6         8659.000        12305.930         44052.125        42692.984375   \n",
       "7        15971.750        13300.645         41428.880        41709.121094   \n",
       "8        10510.625        12277.775         43000.974        42175.953125   \n",
       "9         9600.750        15154.065         42749.300        41709.121094   \n",
       "10        4344.750        14412.775         42667.825        40000.843750   \n",
       "11         540.000        11252.095         57287.175        35476.148438   \n",
       "\n",
       "    Adjusted Outbound  Capacity  Overflow  \n",
       "0        10366.865236     53500     False  \n",
       "1        11064.165351     53500     False  \n",
       "2        10569.206787     53500     False  \n",
       "3         9996.424549     53500     False  \n",
       "4        10998.793465     53500     False  \n",
       "5        10594.110363     53500     False  \n",
       "6        11198.022070     53500     False  \n",
       "7        11182.457335     53500     False  \n",
       "8        12854.109844     53500     False  \n",
       "9        14186.451137     53500     False  \n",
       "10       12782.512065     53500     False  \n",
       "11       12004.275329     48000     False  "
      ]
     },
     "execution_count": 874,
     "metadata": {},
     "output_type": "execute_result"
    }
   ],
   "source": [
    "optimize"
   ]
  },
  {
   "cell_type": "code",
   "execution_count": 875,
   "id": "a6459454",
   "metadata": {},
   "outputs": [
    {
     "data": {
      "text/html": [
       "<div>\n",
       "<style scoped>\n",
       "    .dataframe tbody tr th:only-of-type {\n",
       "        vertical-align: middle;\n",
       "    }\n",
       "\n",
       "    .dataframe tbody tr th {\n",
       "        vertical-align: top;\n",
       "    }\n",
       "\n",
       "    .dataframe thead th {\n",
       "        text-align: right;\n",
       "    }\n",
       "</style>\n",
       "<table border=\"1\" class=\"dataframe\">\n",
       "  <thead>\n",
       "    <tr style=\"text-align: right;\">\n",
       "      <th></th>\n",
       "      <th>Actual Inbound</th>\n",
       "      <th>Actual Outbound</th>\n",
       "      <th>Actual Inventory</th>\n",
       "      <th>Adjusted Inventory</th>\n",
       "      <th>Adjusted Outbound</th>\n",
       "      <th>Capacity</th>\n",
       "      <th>Overflow</th>\n",
       "    </tr>\n",
       "  </thead>\n",
       "  <tbody>\n",
       "    <tr>\n",
       "      <th>10</th>\n",
       "      <td>4344.75</td>\n",
       "      <td>14412.775</td>\n",
       "      <td>42667.825</td>\n",
       "      <td>40000.843750</td>\n",
       "      <td>12782.512065</td>\n",
       "      <td>53500.0</td>\n",
       "      <td>False</td>\n",
       "    </tr>\n",
       "    <tr>\n",
       "      <th>11</th>\n",
       "      <td>540.00</td>\n",
       "      <td>11252.095</td>\n",
       "      <td>57287.175</td>\n",
       "      <td>35476.148438</td>\n",
       "      <td>12004.275329</td>\n",
       "      <td>48000.0</td>\n",
       "      <td>False</td>\n",
       "    </tr>\n",
       "    <tr>\n",
       "      <th>12</th>\n",
       "      <td>15000.00</td>\n",
       "      <td>14500.000</td>\n",
       "      <td>52000.000</td>\n",
       "      <td>40000.000000</td>\n",
       "      <td>13000.000000</td>\n",
       "      <td>53500.0</td>\n",
       "      <td>False</td>\n",
       "    </tr>\n",
       "    <tr>\n",
       "      <th>13</th>\n",
       "      <td>24000.00</td>\n",
       "      <td>15000.000</td>\n",
       "      <td>60000.000</td>\n",
       "      <td>58000.000000</td>\n",
       "      <td>15500.000000</td>\n",
       "      <td>53500.0</td>\n",
       "      <td>False</td>\n",
       "    </tr>\n",
       "    <tr>\n",
       "      <th>14</th>\n",
       "      <td>40000.00</td>\n",
       "      <td>14000.000</td>\n",
       "      <td>80000.000</td>\n",
       "      <td>36000.000000</td>\n",
       "      <td>13500.000000</td>\n",
       "      <td>52000.0</td>\n",
       "      <td>False</td>\n",
       "    </tr>\n",
       "  </tbody>\n",
       "</table>\n",
       "</div>"
      ],
      "text/plain": [
       "    Actual Inbound  Actual Outbound  Actual Inventory  Adjusted Inventory  \\\n",
       "10         4344.75        14412.775         42667.825        40000.843750   \n",
       "11          540.00        11252.095         57287.175        35476.148438   \n",
       "12        15000.00        14500.000         52000.000        40000.000000   \n",
       "13        24000.00        15000.000         60000.000        58000.000000   \n",
       "14        40000.00        14000.000         80000.000        36000.000000   \n",
       "\n",
       "    Adjusted Outbound  Capacity  Overflow  \n",
       "10       12782.512065   53500.0     False  \n",
       "11       12004.275329   48000.0     False  \n",
       "12       13000.000000   53500.0     False  \n",
       "13       15500.000000   53500.0     False  \n",
       "14       13500.000000   52000.0     False  "
      ]
     },
     "execution_count": 875,
     "metadata": {},
     "output_type": "execute_result"
    }
   ],
   "source": [
    "new_records = [\n",
    "    [15000.0, 14500.0, 52000.0, 40000.0, 13000.0, 53500.0, False],\n",
    "    [24000.0, 15000.0, 60000.0, 58000.0, 15500.0, 53500.0, False],\n",
    "    [40000.0, 14000.0, 80000.0, 36000.0, 13500.0, 52000.0, False]\n",
    "]\n",
    "\n",
    "columns = ['Actual Inbound', 'Actual Outbound', 'Actual Inventory',\n",
    "           'Adjusted Inventory', 'Adjusted Outbound', 'Capacity', 'Overflow']\n",
    "\n",
    "new_df = pd.DataFrame(new_records, columns=columns)\n",
    "optimize = pd.concat([optimize, new_df], ignore_index=True)\n",
    "\n",
    "# ดูผลลัพธ์ล่าสุด\n",
    "optimize.tail(5)\n",
    "\n",
    "\n"
   ]
  },
  {
   "cell_type": "markdown",
   "id": "d70736c9",
   "metadata": {},
   "source": [
    "### ---**You Can Append New Records to the `optimize` DataFrame**---"
   ]
  },
  {
   "cell_type": "markdown",
   "id": "0d45850f",
   "metadata": {},
   "source": [
    "## **Optimization Model Function: Backtesting on Historical Data**"
   ]
  },
  {
   "cell_type": "markdown",
   "id": "b0364b4e",
   "metadata": {},
   "source": [
    "- **Define a Function that applies the optimization logic using historical data to verify model correctness, behavior, and feasibility before applying to future scenarios.**"
   ]
  },
  {
   "cell_type": "code",
   "execution_count": null,
   "id": "ee9f8152",
   "metadata": {},
   "outputs": [],
   "source": [
    "def run_optimization(optimize):\n",
    "    model = LpProblem(\"Inventory_Optimization\", LpMinimize)\n",
    "    n = len(optimize)\n",
    "\n",
    "    inbound_vars = [LpVariable(f\"Inbound_{i}\", lowBound=0, cat=LpContinuous) for i in range(n)]\n",
    "    outbound_vars = [LpVariable(f\"Outbound_{i}\", lowBound=0, cat=LpContinuous) for i in range(n)]\n",
    "    inventory_vars = [LpVariable(f\"Inventory_{i}\", lowBound=0, cat=LpContinuous) for i in range(n)]\n",
    "    overflow_vars = [LpVariable(f\"Overflow_{i}\", lowBound=0, cat=LpContinuous) for i in range(n)]\n",
    "    understock_vars = [LpVariable(f\"Understock_{i}\", lowBound=0, cat=LpContinuous) for i in range(n)]\n",
    "\n",
    "    capacity = optimize['Capacity'].values\n",
    "    adjusted_outbound = optimize['Actual Outbound'].values\n",
    "    cap_70 = 0.7 * capacity\n",
    "    cap_80 = 0.8 * capacity\n",
    "\n",
    "    # Objective: penalize overflow and understock, reward outbound\n",
    "    model += (\n",
    "        lpSum(overflow_vars) * 1 +\n",
    "        lpSum(understock_vars) * 1 -\n",
    "        lpSum(outbound_vars)\n",
    "    )\n",
    "\n",
    "    for i in range(n):\n",
    "        if i == 0:\n",
    "            model += inventory_vars[i] == optimize['Actual Inventory'].iloc[0] + inbound_vars[i] - outbound_vars[i]\n",
    "        else:\n",
    "            model += inventory_vars[i] == inventory_vars[i - 1] + inbound_vars[i] - outbound_vars[i]\n",
    "\n",
    "        model += outbound_vars[i] <= adjusted_outbound[i]\n",
    "        model += inbound_vars[i] >= 5  # MOQ\n",
    "\n",
    "        # Tight overflow/understock constraints\n",
    "        model += overflow_vars[i] >= inventory_vars[i] - cap_80[i]\n",
    "        model += understock_vars[i] >= cap_70[i] - inventory_vars[i]\n",
    "        model += overflow_vars[i] >= 0\n",
    "        model += understock_vars[i] >= 0\n",
    "\n",
    "    model.solve()\n",
    "\n",
    "    optimize['Optimized Inbound'] = [inbound_vars[i].varValue for i in range(n)]\n",
    "    optimize['Optimized Outbound'] = [outbound_vars[i].varValue for i in range(n)]\n",
    "    optimize['Optimized Inventory'] = [inventory_vars[i].varValue for i in range(n)]\n",
    "    optimize['Overflow'] = [overflow_vars[i].varValue for i in range(n)]\n",
    "    optimize['Understock'] = [understock_vars[i].varValue for i in range(n)]\n",
    "    optimize['Cap_70'] = cap_70\n",
    "    optimize['Cap_80'] = cap_80\n",
    "\n",
    "    return optimize\n"
   ]
  },
  {
   "cell_type": "code",
   "execution_count": 877,
   "id": "1f27bdb4",
   "metadata": {},
   "outputs": [],
   "source": [
    "opt_head_9 = optimize.head(9).copy()"
   ]
  },
  {
   "cell_type": "code",
   "execution_count": 878,
   "id": "f0680217",
   "metadata": {},
   "outputs": [],
   "source": [
    "opt_head_9 = run_optimization(opt_head_9)\n",
    "opt_head_9['Cap_70'] = opt_head_9['Capacity'] * 0.70\n",
    "opt_head_9['Cap_80'] = opt_head_9['Capacity'] * 0.80"
   ]
  },
  {
   "cell_type": "code",
   "execution_count": 896,
   "id": "8e51830b",
   "metadata": {},
   "outputs": [
    {
     "data": {
      "image/png": "[encoded data removed]",
      "text/plain": [
       "<Figure size 1400x600 with 1 Axes>"
      ]
     },
     "metadata": {},
     "output_type": "display_data"
    }
   ],
   "source": [
    "opt_head_9 = opt_head_9.sort_index()\n",
    "x1 = opt_head_9.index\n",
    "month_labels = df.loc[x1, 'month'].dt.strftime('%b-%Y').values\n",
    "plt.figure(figsize=(14,6))\n",
    "\n",
    "plt.plot(x1, opt_head_9['Actual Inventory'], label='Actual Inventory', color='green', marker='o')\n",
    "plt.plot(x1, opt_head_9['Optimized Inventory'], label='Optimized Inventory', color='blue', marker='^')\n",
    "plt.plot(x1, opt_head_9['Optimized Inbound'], label='Optimized Inbound', color='orange', marker='s')\n",
    "plt.plot(x1, opt_head_9['Actual Outbound'], label='Actual Outbound', color='purple', marker='x' )\n",
    "plt.plot(x1, opt_head_9['Capacity'], label='Capacity', color='red', linestyle='--')\n",
    "plt.plot(x1, opt_head_9['Cap_70'], label='Cap 70%', color='gray', linestyle='--')\n",
    "plt.plot(x1, opt_head_9['Cap_80'], label='Cap 80%', color='gray', linestyle='--')\n",
    "\n",
    "plt.title('Inventory & Inbound vs Capacity (First 9 Months)')\n",
    "plt.xlabel('Month Index')\n",
    "plt.ylabel('Quantity (KT)')\n",
    "plt.legend()\n",
    "plt.grid(True, linestyle='--', alpha=0.5)\n",
    "plt.xticks(x1, month_labels, rotation=45)\n",
    "plt.tight_layout()\n",
    "plt.show()"
   ]
  },
  {
   "cell_type": "markdown",
   "id": "93d2bcf7",
   "metadata": {},
   "source": [
    "---"
   ]
  },
  {
   "cell_type": "markdown",
   "id": "5cc463e2",
   "metadata": {},
   "source": [
    "## **Build a New Optimization Function for `pred_data`**"
   ]
  },
  {
   "cell_type": "markdown",
   "id": "eec3c8b0",
   "metadata": {},
   "source": [
    "- **Construct a new optimization function that applies the same logic as the previous model, adapted to handle `pred_data` (forecasted or incoming new data).**"
   ]
  },
  {
   "cell_type": "code",
   "execution_count": null,
   "id": "541591d9",
   "metadata": {},
   "outputs": [],
   "source": [
    "def run_forecast_optimization(df_forecast, last_inventory, fixed_inbound_dict=None):\n",
    "    n = len(df_forecast)\n",
    "\n",
    "    model = LpProblem(\"Inventory_Optimization\", LpMinimize)\n",
    "\n",
    "    # Variables\n",
    "    inbound_vars = [LpVariable(f\"Inbound_{i}\", lowBound=0, cat=LpContinuous) for i in range(n)]\n",
    "    outbound_vars = [LpVariable(f\"Outbound_{i}\", lowBound=0, cat=LpContinuous) for i in range(n)]\n",
    "    inventory_vars = [LpVariable(f\"Inventory_{i}\", lowBound=0, cat=LpContinuous) for i in range(n)]\n",
    "    overflow_vars = [LpVariable(f\"Overflow_{i}\", lowBound=0, cat=LpContinuous) for i in range(n)]\n",
    "    understock_vars = [LpVariable(f\"Understock_{i}\", lowBound=0, cat=LpContinuous) for i in range(n)]\n",
    "\n",
    "    # Parameters\n",
    "    adjusted_outbound = df_forecast['Adjusted Outbound'].values\n",
    "    capacity = df_forecast['Capacity'].values\n",
    "\n",
    "    cap_80 = 0.8 * capacity\n",
    "    cap_70 = 0.7 * capacity\n",
    "\n",
    "    # Inventory balance constraint\n",
    "    for i in range(n):\n",
    "        if i == 0:\n",
    "            model += inventory_vars[i] == last_inventory + inbound_vars[i] - outbound_vars[i]\n",
    "        else:\n",
    "            model += inventory_vars[i] == inventory_vars[i-1] + inbound_vars[i] - outbound_vars[i]\n",
    "\n",
    "    # Fix inbound where known (if fixed_inbound_dict is provided)\n",
    "    if fixed_inbound_dict:\n",
    "        for relative_idx, value in fixed_inbound_dict.items():\n",
    "            if 0 <= relative_idx < n:\n",
    "                model += inbound_vars[relative_idx] == value\n",
    "\n",
    "    # Outbound constraints\n",
    "    for i in range(n):\n",
    "        model += outbound_vars[i] <= adjusted_outbound[i]\n",
    "        model += inbound_vars[i] >= 0  # Min inbound\n",
    "\n",
    "    # Overflow & understock constraints\n",
    "    for i in range(n):\n",
    "        model += overflow_vars[i] >= inventory_vars[i] - cap_80[i]\n",
    "        model += overflow_vars[i] >= 0\n",
    "        model += understock_vars[i] >= cap_70[i] - inventory_vars[i]\n",
    "        model += understock_vars[i] >= 0\n",
    "\n",
    "    # Objective\n",
    "    model += -lpSum(outbound_vars) + lpSum(overflow_vars) * 1.5 + lpSum(understock_vars) * 0.5\n",
    "\n",
    "    model.solve()\n",
    "\n",
    "    # Results\n",
    "    df_result = df_forecast.copy()\n",
    "    df_result['Optimized Inbound'] = [v.value() for v in inbound_vars]\n",
    "    df_result['Optimized Outbound'] = [v.value() for v in outbound_vars]\n",
    "    df_result['Optimized Inventory'] = [v.value() for v in inventory_vars]\n",
    "    df_result['Overflow'] = [v.value() for v in overflow_vars]\n",
    "    df_result['Understock'] = [v.value() for v in understock_vars]\n",
    "    df_result['Cap_70'] = cap_70\n",
    "    df_result['Cap_80'] = cap_80\n",
    "\n",
    "    return df_result"
   ]
  },
  {
   "cell_type": "code",
   "execution_count": 881,
   "id": "12ca8c88",
   "metadata": {},
   "outputs": [
    {
     "data": {
      "text/html": [
       "<div>\n",
       "<style scoped>\n",
       "    .dataframe tbody tr th:only-of-type {\n",
       "        vertical-align: middle;\n",
       "    }\n",
       "\n",
       "    .dataframe tbody tr th {\n",
       "        vertical-align: top;\n",
       "    }\n",
       "\n",
       "    .dataframe thead th {\n",
       "        text-align: right;\n",
       "    }\n",
       "</style>\n",
       "<table border=\"1\" class=\"dataframe\">\n",
       "  <thead>\n",
       "    <tr style=\"text-align: right;\">\n",
       "      <th></th>\n",
       "      <th>Actual Inbound</th>\n",
       "      <th>Actual Outbound</th>\n",
       "      <th>Actual Inventory</th>\n",
       "      <th>Adjusted Inventory</th>\n",
       "      <th>Adjusted Outbound</th>\n",
       "      <th>Capacity</th>\n",
       "      <th>Overflow</th>\n",
       "    </tr>\n",
       "  </thead>\n",
       "  <tbody>\n",
       "    <tr>\n",
       "      <th>1</th>\n",
       "      <td>6867.000</td>\n",
       "      <td>8030.355</td>\n",
       "      <td>40213.850</td>\n",
       "      <td>40000.843750</td>\n",
       "      <td>10366.865236</td>\n",
       "      <td>53500.0</td>\n",
       "      <td>False</td>\n",
       "    </tr>\n",
       "    <tr>\n",
       "      <th>2</th>\n",
       "      <td>7128.995</td>\n",
       "      <td>10046.795</td>\n",
       "      <td>36465.800</td>\n",
       "      <td>36653.246094</td>\n",
       "      <td>11064.165351</td>\n",
       "      <td>53500.0</td>\n",
       "      <td>False</td>\n",
       "    </tr>\n",
       "    <tr>\n",
       "      <th>3</th>\n",
       "      <td>15858.001</td>\n",
       "      <td>11107.855</td>\n",
       "      <td>34938.300</td>\n",
       "      <td>35476.148438</td>\n",
       "      <td>10569.206787</td>\n",
       "      <td>53500.0</td>\n",
       "      <td>False</td>\n",
       "    </tr>\n",
       "    <tr>\n",
       "      <th>4</th>\n",
       "      <td>14027.350</td>\n",
       "      <td>8797.185</td>\n",
       "      <td>34619.875</td>\n",
       "      <td>35476.148438</td>\n",
       "      <td>9996.424549</td>\n",
       "      <td>53500.0</td>\n",
       "      <td>False</td>\n",
       "    </tr>\n",
       "    <tr>\n",
       "      <th>5</th>\n",
       "      <td>12248.625</td>\n",
       "      <td>10501.950</td>\n",
       "      <td>35428.425</td>\n",
       "      <td>35701.753906</td>\n",
       "      <td>10998.793465</td>\n",
       "      <td>53500.0</td>\n",
       "      <td>False</td>\n",
       "    </tr>\n",
       "    <tr>\n",
       "      <th>6</th>\n",
       "      <td>6233.500</td>\n",
       "      <td>12455.665</td>\n",
       "      <td>40010.550</td>\n",
       "      <td>40208.191406</td>\n",
       "      <td>10594.110363</td>\n",
       "      <td>53500.0</td>\n",
       "      <td>False</td>\n",
       "    </tr>\n",
       "    <tr>\n",
       "      <th>7</th>\n",
       "      <td>8659.000</td>\n",
       "      <td>12305.930</td>\n",
       "      <td>44052.125</td>\n",
       "      <td>42692.984375</td>\n",
       "      <td>11198.022070</td>\n",
       "      <td>53500.0</td>\n",
       "      <td>False</td>\n",
       "    </tr>\n",
       "    <tr>\n",
       "      <th>8</th>\n",
       "      <td>15971.750</td>\n",
       "      <td>13300.645</td>\n",
       "      <td>41428.880</td>\n",
       "      <td>41709.121094</td>\n",
       "      <td>11182.457335</td>\n",
       "      <td>53500.0</td>\n",
       "      <td>False</td>\n",
       "    </tr>\n",
       "    <tr>\n",
       "      <th>9</th>\n",
       "      <td>10510.625</td>\n",
       "      <td>12277.775</td>\n",
       "      <td>43000.974</td>\n",
       "      <td>42175.953125</td>\n",
       "      <td>12854.109844</td>\n",
       "      <td>53500.0</td>\n",
       "      <td>False</td>\n",
       "    </tr>\n",
       "    <tr>\n",
       "      <th>10</th>\n",
       "      <td>9600.750</td>\n",
       "      <td>15154.065</td>\n",
       "      <td>42749.300</td>\n",
       "      <td>41709.121094</td>\n",
       "      <td>14186.451137</td>\n",
       "      <td>53500.0</td>\n",
       "      <td>False</td>\n",
       "    </tr>\n",
       "    <tr>\n",
       "      <th>11</th>\n",
       "      <td>4344.750</td>\n",
       "      <td>14412.775</td>\n",
       "      <td>42667.825</td>\n",
       "      <td>40000.843750</td>\n",
       "      <td>12782.512065</td>\n",
       "      <td>53500.0</td>\n",
       "      <td>False</td>\n",
       "    </tr>\n",
       "    <tr>\n",
       "      <th>12</th>\n",
       "      <td>540.000</td>\n",
       "      <td>11252.095</td>\n",
       "      <td>57287.175</td>\n",
       "      <td>35476.148438</td>\n",
       "      <td>12004.275329</td>\n",
       "      <td>48000.0</td>\n",
       "      <td>False</td>\n",
       "    </tr>\n",
       "    <tr>\n",
       "      <th>13</th>\n",
       "      <td>15000.000</td>\n",
       "      <td>14500.000</td>\n",
       "      <td>52000.000</td>\n",
       "      <td>40000.000000</td>\n",
       "      <td>13000.000000</td>\n",
       "      <td>53500.0</td>\n",
       "      <td>False</td>\n",
       "    </tr>\n",
       "    <tr>\n",
       "      <th>14</th>\n",
       "      <td>24000.000</td>\n",
       "      <td>15000.000</td>\n",
       "      <td>60000.000</td>\n",
       "      <td>58000.000000</td>\n",
       "      <td>15500.000000</td>\n",
       "      <td>53500.0</td>\n",
       "      <td>False</td>\n",
       "    </tr>\n",
       "    <tr>\n",
       "      <th>15</th>\n",
       "      <td>40000.000</td>\n",
       "      <td>14000.000</td>\n",
       "      <td>80000.000</td>\n",
       "      <td>36000.000000</td>\n",
       "      <td>13500.000000</td>\n",
       "      <td>52000.0</td>\n",
       "      <td>False</td>\n",
       "    </tr>\n",
       "  </tbody>\n",
       "</table>\n",
       "</div>"
      ],
      "text/plain": [
       "    Actual Inbound  Actual Outbound  Actual Inventory  Adjusted Inventory  \\\n",
       "1         6867.000         8030.355         40213.850        40000.843750   \n",
       "2         7128.995        10046.795         36465.800        36653.246094   \n",
       "3        15858.001        11107.855         34938.300        35476.148438   \n",
       "4        14027.350         8797.185         34619.875        35476.148438   \n",
       "5        12248.625        10501.950         35428.425        35701.753906   \n",
       "6         6233.500        12455.665         40010.550        40208.191406   \n",
       "7         8659.000        12305.930         44052.125        42692.984375   \n",
       "8        15971.750        13300.645         41428.880        41709.121094   \n",
       "9        10510.625        12277.775         43000.974        42175.953125   \n",
       "10        9600.750        15154.065         42749.300        41709.121094   \n",
       "11        4344.750        14412.775         42667.825        40000.843750   \n",
       "12         540.000        11252.095         57287.175        35476.148438   \n",
       "13       15000.000        14500.000         52000.000        40000.000000   \n",
       "14       24000.000        15000.000         60000.000        58000.000000   \n",
       "15       40000.000        14000.000         80000.000        36000.000000   \n",
       "\n",
       "    Adjusted Outbound  Capacity  Overflow  \n",
       "1        10366.865236   53500.0     False  \n",
       "2        11064.165351   53500.0     False  \n",
       "3        10569.206787   53500.0     False  \n",
       "4         9996.424549   53500.0     False  \n",
       "5        10998.793465   53500.0     False  \n",
       "6        10594.110363   53500.0     False  \n",
       "7        11198.022070   53500.0     False  \n",
       "8        11182.457335   53500.0     False  \n",
       "9        12854.109844   53500.0     False  \n",
       "10       14186.451137   53500.0     False  \n",
       "11       12782.512065   53500.0     False  \n",
       "12       12004.275329   48000.0     False  \n",
       "13       13000.000000   53500.0     False  \n",
       "14       15500.000000   53500.0     False  \n",
       "15       13500.000000   52000.0     False  "
      ]
     },
     "execution_count": 881,
     "metadata": {},
     "output_type": "execute_result"
    }
   ],
   "source": [
    "optimize.index = optimize.index + 1\n",
    "optimize"
   ]
  },
  {
   "cell_type": "markdown",
   "id": "c2fc9c6f",
   "metadata": {},
   "source": [
    "### **Initial Target for the New Optimization Model: `optimize.iloc[-3:]` (Last 3 Records)**"
   ]
  },
  {
   "cell_type": "code",
   "execution_count": 882,
   "id": "55d7d851",
   "metadata": {},
   "outputs": [],
   "source": [
    "# optimizefornew = optimize[['Adjusted Outbound', 'Capacity', 'Actual Inventory']]"
   ]
  },
  {
   "cell_type": "code",
   "execution_count": 883,
   "id": "25ed4457",
   "metadata": {},
   "outputs": [],
   "source": [
    "# opt_last3 = optimizefornew.iloc[-3:].copy()\n",
    "# opt_last3 = optimize.iloc[-3:].copy()\n",
    "opt_last3 = optimize.iloc[-3:].copy()"
   ]
  },
  {
   "cell_type": "code",
   "execution_count": 884,
   "id": "452fe011",
   "metadata": {},
   "outputs": [
    {
     "data": {
      "text/html": [
       "<div>\n",
       "<style scoped>\n",
       "    .dataframe tbody tr th:only-of-type {\n",
       "        vertical-align: middle;\n",
       "    }\n",
       "\n",
       "    .dataframe tbody tr th {\n",
       "        vertical-align: top;\n",
       "    }\n",
       "\n",
       "    .dataframe thead th {\n",
       "        text-align: right;\n",
       "    }\n",
       "</style>\n",
       "<table border=\"1\" class=\"dataframe\">\n",
       "  <thead>\n",
       "    <tr style=\"text-align: right;\">\n",
       "      <th></th>\n",
       "      <th>Actual Inbound</th>\n",
       "      <th>Actual Outbound</th>\n",
       "      <th>Actual Inventory</th>\n",
       "      <th>Adjusted Inventory</th>\n",
       "      <th>Adjusted Outbound</th>\n",
       "      <th>Capacity</th>\n",
       "      <th>Overflow</th>\n",
       "    </tr>\n",
       "  </thead>\n",
       "  <tbody>\n",
       "    <tr>\n",
       "      <th>13</th>\n",
       "      <td>15000.0</td>\n",
       "      <td>14500.0</td>\n",
       "      <td>52000.0</td>\n",
       "      <td>40000.0</td>\n",
       "      <td>13000.0</td>\n",
       "      <td>53500.0</td>\n",
       "      <td>False</td>\n",
       "    </tr>\n",
       "    <tr>\n",
       "      <th>14</th>\n",
       "      <td>24000.0</td>\n",
       "      <td>15000.0</td>\n",
       "      <td>60000.0</td>\n",
       "      <td>58000.0</td>\n",
       "      <td>15500.0</td>\n",
       "      <td>53500.0</td>\n",
       "      <td>False</td>\n",
       "    </tr>\n",
       "    <tr>\n",
       "      <th>15</th>\n",
       "      <td>40000.0</td>\n",
       "      <td>14000.0</td>\n",
       "      <td>80000.0</td>\n",
       "      <td>36000.0</td>\n",
       "      <td>13500.0</td>\n",
       "      <td>52000.0</td>\n",
       "      <td>False</td>\n",
       "    </tr>\n",
       "  </tbody>\n",
       "</table>\n",
       "</div>"
      ],
      "text/plain": [
       "    Actual Inbound  Actual Outbound  Actual Inventory  Adjusted Inventory  \\\n",
       "13         15000.0          14500.0           52000.0             40000.0   \n",
       "14         24000.0          15000.0           60000.0             58000.0   \n",
       "15         40000.0          14000.0           80000.0             36000.0   \n",
       "\n",
       "    Adjusted Outbound  Capacity  Overflow  \n",
       "13            13000.0   53500.0     False  \n",
       "14            15500.0   53500.0     False  \n",
       "15            13500.0   52000.0     False  "
      ]
     },
     "execution_count": 884,
     "metadata": {},
     "output_type": "execute_result"
    }
   ],
   "source": [
    "opt_last3"
   ]
  },
  {
   "cell_type": "markdown",
   "id": "351a2987",
   "metadata": {},
   "source": [
    "- **The latest inventory value is a key input to the optimization model, as all calculations are anchored from this current stock level.**"
   ]
  },
  {
   "cell_type": "code",
   "execution_count": 885,
   "id": "933432a4",
   "metadata": {},
   "outputs": [
    {
     "data": {
      "text/plain": [
       "57287.175"
      ]
     },
     "execution_count": 885,
     "metadata": {},
     "output_type": "execute_result"
    }
   ],
   "source": [
    "opt_start_idx = opt_last3.index[0] \n",
    "last_inventory = optimize.loc[opt_start_idx - 1, 'Actual Inventory']\n",
    "last_inventory"
   ]
  },
  {
   "cell_type": "code",
   "execution_count": 886,
   "id": "04859b42",
   "metadata": {},
   "outputs": [],
   "source": [
    "# opt_last3 = opt_last3.iloc[2:]"
   ]
  },
  {
   "cell_type": "code",
   "execution_count": 887,
   "id": "119142c4",
   "metadata": {},
   "outputs": [],
   "source": [
    "fixed_inbound_dict = {\n",
    "    0: optimize.loc[opt_start_idx, 'Actual Inbound'],       # เดือน 10\n",
    "    1: optimize.loc[opt_start_idx + 1, 'Actual Inbound'],   # เดือน 11\n",
    "}"
   ]
  },
  {
   "cell_type": "markdown",
   "id": "c5c69ac7",
   "metadata": {},
   "source": [
    "🔁 การทำให้ rolling ใช้ได้เสมอ:\n",
    "ทุกเดือนคุณจะ:\n",
    "\n",
    "fix inbound ที่รู้แน่แล้ว (lead time ผ่านไปแล้ว)\n",
    "\n",
    "คำนวณ inventory ล่าสุด\n",
    "\n",
    "optimize เฉพาะเดือนที่ยังไม่ถูกสั่ง inbound"
   ]
  },
  {
   "cell_type": "code",
   "execution_count": 888,
   "id": "06d2ebbf",
   "metadata": {},
   "outputs": [],
   "source": [
    "opt_last3 = run_forecast_optimization(opt_last3, last_inventory, fixed_inbound_dict=fixed_inbound_dict)\n",
    "opt_last3 = opt_last3.sort_index()"
   ]
  },
  {
   "cell_type": "code",
   "execution_count": 889,
   "id": "7acc88df",
   "metadata": {},
   "outputs": [
    {
     "data": {
      "text/html": [
       "<div>\n",
       "<style scoped>\n",
       "    .dataframe tbody tr th:only-of-type {\n",
       "        vertical-align: middle;\n",
       "    }\n",
       "\n",
       "    .dataframe tbody tr th {\n",
       "        vertical-align: top;\n",
       "    }\n",
       "\n",
       "    .dataframe thead th {\n",
       "        text-align: right;\n",
       "    }\n",
       "</style>\n",
       "<table border=\"1\" class=\"dataframe\">\n",
       "  <thead>\n",
       "    <tr style=\"text-align: right;\">\n",
       "      <th></th>\n",
       "      <th>Actual Inbound</th>\n",
       "      <th>Actual Outbound</th>\n",
       "      <th>Actual Inventory</th>\n",
       "      <th>Adjusted Inventory</th>\n",
       "      <th>Adjusted Outbound</th>\n",
       "      <th>Capacity</th>\n",
       "      <th>Overflow</th>\n",
       "      <th>Optimized Inbound</th>\n",
       "      <th>Optimized Outbound</th>\n",
       "      <th>Optimized Inventory</th>\n",
       "      <th>Understock</th>\n",
       "      <th>Cap_70</th>\n",
       "      <th>Cap_80</th>\n",
       "    </tr>\n",
       "  </thead>\n",
       "  <tbody>\n",
       "    <tr>\n",
       "      <th>13</th>\n",
       "      <td>15000.0</td>\n",
       "      <td>14500.0</td>\n",
       "      <td>52000.0</td>\n",
       "      <td>40000.0</td>\n",
       "      <td>13000.0</td>\n",
       "      <td>53500.0</td>\n",
       "      <td>16487.175</td>\n",
       "      <td>15000.0</td>\n",
       "      <td>13000.0</td>\n",
       "      <td>59287.175</td>\n",
       "      <td>0.0</td>\n",
       "      <td>37450.0</td>\n",
       "      <td>42800.0</td>\n",
       "    </tr>\n",
       "    <tr>\n",
       "      <th>14</th>\n",
       "      <td>24000.0</td>\n",
       "      <td>15000.0</td>\n",
       "      <td>60000.0</td>\n",
       "      <td>58000.0</td>\n",
       "      <td>15500.0</td>\n",
       "      <td>53500.0</td>\n",
       "      <td>24987.175</td>\n",
       "      <td>24000.0</td>\n",
       "      <td>15500.0</td>\n",
       "      <td>67787.175</td>\n",
       "      <td>0.0</td>\n",
       "      <td>37450.0</td>\n",
       "      <td>42800.0</td>\n",
       "    </tr>\n",
       "    <tr>\n",
       "      <th>15</th>\n",
       "      <td>40000.0</td>\n",
       "      <td>14000.0</td>\n",
       "      <td>80000.0</td>\n",
       "      <td>36000.0</td>\n",
       "      <td>13500.0</td>\n",
       "      <td>52000.0</td>\n",
       "      <td>12692.175</td>\n",
       "      <td>5.0</td>\n",
       "      <td>13500.0</td>\n",
       "      <td>54292.175</td>\n",
       "      <td>0.0</td>\n",
       "      <td>36400.0</td>\n",
       "      <td>41600.0</td>\n",
       "    </tr>\n",
       "  </tbody>\n",
       "</table>\n",
       "</div>"
      ],
      "text/plain": [
       "    Actual Inbound  Actual Outbound  Actual Inventory  Adjusted Inventory  \\\n",
       "13         15000.0          14500.0           52000.0             40000.0   \n",
       "14         24000.0          15000.0           60000.0             58000.0   \n",
       "15         40000.0          14000.0           80000.0             36000.0   \n",
       "\n",
       "    Adjusted Outbound  Capacity   Overflow  Optimized Inbound  \\\n",
       "13            13000.0   53500.0  16487.175            15000.0   \n",
       "14            15500.0   53500.0  24987.175            24000.0   \n",
       "15            13500.0   52000.0  12692.175                5.0   \n",
       "\n",
       "    Optimized Outbound  Optimized Inventory  Understock   Cap_70   Cap_80  \n",
       "13             13000.0            59287.175         0.0  37450.0  42800.0  \n",
       "14             15500.0            67787.175         0.0  37450.0  42800.0  \n",
       "15             13500.0            54292.175         0.0  36400.0  41600.0  "
      ]
     },
     "execution_count": 889,
     "metadata": {},
     "output_type": "execute_result"
    }
   ],
   "source": [
    "opt_last3"
   ]
  },
  {
   "cell_type": "code",
   "execution_count": 890,
   "id": "b7c6fa12",
   "metadata": {},
   "outputs": [
    {
     "data": {
      "image/png": "[encoded data removed]",
      "text/plain": [
       "<Figure size 1400x600 with 1 Axes>"
      ]
     },
     "metadata": {},
     "output_type": "display_data"
    }
   ],
   "source": [
    "x = opt_last3.index\n",
    "y_inbound = opt_last3['Optimized Inbound']\n",
    "\n",
    "plt.figure(figsize=(14,6))\n",
    "\n",
    "# เส้นหลัก Optimized Inbound\n",
    "plt.plot(x, y_inbound, label='Optimized Inbound', color='orange', marker='s')\n",
    "\n",
    "# จุดสุดท้าย (เด่นๆ)\n",
    "last_x = x[-1]\n",
    "last_y = y_inbound.iloc[-1]\n",
    "\n",
    "plt.scatter(\n",
    "    last_x, last_y,\n",
    "    color='limegreen',       # สีเขียวเด่น\n",
    "    s=200,                   # ขนาดใหญ่\n",
    "    edgecolors='black',      # ขอบดำ\n",
    "    linewidths=2,\n",
    "    zorder=10,               # ให้อยู่บนสุด\n",
    "    label='Final Optimized Inbound'\n",
    ")\n",
    "\n",
    "# เพิ่ม Annotation\n",
    "# plt.annotate(\n",
    "#     f'Final: {last_y:.0f}',\n",
    "#     xy=(last_x, last_y),\n",
    "#     xytext=(last_x, last_y + 60),  # ปรับระยะห่างข้อความ\n",
    "#     fontsize=11,\n",
    "#     color='green',\n",
    "#     weight='bold',\n",
    "#     arrowprops=dict(\n",
    "#         facecolor='limegreen',\n",
    "#         edgecolor='black',\n",
    "#         arrowstyle='->',\n",
    "#         lw=2\n",
    "#     )\n",
    "# )\n",
    "\n",
    "# เส้นอื่น ๆ\n",
    "plt.plot(x, opt_last3['Optimized Inventory'], label='Inventory', color='blue', marker='^')\n",
    "plt.plot(x, opt_last3['Capacity'], label='Capacity', color='red', linestyle='--')\n",
    "plt.plot(x, opt_last3['Cap_70'], label='70% Capacity', color='gray', linestyle=':')\n",
    "plt.plot(x, opt_last3['Cap_80'], label='80% Capacity', color='gray', linestyle=':')\n",
    "plt.plot(x, opt_last3['Adjusted Outbound'], label='Adjusted Outbound', color='purple', marker='x')\n",
    "# plt.plot(x, opt_last3['Optimized Outbound'], label='Optimized Outbound', color='brown', marker='D')\n",
    "\n",
    "# รูปแบบกราฟ\n",
    "plt.title('Inventory & Inbound vs Capacity (Last 3 periods)', fontsize=14)\n",
    "plt.xlabel('Time')\n",
    "plt.ylabel('Volume')\n",
    "plt.legend()\n",
    "plt.grid(True, linestyle='--', alpha=0.5)\n",
    "plt.xticks(x, x, rotation=45)\n",
    "plt.tight_layout()\n",
    "plt.show()\n"
   ]
  },
  {
   "cell_type": "code",
   "execution_count": 891,
   "id": "248de7ff",
   "metadata": {},
   "outputs": [],
   "source": [
    "combined_df = pd.concat([opt_head_9, opt_last3], ignore_index=True)"
   ]
  },
  {
   "cell_type": "code",
   "execution_count": 892,
   "id": "4c82ea3e",
   "metadata": {},
   "outputs": [],
   "source": [
    "# combined_df.to_csv('optim_singapore.csv', index=False, encoding='utf-8-sig')"
   ]
  },
  {
   "cell_type": "code",
   "execution_count": 893,
   "id": "fab427b3",
   "metadata": {},
   "outputs": [
    {
     "data": {
      "text/html": [
       "<div>\n",
       "<style scoped>\n",
       "    .dataframe tbody tr th:only-of-type {\n",
       "        vertical-align: middle;\n",
       "    }\n",
       "\n",
       "    .dataframe tbody tr th {\n",
       "        vertical-align: top;\n",
       "    }\n",
       "\n",
       "    .dataframe thead th {\n",
       "        text-align: right;\n",
       "    }\n",
       "</style>\n",
       "<table border=\"1\" class=\"dataframe\">\n",
       "  <thead>\n",
       "    <tr style=\"text-align: right;\">\n",
       "      <th></th>\n",
       "      <th>Actual Inbound</th>\n",
       "      <th>Actual Outbound</th>\n",
       "      <th>Actual Inventory</th>\n",
       "      <th>Adjusted Inventory</th>\n",
       "      <th>Adjusted Outbound</th>\n",
       "      <th>Capacity</th>\n",
       "      <th>Overflow</th>\n",
       "      <th>Optimized Inbound</th>\n",
       "      <th>Optimized Outbound</th>\n",
       "      <th>Optimized Inventory</th>\n",
       "      <th>Understock</th>\n",
       "      <th>Cap_70</th>\n",
       "      <th>Cap_80</th>\n",
       "    </tr>\n",
       "  </thead>\n",
       "  <tbody>\n",
       "    <tr>\n",
       "      <th>0</th>\n",
       "      <td>6867.000</td>\n",
       "      <td>8030.355</td>\n",
       "      <td>40213.850</td>\n",
       "      <td>40000.843750</td>\n",
       "      <td>10366.865236</td>\n",
       "      <td>53500.0</td>\n",
       "      <td>0.000</td>\n",
       "      <td>10616.505</td>\n",
       "      <td>8030.355</td>\n",
       "      <td>42800.000</td>\n",
       "      <td>0.0</td>\n",
       "      <td>37450.0</td>\n",
       "      <td>42800.0</td>\n",
       "    </tr>\n",
       "    <tr>\n",
       "      <th>1</th>\n",
       "      <td>7128.995</td>\n",
       "      <td>10046.795</td>\n",
       "      <td>36465.800</td>\n",
       "      <td>36653.246094</td>\n",
       "      <td>11064.165351</td>\n",
       "      <td>53500.0</td>\n",
       "      <td>0.000</td>\n",
       "      <td>4696.795</td>\n",
       "      <td>10046.795</td>\n",
       "      <td>37450.000</td>\n",
       "      <td>0.0</td>\n",
       "      <td>37450.0</td>\n",
       "      <td>42800.0</td>\n",
       "    </tr>\n",
       "    <tr>\n",
       "      <th>2</th>\n",
       "      <td>15858.001</td>\n",
       "      <td>11107.855</td>\n",
       "      <td>34938.300</td>\n",
       "      <td>35476.148438</td>\n",
       "      <td>10569.206787</td>\n",
       "      <td>53500.0</td>\n",
       "      <td>0.000</td>\n",
       "      <td>11107.855</td>\n",
       "      <td>11107.855</td>\n",
       "      <td>37450.000</td>\n",
       "      <td>0.0</td>\n",
       "      <td>37450.0</td>\n",
       "      <td>42800.0</td>\n",
       "    </tr>\n",
       "    <tr>\n",
       "      <th>3</th>\n",
       "      <td>14027.350</td>\n",
       "      <td>8797.185</td>\n",
       "      <td>34619.875</td>\n",
       "      <td>35476.148438</td>\n",
       "      <td>9996.424549</td>\n",
       "      <td>53500.0</td>\n",
       "      <td>0.000</td>\n",
       "      <td>8797.185</td>\n",
       "      <td>8797.185</td>\n",
       "      <td>37450.000</td>\n",
       "      <td>0.0</td>\n",
       "      <td>37450.0</td>\n",
       "      <td>42800.0</td>\n",
       "    </tr>\n",
       "    <tr>\n",
       "      <th>4</th>\n",
       "      <td>12248.625</td>\n",
       "      <td>10501.950</td>\n",
       "      <td>35428.425</td>\n",
       "      <td>35701.753906</td>\n",
       "      <td>10998.793465</td>\n",
       "      <td>53500.0</td>\n",
       "      <td>0.000</td>\n",
       "      <td>10501.950</td>\n",
       "      <td>10501.950</td>\n",
       "      <td>37450.000</td>\n",
       "      <td>0.0</td>\n",
       "      <td>37450.0</td>\n",
       "      <td>42800.0</td>\n",
       "    </tr>\n",
       "    <tr>\n",
       "      <th>5</th>\n",
       "      <td>6233.500</td>\n",
       "      <td>12455.665</td>\n",
       "      <td>40010.550</td>\n",
       "      <td>40208.191406</td>\n",
       "      <td>10594.110363</td>\n",
       "      <td>53500.0</td>\n",
       "      <td>0.000</td>\n",
       "      <td>12455.665</td>\n",
       "      <td>12455.665</td>\n",
       "      <td>37450.000</td>\n",
       "      <td>0.0</td>\n",
       "      <td>37450.0</td>\n",
       "      <td>42800.0</td>\n",
       "    </tr>\n",
       "    <tr>\n",
       "      <th>6</th>\n",
       "      <td>8659.000</td>\n",
       "      <td>12305.930</td>\n",
       "      <td>44052.125</td>\n",
       "      <td>42692.984375</td>\n",
       "      <td>11198.022070</td>\n",
       "      <td>53500.0</td>\n",
       "      <td>0.000</td>\n",
       "      <td>12305.930</td>\n",
       "      <td>12305.930</td>\n",
       "      <td>37450.000</td>\n",
       "      <td>0.0</td>\n",
       "      <td>37450.0</td>\n",
       "      <td>42800.0</td>\n",
       "    </tr>\n",
       "    <tr>\n",
       "      <th>7</th>\n",
       "      <td>15971.750</td>\n",
       "      <td>13300.645</td>\n",
       "      <td>41428.880</td>\n",
       "      <td>41709.121094</td>\n",
       "      <td>11182.457335</td>\n",
       "      <td>53500.0</td>\n",
       "      <td>0.000</td>\n",
       "      <td>13300.645</td>\n",
       "      <td>13300.645</td>\n",
       "      <td>37450.000</td>\n",
       "      <td>0.0</td>\n",
       "      <td>37450.0</td>\n",
       "      <td>42800.0</td>\n",
       "    </tr>\n",
       "    <tr>\n",
       "      <th>8</th>\n",
       "      <td>10510.625</td>\n",
       "      <td>12277.775</td>\n",
       "      <td>43000.974</td>\n",
       "      <td>42175.953125</td>\n",
       "      <td>12854.109844</td>\n",
       "      <td>53500.0</td>\n",
       "      <td>0.000</td>\n",
       "      <td>17627.775</td>\n",
       "      <td>12277.775</td>\n",
       "      <td>42800.000</td>\n",
       "      <td>0.0</td>\n",
       "      <td>37450.0</td>\n",
       "      <td>42800.0</td>\n",
       "    </tr>\n",
       "    <tr>\n",
       "      <th>9</th>\n",
       "      <td>15000.000</td>\n",
       "      <td>14500.000</td>\n",
       "      <td>52000.000</td>\n",
       "      <td>40000.000000</td>\n",
       "      <td>13000.000000</td>\n",
       "      <td>53500.0</td>\n",
       "      <td>16487.175</td>\n",
       "      <td>15000.000</td>\n",
       "      <td>13000.000</td>\n",
       "      <td>59287.175</td>\n",
       "      <td>0.0</td>\n",
       "      <td>37450.0</td>\n",
       "      <td>42800.0</td>\n",
       "    </tr>\n",
       "    <tr>\n",
       "      <th>10</th>\n",
       "      <td>24000.000</td>\n",
       "      <td>15000.000</td>\n",
       "      <td>60000.000</td>\n",
       "      <td>58000.000000</td>\n",
       "      <td>15500.000000</td>\n",
       "      <td>53500.0</td>\n",
       "      <td>24987.175</td>\n",
       "      <td>24000.000</td>\n",
       "      <td>15500.000</td>\n",
       "      <td>67787.175</td>\n",
       "      <td>0.0</td>\n",
       "      <td>37450.0</td>\n",
       "      <td>42800.0</td>\n",
       "    </tr>\n",
       "    <tr>\n",
       "      <th>11</th>\n",
       "      <td>40000.000</td>\n",
       "      <td>14000.000</td>\n",
       "      <td>80000.000</td>\n",
       "      <td>36000.000000</td>\n",
       "      <td>13500.000000</td>\n",
       "      <td>52000.0</td>\n",
       "      <td>12692.175</td>\n",
       "      <td>5.000</td>\n",
       "      <td>13500.000</td>\n",
       "      <td>54292.175</td>\n",
       "      <td>0.0</td>\n",
       "      <td>36400.0</td>\n",
       "      <td>41600.0</td>\n",
       "    </tr>\n",
       "  </tbody>\n",
       "</table>\n",
       "</div>"
      ],
      "text/plain": [
       "    Actual Inbound  Actual Outbound  Actual Inventory  Adjusted Inventory  \\\n",
       "0         6867.000         8030.355         40213.850        40000.843750   \n",
       "1         7128.995        10046.795         36465.800        36653.246094   \n",
       "2        15858.001        11107.855         34938.300        35476.148438   \n",
       "3        14027.350         8797.185         34619.875        35476.148438   \n",
       "4        12248.625        10501.950         35428.425        35701.753906   \n",
       "5         6233.500        12455.665         40010.550        40208.191406   \n",
       "6         8659.000        12305.930         44052.125        42692.984375   \n",
       "7        15971.750        13300.645         41428.880        41709.121094   \n",
       "8        10510.625        12277.775         43000.974        42175.953125   \n",
       "9        15000.000        14500.000         52000.000        40000.000000   \n",
       "10       24000.000        15000.000         60000.000        58000.000000   \n",
       "11       40000.000        14000.000         80000.000        36000.000000   \n",
       "\n",
       "    Adjusted Outbound  Capacity   Overflow  Optimized Inbound  \\\n",
       "0        10366.865236   53500.0      0.000          10616.505   \n",
       "1        11064.165351   53500.0      0.000           4696.795   \n",
       "2        10569.206787   53500.0      0.000          11107.855   \n",
       "3         9996.424549   53500.0      0.000           8797.185   \n",
       "4        10998.793465   53500.0      0.000          10501.950   \n",
       "5        10594.110363   53500.0      0.000          12455.665   \n",
       "6        11198.022070   53500.0      0.000          12305.930   \n",
       "7        11182.457335   53500.0      0.000          13300.645   \n",
       "8        12854.109844   53500.0      0.000          17627.775   \n",
       "9        13000.000000   53500.0  16487.175          15000.000   \n",
       "10       15500.000000   53500.0  24987.175          24000.000   \n",
       "11       13500.000000   52000.0  12692.175              5.000   \n",
       "\n",
       "    Optimized Outbound  Optimized Inventory  Understock   Cap_70   Cap_80  \n",
       "0             8030.355            42800.000         0.0  37450.0  42800.0  \n",
       "1            10046.795            37450.000         0.0  37450.0  42800.0  \n",
       "2            11107.855            37450.000         0.0  37450.0  42800.0  \n",
       "3             8797.185            37450.000         0.0  37450.0  42800.0  \n",
       "4            10501.950            37450.000         0.0  37450.0  42800.0  \n",
       "5            12455.665            37450.000         0.0  37450.0  42800.0  \n",
       "6            12305.930            37450.000         0.0  37450.0  42800.0  \n",
       "7            13300.645            37450.000         0.0  37450.0  42800.0  \n",
       "8            12277.775            42800.000         0.0  37450.0  42800.0  \n",
       "9            13000.000            59287.175         0.0  37450.0  42800.0  \n",
       "10           15500.000            67787.175         0.0  37450.0  42800.0  \n",
       "11           13500.000            54292.175         0.0  36400.0  41600.0  "
      ]
     },
     "execution_count": 893,
     "metadata": {},
     "output_type": "execute_result"
    }
   ],
   "source": [
    "combined_df"
   ]
  },
  {
   "cell_type": "markdown",
   "id": "36fb415d",
   "metadata": {},
   "source": [
    "---"
   ]
  },
  {
   "cell_type": "markdown",
   "id": "c22d74ae",
   "metadata": {},
   "source": [
    "# **Try build Optim 3 months after optim. mod from PT**"
   ]
  },
  {
   "cell_type": "code",
   "execution_count": null,
   "id": "f014a8cd",
   "metadata": {},
   "outputs": [],
   "source": []
  },
  {
   "cell_type": "code",
   "execution_count": null,
   "id": "f1be4080",
   "metadata": {},
   "outputs": [],
   "source": []
  },
  {
   "cell_type": "code",
   "execution_count": null,
   "id": "61d76f12",
   "metadata": {},
   "outputs": [],
   "source": []
  },
  {
   "cell_type": "markdown",
   "id": "0055f38b",
   "metadata": {},
   "source": [
    "---"
   ]
  },
  {
   "cell_type": "markdown",
   "id": "028247f8",
   "metadata": {},
   "source": [
    "**End of Notebook – Thank you**"
   ]
  }
 ],
 "metadata": {
  "kernelspec": {
   "display_name": "base",
   "language": "python",
   "name": "python3"
  },
  "language_info": {
   "codemirror_mode": {
    "name": "ipython",
    "version": 3
   },
   "file_extension": ".py",
   "mimetype": "text/x-python",
   "name": "python",
   "nbconvert_exporter": "python",
   "pygments_lexer": "ipython3",
   "version": "3.12.7"
  }
 },
 "nbformat": 4,
 "nbformat_minor": 5
}
