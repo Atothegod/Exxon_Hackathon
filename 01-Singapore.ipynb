{
 "cells": [
  {
   "cell_type": "markdown",
   "id": "3a0d35db",
   "metadata": {},
   "source": [
    "# **Libraries**"
   ]
  },
  {
   "cell_type": "code",
   "execution_count": 954,
   "id": "dc7548bd",
   "metadata": {},
   "outputs": [],
   "source": [
    "import pandas as pd\n",
    "import numpy as np\n",
    "import pandas as pd\n",
    "import numpy as np\n",
    "from sklearn.ensemble import GradientBoostingRegressor, RandomForestRegressor\n",
    "import matplotlib.pyplot as plt\n",
    "import xgboost as xgb\n",
    "from sklearn.preprocessing import RobustScaler\n",
    "from sklearn.metrics import mean_absolute_error, mean_squared_error\n",
    "import plotly.express as px\n",
    "from sklearn.linear_model import Ridge, LinearRegression\n",
    "from lightgbm import LGBMRegressor\n",
    "from sklearn.linear_model import Ridge\n",
    "from pulp import LpProblem, LpVariable, LpMinimize, lpSum, LpContinuous, value"
   ]
  },
  {
   "cell_type": "markdown",
   "id": "cbfe6572",
   "metadata": {},
   "source": [
    "# **Load Data**"
   ]
  },
  {
   "cell_type": "code",
   "execution_count": 955,
   "id": "d9690634",
   "metadata": {},
   "outputs": [],
   "source": [
    "Inbound = pd.read_csv('exfolder/Inbound.csv', encoding='utf-8-sig')\n",
    "Inventory = pd.read_csv('exfolder/Inventory.csv', encoding='utf-8-sig')\n",
    "MaterialMaster = pd.read_csv('exfolder/MaterialMaster.csv', encoding='utf-8-sig')\n",
    "OperationCost = pd.read_csv('exfolder/OperationCost.csv', encoding='utf-8-sig')\n",
    "Outbound = pd.read_csv('exfolder/Outbound.csv', encoding='utf-8-sig')"
   ]
  },
  {
   "cell_type": "markdown",
   "id": "01025e54",
   "metadata": {},
   "source": [
    "# **Sample of Each Dataset**"
   ]
  },
  {
   "cell_type": "code",
   "execution_count": 956,
   "id": "2aa9d6ed",
   "metadata": {},
   "outputs": [
    {
     "data": {
      "text/plain": [
       "((19593, 4), (28328, 8), (431, 4), (4, 4), (26994, 6))"
      ]
     },
     "execution_count": 956,
     "metadata": {},
     "output_type": "execute_result"
    }
   ],
   "source": [
    "Inbound.shape, Inventory.shape, MaterialMaster.shape, OperationCost.shape, Outbound.shape"
   ]
  },
  {
   "cell_type": "code",
   "execution_count": 957,
   "id": "004713f4",
   "metadata": {},
   "outputs": [
    {
     "data": {
      "text/html": [
       "<div>\n",
       "<style scoped>\n",
       "    .dataframe tbody tr th:only-of-type {\n",
       "        vertical-align: middle;\n",
       "    }\n",
       "\n",
       "    .dataframe tbody tr th {\n",
       "        vertical-align: top;\n",
       "    }\n",
       "\n",
       "    .dataframe thead th {\n",
       "        text-align: right;\n",
       "    }\n",
       "</style>\n",
       "<table border=\"1\" class=\"dataframe\">\n",
       "  <thead>\n",
       "    <tr style=\"text-align: right;\">\n",
       "      <th></th>\n",
       "      <th>INBOUND_DATE</th>\n",
       "      <th>PLANT_NAME</th>\n",
       "      <th>MATERIAL_NAME</th>\n",
       "      <th>NET_QUANTITY_MT</th>\n",
       "    </tr>\n",
       "  </thead>\n",
       "  <tbody>\n",
       "    <tr>\n",
       "      <th>9237</th>\n",
       "      <td>2024/03/07</td>\n",
       "      <td>CHINA-WAREHOUSE</td>\n",
       "      <td>MAT-0084</td>\n",
       "      <td>24.750</td>\n",
       "    </tr>\n",
       "    <tr>\n",
       "      <th>13109</th>\n",
       "      <td>2024/05/14</td>\n",
       "      <td>CHINA-WAREHOUSE</td>\n",
       "      <td>MAT-0400</td>\n",
       "      <td>24.750</td>\n",
       "    </tr>\n",
       "    <tr>\n",
       "      <th>12332</th>\n",
       "      <td>2024/04/26</td>\n",
       "      <td>CHINA-WAREHOUSE</td>\n",
       "      <td>MAT-0413</td>\n",
       "      <td>20.625</td>\n",
       "    </tr>\n",
       "    <tr>\n",
       "      <th>10792</th>\n",
       "      <td>2024/03/21</td>\n",
       "      <td>CHINA-WAREHOUSE</td>\n",
       "      <td>MAT-0267</td>\n",
       "      <td>24.750</td>\n",
       "    </tr>\n",
       "    <tr>\n",
       "      <th>13278</th>\n",
       "      <td>2024/05/24</td>\n",
       "      <td>CHINA-WAREHOUSE</td>\n",
       "      <td>MAT-0399</td>\n",
       "      <td>23.375</td>\n",
       "    </tr>\n",
       "  </tbody>\n",
       "</table>\n",
       "</div>"
      ],
      "text/plain": [
       "      INBOUND_DATE       PLANT_NAME MATERIAL_NAME  NET_QUANTITY_MT\n",
       "9237    2024/03/07  CHINA-WAREHOUSE      MAT-0084           24.750\n",
       "13109   2024/05/14  CHINA-WAREHOUSE      MAT-0400           24.750\n",
       "12332   2024/04/26  CHINA-WAREHOUSE      MAT-0413           20.625\n",
       "10792   2024/03/21  CHINA-WAREHOUSE      MAT-0267           24.750\n",
       "13278   2024/05/24  CHINA-WAREHOUSE      MAT-0399           23.375"
      ]
     },
     "execution_count": 957,
     "metadata": {},
     "output_type": "execute_result"
    }
   ],
   "source": [
    "Inbound.sample(5)"
   ]
  },
  {
   "cell_type": "code",
   "execution_count": 958,
   "id": "09e33561",
   "metadata": {},
   "outputs": [
    {
     "data": {
      "text/html": [
       "<div>\n",
       "<style scoped>\n",
       "    .dataframe tbody tr th:only-of-type {\n",
       "        vertical-align: middle;\n",
       "    }\n",
       "\n",
       "    .dataframe tbody tr th {\n",
       "        vertical-align: top;\n",
       "    }\n",
       "\n",
       "    .dataframe thead th {\n",
       "        text-align: right;\n",
       "    }\n",
       "</style>\n",
       "<table border=\"1\" class=\"dataframe\">\n",
       "  <thead>\n",
       "    <tr style=\"text-align: right;\">\n",
       "      <th></th>\n",
       "      <th>OUTBOUND_DATE</th>\n",
       "      <th>PLANT_NAME</th>\n",
       "      <th>MODE_OF_TRANSPORT</th>\n",
       "      <th>MATERIAL_NAME</th>\n",
       "      <th>CUSTOMER_NUMBER</th>\n",
       "      <th>NET_QUANTITY_MT</th>\n",
       "    </tr>\n",
       "  </thead>\n",
       "  <tbody>\n",
       "    <tr>\n",
       "      <th>11070</th>\n",
       "      <td>2024/08/22</td>\n",
       "      <td>CHINA-WAREHOUSE</td>\n",
       "      <td>Truck</td>\n",
       "      <td>MAT-0036</td>\n",
       "      <td>CST-00026</td>\n",
       "      <td>24.750</td>\n",
       "    </tr>\n",
       "    <tr>\n",
       "      <th>8861</th>\n",
       "      <td>2024/07/03</td>\n",
       "      <td>CHINA-WAREHOUSE</td>\n",
       "      <td>Truck</td>\n",
       "      <td>MAT-0266</td>\n",
       "      <td>CST-00080</td>\n",
       "      <td>0.030</td>\n",
       "    </tr>\n",
       "    <tr>\n",
       "      <th>21173</th>\n",
       "      <td>2024/05/30</td>\n",
       "      <td>SINGAPORE-WAREHOUSE</td>\n",
       "      <td>Marine</td>\n",
       "      <td>MAT-0056</td>\n",
       "      <td>CST-01221</td>\n",
       "      <td>9.625</td>\n",
       "    </tr>\n",
       "    <tr>\n",
       "      <th>13852</th>\n",
       "      <td>2024/10/11</td>\n",
       "      <td>CHINA-WAREHOUSE</td>\n",
       "      <td>Truck</td>\n",
       "      <td>MAT-0007</td>\n",
       "      <td>CST-00363</td>\n",
       "      <td>24.750</td>\n",
       "    </tr>\n",
       "    <tr>\n",
       "      <th>2069</th>\n",
       "      <td>2024/02/19</td>\n",
       "      <td>CHINA-WAREHOUSE</td>\n",
       "      <td>Truck</td>\n",
       "      <td>MAT-0382</td>\n",
       "      <td>CST-00052</td>\n",
       "      <td>24.750</td>\n",
       "    </tr>\n",
       "  </tbody>\n",
       "</table>\n",
       "</div>"
      ],
      "text/plain": [
       "      OUTBOUND_DATE           PLANT_NAME MODE_OF_TRANSPORT MATERIAL_NAME  \\\n",
       "11070    2024/08/22      CHINA-WAREHOUSE             Truck      MAT-0036   \n",
       "8861     2024/07/03      CHINA-WAREHOUSE             Truck      MAT-0266   \n",
       "21173    2024/05/30  SINGAPORE-WAREHOUSE            Marine      MAT-0056   \n",
       "13852    2024/10/11      CHINA-WAREHOUSE             Truck      MAT-0007   \n",
       "2069     2024/02/19      CHINA-WAREHOUSE             Truck      MAT-0382   \n",
       "\n",
       "      CUSTOMER_NUMBER  NET_QUANTITY_MT  \n",
       "11070       CST-00026           24.750  \n",
       "8861        CST-00080            0.030  \n",
       "21173       CST-01221            9.625  \n",
       "13852       CST-00363           24.750  \n",
       "2069        CST-00052           24.750  "
      ]
     },
     "execution_count": 958,
     "metadata": {},
     "output_type": "execute_result"
    }
   ],
   "source": [
    "Outbound.sample(5)"
   ]
  },
  {
   "cell_type": "code",
   "execution_count": 959,
   "id": "f1e31f65",
   "metadata": {},
   "outputs": [
    {
     "data": {
      "text/html": [
       "<div>\n",
       "<style scoped>\n",
       "    .dataframe tbody tr th:only-of-type {\n",
       "        vertical-align: middle;\n",
       "    }\n",
       "\n",
       "    .dataframe tbody tr th {\n",
       "        vertical-align: top;\n",
       "    }\n",
       "\n",
       "    .dataframe thead th {\n",
       "        text-align: right;\n",
       "    }\n",
       "</style>\n",
       "<table border=\"1\" class=\"dataframe\">\n",
       "  <thead>\n",
       "    <tr style=\"text-align: right;\">\n",
       "      <th></th>\n",
       "      <th>BALANCE_AS_OF_DATE</th>\n",
       "      <th>PLANT_NAME</th>\n",
       "      <th>MATERIAL_NAME</th>\n",
       "      <th>BATCH_NUMBER</th>\n",
       "      <th>UNRESRICTED_STOCK</th>\n",
       "      <th>STOCK_UNIT</th>\n",
       "      <th>STOCK_SELL_VALUE</th>\n",
       "      <th>CURRENCY</th>\n",
       "    </tr>\n",
       "  </thead>\n",
       "  <tbody>\n",
       "    <tr>\n",
       "      <th>23333</th>\n",
       "      <td>8/31/2024</td>\n",
       "      <td>SINGAPORE-WAREHOUSE</td>\n",
       "      <td>MAT-0267</td>\n",
       "      <td>M9906A</td>\n",
       "      <td>198000</td>\n",
       "      <td>KG</td>\n",
       "      <td>241560</td>\n",
       "      <td>SGD</td>\n",
       "    </tr>\n",
       "    <tr>\n",
       "      <th>19498</th>\n",
       "      <td>4/30/2024</td>\n",
       "      <td>SINGAPORE-WAREHOUSE</td>\n",
       "      <td>MAT-0099</td>\n",
       "      <td>M7691A</td>\n",
       "      <td>67375</td>\n",
       "      <td>KG</td>\n",
       "      <td>30319</td>\n",
       "      <td>SGD</td>\n",
       "    </tr>\n",
       "    <tr>\n",
       "      <th>21921</th>\n",
       "      <td>7/31/2024</td>\n",
       "      <td>SINGAPORE-WAREHOUSE</td>\n",
       "      <td>MAT-0419</td>\n",
       "      <td>6207B4530</td>\n",
       "      <td>4125</td>\n",
       "      <td>KG</td>\n",
       "      <td>8869</td>\n",
       "      <td>SGD</td>\n",
       "    </tr>\n",
       "    <tr>\n",
       "      <th>12257</th>\n",
       "      <td>10/31/2024</td>\n",
       "      <td>CHINA-WAREHOUSE</td>\n",
       "      <td>MAT-0429</td>\n",
       "      <td>V9006A</td>\n",
       "      <td>0</td>\n",
       "      <td>KG</td>\n",
       "      <td>3763</td>\n",
       "      <td>CNY</td>\n",
       "    </tr>\n",
       "    <tr>\n",
       "      <th>26765</th>\n",
       "      <td>11/30/2024</td>\n",
       "      <td>SINGAPORE-WAREHOUSE</td>\n",
       "      <td>MAT-0354</td>\n",
       "      <td>M6566B</td>\n",
       "      <td>750</td>\n",
       "      <td>KG</td>\n",
       "      <td>360</td>\n",
       "      <td>SGD</td>\n",
       "    </tr>\n",
       "  </tbody>\n",
       "</table>\n",
       "</div>"
      ],
      "text/plain": [
       "      BALANCE_AS_OF_DATE           PLANT_NAME MATERIAL_NAME BATCH_NUMBER  \\\n",
       "23333          8/31/2024  SINGAPORE-WAREHOUSE      MAT-0267       M9906A   \n",
       "19498          4/30/2024  SINGAPORE-WAREHOUSE      MAT-0099       M7691A   \n",
       "21921          7/31/2024  SINGAPORE-WAREHOUSE      MAT-0419    6207B4530   \n",
       "12257         10/31/2024      CHINA-WAREHOUSE      MAT-0429       V9006A   \n",
       "26765         11/30/2024  SINGAPORE-WAREHOUSE      MAT-0354       M6566B   \n",
       "\n",
       "       UNRESRICTED_STOCK STOCK_UNIT  STOCK_SELL_VALUE CURRENCY  \n",
       "23333             198000         KG            241560      SGD  \n",
       "19498              67375         KG             30319      SGD  \n",
       "21921               4125         KG              8869      SGD  \n",
       "12257                  0         KG              3763      CNY  \n",
       "26765                750         KG               360      SGD  "
      ]
     },
     "execution_count": 959,
     "metadata": {},
     "output_type": "execute_result"
    }
   ],
   "source": [
    "Inventory.sample(5)"
   ]
  },
  {
   "cell_type": "code",
   "execution_count": 960,
   "id": "6076565d",
   "metadata": {},
   "outputs": [
    {
     "data": {
      "text/html": [
       "<div>\n",
       "<style scoped>\n",
       "    .dataframe tbody tr th:only-of-type {\n",
       "        vertical-align: middle;\n",
       "    }\n",
       "\n",
       "    .dataframe tbody tr th {\n",
       "        vertical-align: top;\n",
       "    }\n",
       "\n",
       "    .dataframe thead th {\n",
       "        text-align: right;\n",
       "    }\n",
       "</style>\n",
       "<table border=\"1\" class=\"dataframe\">\n",
       "  <thead>\n",
       "    <tr style=\"text-align: right;\">\n",
       "      <th></th>\n",
       "      <th>MATERIAL_NAME</th>\n",
       "      <th>POLYMER_TYPE</th>\n",
       "      <th>SHELF_LIFE_IN_MONTH</th>\n",
       "      <th>DOWNGRADE_VALUE_LOST_PERCENT</th>\n",
       "    </tr>\n",
       "  </thead>\n",
       "  <tbody>\n",
       "    <tr>\n",
       "      <th>160</th>\n",
       "      <td>MAT-0161</td>\n",
       "      <td>P-001</td>\n",
       "      <td>7</td>\n",
       "      <td>5</td>\n",
       "    </tr>\n",
       "    <tr>\n",
       "      <th>281</th>\n",
       "      <td>MAT-0282</td>\n",
       "      <td>P-003</td>\n",
       "      <td>8</td>\n",
       "      <td>35</td>\n",
       "    </tr>\n",
       "    <tr>\n",
       "      <th>228</th>\n",
       "      <td>MAT-0229</td>\n",
       "      <td>P-001</td>\n",
       "      <td>5</td>\n",
       "      <td>5</td>\n",
       "    </tr>\n",
       "    <tr>\n",
       "      <th>189</th>\n",
       "      <td>MAT-0190</td>\n",
       "      <td>P-001</td>\n",
       "      <td>3</td>\n",
       "      <td>15</td>\n",
       "    </tr>\n",
       "    <tr>\n",
       "      <th>31</th>\n",
       "      <td>MAT-0032</td>\n",
       "      <td>P-002</td>\n",
       "      <td>11</td>\n",
       "      <td>20</td>\n",
       "    </tr>\n",
       "  </tbody>\n",
       "</table>\n",
       "</div>"
      ],
      "text/plain": [
       "    MATERIAL_NAME POLYMER_TYPE  SHELF_LIFE_IN_MONTH  \\\n",
       "160      MAT-0161        P-001                    7   \n",
       "281      MAT-0282        P-003                    8   \n",
       "228      MAT-0229        P-001                    5   \n",
       "189      MAT-0190        P-001                    3   \n",
       "31       MAT-0032        P-002                   11   \n",
       "\n",
       "     DOWNGRADE_VALUE_LOST_PERCENT  \n",
       "160                             5  \n",
       "281                            35  \n",
       "228                             5  \n",
       "189                            15  \n",
       "31                             20  "
      ]
     },
     "execution_count": 960,
     "metadata": {},
     "output_type": "execute_result"
    }
   ],
   "source": [
    "MaterialMaster.sample(5)"
   ]
  },
  {
   "cell_type": "code",
   "execution_count": 961,
   "id": "5ff1789d",
   "metadata": {},
   "outputs": [
    {
     "data": {
      "text/html": [
       "<div>\n",
       "<style scoped>\n",
       "    .dataframe tbody tr th:only-of-type {\n",
       "        vertical-align: middle;\n",
       "    }\n",
       "\n",
       "    .dataframe tbody tr th {\n",
       "        vertical-align: top;\n",
       "    }\n",
       "\n",
       "    .dataframe thead th {\n",
       "        text-align: right;\n",
       "    }\n",
       "</style>\n",
       "<table border=\"1\" class=\"dataframe\">\n",
       "  <thead>\n",
       "    <tr style=\"text-align: right;\">\n",
       "      <th></th>\n",
       "      <th>Operation</th>\n",
       "      <th>Plant/Mode of Transport</th>\n",
       "      <th>Cost</th>\n",
       "      <th>Currency</th>\n",
       "    </tr>\n",
       "  </thead>\n",
       "  <tbody>\n",
       "    <tr>\n",
       "      <th>0</th>\n",
       "      <td>Inventory Storage per MT per day</td>\n",
       "      <td>SINGAPORE WAREHOUSE</td>\n",
       "      <td>15.0</td>\n",
       "      <td>SGD</td>\n",
       "    </tr>\n",
       "    <tr>\n",
       "      <th>1</th>\n",
       "      <td>Inventory Storage per MT per day</td>\n",
       "      <td>CHINA WAREHOUSE</td>\n",
       "      <td>1.7</td>\n",
       "      <td>CNY</td>\n",
       "    </tr>\n",
       "    <tr>\n",
       "      <th>2</th>\n",
       "      <td>Transfer cost per container (24.75MT)</td>\n",
       "      <td>Truck</td>\n",
       "      <td>150.0</td>\n",
       "      <td>SGD</td>\n",
       "    </tr>\n",
       "    <tr>\n",
       "      <th>3</th>\n",
       "      <td>Transfer cost per container (24.75MT)</td>\n",
       "      <td>Marine</td>\n",
       "      <td>75.0</td>\n",
       "      <td>USD</td>\n",
       "    </tr>\n",
       "  </tbody>\n",
       "</table>\n",
       "</div>"
      ],
      "text/plain": [
       "                               Operation Plant/Mode of Transport   Cost  \\\n",
       "0       Inventory Storage per MT per day     SINGAPORE WAREHOUSE   15.0   \n",
       "1       Inventory Storage per MT per day         CHINA WAREHOUSE    1.7   \n",
       "2  Transfer cost per container (24.75MT)                   Truck  150.0   \n",
       "3  Transfer cost per container (24.75MT)                  Marine   75.0   \n",
       "\n",
       "  Currency  \n",
       "0      SGD  \n",
       "1      CNY  \n",
       "2      SGD  \n",
       "3      USD  "
      ]
     },
     "execution_count": 961,
     "metadata": {},
     "output_type": "execute_result"
    }
   ],
   "source": [
    "OperationCost"
   ]
  },
  {
   "cell_type": "markdown",
   "id": "5a88e605",
   "metadata": {},
   "source": [
    "# **Data Cleaning**"
   ]
  },
  {
   "cell_type": "code",
   "execution_count": 962,
   "id": "c9457f1f",
   "metadata": {},
   "outputs": [
    {
     "data": {
      "text/plain": [
       "BALANCE_AS_OF_DATE    0\n",
       "PLANT_NAME            0\n",
       "MATERIAL_NAME         0\n",
       "BATCH_NUMBER          1\n",
       "UNRESRICTED_STOCK     0\n",
       "STOCK_UNIT            0\n",
       "STOCK_SELL_VALUE      0\n",
       "CURRENCY              0\n",
       "dtype: int64"
      ]
     },
     "execution_count": 962,
     "metadata": {},
     "output_type": "execute_result"
    }
   ],
   "source": [
    "Inventory.isnull().sum()"
   ]
  },
  {
   "cell_type": "code",
   "execution_count": 963,
   "id": "d1ac7b08",
   "metadata": {},
   "outputs": [
    {
     "data": {
      "text/plain": [
       "OUTBOUND_DATE        0\n",
       "PLANT_NAME           0\n",
       "MODE_OF_TRANSPORT    0\n",
       "MATERIAL_NAME        4\n",
       "CUSTOMER_NUMBER      0\n",
       "NET_QUANTITY_MT      0\n",
       "dtype: int64"
      ]
     },
     "execution_count": 963,
     "metadata": {},
     "output_type": "execute_result"
    }
   ],
   "source": [
    "Outbound.isnull().sum() "
   ]
  },
  {
   "cell_type": "code",
   "execution_count": 964,
   "id": "c8ff8110",
   "metadata": {},
   "outputs": [],
   "source": [
    "Inventory.dropna(subset=['BATCH_NUMBER'], inplace=True)\n",
    "Outbound.dropna(subset=['MATERIAL_NAME'], inplace=True)"
   ]
  },
  {
   "cell_type": "code",
   "execution_count": 965,
   "id": "e7ea0832",
   "metadata": {},
   "outputs": [
    {
     "data": {
      "text/html": [
       "<div>\n",
       "<style scoped>\n",
       "    .dataframe tbody tr th:only-of-type {\n",
       "        vertical-align: middle;\n",
       "    }\n",
       "\n",
       "    .dataframe tbody tr th {\n",
       "        vertical-align: top;\n",
       "    }\n",
       "\n",
       "    .dataframe thead th {\n",
       "        text-align: right;\n",
       "    }\n",
       "</style>\n",
       "<table border=\"1\" class=\"dataframe\">\n",
       "  <thead>\n",
       "    <tr style=\"text-align: right;\">\n",
       "      <th></th>\n",
       "      <th>INBOUND_DATE</th>\n",
       "      <th>PLANT_NAME</th>\n",
       "      <th>MATERIAL_NAME</th>\n",
       "      <th>NET_QUANTITY_MT</th>\n",
       "    </tr>\n",
       "  </thead>\n",
       "  <tbody>\n",
       "    <tr>\n",
       "      <th>0</th>\n",
       "      <td>2023/12/15</td>\n",
       "      <td>SINGAPORE-WAREHOUSE</td>\n",
       "      <td>MAT-0354</td>\n",
       "      <td>23.375</td>\n",
       "    </tr>\n",
       "    <tr>\n",
       "      <th>1</th>\n",
       "      <td>2023/12/22</td>\n",
       "      <td>SINGAPORE-WAREHOUSE</td>\n",
       "      <td>MAT-0413</td>\n",
       "      <td>1.375</td>\n",
       "    </tr>\n",
       "    <tr>\n",
       "      <th>2</th>\n",
       "      <td>2023/12/22</td>\n",
       "      <td>SINGAPORE-WAREHOUSE</td>\n",
       "      <td>MAT-0413</td>\n",
       "      <td>23.375</td>\n",
       "    </tr>\n",
       "    <tr>\n",
       "      <th>3</th>\n",
       "      <td>2023/12/22</td>\n",
       "      <td>SINGAPORE-WAREHOUSE</td>\n",
       "      <td>MAT-0413</td>\n",
       "      <td>24.750</td>\n",
       "    </tr>\n",
       "    <tr>\n",
       "      <th>4</th>\n",
       "      <td>2023/12/22</td>\n",
       "      <td>SINGAPORE-WAREHOUSE</td>\n",
       "      <td>MAT-0413</td>\n",
       "      <td>19.250</td>\n",
       "    </tr>\n",
       "    <tr>\n",
       "      <th>...</th>\n",
       "      <td>...</td>\n",
       "      <td>...</td>\n",
       "      <td>...</td>\n",
       "      <td>...</td>\n",
       "    </tr>\n",
       "    <tr>\n",
       "      <th>19588</th>\n",
       "      <td>2024/12/24</td>\n",
       "      <td>CHINA-WAREHOUSE</td>\n",
       "      <td>MAT-0118</td>\n",
       "      <td>24.750</td>\n",
       "    </tr>\n",
       "    <tr>\n",
       "      <th>19589</th>\n",
       "      <td>2024/12/24</td>\n",
       "      <td>CHINA-WAREHOUSE</td>\n",
       "      <td>MAT-0118</td>\n",
       "      <td>24.750</td>\n",
       "    </tr>\n",
       "    <tr>\n",
       "      <th>19590</th>\n",
       "      <td>2024/12/24</td>\n",
       "      <td>CHINA-WAREHOUSE</td>\n",
       "      <td>MAT-0118</td>\n",
       "      <td>24.750</td>\n",
       "    </tr>\n",
       "    <tr>\n",
       "      <th>19591</th>\n",
       "      <td>2024/12/24</td>\n",
       "      <td>CHINA-WAREHOUSE</td>\n",
       "      <td>MAT-0118</td>\n",
       "      <td>24.750</td>\n",
       "    </tr>\n",
       "    <tr>\n",
       "      <th>19592</th>\n",
       "      <td>2024/12/24</td>\n",
       "      <td>CHINA-WAREHOUSE</td>\n",
       "      <td>MAT-0118</td>\n",
       "      <td>24.750</td>\n",
       "    </tr>\n",
       "  </tbody>\n",
       "</table>\n",
       "<p>19593 rows × 4 columns</p>\n",
       "</div>"
      ],
      "text/plain": [
       "      INBOUND_DATE           PLANT_NAME MATERIAL_NAME  NET_QUANTITY_MT\n",
       "0       2023/12/15  SINGAPORE-WAREHOUSE      MAT-0354           23.375\n",
       "1       2023/12/22  SINGAPORE-WAREHOUSE      MAT-0413            1.375\n",
       "2       2023/12/22  SINGAPORE-WAREHOUSE      MAT-0413           23.375\n",
       "3       2023/12/22  SINGAPORE-WAREHOUSE      MAT-0413           24.750\n",
       "4       2023/12/22  SINGAPORE-WAREHOUSE      MAT-0413           19.250\n",
       "...            ...                  ...           ...              ...\n",
       "19588   2024/12/24      CHINA-WAREHOUSE      MAT-0118           24.750\n",
       "19589   2024/12/24      CHINA-WAREHOUSE      MAT-0118           24.750\n",
       "19590   2024/12/24      CHINA-WAREHOUSE      MAT-0118           24.750\n",
       "19591   2024/12/24      CHINA-WAREHOUSE      MAT-0118           24.750\n",
       "19592   2024/12/24      CHINA-WAREHOUSE      MAT-0118           24.750\n",
       "\n",
       "[19593 rows x 4 columns]"
      ]
     },
     "execution_count": 965,
     "metadata": {},
     "output_type": "execute_result"
    }
   ],
   "source": [
    "Inbound"
   ]
  },
  {
   "cell_type": "code",
   "execution_count": 966,
   "id": "a43a334a",
   "metadata": {},
   "outputs": [],
   "source": [
    "# แปลงวันที่ให้เป็น datetime\n",
    "Inbound['INBOUND_DATE'] = pd.to_datetime(Inbound['INBOUND_DATE'])\n",
    "Outbound['OUTBOUND_DATE'] = pd.to_datetime(Outbound['OUTBOUND_DATE'])\n",
    "Inventory['BALANCE_AS_OF_DATE'] = pd.to_datetime(Inventory['BALANCE_AS_OF_DATE'])\n",
    "\n",
    "Inbound['DATE'] = Inbound['INBOUND_DATE'].dt.date\n",
    "Outbound['DATE'] = Outbound['OUTBOUND_DATE'].dt.date\n",
    "Inventory['DATE'] = Inventory['BALANCE_AS_OF_DATE'].dt.date\n",
    "\n",
    "Inventory['Quantity_KT_Inventory'] = Inventory['UNRESRICTED_STOCK'] / 1000000  # 1 KT = 1000000 KG\n",
    "Inbound['Quantity_KT_In'] = Inbound['NET_QUANTITY_MT'] / 1000  # 1 KT = 1000 MT\n",
    "Outbound['Quantity_KT_Out'] = Outbound['NET_QUANTITY_MT'] / 1000  # 1 KT = 1000 MT\n",
    "\n",
    "Inventory.drop(columns=['UNRESRICTED_STOCK', 'STOCK_UNIT'], inplace=True)\n",
    "Inbound.drop(columns=['NET_QUANTITY_MT'], inplace=True)\n",
    "Outbound.drop(columns=['NET_QUANTITY_MT'], inplace=True)"
   ]
  },
  {
   "cell_type": "markdown",
   "id": "273e5373",
   "metadata": {},
   "source": [
    "# **Split Cleaned Data By \"PLANT_NAME\" (Singapore and China)**"
   ]
  },
  {
   "cell_type": "code",
   "execution_count": 967,
   "id": "05b885d7",
   "metadata": {},
   "outputs": [],
   "source": [
    "### แบ่ง dataframe ตาม PLANT_NAME ###\n",
    "\n",
    "# inventory\n",
    "raw_inventory_singapore = Inventory[Inventory['PLANT_NAME'] == 'SINGAPORE-WAREHOUSE'].copy()\n",
    "raw_inventory_china = Inventory[Inventory['PLANT_NAME'] == 'CHINA-WAREHOUSE'].copy()\n",
    "\n",
    "# inbound\n",
    "raw_inbound_singapore = Inbound[Inbound['PLANT_NAME'] == 'SINGAPORE-WAREHOUSE'].copy()\n",
    "raw_inbound_china = Inbound[Inbound['PLANT_NAME'] == 'CHINA-WAREHOUSE'].copy()\n",
    "\n",
    "# outbound\n",
    "raw_outbound_singapore = Outbound[Outbound['PLANT_NAME'] == 'SINGAPORE-WAREHOUSE'].copy()\n",
    "raw_outbound_china = Outbound[Outbound['PLANT_NAME'] == 'CHINA-WAREHOUSE'].copy()"
   ]
  },
  {
   "cell_type": "code",
   "execution_count": 968,
   "id": "0ac1ecb6",
   "metadata": {},
   "outputs": [],
   "source": [
    "# inventory\n",
    "raw_inventory_china.to_csv(\"raw_inventory_china.csv\", index=False)\n",
    "\n",
    "# inbound\n",
    "raw_inbound_china.to_csv(\"raw_inbound_china.csv\", index=False)\n",
    "\n",
    "# outbound\n",
    "raw_outbound_china.to_csv(\"raw_outbound_china.csv\", index=False) "
   ]
  },
  {
   "cell_type": "markdown",
   "id": "15ffba34",
   "metadata": {},
   "source": [
    "---"
   ]
  },
  {
   "cell_type": "markdown",
   "id": "002d6c22",
   "metadata": {},
   "source": [
    "# **Singapore**"
   ]
  },
  {
   "cell_type": "markdown",
   "id": "8874b41c",
   "metadata": {},
   "source": [
    "### **Time Range Selection**"
   ]
  },
  {
   "cell_type": "code",
   "execution_count": 969,
   "id": "7736c80b",
   "metadata": {},
   "outputs": [
    {
     "name": "stdout",
     "output_type": "stream",
     "text": [
      "Inbound dates: 2023-11-07 00:00:00 - 2024-12-20 00:00:00\n",
      "Outbound dates: 2023-12-06 00:00:00 - 2025-01-02 00:00:00\n",
      "Inventory dates: 2023-12-31 00:00:00 - 2024-12-31 00:00:00\n"
     ]
    }
   ],
   "source": [
    "print(\"Inbound dates:\", raw_inbound_singapore['INBOUND_DATE'].min(), \"-\", raw_inbound_singapore['INBOUND_DATE'].max())\n",
    "print(\"Outbound dates:\", raw_outbound_singapore['OUTBOUND_DATE'].min(), \"-\", raw_outbound_singapore['OUTBOUND_DATE'].max())\n",
    "print(\"Inventory dates:\", raw_inventory_singapore['BALANCE_AS_OF_DATE'].min(), \"-\", raw_inventory_singapore['BALANCE_AS_OF_DATE'].max())"
   ]
  },
  {
   "cell_type": "code",
   "execution_count": 970,
   "id": "f750ad11",
   "metadata": {},
   "outputs": [],
   "source": [
    "start_date = pd.to_datetime('2024-01-01')\n",
    "end_date   = pd.to_datetime('2024-12-31')"
   ]
  },
  {
   "cell_type": "code",
   "execution_count": 971,
   "id": "96d4b104",
   "metadata": {},
   "outputs": [],
   "source": [
    "inbound_singapore = raw_inbound_singapore[\n",
    "    (raw_inbound_singapore['INBOUND_DATE'] >= start_date) & \n",
    "    (raw_inbound_singapore['INBOUND_DATE'] <= end_date)\n",
    "].copy()\n",
    "\n",
    "outbound_singapore = raw_outbound_singapore[\n",
    "    (raw_outbound_singapore['OUTBOUND_DATE'] >= start_date) & \n",
    "    (raw_outbound_singapore['OUTBOUND_DATE'] <= end_date)\n",
    "].copy()\n",
    "\n",
    "inventory_singapore = raw_inventory_singapore[\n",
    "    (raw_inventory_singapore['BALANCE_AS_OF_DATE'] >= start_date) & \n",
    "    (raw_inventory_singapore['BALANCE_AS_OF_DATE'] <= end_date)\n",
    "].copy()"
   ]
  },
  {
   "cell_type": "code",
   "execution_count": 972,
   "id": "b295fa85",
   "metadata": {},
   "outputs": [
    {
     "name": "stdout",
     "output_type": "stream",
     "text": [
      "Inbound dates: 2024-01-01 00:00:00 - 2024-12-20 00:00:00\n",
      "Outbound dates: 2024-01-01 00:00:00 - 2024-12-31 00:00:00\n",
      "Inventory dates: 2024-01-31 00:00:00 - 2024-12-31 00:00:00\n"
     ]
    }
   ],
   "source": [
    "print(\"Inbound dates:\", inbound_singapore['INBOUND_DATE'].min(), \"-\", inbound_singapore['INBOUND_DATE'].max())\n",
    "print(\"Outbound dates:\", outbound_singapore['OUTBOUND_DATE'].min(), \"-\", outbound_singapore['OUTBOUND_DATE'].max())\n",
    "print(\"Inventory dates:\", inventory_singapore['BALANCE_AS_OF_DATE'].min(), \"-\", inventory_singapore['BALANCE_AS_OF_DATE'].max())"
   ]
  },
  {
   "cell_type": "markdown",
   "id": "b332d83f",
   "metadata": {},
   "source": [
    "---"
   ]
  },
  {
   "cell_type": "markdown",
   "id": "4369c741",
   "metadata": {},
   "source": [
    "# **EDA**"
   ]
  },
  {
   "cell_type": "markdown",
   "id": "1bdad628",
   "metadata": {},
   "source": [
    "### **Monthly of Inventory, Inbound & Outbound**"
   ]
  },
  {
   "cell_type": "markdown",
   "id": "d917cce3",
   "metadata": {},
   "source": [
    "**Inventory**"
   ]
  },
  {
   "cell_type": "code",
   "execution_count": 973,
   "id": "0e2b5ec3",
   "metadata": {},
   "outputs": [
    {
     "data": {
      "text/html": [
       "<div>\n",
       "<style scoped>\n",
       "    .dataframe tbody tr th:only-of-type {\n",
       "        vertical-align: middle;\n",
       "    }\n",
       "\n",
       "    .dataframe tbody tr th {\n",
       "        vertical-align: top;\n",
       "    }\n",
       "\n",
       "    .dataframe thead th {\n",
       "        text-align: right;\n",
       "    }\n",
       "</style>\n",
       "<table border=\"1\" class=\"dataframe\">\n",
       "  <thead>\n",
       "    <tr style=\"text-align: right;\">\n",
       "      <th></th>\n",
       "      <th>month</th>\n",
       "      <th>PLANT_NAME</th>\n",
       "      <th>Quantity_KT_Inventory</th>\n",
       "    </tr>\n",
       "  </thead>\n",
       "  <tbody>\n",
       "    <tr>\n",
       "      <th>0</th>\n",
       "      <td>2024-01-01</td>\n",
       "      <td>SINGAPORE-WAREHOUSE</td>\n",
       "      <td>40.213850</td>\n",
       "    </tr>\n",
       "    <tr>\n",
       "      <th>1</th>\n",
       "      <td>2024-02-01</td>\n",
       "      <td>SINGAPORE-WAREHOUSE</td>\n",
       "      <td>36.465800</td>\n",
       "    </tr>\n",
       "    <tr>\n",
       "      <th>2</th>\n",
       "      <td>2024-03-01</td>\n",
       "      <td>SINGAPORE-WAREHOUSE</td>\n",
       "      <td>69.876600</td>\n",
       "    </tr>\n",
       "    <tr>\n",
       "      <th>3</th>\n",
       "      <td>2024-04-01</td>\n",
       "      <td>SINGAPORE-WAREHOUSE</td>\n",
       "      <td>34.619875</td>\n",
       "    </tr>\n",
       "    <tr>\n",
       "      <th>4</th>\n",
       "      <td>2024-05-01</td>\n",
       "      <td>SINGAPORE-WAREHOUSE</td>\n",
       "      <td>35.428425</td>\n",
       "    </tr>\n",
       "  </tbody>\n",
       "</table>\n",
       "</div>"
      ],
      "text/plain": [
       "       month           PLANT_NAME  Quantity_KT_Inventory\n",
       "0 2024-01-01  SINGAPORE-WAREHOUSE              40.213850\n",
       "1 2024-02-01  SINGAPORE-WAREHOUSE              36.465800\n",
       "2 2024-03-01  SINGAPORE-WAREHOUSE              69.876600\n",
       "3 2024-04-01  SINGAPORE-WAREHOUSE              34.619875\n",
       "4 2024-05-01  SINGAPORE-WAREHOUSE              35.428425"
      ]
     },
     "execution_count": 973,
     "metadata": {},
     "output_type": "execute_result"
    }
   ],
   "source": [
    "inventory_singapore['month'] = inventory_singapore['BALANCE_AS_OF_DATE'].dt.to_period('M').dt.to_timestamp()\n",
    "\n",
    "Inventory_monthly_singapore = (\n",
    "    inventory_singapore.groupby(['month', 'PLANT_NAME'])['Quantity_KT_Inventory']\n",
    "    .sum()\n",
    "    .reset_index()\n",
    ")\n",
    "Inventory_monthly_singapore.head(5)"
   ]
  },
  {
   "cell_type": "markdown",
   "id": "cf9a9921",
   "metadata": {},
   "source": [
    "**Inbound**"
   ]
  },
  {
   "cell_type": "code",
   "execution_count": 974,
   "id": "acbfdacc",
   "metadata": {},
   "outputs": [
    {
     "data": {
      "text/html": [
       "<div>\n",
       "<style scoped>\n",
       "    .dataframe tbody tr th:only-of-type {\n",
       "        vertical-align: middle;\n",
       "    }\n",
       "\n",
       "    .dataframe tbody tr th {\n",
       "        vertical-align: top;\n",
       "    }\n",
       "\n",
       "    .dataframe thead th {\n",
       "        text-align: right;\n",
       "    }\n",
       "</style>\n",
       "<table border=\"1\" class=\"dataframe\">\n",
       "  <thead>\n",
       "    <tr style=\"text-align: right;\">\n",
       "      <th></th>\n",
       "      <th>month</th>\n",
       "      <th>PLANT_NAME</th>\n",
       "      <th>Quantity_KT_In</th>\n",
       "    </tr>\n",
       "  </thead>\n",
       "  <tbody>\n",
       "    <tr>\n",
       "      <th>0</th>\n",
       "      <td>2024-01-01</td>\n",
       "      <td>SINGAPORE-WAREHOUSE</td>\n",
       "      <td>6.867000</td>\n",
       "    </tr>\n",
       "    <tr>\n",
       "      <th>1</th>\n",
       "      <td>2024-02-01</td>\n",
       "      <td>SINGAPORE-WAREHOUSE</td>\n",
       "      <td>7.128995</td>\n",
       "    </tr>\n",
       "    <tr>\n",
       "      <th>2</th>\n",
       "      <td>2024-03-01</td>\n",
       "      <td>SINGAPORE-WAREHOUSE</td>\n",
       "      <td>15.858001</td>\n",
       "    </tr>\n",
       "    <tr>\n",
       "      <th>3</th>\n",
       "      <td>2024-04-01</td>\n",
       "      <td>SINGAPORE-WAREHOUSE</td>\n",
       "      <td>14.027350</td>\n",
       "    </tr>\n",
       "    <tr>\n",
       "      <th>4</th>\n",
       "      <td>2024-05-01</td>\n",
       "      <td>SINGAPORE-WAREHOUSE</td>\n",
       "      <td>12.248625</td>\n",
       "    </tr>\n",
       "  </tbody>\n",
       "</table>\n",
       "</div>"
      ],
      "text/plain": [
       "       month           PLANT_NAME  Quantity_KT_In\n",
       "0 2024-01-01  SINGAPORE-WAREHOUSE        6.867000\n",
       "1 2024-02-01  SINGAPORE-WAREHOUSE        7.128995\n",
       "2 2024-03-01  SINGAPORE-WAREHOUSE       15.858001\n",
       "3 2024-04-01  SINGAPORE-WAREHOUSE       14.027350\n",
       "4 2024-05-01  SINGAPORE-WAREHOUSE       12.248625"
      ]
     },
     "execution_count": 974,
     "metadata": {},
     "output_type": "execute_result"
    }
   ],
   "source": [
    "inbound_singapore['month'] = inbound_singapore['INBOUND_DATE'].dt.to_period('M').dt.to_timestamp()\n",
    "\n",
    "Inbound_monthly_singapore = (\n",
    "    inbound_singapore.groupby(['month', 'PLANT_NAME'])['Quantity_KT_In']\n",
    "    .sum()\n",
    "    .reset_index()\n",
    ")\n",
    "Inbound_monthly_singapore.head()"
   ]
  },
  {
   "cell_type": "markdown",
   "id": "e34fcf7f",
   "metadata": {},
   "source": [
    "**Outbound**"
   ]
  },
  {
   "cell_type": "code",
   "execution_count": 975,
   "id": "c799c31b",
   "metadata": {},
   "outputs": [
    {
     "data": {
      "text/html": [
       "<div>\n",
       "<style scoped>\n",
       "    .dataframe tbody tr th:only-of-type {\n",
       "        vertical-align: middle;\n",
       "    }\n",
       "\n",
       "    .dataframe tbody tr th {\n",
       "        vertical-align: top;\n",
       "    }\n",
       "\n",
       "    .dataframe thead th {\n",
       "        text-align: right;\n",
       "    }\n",
       "</style>\n",
       "<table border=\"1\" class=\"dataframe\">\n",
       "  <thead>\n",
       "    <tr style=\"text-align: right;\">\n",
       "      <th></th>\n",
       "      <th>month</th>\n",
       "      <th>PLANT_NAME</th>\n",
       "      <th>Quantity_KT_Out</th>\n",
       "    </tr>\n",
       "  </thead>\n",
       "  <tbody>\n",
       "    <tr>\n",
       "      <th>0</th>\n",
       "      <td>2024-01-01</td>\n",
       "      <td>SINGAPORE-WAREHOUSE</td>\n",
       "      <td>8.030355</td>\n",
       "    </tr>\n",
       "    <tr>\n",
       "      <th>1</th>\n",
       "      <td>2024-02-01</td>\n",
       "      <td>SINGAPORE-WAREHOUSE</td>\n",
       "      <td>10.046795</td>\n",
       "    </tr>\n",
       "    <tr>\n",
       "      <th>2</th>\n",
       "      <td>2024-03-01</td>\n",
       "      <td>SINGAPORE-WAREHOUSE</td>\n",
       "      <td>11.107855</td>\n",
       "    </tr>\n",
       "    <tr>\n",
       "      <th>3</th>\n",
       "      <td>2024-04-01</td>\n",
       "      <td>SINGAPORE-WAREHOUSE</td>\n",
       "      <td>8.797185</td>\n",
       "    </tr>\n",
       "    <tr>\n",
       "      <th>4</th>\n",
       "      <td>2024-05-01</td>\n",
       "      <td>SINGAPORE-WAREHOUSE</td>\n",
       "      <td>10.501950</td>\n",
       "    </tr>\n",
       "  </tbody>\n",
       "</table>\n",
       "</div>"
      ],
      "text/plain": [
       "       month           PLANT_NAME  Quantity_KT_Out\n",
       "0 2024-01-01  SINGAPORE-WAREHOUSE         8.030355\n",
       "1 2024-02-01  SINGAPORE-WAREHOUSE        10.046795\n",
       "2 2024-03-01  SINGAPORE-WAREHOUSE        11.107855\n",
       "3 2024-04-01  SINGAPORE-WAREHOUSE         8.797185\n",
       "4 2024-05-01  SINGAPORE-WAREHOUSE        10.501950"
      ]
     },
     "execution_count": 975,
     "metadata": {},
     "output_type": "execute_result"
    }
   ],
   "source": [
    "outbound_singapore['month'] = outbound_singapore['OUTBOUND_DATE'].dt.to_period('M').dt.to_timestamp()\n",
    "\n",
    "Outbound_monthly_singapore = (\n",
    "    outbound_singapore.groupby(['month', 'PLANT_NAME'])['Quantity_KT_Out']\n",
    "    .sum()\n",
    "    .reset_index()\n",
    ")\n",
    "Outbound_monthly_singapore.head()"
   ]
  },
  {
   "cell_type": "markdown",
   "id": "4d3c0888",
   "metadata": {},
   "source": [
    "## **Merge**"
   ]
  },
  {
   "cell_type": "code",
   "execution_count": 976,
   "id": "73dd9aeb",
   "metadata": {},
   "outputs": [
    {
     "data": {
      "text/html": [
       "<div>\n",
       "<style scoped>\n",
       "    .dataframe tbody tr th:only-of-type {\n",
       "        vertical-align: middle;\n",
       "    }\n",
       "\n",
       "    .dataframe tbody tr th {\n",
       "        vertical-align: top;\n",
       "    }\n",
       "\n",
       "    .dataframe thead th {\n",
       "        text-align: right;\n",
       "    }\n",
       "</style>\n",
       "<table border=\"1\" class=\"dataframe\">\n",
       "  <thead>\n",
       "    <tr style=\"text-align: right;\">\n",
       "      <th></th>\n",
       "      <th>month</th>\n",
       "      <th>PLANT_NAME</th>\n",
       "      <th>Quantity_KT_In</th>\n",
       "      <th>Quantity_KT_Out</th>\n",
       "      <th>Quantity_KT_Inventory</th>\n",
       "    </tr>\n",
       "  </thead>\n",
       "  <tbody>\n",
       "    <tr>\n",
       "      <th>0</th>\n",
       "      <td>2024-01-01</td>\n",
       "      <td>SINGAPORE-WAREHOUSE</td>\n",
       "      <td>6.867000</td>\n",
       "      <td>8.030355</td>\n",
       "      <td>40.213850</td>\n",
       "    </tr>\n",
       "    <tr>\n",
       "      <th>1</th>\n",
       "      <td>2024-02-01</td>\n",
       "      <td>SINGAPORE-WAREHOUSE</td>\n",
       "      <td>7.128995</td>\n",
       "      <td>10.046795</td>\n",
       "      <td>36.465800</td>\n",
       "    </tr>\n",
       "    <tr>\n",
       "      <th>2</th>\n",
       "      <td>2024-03-01</td>\n",
       "      <td>SINGAPORE-WAREHOUSE</td>\n",
       "      <td>15.858001</td>\n",
       "      <td>11.107855</td>\n",
       "      <td>69.876600</td>\n",
       "    </tr>\n",
       "    <tr>\n",
       "      <th>3</th>\n",
       "      <td>2024-04-01</td>\n",
       "      <td>SINGAPORE-WAREHOUSE</td>\n",
       "      <td>14.027350</td>\n",
       "      <td>8.797185</td>\n",
       "      <td>34.619875</td>\n",
       "    </tr>\n",
       "    <tr>\n",
       "      <th>4</th>\n",
       "      <td>2024-05-01</td>\n",
       "      <td>SINGAPORE-WAREHOUSE</td>\n",
       "      <td>12.248625</td>\n",
       "      <td>10.501950</td>\n",
       "      <td>35.428425</td>\n",
       "    </tr>\n",
       "  </tbody>\n",
       "</table>\n",
       "</div>"
      ],
      "text/plain": [
       "       month           PLANT_NAME  Quantity_KT_In  Quantity_KT_Out  \\\n",
       "0 2024-01-01  SINGAPORE-WAREHOUSE        6.867000         8.030355   \n",
       "1 2024-02-01  SINGAPORE-WAREHOUSE        7.128995        10.046795   \n",
       "2 2024-03-01  SINGAPORE-WAREHOUSE       15.858001        11.107855   \n",
       "3 2024-04-01  SINGAPORE-WAREHOUSE       14.027350         8.797185   \n",
       "4 2024-05-01  SINGAPORE-WAREHOUSE       12.248625        10.501950   \n",
       "\n",
       "   Quantity_KT_Inventory  \n",
       "0              40.213850  \n",
       "1              36.465800  \n",
       "2              69.876600  \n",
       "3              34.619875  \n",
       "4              35.428425  "
      ]
     },
     "execution_count": 976,
     "metadata": {},
     "output_type": "execute_result"
    }
   ],
   "source": [
    "df = pd.merge(\n",
    "    Inbound_monthly_singapore,\n",
    "    Inventory_monthly_singapore,\n",
    "    on=['month', 'PLANT_NAME'],\n",
    "    how='left'\n",
    ")\n",
    "df = pd.merge(\n",
    "    df,\n",
    "    Outbound_monthly_singapore,\n",
    "    on=['month', 'PLANT_NAME'],\n",
    "    how='left'\n",
    ")\n",
    "df.fillna(0, inplace=True)\n",
    "df = df[['month', 'PLANT_NAME', 'Quantity_KT_In', 'Quantity_KT_Out', 'Quantity_KT_Inventory']]\n",
    "df.head()"
   ]
  },
  {
   "cell_type": "code",
   "execution_count": 977,
   "id": "efae50c6",
   "metadata": {},
   "outputs": [
    {
     "data": {
      "image/png": "[encoded data removed]",
      "text/plain": [
       "<Figure size 1200x600 with 1 Axes>"
      ]
     },
     "metadata": {},
     "output_type": "display_data"
    }
   ],
   "source": [
    "y = [53.5] * 11 + [48]\n",
    "plt.figure(figsize=(12, 6))\n",
    "plt.plot(df['month'], df['Quantity_KT_In'], marker='o', label='Inbound Qty (KT)')\n",
    "plt.plot(df['month'], df['Quantity_KT_Out'], marker='s', label='Outbound Qty (KT)')\n",
    "plt.plot(df['month'], y, color='r', linestyle='--', label='Baseline (WH Capacity (KT))')\n",
    "plt.plot(df['month'], df['Quantity_KT_Inventory'], marker='^', label='Inventory Qty (KT)')\n",
    "plt.title('Monthly Inbound, Outbound, and Inventory Qty (MT) - Singapore Warehouse')\n",
    "plt.xlabel('Month')\n",
    "plt.ylabel('Quantity (KT)')\n",
    "plt.legend()\n",
    "plt.grid(True)\n",
    "plt.xticks(rotation=45)\n",
    "plt.tight_layout()\n",
    "plt.show()"
   ]
  },
  {
   "cell_type": "code",
   "execution_count": 978,
   "id": "b41e4e0f",
   "metadata": {},
   "outputs": [
    {
     "data": {
      "image/png": "[encoded data removed]",
      "text/plain": [
       "<Figure size 1200x600 with 1 Axes>"
      ]
     },
     "metadata": {},
     "output_type": "display_data"
    }
   ],
   "source": [
    "plt.figure(figsize=(12, 6))\n",
    "\n",
    "plt.plot(df['month'], df['Quantity_KT_In'], marker='o', label='Inbound Qty (KT)')\n",
    "plt.plot(df['month'], df['Quantity_KT_Out'], marker='s', label='Outbound Qty (KT)')\n",
    "\n",
    "plt.title('Inbound vs Outbound - Singapore Warehouse (Monthly)')\n",
    "plt.xlabel('Month')\n",
    "plt.ylabel('Quantity (KT)')\n",
    "plt.legend()\n",
    "plt.grid(True)\n",
    "plt.xticks(rotation=45)\n",
    "\n",
    "plt.tight_layout()\n",
    "plt.show()"
   ]
  },
  {
   "cell_type": "code",
   "execution_count": 979,
   "id": "e5802488",
   "metadata": {},
   "outputs": [
    {
     "data": {
      "image/png": "[encoded data removed]",
      "text/plain": [
       "<Figure size 1200x600 with 1 Axes>"
      ]
     },
     "metadata": {},
     "output_type": "display_data"
    }
   ],
   "source": [
    "plt.figure(figsize=(12, 6))\n",
    "plt.plot(df['month'], df['Quantity_KT_Inventory'], marker='^', label='Inventory Qty (KT)')\n",
    "plt.plot(df['month'], y, color='r', linestyle='--', label='Baseline (WH Capacity (KT))')\n",
    "plt.title('Inventory vs Baseline - Singapore Warehouse (Monthly)')\n",
    "plt.xlabel('Month')\n",
    "plt.ylabel('Quantity (KT)')\n",
    "plt.legend()\n",
    "plt.grid(True)\n",
    "plt.xticks(rotation=45)\n",
    "plt.tight_layout()\n",
    "plt.show()"
   ]
  },
  {
   "cell_type": "markdown",
   "id": "b63f08ce",
   "metadata": {},
   "source": [
    "---"
   ]
  },
  {
   "cell_type": "markdown",
   "id": "a5ffcf0f",
   "metadata": {},
   "source": [
    "# **Forecasting**"
   ]
  },
  {
   "cell_type": "code",
   "execution_count": 980,
   "id": "619e85f2",
   "metadata": {},
   "outputs": [],
   "source": [
    "singapore_data = {\n",
    "    'Month': ['Jan-24', 'Feb-24', 'Mar-24', 'Apr-24', 'May-24', 'Jun-24', 'Jul-24', 'Aug-24', 'Sep-24', 'Oct-24', 'Nov-24', 'Dec-24'],\n",
    "    'Total Cap (KT)': [53.5, 53.5, 53.5, 53.5, 53.5, 53.5, 53.5, 53.5, 53.5, 53.5, 53.5, 48],\n",
    "    'Predicted Outbound (KT)': [8.71, 10.95, 9.36, 7.52, 10.74, 9.44, 11.38, 11.33, 16.70, 20.98, 16.47, 13.97],\n",
    "    'Predicted Inventory (KT)': [39.581, 36.763, 35.049, 35.663, 36.374, 40.5, 44.288, 41.769, 41.735, 41.849, 40.327, 15.37505]\n",
    "}\n",
    "\n",
    "singapore_predicted = pd.DataFrame(singapore_data)\n",
    "singapore_predicted['Month'] = pd.to_datetime(singapore_predicted['Month'], format='%b-%y').dt.to_period('M')"
   ]
  },
  {
   "cell_type": "code",
   "execution_count": 981,
   "id": "eaf4a2f3",
   "metadata": {},
   "outputs": [
    {
     "data": {
      "text/html": [
       "<div>\n",
       "<style scoped>\n",
       "    .dataframe tbody tr th:only-of-type {\n",
       "        vertical-align: middle;\n",
       "    }\n",
       "\n",
       "    .dataframe tbody tr th {\n",
       "        vertical-align: top;\n",
       "    }\n",
       "\n",
       "    .dataframe thead th {\n",
       "        text-align: right;\n",
       "    }\n",
       "</style>\n",
       "<table border=\"1\" class=\"dataframe\">\n",
       "  <thead>\n",
       "    <tr style=\"text-align: right;\">\n",
       "      <th></th>\n",
       "      <th>Month</th>\n",
       "      <th>Total Cap (KT)</th>\n",
       "      <th>Predicted Outbound (KT)</th>\n",
       "      <th>Predicted Inventory (KT)</th>\n",
       "    </tr>\n",
       "  </thead>\n",
       "  <tbody>\n",
       "    <tr>\n",
       "      <th>0</th>\n",
       "      <td>2024-01</td>\n",
       "      <td>53.5</td>\n",
       "      <td>8.71</td>\n",
       "      <td>39.58100</td>\n",
       "    </tr>\n",
       "    <tr>\n",
       "      <th>1</th>\n",
       "      <td>2024-02</td>\n",
       "      <td>53.5</td>\n",
       "      <td>10.95</td>\n",
       "      <td>36.76300</td>\n",
       "    </tr>\n",
       "    <tr>\n",
       "      <th>2</th>\n",
       "      <td>2024-03</td>\n",
       "      <td>53.5</td>\n",
       "      <td>9.36</td>\n",
       "      <td>35.04900</td>\n",
       "    </tr>\n",
       "    <tr>\n",
       "      <th>3</th>\n",
       "      <td>2024-04</td>\n",
       "      <td>53.5</td>\n",
       "      <td>7.52</td>\n",
       "      <td>35.66300</td>\n",
       "    </tr>\n",
       "    <tr>\n",
       "      <th>4</th>\n",
       "      <td>2024-05</td>\n",
       "      <td>53.5</td>\n",
       "      <td>10.74</td>\n",
       "      <td>36.37400</td>\n",
       "    </tr>\n",
       "    <tr>\n",
       "      <th>5</th>\n",
       "      <td>2024-06</td>\n",
       "      <td>53.5</td>\n",
       "      <td>9.44</td>\n",
       "      <td>40.50000</td>\n",
       "    </tr>\n",
       "    <tr>\n",
       "      <th>6</th>\n",
       "      <td>2024-07</td>\n",
       "      <td>53.5</td>\n",
       "      <td>11.38</td>\n",
       "      <td>44.28800</td>\n",
       "    </tr>\n",
       "    <tr>\n",
       "      <th>7</th>\n",
       "      <td>2024-08</td>\n",
       "      <td>53.5</td>\n",
       "      <td>11.33</td>\n",
       "      <td>41.76900</td>\n",
       "    </tr>\n",
       "    <tr>\n",
       "      <th>8</th>\n",
       "      <td>2024-09</td>\n",
       "      <td>53.5</td>\n",
       "      <td>16.70</td>\n",
       "      <td>41.73500</td>\n",
       "    </tr>\n",
       "    <tr>\n",
       "      <th>9</th>\n",
       "      <td>2024-10</td>\n",
       "      <td>53.5</td>\n",
       "      <td>20.98</td>\n",
       "      <td>41.84900</td>\n",
       "    </tr>\n",
       "    <tr>\n",
       "      <th>10</th>\n",
       "      <td>2024-11</td>\n",
       "      <td>53.5</td>\n",
       "      <td>16.47</td>\n",
       "      <td>40.32700</td>\n",
       "    </tr>\n",
       "    <tr>\n",
       "      <th>11</th>\n",
       "      <td>2024-12</td>\n",
       "      <td>48.0</td>\n",
       "      <td>13.97</td>\n",
       "      <td>15.37505</td>\n",
       "    </tr>\n",
       "  </tbody>\n",
       "</table>\n",
       "</div>"
      ],
      "text/plain": [
       "      Month  Total Cap (KT)  Predicted Outbound (KT)  Predicted Inventory (KT)\n",
       "0   2024-01            53.5                     8.71                  39.58100\n",
       "1   2024-02            53.5                    10.95                  36.76300\n",
       "2   2024-03            53.5                     9.36                  35.04900\n",
       "3   2024-04            53.5                     7.52                  35.66300\n",
       "4   2024-05            53.5                    10.74                  36.37400\n",
       "5   2024-06            53.5                     9.44                  40.50000\n",
       "6   2024-07            53.5                    11.38                  44.28800\n",
       "7   2024-08            53.5                    11.33                  41.76900\n",
       "8   2024-09            53.5                    16.70                  41.73500\n",
       "9   2024-10            53.5                    20.98                  41.84900\n",
       "10  2024-11            53.5                    16.47                  40.32700\n",
       "11  2024-12            48.0                    13.97                  15.37505"
      ]
     },
     "execution_count": 981,
     "metadata": {},
     "output_type": "execute_result"
    }
   ],
   "source": [
    "singapore_predicted"
   ]
  },
  {
   "cell_type": "code",
   "execution_count": 982,
   "id": "16b7f635",
   "metadata": {},
   "outputs": [
    {
     "data": {
      "image/png": "[encoded data removed]",
      "text/plain": [
       "<Figure size 1200x600 with 1 Axes>"
      ]
     },
     "metadata": {},
     "output_type": "display_data"
    }
   ],
   "source": [
    "plt.figure(figsize=(12, 6))\n",
    "\n",
    "plt.plot(singapore_predicted['Month'].astype(str), singapore_predicted['Predicted Outbound (KT)'], marker='s', label='Predicted Outbound (KT)')\n",
    "plt.plot(singapore_predicted['Month'].astype(str), singapore_predicted['Predicted Inventory (KT)'], marker='^', label='Predicted Inventory (KT)')\n",
    "plt.plot(singapore_predicted['Month'].astype(str), singapore_predicted['Total Cap (KT)'], marker='o', linestyle='--', color='red', label='Total Cap (KT)')\n",
    "\n",
    "plt.title('Predicted Outbound, Inventory, and Total Cap - Singapore Warehouse (Monthly)')\n",
    "plt.xlabel('Month')\n",
    "plt.ylabel('Quantity (KT)')\n",
    "plt.legend()\n",
    "plt.grid(True)\n",
    "plt.xticks(rotation=45)\n",
    "plt.tight_layout()\n",
    "plt.show()"
   ]
  },
  {
   "cell_type": "markdown",
   "id": "cb2acbdb",
   "metadata": {},
   "source": [
    "## **Inventory Pred vs Actual**"
   ]
  },
  {
   "cell_type": "code",
   "execution_count": 983,
   "id": "9376656c",
   "metadata": {},
   "outputs": [
    {
     "name": "stdout",
     "output_type": "stream",
     "text": [
      "Actual vs Predicted Inventory (Singapore Warehouse):\n"
     ]
    },
    {
     "data": {
      "text/html": [
       "<div>\n",
       "<style scoped>\n",
       "    .dataframe tbody tr th:only-of-type {\n",
       "        vertical-align: middle;\n",
       "    }\n",
       "\n",
       "    .dataframe tbody tr th {\n",
       "        vertical-align: top;\n",
       "    }\n",
       "\n",
       "    .dataframe thead th {\n",
       "        text-align: right;\n",
       "    }\n",
       "</style>\n",
       "<table border=\"1\" class=\"dataframe\">\n",
       "  <thead>\n",
       "    <tr style=\"text-align: right;\">\n",
       "      <th></th>\n",
       "      <th>month</th>\n",
       "      <th>Quantity_KT_Inventory</th>\n",
       "      <th>Predicted_Inventory</th>\n",
       "      <th>Deviation</th>\n",
       "    </tr>\n",
       "  </thead>\n",
       "  <tbody>\n",
       "    <tr>\n",
       "      <th>0</th>\n",
       "      <td>2024-01-01</td>\n",
       "      <td>40.213850</td>\n",
       "      <td>39.58100</td>\n",
       "      <td>0.632850</td>\n",
       "    </tr>\n",
       "    <tr>\n",
       "      <th>1</th>\n",
       "      <td>2024-02-01</td>\n",
       "      <td>36.465800</td>\n",
       "      <td>36.76300</td>\n",
       "      <td>-0.297200</td>\n",
       "    </tr>\n",
       "    <tr>\n",
       "      <th>2</th>\n",
       "      <td>2024-03-01</td>\n",
       "      <td>69.876600</td>\n",
       "      <td>35.04900</td>\n",
       "      <td>34.827600</td>\n",
       "    </tr>\n",
       "    <tr>\n",
       "      <th>3</th>\n",
       "      <td>2024-04-01</td>\n",
       "      <td>34.619875</td>\n",
       "      <td>35.66300</td>\n",
       "      <td>-1.043125</td>\n",
       "    </tr>\n",
       "    <tr>\n",
       "      <th>4</th>\n",
       "      <td>2024-05-01</td>\n",
       "      <td>35.428425</td>\n",
       "      <td>36.37400</td>\n",
       "      <td>-0.945575</td>\n",
       "    </tr>\n",
       "    <tr>\n",
       "      <th>5</th>\n",
       "      <td>2024-06-01</td>\n",
       "      <td>40.010550</td>\n",
       "      <td>40.50000</td>\n",
       "      <td>-0.489450</td>\n",
       "    </tr>\n",
       "    <tr>\n",
       "      <th>6</th>\n",
       "      <td>2024-07-01</td>\n",
       "      <td>44.052125</td>\n",
       "      <td>44.28800</td>\n",
       "      <td>-0.235875</td>\n",
       "    </tr>\n",
       "    <tr>\n",
       "      <th>7</th>\n",
       "      <td>2024-08-01</td>\n",
       "      <td>41.428880</td>\n",
       "      <td>41.76900</td>\n",
       "      <td>-0.340120</td>\n",
       "    </tr>\n",
       "    <tr>\n",
       "      <th>8</th>\n",
       "      <td>2024-09-01</td>\n",
       "      <td>43.000855</td>\n",
       "      <td>41.73500</td>\n",
       "      <td>1.265855</td>\n",
       "    </tr>\n",
       "    <tr>\n",
       "      <th>9</th>\n",
       "      <td>2024-10-01</td>\n",
       "      <td>42.749300</td>\n",
       "      <td>41.84900</td>\n",
       "      <td>0.900300</td>\n",
       "    </tr>\n",
       "    <tr>\n",
       "      <th>10</th>\n",
       "      <td>2024-11-01</td>\n",
       "      <td>42.667825</td>\n",
       "      <td>40.32700</td>\n",
       "      <td>2.340825</td>\n",
       "    </tr>\n",
       "    <tr>\n",
       "      <th>11</th>\n",
       "      <td>2024-12-01</td>\n",
       "      <td>57.333925</td>\n",
       "      <td>15.37505</td>\n",
       "      <td>41.958875</td>\n",
       "    </tr>\n",
       "  </tbody>\n",
       "</table>\n",
       "</div>"
      ],
      "text/plain": [
       "        month  Quantity_KT_Inventory  Predicted_Inventory  Deviation\n",
       "0  2024-01-01              40.213850             39.58100   0.632850\n",
       "1  2024-02-01              36.465800             36.76300  -0.297200\n",
       "2  2024-03-01              69.876600             35.04900  34.827600\n",
       "3  2024-04-01              34.619875             35.66300  -1.043125\n",
       "4  2024-05-01              35.428425             36.37400  -0.945575\n",
       "5  2024-06-01              40.010550             40.50000  -0.489450\n",
       "6  2024-07-01              44.052125             44.28800  -0.235875\n",
       "7  2024-08-01              41.428880             41.76900  -0.340120\n",
       "8  2024-09-01              43.000855             41.73500   1.265855\n",
       "9  2024-10-01              42.749300             41.84900   0.900300\n",
       "10 2024-11-01              42.667825             40.32700   2.340825\n",
       "11 2024-12-01              57.333925             15.37505  41.958875"
      ]
     },
     "execution_count": 983,
     "metadata": {},
     "output_type": "execute_result"
    }
   ],
   "source": [
    "comparison = df[['month', 'Quantity_KT_Inventory']].copy()\n",
    "comparison['Predicted_Inventory'] = comparison['month'].apply(\n",
    "    lambda m: singapore_predicted.loc[singapore_predicted['Month'].dt.to_timestamp() == m, 'Predicted Inventory (KT)'].values[0]\n",
    "    if not singapore_predicted.loc[singapore_predicted['Month'].dt.to_timestamp() == m].empty else None\n",
    ")\n",
    "comparison['Deviation'] = comparison['Quantity_KT_Inventory'] - comparison['Predicted_Inventory']\n",
    "\n",
    "print(\"Actual vs Predicted Inventory (Singapore Warehouse):\")\n",
    "comparison"
   ]
  },
  {
   "cell_type": "code",
   "execution_count": 984,
   "id": "080ac611",
   "metadata": {},
   "outputs": [
    {
     "data": {
      "image/png": "[encoded data removed]",
      "text/plain": [
       "<Figure size 1200x600 with 1 Axes>"
      ]
     },
     "metadata": {},
     "output_type": "display_data"
    }
   ],
   "source": [
    "plt.figure(figsize=(12, 6))\n",
    "plt.plot(df['month'], df['Quantity_KT_Inventory'], marker='o', label='Actual Inventory (KT)')\n",
    "plt.plot(df['month'], y, color='r', linestyle='--', label='Baseline (WH Capacity 53.5 KT)')\n",
    "plt.plot(singapore_predicted['Month'].dt.to_timestamp(), singapore_predicted['Predicted Inventory (KT)'], marker='^', label='Predicted Inventory (KT)')\n",
    "plt.title('Actual vs Predicted Inventory - Singapore Warehouse')\n",
    "plt.xlabel('Month')\n",
    "plt.ylabel('Inventory (KT)')\n",
    "plt.legend()\n",
    "plt.grid(True)\n",
    "plt.xticks(rotation=45)\n",
    "plt.tight_layout()\n",
    "plt.show()\n"
   ]
  },
  {
   "cell_type": "markdown",
   "id": "62d20f2b",
   "metadata": {},
   "source": [
    "## **Adjust Inventory Predicted**"
   ]
  },
  {
   "cell_type": "code",
   "execution_count": 985,
   "id": "a4511e30",
   "metadata": {},
   "outputs": [
    {
     "name": "stdout",
     "output_type": "stream",
     "text": [
      "[Train] MAE: 1.85 | RMSE: 3.50\n",
      "[Test ] MAE: 1.77 | RMSE: 1.97\n"
     ]
    }
   ],
   "source": [
    "comparison_valid = comparison.dropna(subset=['Predicted_Inventory','Quantity_KT_Inventory'])\n",
    "\n",
    "X = comparison_valid[['Predicted_Inventory']]\n",
    "y = comparison_valid['Quantity_KT_Inventory']\n",
    "\n",
    "scaler = RobustScaler()\n",
    "X_scaled = scaler.fit_transform(X)\n",
    "\n",
    "cut_off_date = pd.to_datetime('2024-09-30')\n",
    "\n",
    "train_mask = comparison_valid['month'] <= cut_off_date\n",
    "test_mask = comparison_valid['month'] > cut_off_date\n",
    "\n",
    "X_train = X_scaled[train_mask]\n",
    "X_test = X_scaled[test_mask]\n",
    "y_train = y[train_mask]\n",
    "y_test = y[test_mask]\n",
    "\n",
    "xgb = xgb.XGBRegressor(\n",
    "    n_estimators=150,\n",
    "    learning_rate=0.02,   \n",
    "    max_depth=3,           \n",
    "    subsample=0.8,          \n",
    "    colsample_bytree=0.8,   \n",
    "    reg_alpha=0.5,          \n",
    "    reg_lambda=1.0,           \n",
    "    random_state=42\n",
    ")\n",
    "\n",
    "xgb.fit(X_train, y_train)\n",
    "\n",
    "y_train_pred = xgb.predict(X_train)\n",
    "y_test_pred = xgb.predict(X_test)\n",
    "\n",
    "print(f\"[Train] MAE: {mean_absolute_error(y_train, y_train_pred):.2f} | RMSE: {np.sqrt(mean_squared_error(y_train, y_train_pred)):.2f}\")\n",
    "print(f\"[Test ] MAE: {mean_absolute_error(y_test, y_test_pred):.2f} | RMSE: {np.sqrt(mean_squared_error(y_test, y_test_pred)):.2f}\")"
   ]
  },
  {
   "cell_type": "code",
   "execution_count": 986,
   "id": "473c7192",
   "metadata": {},
   "outputs": [
    {
     "data": {
      "application/vnd.plotly.v1+json": {
       "config": {
        "plotlyServerURL": "https://plot.ly"
       },
       "data": [
        {
         "hovertemplate": "variable=Quantity_KT_Inventory<br>month=%{x}<br>value=%{y}<extra></extra>",
         "legendgroup": "Quantity_KT_Inventory",
         "line": {
          "color": "#636efa",
          "dash": "solid"
         },
         "marker": {
          "symbol": "circle"
         },
         "mode": "lines+markers",
         "name": "Quantity_KT_Inventory",
         "orientation": "v",
         "showlegend": true,
         "type": "scatter",
         "x": [
          "2024-01-01T00:00:00",
          "2024-02-01T00:00:00",
          "2024-03-01T00:00:00",
          "2024-04-01T00:00:00",
          "2024-05-01T00:00:00",
          "2024-06-01T00:00:00",
          "2024-07-01T00:00:00",
          "2024-08-01T00:00:00",
          "2024-09-01T00:00:00",
          "2024-10-01T00:00:00",
          "2024-11-01T00:00:00",
          "2024-12-01T00:00:00"
         ],
         "xaxis": "x",
         "y": [
          40.21385,
          36.4658,
          69.8766,
          34.619875,
          35.428425,
          40.01055,
          44.052125,
          41.42888,
          43.000855,
          42.7493,
          42.667825,
          57.333925
         ],
         "yaxis": "y"
        },
        {
         "hovertemplate": "variable=Predicted_Inventory<br>month=%{x}<br>value=%{y}<extra></extra>",
         "legendgroup": "Predicted_Inventory",
         "line": {
          "color": "#EF553B",
          "dash": "solid"
         },
         "marker": {
          "symbol": "circle"
         },
         "mode": "lines+markers",
         "name": "Predicted_Inventory",
         "orientation": "v",
         "showlegend": true,
         "type": "scatter",
         "x": [
          "2024-01-01T00:00:00",
          "2024-02-01T00:00:00",
          "2024-03-01T00:00:00",
          "2024-04-01T00:00:00",
          "2024-05-01T00:00:00",
          "2024-06-01T00:00:00",
          "2024-07-01T00:00:00",
          "2024-08-01T00:00:00",
          "2024-09-01T00:00:00",
          "2024-10-01T00:00:00",
          "2024-11-01T00:00:00",
          "2024-12-01T00:00:00"
         ],
         "xaxis": "x",
         "y": [
          39.581,
          36.763,
          35.049,
          35.663,
          36.374,
          40.5,
          44.288,
          41.769,
          41.735,
          41.849,
          40.327,
          15.37505
         ],
         "yaxis": "y"
        },
        {
         "hovertemplate": "variable=Predicted_Adjusted<br>month=%{x}<br>value=%{y}<extra></extra>",
         "legendgroup": "Predicted_Adjusted",
         "line": {
          "color": "#00cc96",
          "dash": "solid"
         },
         "marker": {
          "symbol": "circle"
         },
         "mode": "lines+markers",
         "name": "Predicted_Adjusted",
         "orientation": "v",
         "showlegend": true,
         "type": "scatter",
         "x": [
          "2024-01-01T00:00:00",
          "2024-02-01T00:00:00",
          "2024-03-01T00:00:00",
          "2024-04-01T00:00:00",
          "2024-05-01T00:00:00",
          "2024-06-01T00:00:00",
          "2024-07-01T00:00:00",
          "2024-08-01T00:00:00",
          "2024-09-01T00:00:00",
          "2024-10-01T00:00:00",
          "2024-11-01T00:00:00",
          "2024-12-01T00:00:00"
         ],
         "xaxis": "x",
         "y": [
          40.29722595214844,
          36.86185836791992,
          59.7261962890625,
          36.60986328125,
          36.60986328125,
          40.588722229003906,
          43.272438049316406,
          42.195308685302734,
          42.315589904785156,
          42.195308685302734,
          40.29722595214844,
          59.7261962890625
         ],
         "yaxis": "y"
        }
       ],
       "layout": {
        "legend": {
         "title": {
          "text": "variable"
         },
         "tracegroupgap": 0
        },
        "template": {
         "data": {
          "bar": [
           {
            "error_x": {
             "color": "#2a3f5f"
            },
            "error_y": {
             "color": "#2a3f5f"
            },
            "marker": {
             "line": {
              "color": "#E5ECF6",
              "width": 0.5
             },
             "pattern": {
              "fillmode": "overlay",
              "size": 10,
              "solidity": 0.2
             }
            },
            "type": "bar"
           }
          ],
          "barpolar": [
           {
            "marker": {
             "line": {
              "color": "#E5ECF6",
              "width": 0.5
             },
             "pattern": {
              "fillmode": "overlay",
              "size": 10,
              "solidity": 0.2
             }
            },
            "type": "barpolar"
           }
          ],
          "carpet": [
           {
            "aaxis": {
             "endlinecolor": "#2a3f5f",
             "gridcolor": "white",
             "linecolor": "white",
             "minorgridcolor": "white",
             "startlinecolor": "#2a3f5f"
            },
            "baxis": {
             "endlinecolor": "#2a3f5f",
             "gridcolor": "white",
             "linecolor": "white",
             "minorgridcolor": "white",
             "startlinecolor": "#2a3f5f"
            },
            "type": "carpet"
           }
          ],
          "choropleth": [
           {
            "colorbar": {
             "outlinewidth": 0,
             "ticks": ""
            },
            "type": "choropleth"
           }
          ],
          "contour": [
           {
            "colorbar": {
             "outlinewidth": 0,
             "ticks": ""
            },
            "colorscale": [
             [
              0,
              "#0d0887"
             ],
             [
              0.1111111111111111,
              "#46039f"
             ],
             [
              0.2222222222222222,
              "#7201a8"
             ],
             [
              0.3333333333333333,
              "#9c179e"
             ],
             [
              0.4444444444444444,
              "#bd3786"
             ],
             [
              0.5555555555555556,
              "#d8576b"
             ],
             [
              0.6666666666666666,
              "#ed7953"
             ],
             [
              0.7777777777777778,
              "#fb9f3a"
             ],
             [
              0.8888888888888888,
              "#fdca26"
             ],
             [
              1,
              "#f0f921"
             ]
            ],
            "type": "contour"
           }
          ],
          "contourcarpet": [
           {
            "colorbar": {
             "outlinewidth": 0,
             "ticks": ""
            },
            "type": "contourcarpet"
           }
          ],
          "heatmap": [
           {
            "colorbar": {
             "outlinewidth": 0,
             "ticks": ""
            },
            "colorscale": [
             [
              0,
              "#0d0887"
             ],
             [
              0.1111111111111111,
              "#46039f"
             ],
             [
              0.2222222222222222,
              "#7201a8"
             ],
             [
              0.3333333333333333,
              "#9c179e"
             ],
             [
              0.4444444444444444,
              "#bd3786"
             ],
             [
              0.5555555555555556,
              "#d8576b"
             ],
             [
              0.6666666666666666,
              "#ed7953"
             ],
             [
              0.7777777777777778,
              "#fb9f3a"
             ],
             [
              0.8888888888888888,
              "#fdca26"
             ],
             [
              1,
              "#f0f921"
             ]
            ],
            "type": "heatmap"
           }
          ],
          "heatmapgl": [
           {
            "colorbar": {
             "outlinewidth": 0,
             "ticks": ""
            },
            "colorscale": [
             [
              0,
              "#0d0887"
             ],
             [
              0.1111111111111111,
              "#46039f"
             ],
             [
              0.2222222222222222,
              "#7201a8"
             ],
             [
              0.3333333333333333,
              "#9c179e"
             ],
             [
              0.4444444444444444,
              "#bd3786"
             ],
             [
              0.5555555555555556,
              "#d8576b"
             ],
             [
              0.6666666666666666,
              "#ed7953"
             ],
             [
              0.7777777777777778,
              "#fb9f3a"
             ],
             [
              0.8888888888888888,
              "#fdca26"
             ],
             [
              1,
              "#f0f921"
             ]
            ],
            "type": "heatmapgl"
           }
          ],
          "histogram": [
           {
            "marker": {
             "pattern": {
              "fillmode": "overlay",
              "size": 10,
              "solidity": 0.2
             }
            },
            "type": "histogram"
           }
          ],
          "histogram2d": [
           {
            "colorbar": {
             "outlinewidth": 0,
             "ticks": ""
            },
            "colorscale": [
             [
              0,
              "#0d0887"
             ],
             [
              0.1111111111111111,
              "#46039f"
             ],
             [
              0.2222222222222222,
              "#7201a8"
             ],
             [
              0.3333333333333333,
              "#9c179e"
             ],
             [
              0.4444444444444444,
              "#bd3786"
             ],
             [
              0.5555555555555556,
              "#d8576b"
             ],
             [
              0.6666666666666666,
              "#ed7953"
             ],
             [
              0.7777777777777778,
              "#fb9f3a"
             ],
             [
              0.8888888888888888,
              "#fdca26"
             ],
             [
              1,
              "#f0f921"
             ]
            ],
            "type": "histogram2d"
           }
          ],
          "histogram2dcontour": [
           {
            "colorbar": {
             "outlinewidth": 0,
             "ticks": ""
            },
            "colorscale": [
             [
              0,
              "#0d0887"
             ],
             [
              0.1111111111111111,
              "#46039f"
             ],
             [
              0.2222222222222222,
              "#7201a8"
             ],
             [
              0.3333333333333333,
              "#9c179e"
             ],
             [
              0.4444444444444444,
              "#bd3786"
             ],
             [
              0.5555555555555556,
              "#d8576b"
             ],
             [
              0.6666666666666666,
              "#ed7953"
             ],
             [
              0.7777777777777778,
              "#fb9f3a"
             ],
             [
              0.8888888888888888,
              "#fdca26"
             ],
             [
              1,
              "#f0f921"
             ]
            ],
            "type": "histogram2dcontour"
           }
          ],
          "mesh3d": [
           {
            "colorbar": {
             "outlinewidth": 0,
             "ticks": ""
            },
            "type": "mesh3d"
           }
          ],
          "parcoords": [
           {
            "line": {
             "colorbar": {
              "outlinewidth": 0,
              "ticks": ""
             }
            },
            "type": "parcoords"
           }
          ],
          "pie": [
           {
            "automargin": true,
            "type": "pie"
           }
          ],
          "scatter": [
           {
            "fillpattern": {
             "fillmode": "overlay",
             "size": 10,
             "solidity": 0.2
            },
            "type": "scatter"
           }
          ],
          "scatter3d": [
           {
            "line": {
             "colorbar": {
              "outlinewidth": 0,
              "ticks": ""
             }
            },
            "marker": {
             "colorbar": {
              "outlinewidth": 0,
              "ticks": ""
             }
            },
            "type": "scatter3d"
           }
          ],
          "scattercarpet": [
           {
            "marker": {
             "colorbar": {
              "outlinewidth": 0,
              "ticks": ""
             }
            },
            "type": "scattercarpet"
           }
          ],
          "scattergeo": [
           {
            "marker": {
             "colorbar": {
              "outlinewidth": 0,
              "ticks": ""
             }
            },
            "type": "scattergeo"
           }
          ],
          "scattergl": [
           {
            "marker": {
             "colorbar": {
              "outlinewidth": 0,
              "ticks": ""
             }
            },
            "type": "scattergl"
           }
          ],
          "scattermapbox": [
           {
            "marker": {
             "colorbar": {
              "outlinewidth": 0,
              "ticks": ""
             }
            },
            "type": "scattermapbox"
           }
          ],
          "scatterpolar": [
           {
            "marker": {
             "colorbar": {
              "outlinewidth": 0,
              "ticks": ""
             }
            },
            "type": "scatterpolar"
           }
          ],
          "scatterpolargl": [
           {
            "marker": {
             "colorbar": {
              "outlinewidth": 0,
              "ticks": ""
             }
            },
            "type": "scatterpolargl"
           }
          ],
          "scatterternary": [
           {
            "marker": {
             "colorbar": {
              "outlinewidth": 0,
              "ticks": ""
             }
            },
            "type": "scatterternary"
           }
          ],
          "surface": [
           {
            "colorbar": {
             "outlinewidth": 0,
             "ticks": ""
            },
            "colorscale": [
             [
              0,
              "#0d0887"
             ],
             [
              0.1111111111111111,
              "#46039f"
             ],
             [
              0.2222222222222222,
              "#7201a8"
             ],
             [
              0.3333333333333333,
              "#9c179e"
             ],
             [
              0.4444444444444444,
              "#bd3786"
             ],
             [
              0.5555555555555556,
              "#d8576b"
             ],
             [
              0.6666666666666666,
              "#ed7953"
             ],
             [
              0.7777777777777778,
              "#fb9f3a"
             ],
             [
              0.8888888888888888,
              "#fdca26"
             ],
             [
              1,
              "#f0f921"
             ]
            ],
            "type": "surface"
           }
          ],
          "table": [
           {
            "cells": {
             "fill": {
              "color": "#EBF0F8"
             },
             "line": {
              "color": "white"
             }
            },
            "header": {
             "fill": {
              "color": "#C8D4E3"
             },
             "line": {
              "color": "white"
             }
            },
            "type": "table"
           }
          ]
         },
         "layout": {
          "annotationdefaults": {
           "arrowcolor": "#2a3f5f",
           "arrowhead": 0,
           "arrowwidth": 1
          },
          "autotypenumbers": "strict",
          "coloraxis": {
           "colorbar": {
            "outlinewidth": 0,
            "ticks": ""
           }
          },
          "colorscale": {
           "diverging": [
            [
             0,
             "#8e0152"
            ],
            [
             0.1,
             "#c51b7d"
            ],
            [
             0.2,
             "#de77ae"
            ],
            [
             0.3,
             "#f1b6da"
            ],
            [
             0.4,
             "#fde0ef"
            ],
            [
             0.5,
             "#f7f7f7"
            ],
            [
             0.6,
             "#e6f5d0"
            ],
            [
             0.7,
             "#b8e186"
            ],
            [
             0.8,
             "#7fbc41"
            ],
            [
             0.9,
             "#4d9221"
            ],
            [
             1,
             "#276419"
            ]
           ],
           "sequential": [
            [
             0,
             "#0d0887"
            ],
            [
             0.1111111111111111,
             "#46039f"
            ],
            [
             0.2222222222222222,
             "#7201a8"
            ],
            [
             0.3333333333333333,
             "#9c179e"
            ],
            [
             0.4444444444444444,
             "#bd3786"
            ],
            [
             0.5555555555555556,
             "#d8576b"
            ],
            [
             0.6666666666666666,
             "#ed7953"
            ],
            [
             0.7777777777777778,
             "#fb9f3a"
            ],
            [
             0.8888888888888888,
             "#fdca26"
            ],
            [
             1,
             "#f0f921"
            ]
           ],
           "sequentialminus": [
            [
             0,
             "#0d0887"
            ],
            [
             0.1111111111111111,
             "#46039f"
            ],
            [
             0.2222222222222222,
             "#7201a8"
            ],
            [
             0.3333333333333333,
             "#9c179e"
            ],
            [
             0.4444444444444444,
             "#bd3786"
            ],
            [
             0.5555555555555556,
             "#d8576b"
            ],
            [
             0.6666666666666666,
             "#ed7953"
            ],
            [
             0.7777777777777778,
             "#fb9f3a"
            ],
            [
             0.8888888888888888,
             "#fdca26"
            ],
            [
             1,
             "#f0f921"
            ]
           ]
          },
          "colorway": [
           "#636efa",
           "#EF553B",
           "#00cc96",
           "#ab63fa",
           "#FFA15A",
           "#19d3f3",
           "#FF6692",
           "#B6E880",
           "#FF97FF",
           "#FECB52"
          ],
          "font": {
           "color": "#2a3f5f"
          },
          "geo": {
           "bgcolor": "white",
           "lakecolor": "white",
           "landcolor": "#E5ECF6",
           "showlakes": true,
           "showland": true,
           "subunitcolor": "white"
          },
          "hoverlabel": {
           "align": "left"
          },
          "hovermode": "closest",
          "mapbox": {
           "style": "light"
          },
          "paper_bgcolor": "white",
          "plot_bgcolor": "#E5ECF6",
          "polar": {
           "angularaxis": {
            "gridcolor": "white",
            "linecolor": "white",
            "ticks": ""
           },
           "bgcolor": "#E5ECF6",
           "radialaxis": {
            "gridcolor": "white",
            "linecolor": "white",
            "ticks": ""
           }
          },
          "scene": {
           "xaxis": {
            "backgroundcolor": "#E5ECF6",
            "gridcolor": "white",
            "gridwidth": 2,
            "linecolor": "white",
            "showbackground": true,
            "ticks": "",
            "zerolinecolor": "white"
           },
           "yaxis": {
            "backgroundcolor": "#E5ECF6",
            "gridcolor": "white",
            "gridwidth": 2,
            "linecolor": "white",
            "showbackground": true,
            "ticks": "",
            "zerolinecolor": "white"
           },
           "zaxis": {
            "backgroundcolor": "#E5ECF6",
            "gridcolor": "white",
            "gridwidth": 2,
            "linecolor": "white",
            "showbackground": true,
            "ticks": "",
            "zerolinecolor": "white"
           }
          },
          "shapedefaults": {
           "line": {
            "color": "#2a3f5f"
           }
          },
          "ternary": {
           "aaxis": {
            "gridcolor": "white",
            "linecolor": "white",
            "ticks": ""
           },
           "baxis": {
            "gridcolor": "white",
            "linecolor": "white",
            "ticks": ""
           },
           "bgcolor": "#E5ECF6",
           "caxis": {
            "gridcolor": "white",
            "linecolor": "white",
            "ticks": ""
           }
          },
          "title": {
           "x": 0.05
          },
          "xaxis": {
           "automargin": true,
           "gridcolor": "white",
           "linecolor": "white",
           "ticks": "",
           "title": {
            "standoff": 15
           },
           "zerolinecolor": "white",
           "zerolinewidth": 2
          },
          "yaxis": {
           "automargin": true,
           "gridcolor": "white",
           "linecolor": "white",
           "ticks": "",
           "title": {
            "standoff": 15
           },
           "zerolinecolor": "white",
           "zerolinewidth": 2
          }
         }
        },
        "title": {
         "text": "Actual vs Predicted Inventory"
        },
        "xaxis": {
         "anchor": "y",
         "domain": [
          0,
          1
         ],
         "title": {
          "text": "Month"
         }
        },
        "yaxis": {
         "anchor": "x",
         "domain": [
          0,
          1
         ],
         "title": {
          "text": "Inventory (KT)"
         }
        }
       }
      }
     },
     "metadata": {},
     "output_type": "display_data"
    }
   ],
   "source": [
    "X_all = scaler.transform(comparison[['Predicted_Inventory']].fillna(0))\n",
    "comparison['Predicted_Adjusted'] = xgb.predict(X_all)\n",
    "comparison['Deviation_Adjusted'] = comparison['Quantity_KT_Inventory'] - comparison['Predicted_Adjusted']\n",
    "\n",
    "fig = px.line(comparison, x='month', y=['Quantity_KT_Inventory', 'Predicted_Inventory', 'Predicted_Adjusted'],\n",
    "              title='Actual vs Predicted Inventory', markers=True)\n",
    "fig.update_layout(yaxis_title='Inventory (KT)', xaxis_title='Month')\n",
    "fig.show()"
   ]
  },
  {
   "cell_type": "markdown",
   "id": "82759dab",
   "metadata": {},
   "source": [
    "# **Outbound Pred vs Actual**"
   ]
  },
  {
   "cell_type": "code",
   "execution_count": 987,
   "id": "61a137a5",
   "metadata": {},
   "outputs": [
    {
     "name": "stdout",
     "output_type": "stream",
     "text": [
      "Actual vs Predicted Outbound (Singapore Warehouse):\n"
     ]
    },
    {
     "data": {
      "text/html": [
       "<div>\n",
       "<style scoped>\n",
       "    .dataframe tbody tr th:only-of-type {\n",
       "        vertical-align: middle;\n",
       "    }\n",
       "\n",
       "    .dataframe tbody tr th {\n",
       "        vertical-align: top;\n",
       "    }\n",
       "\n",
       "    .dataframe thead th {\n",
       "        text-align: right;\n",
       "    }\n",
       "</style>\n",
       "<table border=\"1\" class=\"dataframe\">\n",
       "  <thead>\n",
       "    <tr style=\"text-align: right;\">\n",
       "      <th></th>\n",
       "      <th>month</th>\n",
       "      <th>Quantity_KT_Out</th>\n",
       "      <th>Predicted_Outbound</th>\n",
       "      <th>Deviation</th>\n",
       "    </tr>\n",
       "  </thead>\n",
       "  <tbody>\n",
       "    <tr>\n",
       "      <th>0</th>\n",
       "      <td>2024-01-01</td>\n",
       "      <td>8.030355</td>\n",
       "      <td>8.71</td>\n",
       "      <td>-0.679645</td>\n",
       "    </tr>\n",
       "    <tr>\n",
       "      <th>1</th>\n",
       "      <td>2024-02-01</td>\n",
       "      <td>10.046795</td>\n",
       "      <td>10.95</td>\n",
       "      <td>-0.903205</td>\n",
       "    </tr>\n",
       "    <tr>\n",
       "      <th>2</th>\n",
       "      <td>2024-03-01</td>\n",
       "      <td>11.107855</td>\n",
       "      <td>9.36</td>\n",
       "      <td>1.747855</td>\n",
       "    </tr>\n",
       "    <tr>\n",
       "      <th>3</th>\n",
       "      <td>2024-04-01</td>\n",
       "      <td>8.797185</td>\n",
       "      <td>7.52</td>\n",
       "      <td>1.277185</td>\n",
       "    </tr>\n",
       "    <tr>\n",
       "      <th>4</th>\n",
       "      <td>2024-05-01</td>\n",
       "      <td>10.501950</td>\n",
       "      <td>10.74</td>\n",
       "      <td>-0.238050</td>\n",
       "    </tr>\n",
       "    <tr>\n",
       "      <th>5</th>\n",
       "      <td>2024-06-01</td>\n",
       "      <td>12.455665</td>\n",
       "      <td>9.44</td>\n",
       "      <td>3.015665</td>\n",
       "    </tr>\n",
       "    <tr>\n",
       "      <th>6</th>\n",
       "      <td>2024-07-01</td>\n",
       "      <td>12.305930</td>\n",
       "      <td>11.38</td>\n",
       "      <td>0.925930</td>\n",
       "    </tr>\n",
       "    <tr>\n",
       "      <th>7</th>\n",
       "      <td>2024-08-01</td>\n",
       "      <td>13.300645</td>\n",
       "      <td>11.33</td>\n",
       "      <td>1.970645</td>\n",
       "    </tr>\n",
       "    <tr>\n",
       "      <th>8</th>\n",
       "      <td>2024-09-01</td>\n",
       "      <td>12.277775</td>\n",
       "      <td>16.70</td>\n",
       "      <td>-4.422225</td>\n",
       "    </tr>\n",
       "    <tr>\n",
       "      <th>9</th>\n",
       "      <td>2024-10-01</td>\n",
       "      <td>15.154065</td>\n",
       "      <td>20.98</td>\n",
       "      <td>-5.825935</td>\n",
       "    </tr>\n",
       "    <tr>\n",
       "      <th>10</th>\n",
       "      <td>2024-11-01</td>\n",
       "      <td>14.412775</td>\n",
       "      <td>16.47</td>\n",
       "      <td>-2.057225</td>\n",
       "    </tr>\n",
       "    <tr>\n",
       "      <th>11</th>\n",
       "      <td>2024-12-01</td>\n",
       "      <td>11.252095</td>\n",
       "      <td>13.97</td>\n",
       "      <td>-2.717905</td>\n",
       "    </tr>\n",
       "  </tbody>\n",
       "</table>\n",
       "</div>"
      ],
      "text/plain": [
       "        month  Quantity_KT_Out  Predicted_Outbound  Deviation\n",
       "0  2024-01-01         8.030355                8.71  -0.679645\n",
       "1  2024-02-01        10.046795               10.95  -0.903205\n",
       "2  2024-03-01        11.107855                9.36   1.747855\n",
       "3  2024-04-01         8.797185                7.52   1.277185\n",
       "4  2024-05-01        10.501950               10.74  -0.238050\n",
       "5  2024-06-01        12.455665                9.44   3.015665\n",
       "6  2024-07-01        12.305930               11.38   0.925930\n",
       "7  2024-08-01        13.300645               11.33   1.970645\n",
       "8  2024-09-01        12.277775               16.70  -4.422225\n",
       "9  2024-10-01        15.154065               20.98  -5.825935\n",
       "10 2024-11-01        14.412775               16.47  -2.057225\n",
       "11 2024-12-01        11.252095               13.97  -2.717905"
      ]
     },
     "execution_count": 987,
     "metadata": {},
     "output_type": "execute_result"
    }
   ],
   "source": [
    "outbound_comparison = df[['month', 'Quantity_KT_Out']].copy()\n",
    "outbound_comparison['Predicted_Outbound'] = outbound_comparison['month'].apply(\n",
    "    lambda m: singapore_predicted.loc[singapore_predicted['Month'].dt.to_timestamp() == m, 'Predicted Outbound (KT)'].values[0]\n",
    "    if not singapore_predicted.loc[singapore_predicted['Month'].dt.to_timestamp() == m].empty else None\n",
    ")\n",
    "outbound_comparison['Deviation'] = outbound_comparison['Quantity_KT_Out'] - outbound_comparison['Predicted_Outbound']\n",
    "\n",
    "print(\"Actual vs Predicted Outbound (Singapore Warehouse):\")\n",
    "outbound_comparison"
   ]
  },
  {
   "cell_type": "code",
   "execution_count": 988,
   "id": "00be2285",
   "metadata": {},
   "outputs": [
    {
     "data": {
      "image/png": "[encoded data removed]",
      "text/plain": [
       "<Figure size 1200x600 with 1 Axes>"
      ]
     },
     "metadata": {},
     "output_type": "display_data"
    }
   ],
   "source": [
    "plt.figure(figsize=(12, 6))\n",
    "plt.plot(df['month'], df['Quantity_KT_Out'], marker='o', label='Actual Outbound (KT)')\n",
    "plt.plot(singapore_predicted['Month'].dt.to_timestamp(), singapore_predicted['Predicted Outbound (KT)'], marker='^', label='Predicted Outbound (KT)')\n",
    "plt.title('Actual vs Predicted Outbound - Singapore Warehouse')\n",
    "plt.xlabel('Month')\n",
    "plt.ylabel('Outbound (KT)')\n",
    "plt.legend()\n",
    "plt.grid(True)\n",
    "plt.xticks(rotation=45)\n",
    "plt.tight_layout()\n",
    "plt.show()"
   ]
  },
  {
   "cell_type": "markdown",
   "id": "df0c3d53",
   "metadata": {},
   "source": [
    "## **Adjust Outbound Predicted**"
   ]
  },
  {
   "cell_type": "code",
   "execution_count": 989,
   "id": "6509ff4a",
   "metadata": {},
   "outputs": [
    {
     "name": "stdout",
     "output_type": "stream",
     "text": [
      "[Train] MAE: 1.25 | RMSE: 1.41\n",
      "[Test ] MAE: 1.12 | RMSE: 1.18\n"
     ]
    }
   ],
   "source": [
    "outbound_valid = outbound_comparison.dropna(subset=['Predicted_Outbound', 'Quantity_KT_Out'])\n",
    "\n",
    "X_out = outbound_valid[['Predicted_Outbound']]\n",
    "y_out = outbound_valid['Quantity_KT_Out']\n",
    "\n",
    "scaler_out = RobustScaler()\n",
    "X_out_scaled = scaler_out.fit_transform(X_out)\n",
    "\n",
    "train_mask = outbound_valid['month'] <= cut_off_date\n",
    "test_mask = outbound_valid['month'] > cut_off_date\n",
    "\n",
    "X_out_train = X_out_scaled[train_mask]  \n",
    "X_out_test = X_out_scaled[test_mask]   \n",
    "y_out_train = y_out[train_mask]       \n",
    "y_out_test = y_out[test_mask]        \n",
    "\n",
    "model = Ridge(alpha=0.45)  \n",
    "model.fit(X_out_train, y_out_train)\n",
    "\n",
    "y_out_train_pred = model.predict(X_out_train)\n",
    "y_out_test_pred = model.predict(X_out_test)\n",
    "\n",
    "print(f\"[Train] MAE: {mean_absolute_error(y_out_train, y_out_train_pred):.2f} | RMSE: {np.sqrt(mean_squared_error(y_out_train, y_out_train_pred)):.2f}\")\n",
    "print(f\"[Test ] MAE: {mean_absolute_error(y_out_test, y_out_test_pred):.2f} | RMSE: {np.sqrt(mean_squared_error(y_out_test, y_out_test_pred)):.2f}\")"
   ]
  },
  {
   "cell_type": "code",
   "execution_count": 990,
   "id": "4f800f69",
   "metadata": {},
   "outputs": [
    {
     "data": {
      "application/vnd.plotly.v1+json": {
       "config": {
        "plotlyServerURL": "https://plot.ly"
       },
       "data": [
        {
         "hovertemplate": "variable=Quantity_KT_Out<br>month=%{x}<br>value=%{y}<extra></extra>",
         "legendgroup": "Quantity_KT_Out",
         "line": {
          "color": "#636efa",
          "dash": "solid"
         },
         "marker": {
          "symbol": "circle"
         },
         "mode": "lines+markers",
         "name": "Quantity_KT_Out",
         "orientation": "v",
         "showlegend": true,
         "type": "scatter",
         "x": [
          "2024-01-01T00:00:00",
          "2024-02-01T00:00:00",
          "2024-03-01T00:00:00",
          "2024-04-01T00:00:00",
          "2024-05-01T00:00:00",
          "2024-06-01T00:00:00",
          "2024-07-01T00:00:00",
          "2024-08-01T00:00:00",
          "2024-09-01T00:00:00",
          "2024-10-01T00:00:00",
          "2024-11-01T00:00:00",
          "2024-12-01T00:00:00"
         ],
         "xaxis": "x",
         "y": [
          8.030355,
          10.046795,
          11.107855,
          8.797185,
          10.50195,
          12.455665,
          12.30593,
          13.300645000000001,
          12.277775,
          15.154065000000001,
          14.412775,
          11.252095
         ],
         "yaxis": "y"
        },
        {
         "hovertemplate": "variable=Predicted_Outbound<br>month=%{x}<br>value=%{y}<extra></extra>",
         "legendgroup": "Predicted_Outbound",
         "line": {
          "color": "#EF553B",
          "dash": "solid"
         },
         "marker": {
          "symbol": "circle"
         },
         "mode": "lines+markers",
         "name": "Predicted_Outbound",
         "orientation": "v",
         "showlegend": true,
         "type": "scatter",
         "x": [
          "2024-01-01T00:00:00",
          "2024-02-01T00:00:00",
          "2024-03-01T00:00:00",
          "2024-04-01T00:00:00",
          "2024-05-01T00:00:00",
          "2024-06-01T00:00:00",
          "2024-07-01T00:00:00",
          "2024-08-01T00:00:00",
          "2024-09-01T00:00:00",
          "2024-10-01T00:00:00",
          "2024-11-01T00:00:00",
          "2024-12-01T00:00:00"
         ],
         "xaxis": "x",
         "y": [
          8.71,
          10.95,
          9.36,
          7.52,
          10.74,
          9.44,
          11.38,
          11.33,
          16.7,
          20.98,
          16.47,
          13.97
         ],
         "yaxis": "y"
        },
        {
         "hovertemplate": "variable=Predicted_Outbound_Adjusted<br>month=%{x}<br>value=%{y}<extra></extra>",
         "legendgroup": "Predicted_Outbound_Adjusted",
         "line": {
          "color": "#00cc96",
          "dash": "solid"
         },
         "marker": {
          "symbol": "circle"
         },
         "mode": "lines+markers",
         "name": "Predicted_Outbound_Adjusted",
         "orientation": "v",
         "showlegend": true,
         "type": "scatter",
         "x": [
          "2024-01-01T00:00:00",
          "2024-02-01T00:00:00",
          "2024-03-01T00:00:00",
          "2024-04-01T00:00:00",
          "2024-05-01T00:00:00",
          "2024-06-01T00:00:00",
          "2024-07-01T00:00:00",
          "2024-08-01T00:00:00",
          "2024-09-01T00:00:00",
          "2024-10-01T00:00:00",
          "2024-11-01T00:00:00",
          "2024-12-01T00:00:00"
         ],
         "xaxis": "x",
         "y": [
          10.366865235553819,
          11.064165351181497,
          10.569206786963637,
          9.996424549126615,
          10.998793465341402,
          10.594110362521768,
          11.198022069806454,
          11.18245733508262,
          12.854109844422187,
          14.186451136782214,
          12.78251206469256,
          12.004275328500956
         ],
         "yaxis": "y"
        }
       ],
       "layout": {
        "legend": {
         "title": {
          "text": "variable"
         },
         "tracegroupgap": 0
        },
        "template": {
         "data": {
          "bar": [
           {
            "error_x": {
             "color": "#2a3f5f"
            },
            "error_y": {
             "color": "#2a3f5f"
            },
            "marker": {
             "line": {
              "color": "#E5ECF6",
              "width": 0.5
             },
             "pattern": {
              "fillmode": "overlay",
              "size": 10,
              "solidity": 0.2
             }
            },
            "type": "bar"
           }
          ],
          "barpolar": [
           {
            "marker": {
             "line": {
              "color": "#E5ECF6",
              "width": 0.5
             },
             "pattern": {
              "fillmode": "overlay",
              "size": 10,
              "solidity": 0.2
             }
            },
            "type": "barpolar"
           }
          ],
          "carpet": [
           {
            "aaxis": {
             "endlinecolor": "#2a3f5f",
             "gridcolor": "white",
             "linecolor": "white",
             "minorgridcolor": "white",
             "startlinecolor": "#2a3f5f"
            },
            "baxis": {
             "endlinecolor": "#2a3f5f",
             "gridcolor": "white",
             "linecolor": "white",
             "minorgridcolor": "white",
             "startlinecolor": "#2a3f5f"
            },
            "type": "carpet"
           }
          ],
          "choropleth": [
           {
            "colorbar": {
             "outlinewidth": 0,
             "ticks": ""
            },
            "type": "choropleth"
           }
          ],
          "contour": [
           {
            "colorbar": {
             "outlinewidth": 0,
             "ticks": ""
            },
            "colorscale": [
             [
              0,
              "#0d0887"
             ],
             [
              0.1111111111111111,
              "#46039f"
             ],
             [
              0.2222222222222222,
              "#7201a8"
             ],
             [
              0.3333333333333333,
              "#9c179e"
             ],
             [
              0.4444444444444444,
              "#bd3786"
             ],
             [
              0.5555555555555556,
              "#d8576b"
             ],
             [
              0.6666666666666666,
              "#ed7953"
             ],
             [
              0.7777777777777778,
              "#fb9f3a"
             ],
             [
              0.8888888888888888,
              "#fdca26"
             ],
             [
              1,
              "#f0f921"
             ]
            ],
            "type": "contour"
           }
          ],
          "contourcarpet": [
           {
            "colorbar": {
             "outlinewidth": 0,
             "ticks": ""
            },
            "type": "contourcarpet"
           }
          ],
          "heatmap": [
           {
            "colorbar": {
             "outlinewidth": 0,
             "ticks": ""
            },
            "colorscale": [
             [
              0,
              "#0d0887"
             ],
             [
              0.1111111111111111,
              "#46039f"
             ],
             [
              0.2222222222222222,
              "#7201a8"
             ],
             [
              0.3333333333333333,
              "#9c179e"
             ],
             [
              0.4444444444444444,
              "#bd3786"
             ],
             [
              0.5555555555555556,
              "#d8576b"
             ],
             [
              0.6666666666666666,
              "#ed7953"
             ],
             [
              0.7777777777777778,
              "#fb9f3a"
             ],
             [
              0.8888888888888888,
              "#fdca26"
             ],
             [
              1,
              "#f0f921"
             ]
            ],
            "type": "heatmap"
           }
          ],
          "heatmapgl": [
           {
            "colorbar": {
             "outlinewidth": 0,
             "ticks": ""
            },
            "colorscale": [
             [
              0,
              "#0d0887"
             ],
             [
              0.1111111111111111,
              "#46039f"
             ],
             [
              0.2222222222222222,
              "#7201a8"
             ],
             [
              0.3333333333333333,
              "#9c179e"
             ],
             [
              0.4444444444444444,
              "#bd3786"
             ],
             [
              0.5555555555555556,
              "#d8576b"
             ],
             [
              0.6666666666666666,
              "#ed7953"
             ],
             [
              0.7777777777777778,
              "#fb9f3a"
             ],
             [
              0.8888888888888888,
              "#fdca26"
             ],
             [
              1,
              "#f0f921"
             ]
            ],
            "type": "heatmapgl"
           }
          ],
          "histogram": [
           {
            "marker": {
             "pattern": {
              "fillmode": "overlay",
              "size": 10,
              "solidity": 0.2
             }
            },
            "type": "histogram"
           }
          ],
          "histogram2d": [
           {
            "colorbar": {
             "outlinewidth": 0,
             "ticks": ""
            },
            "colorscale": [
             [
              0,
              "#0d0887"
             ],
             [
              0.1111111111111111,
              "#46039f"
             ],
             [
              0.2222222222222222,
              "#7201a8"
             ],
             [
              0.3333333333333333,
              "#9c179e"
             ],
             [
              0.4444444444444444,
              "#bd3786"
             ],
             [
              0.5555555555555556,
              "#d8576b"
             ],
             [
              0.6666666666666666,
              "#ed7953"
             ],
             [
              0.7777777777777778,
              "#fb9f3a"
             ],
             [
              0.8888888888888888,
              "#fdca26"
             ],
             [
              1,
              "#f0f921"
             ]
            ],
            "type": "histogram2d"
           }
          ],
          "histogram2dcontour": [
           {
            "colorbar": {
             "outlinewidth": 0,
             "ticks": ""
            },
            "colorscale": [
             [
              0,
              "#0d0887"
             ],
             [
              0.1111111111111111,
              "#46039f"
             ],
             [
              0.2222222222222222,
              "#7201a8"
             ],
             [
              0.3333333333333333,
              "#9c179e"
             ],
             [
              0.4444444444444444,
              "#bd3786"
             ],
             [
              0.5555555555555556,
              "#d8576b"
             ],
             [
              0.6666666666666666,
              "#ed7953"
             ],
             [
              0.7777777777777778,
              "#fb9f3a"
             ],
             [
              0.8888888888888888,
              "#fdca26"
             ],
             [
              1,
              "#f0f921"
             ]
            ],
            "type": "histogram2dcontour"
           }
          ],
          "mesh3d": [
           {
            "colorbar": {
             "outlinewidth": 0,
             "ticks": ""
            },
            "type": "mesh3d"
           }
          ],
          "parcoords": [
           {
            "line": {
             "colorbar": {
              "outlinewidth": 0,
              "ticks": ""
             }
            },
            "type": "parcoords"
           }
          ],
          "pie": [
           {
            "automargin": true,
            "type": "pie"
           }
          ],
          "scatter": [
           {
            "fillpattern": {
             "fillmode": "overlay",
             "size": 10,
             "solidity": 0.2
            },
            "type": "scatter"
           }
          ],
          "scatter3d": [
           {
            "line": {
             "colorbar": {
              "outlinewidth": 0,
              "ticks": ""
             }
            },
            "marker": {
             "colorbar": {
              "outlinewidth": 0,
              "ticks": ""
             }
            },
            "type": "scatter3d"
           }
          ],
          "scattercarpet": [
           {
            "marker": {
             "colorbar": {
              "outlinewidth": 0,
              "ticks": ""
             }
            },
            "type": "scattercarpet"
           }
          ],
          "scattergeo": [
           {
            "marker": {
             "colorbar": {
              "outlinewidth": 0,
              "ticks": ""
             }
            },
            "type": "scattergeo"
           }
          ],
          "scattergl": [
           {
            "marker": {
             "colorbar": {
              "outlinewidth": 0,
              "ticks": ""
             }
            },
            "type": "scattergl"
           }
          ],
          "scattermapbox": [
           {
            "marker": {
             "colorbar": {
              "outlinewidth": 0,
              "ticks": ""
             }
            },
            "type": "scattermapbox"
           }
          ],
          "scatterpolar": [
           {
            "marker": {
             "colorbar": {
              "outlinewidth": 0,
              "ticks": ""
             }
            },
            "type": "scatterpolar"
           }
          ],
          "scatterpolargl": [
           {
            "marker": {
             "colorbar": {
              "outlinewidth": 0,
              "ticks": ""
             }
            },
            "type": "scatterpolargl"
           }
          ],
          "scatterternary": [
           {
            "marker": {
             "colorbar": {
              "outlinewidth": 0,
              "ticks": ""
             }
            },
            "type": "scatterternary"
           }
          ],
          "surface": [
           {
            "colorbar": {
             "outlinewidth": 0,
             "ticks": ""
            },
            "colorscale": [
             [
              0,
              "#0d0887"
             ],
             [
              0.1111111111111111,
              "#46039f"
             ],
             [
              0.2222222222222222,
              "#7201a8"
             ],
             [
              0.3333333333333333,
              "#9c179e"
             ],
             [
              0.4444444444444444,
              "#bd3786"
             ],
             [
              0.5555555555555556,
              "#d8576b"
             ],
             [
              0.6666666666666666,
              "#ed7953"
             ],
             [
              0.7777777777777778,
              "#fb9f3a"
             ],
             [
              0.8888888888888888,
              "#fdca26"
             ],
             [
              1,
              "#f0f921"
             ]
            ],
            "type": "surface"
           }
          ],
          "table": [
           {
            "cells": {
             "fill": {
              "color": "#EBF0F8"
             },
             "line": {
              "color": "white"
             }
            },
            "header": {
             "fill": {
              "color": "#C8D4E3"
             },
             "line": {
              "color": "white"
             }
            },
            "type": "table"
           }
          ]
         },
         "layout": {
          "annotationdefaults": {
           "arrowcolor": "#2a3f5f",
           "arrowhead": 0,
           "arrowwidth": 1
          },
          "autotypenumbers": "strict",
          "coloraxis": {
           "colorbar": {
            "outlinewidth": 0,
            "ticks": ""
           }
          },
          "colorscale": {
           "diverging": [
            [
             0,
             "#8e0152"
            ],
            [
             0.1,
             "#c51b7d"
            ],
            [
             0.2,
             "#de77ae"
            ],
            [
             0.3,
             "#f1b6da"
            ],
            [
             0.4,
             "#fde0ef"
            ],
            [
             0.5,
             "#f7f7f7"
            ],
            [
             0.6,
             "#e6f5d0"
            ],
            [
             0.7,
             "#b8e186"
            ],
            [
             0.8,
             "#7fbc41"
            ],
            [
             0.9,
             "#4d9221"
            ],
            [
             1,
             "#276419"
            ]
           ],
           "sequential": [
            [
             0,
             "#0d0887"
            ],
            [
             0.1111111111111111,
             "#46039f"
            ],
            [
             0.2222222222222222,
             "#7201a8"
            ],
            [
             0.3333333333333333,
             "#9c179e"
            ],
            [
             0.4444444444444444,
             "#bd3786"
            ],
            [
             0.5555555555555556,
             "#d8576b"
            ],
            [
             0.6666666666666666,
             "#ed7953"
            ],
            [
             0.7777777777777778,
             "#fb9f3a"
            ],
            [
             0.8888888888888888,
             "#fdca26"
            ],
            [
             1,
             "#f0f921"
            ]
           ],
           "sequentialminus": [
            [
             0,
             "#0d0887"
            ],
            [
             0.1111111111111111,
             "#46039f"
            ],
            [
             0.2222222222222222,
             "#7201a8"
            ],
            [
             0.3333333333333333,
             "#9c179e"
            ],
            [
             0.4444444444444444,
             "#bd3786"
            ],
            [
             0.5555555555555556,
             "#d8576b"
            ],
            [
             0.6666666666666666,
             "#ed7953"
            ],
            [
             0.7777777777777778,
             "#fb9f3a"
            ],
            [
             0.8888888888888888,
             "#fdca26"
            ],
            [
             1,
             "#f0f921"
            ]
           ]
          },
          "colorway": [
           "#636efa",
           "#EF553B",
           "#00cc96",
           "#ab63fa",
           "#FFA15A",
           "#19d3f3",
           "#FF6692",
           "#B6E880",
           "#FF97FF",
           "#FECB52"
          ],
          "font": {
           "color": "#2a3f5f"
          },
          "geo": {
           "bgcolor": "white",
           "lakecolor": "white",
           "landcolor": "#E5ECF6",
           "showlakes": true,
           "showland": true,
           "subunitcolor": "white"
          },
          "hoverlabel": {
           "align": "left"
          },
          "hovermode": "closest",
          "mapbox": {
           "style": "light"
          },
          "paper_bgcolor": "white",
          "plot_bgcolor": "#E5ECF6",
          "polar": {
           "angularaxis": {
            "gridcolor": "white",
            "linecolor": "white",
            "ticks": ""
           },
           "bgcolor": "#E5ECF6",
           "radialaxis": {
            "gridcolor": "white",
            "linecolor": "white",
            "ticks": ""
           }
          },
          "scene": {
           "xaxis": {
            "backgroundcolor": "#E5ECF6",
            "gridcolor": "white",
            "gridwidth": 2,
            "linecolor": "white",
            "showbackground": true,
            "ticks": "",
            "zerolinecolor": "white"
           },
           "yaxis": {
            "backgroundcolor": "#E5ECF6",
            "gridcolor": "white",
            "gridwidth": 2,
            "linecolor": "white",
            "showbackground": true,
            "ticks": "",
            "zerolinecolor": "white"
           },
           "zaxis": {
            "backgroundcolor": "#E5ECF6",
            "gridcolor": "white",
            "gridwidth": 2,
            "linecolor": "white",
            "showbackground": true,
            "ticks": "",
            "zerolinecolor": "white"
           }
          },
          "shapedefaults": {
           "line": {
            "color": "#2a3f5f"
           }
          },
          "ternary": {
           "aaxis": {
            "gridcolor": "white",
            "linecolor": "white",
            "ticks": ""
           },
           "baxis": {
            "gridcolor": "white",
            "linecolor": "white",
            "ticks": ""
           },
           "bgcolor": "#E5ECF6",
           "caxis": {
            "gridcolor": "white",
            "linecolor": "white",
            "ticks": ""
           }
          },
          "title": {
           "x": 0.05
          },
          "xaxis": {
           "automargin": true,
           "gridcolor": "white",
           "linecolor": "white",
           "ticks": "",
           "title": {
            "standoff": 15
           },
           "zerolinecolor": "white",
           "zerolinewidth": 2
          },
          "yaxis": {
           "automargin": true,
           "gridcolor": "white",
           "linecolor": "white",
           "ticks": "",
           "title": {
            "standoff": 15
           },
           "zerolinecolor": "white",
           "zerolinewidth": 2
          }
         }
        },
        "title": {
         "text": "Actual vs Predicted Outbound"
        },
        "xaxis": {
         "anchor": "y",
         "domain": [
          0,
          1
         ],
         "title": {
          "text": "Month"
         }
        },
        "yaxis": {
         "anchor": "x",
         "domain": [
          0,
          1
         ],
         "title": {
          "text": "Outbound (KT)"
         }
        }
       }
      }
     },
     "metadata": {},
     "output_type": "display_data"
    }
   ],
   "source": [
    "X_out_all = scaler_out.transform(outbound_comparison[['Predicted_Outbound']].fillna(0))\n",
    "outbound_comparison['Predicted_Outbound_Adjusted'] = model.predict(X_out_all)\n",
    "outbound_comparison['Deviation_Adjusted'] = outbound_comparison['Quantity_KT_Out'] - outbound_comparison['Predicted_Outbound_Adjusted']\n",
    "\n",
    "fig = px.line(\n",
    "    outbound_comparison,\n",
    "    x='month',\n",
    "    y=['Quantity_KT_Out', 'Predicted_Outbound', 'Predicted_Outbound_Adjusted'],\n",
    "    title='Actual vs Predicted Outbound',\n",
    "    markers=True\n",
    ")\n",
    "\n",
    "fig.update_layout(yaxis_title='Outbound (KT)', xaxis_title='Month')\n",
    "fig.show()"
   ]
  },
  {
   "cell_type": "markdown",
   "id": "ff1fce0c",
   "metadata": {},
   "source": [
    "---"
   ]
  },
  {
   "cell_type": "markdown",
   "id": "8973634b",
   "metadata": {},
   "source": [
    "# **Optimization**"
   ]
  },
  {
   "cell_type": "markdown",
   "id": "0a8ae8de",
   "metadata": {},
   "source": [
    "### **Create Dataframe For Optimization Model**"
   ]
  },
  {
   "cell_type": "code",
   "execution_count": 991,
   "id": "5907998f",
   "metadata": {},
   "outputs": [],
   "source": [
    "optimize = pd.DataFrame({\n",
    "    'Actual Inbound': Inbound_monthly_singapore['Quantity_KT_In'],\n",
    "    'Actual Outbound': Outbound_monthly_singapore['Quantity_KT_Out'],\n",
    "    'Actual Inventory': Inventory_monthly_singapore['Quantity_KT_Inventory'],\n",
    "    'Adjusted Inventory': comparison['Predicted_Adjusted'],\n",
    "    'Adjusted Outbound': outbound_comparison['Predicted_Outbound_Adjusted'],\n",
    "    'Capacity' : singapore_predicted['Total Cap (KT)'].values\n",
    "})\n",
    "optimize['Overflow'] = optimize['Adjusted Inventory'] > optimize['Capacity']"
   ]
  },
  {
   "cell_type": "code",
   "execution_count": 992,
   "id": "b79d2bc2",
   "metadata": {},
   "outputs": [
    {
     "data": {
      "text/html": [
       "<div>\n",
       "<style scoped>\n",
       "    .dataframe tbody tr th:only-of-type {\n",
       "        vertical-align: middle;\n",
       "    }\n",
       "\n",
       "    .dataframe tbody tr th {\n",
       "        vertical-align: top;\n",
       "    }\n",
       "\n",
       "    .dataframe thead th {\n",
       "        text-align: right;\n",
       "    }\n",
       "</style>\n",
       "<table border=\"1\" class=\"dataframe\">\n",
       "  <thead>\n",
       "    <tr style=\"text-align: right;\">\n",
       "      <th></th>\n",
       "      <th>Actual Inbound</th>\n",
       "      <th>Actual Outbound</th>\n",
       "      <th>Actual Inventory</th>\n",
       "      <th>Adjusted Inventory</th>\n",
       "      <th>Adjusted Outbound</th>\n",
       "      <th>Capacity</th>\n",
       "      <th>Overflow</th>\n",
       "    </tr>\n",
       "  </thead>\n",
       "  <tbody>\n",
       "    <tr>\n",
       "      <th>0</th>\n",
       "      <td>6.867000</td>\n",
       "      <td>8.030355</td>\n",
       "      <td>40.213850</td>\n",
       "      <td>40.297226</td>\n",
       "      <td>10.366865</td>\n",
       "      <td>53.5</td>\n",
       "      <td>False</td>\n",
       "    </tr>\n",
       "    <tr>\n",
       "      <th>1</th>\n",
       "      <td>7.128995</td>\n",
       "      <td>10.046795</td>\n",
       "      <td>36.465800</td>\n",
       "      <td>36.861858</td>\n",
       "      <td>11.064165</td>\n",
       "      <td>53.5</td>\n",
       "      <td>False</td>\n",
       "    </tr>\n",
       "    <tr>\n",
       "      <th>2</th>\n",
       "      <td>15.858001</td>\n",
       "      <td>11.107855</td>\n",
       "      <td>69.876600</td>\n",
       "      <td>59.726196</td>\n",
       "      <td>10.569207</td>\n",
       "      <td>53.5</td>\n",
       "      <td>True</td>\n",
       "    </tr>\n",
       "    <tr>\n",
       "      <th>3</th>\n",
       "      <td>14.027350</td>\n",
       "      <td>8.797185</td>\n",
       "      <td>34.619875</td>\n",
       "      <td>36.609863</td>\n",
       "      <td>9.996425</td>\n",
       "      <td>53.5</td>\n",
       "      <td>False</td>\n",
       "    </tr>\n",
       "    <tr>\n",
       "      <th>4</th>\n",
       "      <td>12.248625</td>\n",
       "      <td>10.501950</td>\n",
       "      <td>35.428425</td>\n",
       "      <td>36.609863</td>\n",
       "      <td>10.998793</td>\n",
       "      <td>53.5</td>\n",
       "      <td>False</td>\n",
       "    </tr>\n",
       "    <tr>\n",
       "      <th>5</th>\n",
       "      <td>6.233500</td>\n",
       "      <td>12.455665</td>\n",
       "      <td>40.010550</td>\n",
       "      <td>40.588722</td>\n",
       "      <td>10.594110</td>\n",
       "      <td>53.5</td>\n",
       "      <td>False</td>\n",
       "    </tr>\n",
       "    <tr>\n",
       "      <th>6</th>\n",
       "      <td>8.659000</td>\n",
       "      <td>12.305930</td>\n",
       "      <td>44.052125</td>\n",
       "      <td>43.272438</td>\n",
       "      <td>11.198022</td>\n",
       "      <td>53.5</td>\n",
       "      <td>False</td>\n",
       "    </tr>\n",
       "    <tr>\n",
       "      <th>7</th>\n",
       "      <td>15.971750</td>\n",
       "      <td>13.300645</td>\n",
       "      <td>41.428880</td>\n",
       "      <td>42.195309</td>\n",
       "      <td>11.182457</td>\n",
       "      <td>53.5</td>\n",
       "      <td>False</td>\n",
       "    </tr>\n",
       "    <tr>\n",
       "      <th>8</th>\n",
       "      <td>10.510625</td>\n",
       "      <td>12.277775</td>\n",
       "      <td>43.000855</td>\n",
       "      <td>42.315590</td>\n",
       "      <td>12.854110</td>\n",
       "      <td>53.5</td>\n",
       "      <td>False</td>\n",
       "    </tr>\n",
       "    <tr>\n",
       "      <th>9</th>\n",
       "      <td>9.600750</td>\n",
       "      <td>15.154065</td>\n",
       "      <td>42.749300</td>\n",
       "      <td>42.195309</td>\n",
       "      <td>14.186451</td>\n",
       "      <td>53.5</td>\n",
       "      <td>False</td>\n",
       "    </tr>\n",
       "    <tr>\n",
       "      <th>10</th>\n",
       "      <td>4.344750</td>\n",
       "      <td>14.412775</td>\n",
       "      <td>42.667825</td>\n",
       "      <td>40.297226</td>\n",
       "      <td>12.782512</td>\n",
       "      <td>53.5</td>\n",
       "      <td>False</td>\n",
       "    </tr>\n",
       "    <tr>\n",
       "      <th>11</th>\n",
       "      <td>0.540000</td>\n",
       "      <td>11.252095</td>\n",
       "      <td>57.333925</td>\n",
       "      <td>59.726196</td>\n",
       "      <td>12.004275</td>\n",
       "      <td>48.0</td>\n",
       "      <td>True</td>\n",
       "    </tr>\n",
       "  </tbody>\n",
       "</table>\n",
       "</div>"
      ],
      "text/plain": [
       "    Actual Inbound  Actual Outbound  Actual Inventory  Adjusted Inventory  \\\n",
       "0         6.867000         8.030355         40.213850           40.297226   \n",
       "1         7.128995        10.046795         36.465800           36.861858   \n",
       "2        15.858001        11.107855         69.876600           59.726196   \n",
       "3        14.027350         8.797185         34.619875           36.609863   \n",
       "4        12.248625        10.501950         35.428425           36.609863   \n",
       "5         6.233500        12.455665         40.010550           40.588722   \n",
       "6         8.659000        12.305930         44.052125           43.272438   \n",
       "7        15.971750        13.300645         41.428880           42.195309   \n",
       "8        10.510625        12.277775         43.000855           42.315590   \n",
       "9         9.600750        15.154065         42.749300           42.195309   \n",
       "10        4.344750        14.412775         42.667825           40.297226   \n",
       "11        0.540000        11.252095         57.333925           59.726196   \n",
       "\n",
       "    Adjusted Outbound  Capacity  Overflow  \n",
       "0           10.366865      53.5     False  \n",
       "1           11.064165      53.5     False  \n",
       "2           10.569207      53.5      True  \n",
       "3            9.996425      53.5     False  \n",
       "4           10.998793      53.5     False  \n",
       "5           10.594110      53.5     False  \n",
       "6           11.198022      53.5     False  \n",
       "7           11.182457      53.5     False  \n",
       "8           12.854110      53.5     False  \n",
       "9           14.186451      53.5     False  \n",
       "10          12.782512      53.5     False  \n",
       "11          12.004275      48.0      True  "
      ]
     },
     "execution_count": 992,
     "metadata": {},
     "output_type": "execute_result"
    }
   ],
   "source": [
    "optimize"
   ]
  },
  {
   "cell_type": "code",
   "execution_count": 993,
   "id": "a6459454",
   "metadata": {},
   "outputs": [],
   "source": [
    "# new_records = [\n",
    "#     [12.0, 9.5, 60, 48.2, 11.0, 53.5, True],\n",
    "#     [7.5, 13.0, 44.0, 45.0, 13.1, 53.5, False],\n",
    "#     [11.3, 14.8, 59, 43.0, 12.5, 53.5, True]\n",
    "# ]\n",
    "\n",
    "# columns = ['Actual Inbound', 'Actual Outbound', 'Actual Inventory',\n",
    "#            'Adjusted Inventory', 'Adjusted Outbound', 'Capacity', 'Overflow']\n",
    "\n",
    "# new_df = pd.DataFrame(new_records, columns=columns)\n",
    "# optimize = pd.concat([optimize, new_df], ignore_index=True)\n",
    "\n",
    "\n",
    "# optimize.tail()"
   ]
  },
  {
   "cell_type": "markdown",
   "id": "d70736c9",
   "metadata": {},
   "source": [
    "### ---**You Can Append New Records to the `optimize` DataFrame**---"
   ]
  },
  {
   "cell_type": "markdown",
   "id": "0d45850f",
   "metadata": {},
   "source": [
    "## **Optimization Model Function: Backtesting on Historical Data**"
   ]
  },
  {
   "cell_type": "markdown",
   "id": "b0364b4e",
   "metadata": {},
   "source": [
    "- **Define a Function that applies the optimization logic using historical data to verify model correctness, behavior, and feasibility before applying to future scenarios.**"
   ]
  },
  {
   "cell_type": "code",
   "execution_count": 994,
   "id": "ee9f8152",
   "metadata": {},
   "outputs": [],
   "source": [
    "def run_optimization(optimize):\n",
    "    model = LpProblem(\"Inventory_Optimization\", LpMinimize)\n",
    "    n = len(optimize)\n",
    "\n",
    "    inbound_vars = [LpVariable(f\"Inbound_{i}\", lowBound=0, cat=LpContinuous) for i in range(n)]\n",
    "    outbound_vars = [LpVariable(f\"Outbound_{i}\", lowBound=0, cat=LpContinuous) for i in range(n)]\n",
    "    inventory_vars = [LpVariable(f\"Inventory_{i}\", lowBound=0, cat=LpContinuous) for i in range(n)]\n",
    "    overflow_vars = [LpVariable(f\"Overflow_{i}\", lowBound=0, cat=LpContinuous) for i in range(n)]\n",
    "    understock_vars = [LpVariable(f\"Understock_{i}\", lowBound=0, cat=LpContinuous) for i in range(n)]\n",
    "\n",
    "    capacity = optimize['Capacity'].values\n",
    "    adjusted_outbound = optimize['Actual Outbound'].values\n",
    "    cap_75 = 0.75 * capacity\n",
    "    cap_80 = 0.8 * capacity\n",
    "\n",
    "    # Objective: penalize overflow and understock, reward outbound\n",
    "    model += (\n",
    "        lpSum(overflow_vars) * 1 +\n",
    "        lpSum(understock_vars) * 1 -\n",
    "        lpSum(outbound_vars)\n",
    "    )\n",
    "\n",
    "    for i in range(n):\n",
    "        if i == 0:\n",
    "            model += inventory_vars[i] == optimize['Actual Inventory'].iloc[0] + inbound_vars[i] - outbound_vars[i]\n",
    "        else:\n",
    "            model += inventory_vars[i] == inventory_vars[i - 1] + inbound_vars[i] - outbound_vars[i]\n",
    "\n",
    "        model += outbound_vars[i] <= adjusted_outbound[i]\n",
    "        model += inbound_vars[i] >= 5  # MOQ\n",
    "\n",
    "        # Tight overflow/understock constraints\n",
    "        model += overflow_vars[i] >= inventory_vars[i] - cap_80[i]\n",
    "        model += understock_vars[i] >= cap_75[i] - inventory_vars[i]\n",
    "        model += overflow_vars[i] >= 0\n",
    "        model += understock_vars[i] >= 0\n",
    "\n",
    "    model.solve()\n",
    "\n",
    "    optimize['Optimized Inbound'] = [inbound_vars[i].varValue for i in range(n)]\n",
    "    optimize['Optimized Outbound'] = [outbound_vars[i].varValue for i in range(n)]\n",
    "    optimize['Optimized Inventory'] = [inventory_vars[i].varValue for i in range(n)]\n",
    "    optimize['Overflow'] = [overflow_vars[i].varValue for i in range(n)]\n",
    "    optimize['Understock'] = [understock_vars[i].varValue for i in range(n)]\n",
    "    optimize['Cap_75'] = cap_75\n",
    "    optimize['Cap_80'] = cap_80\n",
    "\n",
    "    return optimize\n"
   ]
  },
  {
   "cell_type": "code",
   "execution_count": 995,
   "id": "1f27bdb4",
   "metadata": {},
   "outputs": [],
   "source": [
    "opt_head_9 = optimize.head(9).copy()"
   ]
  },
  {
   "cell_type": "code",
   "execution_count": 996,
   "id": "f0680217",
   "metadata": {},
   "outputs": [],
   "source": [
    "opt_head_9 = run_optimization(opt_head_9)\n",
    "opt_head_9['Cap_70'] = opt_head_9['Capacity'] * 0.70\n",
    "opt_head_9['Cap_80'] = opt_head_9['Capacity'] * 0.80"
   ]
  },
  {
   "cell_type": "code",
   "execution_count": 997,
   "id": "8e51830b",
   "metadata": {},
   "outputs": [
    {
     "data": {
      "image/png": "[encoded data removed]",
      "text/plain": [
       "<Figure size 1400x600 with 1 Axes>"
      ]
     },
     "metadata": {},
     "output_type": "display_data"
    }
   ],
   "source": [
    "opt_head_9 = opt_head_9.sort_index()\n",
    "x1 = opt_head_9.index\n",
    "month_labels = df.loc[x1, 'month'].dt.strftime('%b-%Y').values\n",
    "plt.figure(figsize=(14,6))\n",
    "\n",
    "plt.plot(x1, opt_head_9['Actual Inventory'], label='Actual Inventory', color='green', marker='o')\n",
    "plt.plot(x1, opt_head_9['Optimized Inventory'], label='Optimized Inventory', color='blue', marker='^')\n",
    "plt.plot(x1, opt_head_9['Optimized Inbound'], label='Optimized Inbound', color='orange', marker='s')\n",
    "\n",
    "\n",
    "plt.plot(x1, opt_head_9['Capacity'], label='Capacity', color='red', linestyle='--')\n",
    "plt.plot(x1, opt_head_9['Cap_70'], label='Cap 70%', color='gray', linestyle='--')\n",
    "plt.plot(x1, opt_head_9['Cap_80'], label='Cap 80%', color='gray', linestyle='--')\n",
    "\n",
    "plt.title('Inventory & Inbound vs Capacity (First 9 Months)')\n",
    "plt.xlabel('Month Index')\n",
    "plt.ylabel('Quantity (KT)')\n",
    "plt.legend()\n",
    "plt.grid(True, linestyle='--', alpha=0.5)\n",
    "plt.xticks(x1, month_labels, rotation=45)\n",
    "plt.tight_layout()\n",
    "plt.show()"
   ]
  },
  {
   "cell_type": "markdown",
   "id": "93d2bcf7",
   "metadata": {},
   "source": [
    "---"
   ]
  },
  {
   "cell_type": "markdown",
   "id": "5cc463e2",
   "metadata": {},
   "source": [
    "## **Build a New Optimization Function for `pred_data`**"
   ]
  },
  {
   "cell_type": "markdown",
   "id": "eec3c8b0",
   "metadata": {},
   "source": [
    "- **Construct a new optimization function that applies the same logic as the previous model, adapted to handle `pred_data` (forecasted or incoming new data).**"
   ]
  },
  {
   "cell_type": "code",
   "execution_count": null,
   "id": "541591d9",
   "metadata": {},
   "outputs": [],
   "source": [
    "def run_forecast_optimization(df_forecast, last_inventory):\n",
    "    n = len(df_forecast)\n",
    "    \n",
    "    model = LpProblem(\"Inventory_Optimization\", LpMinimize)\n",
    "\n",
    "    # Variables\n",
    "    inbound_vars = [LpVariable(f\"Inbound_{i}\", lowBound=0, cat=LpContinuous) for i in range(n)]\n",
    "    outbound_vars = [LpVariable(f\"Outbound_{i}\", lowBound=0, cat=LpContinuous) for i in range(n)]\n",
    "    inventory_vars = [LpVariable(f\"Inventory_{i}\", lowBound=0, cat=LpContinuous) for i in range(n)]\n",
    "    overflow_vars = [LpVariable(f\"Overflow_{i}\", lowBound=0, cat=LpContinuous) for i in range(n)]\n",
    "    understock_vars = [LpVariable(f\"Understock_{i}\", lowBound=0, cat=LpContinuous) for i in range(n)]\n",
    "\n",
    "    # Parameters\n",
    "    adjusted_outbound = df_forecast['Adjusted Outbound'].values\n",
    "    adjusted_inventory = df_forecast['Adjusted Inventory'].values\n",
    "    capacity = df_forecast['Capacity'].values\n",
    "\n",
    "    cap_80 = 0.8 * capacity\n",
    "    cap_70 = 0.7 * capacity\n",
    "\n",
    "    # Inventory balance constraint\n",
    "    for i in range(n):\n",
    "        if i == 0:\n",
    "            model += inventory_vars[i] == last_inventory + inbound_vars[i] - outbound_vars[i]\n",
    "        else:\n",
    "            model += inventory_vars[i] == inventory_vars[i-1] + inbound_vars[i] - outbound_vars[i]\n",
    "\n",
    "    # Constraints: outbound cannot exceed adjusted\n",
    "    for i in range(n):\n",
    "        model += outbound_vars[i] <= adjusted_outbound[i]\n",
    "        model += inbound_vars[i] >= 5\n",
    "\n",
    "    # Overflow & understock constraints\n",
    "    for i in range(n):\n",
    "        model += overflow_vars[i] >= inventory_vars[i] - cap_80[i]\n",
    "        model += overflow_vars[i] >= 0\n",
    "        model += understock_vars[i] >= cap_70[i] - inventory_vars[i]\n",
    "        model += understock_vars[i] >= 0\n",
    "\n",
    "    # Objective: maximize outbound, penalize overflow and understock\n",
    "    model += -lpSum(outbound_vars) + lpSum(overflow_vars) * 1 + lpSum(understock_vars) * 1\n",
    "\n",
    "    # Solve\n",
    "    model.solve()\n",
    "\n",
    "    # Collect results\n",
    "    df_result = df_forecast.copy()\n",
    "    df_result['Optimized Inbound'] = [value(v) for v in inbound_vars]\n",
    "    df_result['Optimized Outbound'] = [value(v) for v in outbound_vars]\n",
    "    df_result['Optimized Inventory'] = [value(v) for v in inventory_vars]\n",
    "    df_result['Overflow'] = [value(v) for v in overflow_vars]\n",
    "    df_result['Understock'] = [value(v) for v in understock_vars]\n",
    "    df_result['Cap_70'] = cap_70\n",
    "    df_result['Cap_80'] = cap_80\n",
    "\n",
    "    return df_result\n"
   ]
  },
  {
   "cell_type": "code",
   "execution_count": 999,
   "id": "12ca8c88",
   "metadata": {},
   "outputs": [
    {
     "data": {
      "text/html": [
       "<div>\n",
       "<style scoped>\n",
       "    .dataframe tbody tr th:only-of-type {\n",
       "        vertical-align: middle;\n",
       "    }\n",
       "\n",
       "    .dataframe tbody tr th {\n",
       "        vertical-align: top;\n",
       "    }\n",
       "\n",
       "    .dataframe thead th {\n",
       "        text-align: right;\n",
       "    }\n",
       "</style>\n",
       "<table border=\"1\" class=\"dataframe\">\n",
       "  <thead>\n",
       "    <tr style=\"text-align: right;\">\n",
       "      <th></th>\n",
       "      <th>Actual Inbound</th>\n",
       "      <th>Actual Outbound</th>\n",
       "      <th>Actual Inventory</th>\n",
       "      <th>Adjusted Inventory</th>\n",
       "      <th>Adjusted Outbound</th>\n",
       "      <th>Capacity</th>\n",
       "      <th>Overflow</th>\n",
       "    </tr>\n",
       "  </thead>\n",
       "  <tbody>\n",
       "    <tr>\n",
       "      <th>0</th>\n",
       "      <td>6.867000</td>\n",
       "      <td>8.030355</td>\n",
       "      <td>40.213850</td>\n",
       "      <td>40.297226</td>\n",
       "      <td>10.366865</td>\n",
       "      <td>53.5</td>\n",
       "      <td>False</td>\n",
       "    </tr>\n",
       "    <tr>\n",
       "      <th>1</th>\n",
       "      <td>7.128995</td>\n",
       "      <td>10.046795</td>\n",
       "      <td>36.465800</td>\n",
       "      <td>36.861858</td>\n",
       "      <td>11.064165</td>\n",
       "      <td>53.5</td>\n",
       "      <td>False</td>\n",
       "    </tr>\n",
       "    <tr>\n",
       "      <th>2</th>\n",
       "      <td>15.858001</td>\n",
       "      <td>11.107855</td>\n",
       "      <td>69.876600</td>\n",
       "      <td>59.726196</td>\n",
       "      <td>10.569207</td>\n",
       "      <td>53.5</td>\n",
       "      <td>True</td>\n",
       "    </tr>\n",
       "    <tr>\n",
       "      <th>3</th>\n",
       "      <td>14.027350</td>\n",
       "      <td>8.797185</td>\n",
       "      <td>34.619875</td>\n",
       "      <td>36.609863</td>\n",
       "      <td>9.996425</td>\n",
       "      <td>53.5</td>\n",
       "      <td>False</td>\n",
       "    </tr>\n",
       "    <tr>\n",
       "      <th>4</th>\n",
       "      <td>12.248625</td>\n",
       "      <td>10.501950</td>\n",
       "      <td>35.428425</td>\n",
       "      <td>36.609863</td>\n",
       "      <td>10.998793</td>\n",
       "      <td>53.5</td>\n",
       "      <td>False</td>\n",
       "    </tr>\n",
       "    <tr>\n",
       "      <th>5</th>\n",
       "      <td>6.233500</td>\n",
       "      <td>12.455665</td>\n",
       "      <td>40.010550</td>\n",
       "      <td>40.588722</td>\n",
       "      <td>10.594110</td>\n",
       "      <td>53.5</td>\n",
       "      <td>False</td>\n",
       "    </tr>\n",
       "    <tr>\n",
       "      <th>6</th>\n",
       "      <td>8.659000</td>\n",
       "      <td>12.305930</td>\n",
       "      <td>44.052125</td>\n",
       "      <td>43.272438</td>\n",
       "      <td>11.198022</td>\n",
       "      <td>53.5</td>\n",
       "      <td>False</td>\n",
       "    </tr>\n",
       "    <tr>\n",
       "      <th>7</th>\n",
       "      <td>15.971750</td>\n",
       "      <td>13.300645</td>\n",
       "      <td>41.428880</td>\n",
       "      <td>42.195309</td>\n",
       "      <td>11.182457</td>\n",
       "      <td>53.5</td>\n",
       "      <td>False</td>\n",
       "    </tr>\n",
       "    <tr>\n",
       "      <th>8</th>\n",
       "      <td>10.510625</td>\n",
       "      <td>12.277775</td>\n",
       "      <td>43.000855</td>\n",
       "      <td>42.315590</td>\n",
       "      <td>12.854110</td>\n",
       "      <td>53.5</td>\n",
       "      <td>False</td>\n",
       "    </tr>\n",
       "    <tr>\n",
       "      <th>9</th>\n",
       "      <td>9.600750</td>\n",
       "      <td>15.154065</td>\n",
       "      <td>42.749300</td>\n",
       "      <td>42.195309</td>\n",
       "      <td>14.186451</td>\n",
       "      <td>53.5</td>\n",
       "      <td>False</td>\n",
       "    </tr>\n",
       "    <tr>\n",
       "      <th>10</th>\n",
       "      <td>4.344750</td>\n",
       "      <td>14.412775</td>\n",
       "      <td>42.667825</td>\n",
       "      <td>40.297226</td>\n",
       "      <td>12.782512</td>\n",
       "      <td>53.5</td>\n",
       "      <td>False</td>\n",
       "    </tr>\n",
       "    <tr>\n",
       "      <th>11</th>\n",
       "      <td>0.540000</td>\n",
       "      <td>11.252095</td>\n",
       "      <td>57.333925</td>\n",
       "      <td>59.726196</td>\n",
       "      <td>12.004275</td>\n",
       "      <td>48.0</td>\n",
       "      <td>True</td>\n",
       "    </tr>\n",
       "  </tbody>\n",
       "</table>\n",
       "</div>"
      ],
      "text/plain": [
       "    Actual Inbound  Actual Outbound  Actual Inventory  Adjusted Inventory  \\\n",
       "0         6.867000         8.030355         40.213850           40.297226   \n",
       "1         7.128995        10.046795         36.465800           36.861858   \n",
       "2        15.858001        11.107855         69.876600           59.726196   \n",
       "3        14.027350         8.797185         34.619875           36.609863   \n",
       "4        12.248625        10.501950         35.428425           36.609863   \n",
       "5         6.233500        12.455665         40.010550           40.588722   \n",
       "6         8.659000        12.305930         44.052125           43.272438   \n",
       "7        15.971750        13.300645         41.428880           42.195309   \n",
       "8        10.510625        12.277775         43.000855           42.315590   \n",
       "9         9.600750        15.154065         42.749300           42.195309   \n",
       "10        4.344750        14.412775         42.667825           40.297226   \n",
       "11        0.540000        11.252095         57.333925           59.726196   \n",
       "\n",
       "    Adjusted Outbound  Capacity  Overflow  \n",
       "0           10.366865      53.5     False  \n",
       "1           11.064165      53.5     False  \n",
       "2           10.569207      53.5      True  \n",
       "3            9.996425      53.5     False  \n",
       "4           10.998793      53.5     False  \n",
       "5           10.594110      53.5     False  \n",
       "6           11.198022      53.5     False  \n",
       "7           11.182457      53.5     False  \n",
       "8           12.854110      53.5     False  \n",
       "9           14.186451      53.5     False  \n",
       "10          12.782512      53.5     False  \n",
       "11          12.004275      48.0      True  "
      ]
     },
     "execution_count": 999,
     "metadata": {},
     "output_type": "execute_result"
    }
   ],
   "source": [
    "optimize"
   ]
  },
  {
   "cell_type": "markdown",
   "id": "c2fc9c6f",
   "metadata": {},
   "source": [
    "### **Initial Target for the New Optimization Model: `optimize.iloc[-3:]` (Last 3 Records)**"
   ]
  },
  {
   "cell_type": "code",
   "execution_count": 1000,
   "id": "25ed4457",
   "metadata": {},
   "outputs": [],
   "source": [
    "opt_last3 = optimize.iloc[-3:].copy()"
   ]
  },
  {
   "cell_type": "markdown",
   "id": "351a2987",
   "metadata": {},
   "source": [
    "- **The latest inventory value is a key input to the optimization model, as all calculations are anchored from this current stock level.**"
   ]
  },
  {
   "cell_type": "code",
   "execution_count": 1001,
   "id": "933432a4",
   "metadata": {},
   "outputs": [
    {
     "data": {
      "text/plain": [
       "43.000855"
      ]
     },
     "execution_count": 1001,
     "metadata": {},
     "output_type": "execute_result"
    }
   ],
   "source": [
    "opt_start_idx = opt_last3.index[0] \n",
    "last_inventory = optimize.loc[opt_start_idx - 1, 'Actual Inventory']\n",
    "last_inventory"
   ]
  },
  {
   "cell_type": "code",
   "execution_count": 1002,
   "id": "06d2ebbf",
   "metadata": {},
   "outputs": [],
   "source": [
    "opt_last3 = run_forecast_optimization(opt_last3, last_inventory)\n",
    "opt_last3 = opt_last3.sort_index()"
   ]
  },
  {
   "cell_type": "code",
   "execution_count": 1003,
   "id": "b7c6fa12",
   "metadata": {},
   "outputs": [
    {
     "data": {
      "image/png": "[encoded data removed]",
      "text/plain": [
       "<Figure size 1400x600 with 1 Axes>"
      ]
     },
     "metadata": {},
     "output_type": "display_data"
    }
   ],
   "source": [
    "x = opt_last3.index\n",
    "\n",
    "\n",
    "plt.figure(figsize=(14,6))\n",
    "\n",
    "plt.plot(x, opt_last3['Adjusted Inventory'], label='Adjusted Inventory', color='green', marker='o')\n",
    "plt.plot(x, opt_last3['Optimized Inventory'], label='Optimized Inventory', color='blue', marker='^')\n",
    "plt.plot(x, opt_last3['Optimized Inbound'], label='Optimized Inbound', color='orange', marker='s')\n",
    "\n",
    "plt.plot(x, opt_last3['Capacity'], label='Capacity', color='red', linestyle='--')\n",
    "plt.plot(x, opt_last3['Cap_70'], label='70% Capacity', color='gray', linestyle=':')\n",
    "plt.plot(x, opt_last3['Cap_80'], label='80% Capacity', color='gray', linestyle=':')\n",
    "\n",
    "plt.title('Inventory & Inbound vs Capacity (Last 3 periods)')\n",
    "plt.xlabel('Time')\n",
    "plt.ylabel('Volume')\n",
    "plt.legend()\n",
    "plt.grid(True, linestyle='--', alpha=0.5)\n",
    "plt.xticks(x, x, rotation=45)\n",
    "plt.tight_layout()\n",
    "plt.show()\n"
   ]
  },
  {
   "cell_type": "markdown",
   "id": "36fb415d",
   "metadata": {},
   "source": [
    "---"
   ]
  },
  {
   "cell_type": "markdown",
   "id": "028247f8",
   "metadata": {},
   "source": [
    "**End of Notebook – Thank you**"
   ]
  }
 ],
 "metadata": {
  "kernelspec": {
   "display_name": "base",
   "language": "python",
   "name": "python3"
  },
  "language_info": {
   "codemirror_mode": {
    "name": "ipython",
    "version": 3
   },
   "file_extension": ".py",
   "mimetype": "text/x-python",
   "name": "python",
   "nbconvert_exporter": "python",
   "pygments_lexer": "ipython3",
   "version": "3.12.7"
  }
 },
 "nbformat": 4,
 "nbformat_minor": 5
}
