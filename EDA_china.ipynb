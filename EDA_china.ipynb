{
 "cells": [
  {
   "cell_type": "code",
   "execution_count": 2,
   "id": "22d28434",
   "metadata": {},
   "outputs": [],
   "source": [
    "import pandas as pd\n",
    "import numpy as np"
   ]
  },
  {
   "cell_type": "code",
   "execution_count": 3,
   "metadata": {},
   "outputs": [],
   "source": [
    "# inventory\n",
    "raw_inventory_china = pd.read_csv(\"raw_inventory_china.csv\")\n",
    "\n",
    "# inbound\n",
    "raw_inbound_china = pd.read_csv(\"raw_inbound_china.csv\")\n",
    "\n",
    "# outbound\n",
    "raw_outbound_china = pd.read_csv(\"raw_outbound_china.csv\") "
   ]
  },
  {
   "cell_type": "code",
   "execution_count": 13,
   "metadata": {},
   "outputs": [
    {
     "data": {
      "text/plain": [
       "(13369, 5)"
      ]
     },
     "execution_count": 13,
     "metadata": {},
     "output_type": "execute_result"
    }
   ],
   "source": [
    "raw_inbound_china.shape"
   ]
  },
  {
   "cell_type": "code",
   "execution_count": 5,
   "metadata": {},
   "outputs": [
    {
     "data": {
      "text/html": [
       "<div>\n",
       "<style scoped>\n",
       "    .dataframe tbody tr th:only-of-type {\n",
       "        vertical-align: middle;\n",
       "    }\n",
       "\n",
       "    .dataframe tbody tr th {\n",
       "        vertical-align: top;\n",
       "    }\n",
       "\n",
       "    .dataframe thead th {\n",
       "        text-align: right;\n",
       "    }\n",
       "</style>\n",
       "<table border=\"1\" class=\"dataframe\">\n",
       "  <thead>\n",
       "    <tr style=\"text-align: right;\">\n",
       "      <th></th>\n",
       "      <th>BALANCE_AS_OF_DATE</th>\n",
       "      <th>PLANT_NAME</th>\n",
       "      <th>MATERIAL_NAME</th>\n",
       "      <th>BATCH_NUMBER</th>\n",
       "      <th>STOCK_SELL_VALUE</th>\n",
       "      <th>CURRENCY</th>\n",
       "      <th>DATE</th>\n",
       "      <th>Quantity_KT_Inventory</th>\n",
       "    </tr>\n",
       "  </thead>\n",
       "  <tbody>\n",
       "    <tr>\n",
       "      <th>0</th>\n",
       "      <td>2023-12-31</td>\n",
       "      <td>CHINA-WAREHOUSE</td>\n",
       "      <td>MAT-0045</td>\n",
       "      <td>SCRAP</td>\n",
       "      <td>211</td>\n",
       "      <td>CNY</td>\n",
       "      <td>2023-12-31</td>\n",
       "      <td>0.000164</td>\n",
       "    </tr>\n",
       "    <tr>\n",
       "      <th>1</th>\n",
       "      <td>2023-12-31</td>\n",
       "      <td>CHINA-WAREHOUSE</td>\n",
       "      <td>MAT-0193</td>\n",
       "      <td>6024</td>\n",
       "      <td>87666</td>\n",
       "      <td>CNY</td>\n",
       "      <td>2023-12-31</td>\n",
       "      <td>0.000000</td>\n",
       "    </tr>\n",
       "    <tr>\n",
       "      <th>2</th>\n",
       "      <td>2023-12-31</td>\n",
       "      <td>CHINA-WAREHOUSE</td>\n",
       "      <td>MAT-0193</td>\n",
       "      <td>5755</td>\n",
       "      <td>414419</td>\n",
       "      <td>CNY</td>\n",
       "      <td>2023-12-31</td>\n",
       "      <td>0.070720</td>\n",
       "    </tr>\n",
       "    <tr>\n",
       "      <th>3</th>\n",
       "      <td>2023-12-31</td>\n",
       "      <td>CHINA-WAREHOUSE</td>\n",
       "      <td>MAT-0193</td>\n",
       "      <td>3142</td>\n",
       "      <td>71726</td>\n",
       "      <td>CNY</td>\n",
       "      <td>2023-12-31</td>\n",
       "      <td>0.012240</td>\n",
       "    </tr>\n",
       "    <tr>\n",
       "      <th>4</th>\n",
       "      <td>2023-12-31</td>\n",
       "      <td>CHINA-WAREHOUSE</td>\n",
       "      <td>MAT-0193</td>\n",
       "      <td>6734</td>\n",
       "      <td>15939</td>\n",
       "      <td>CNY</td>\n",
       "      <td>2023-12-31</td>\n",
       "      <td>0.002720</td>\n",
       "    </tr>\n",
       "  </tbody>\n",
       "</table>\n",
       "</div>"
      ],
      "text/plain": [
       "  BALANCE_AS_OF_DATE       PLANT_NAME MATERIAL_NAME BATCH_NUMBER  \\\n",
       "0         2023-12-31  CHINA-WAREHOUSE      MAT-0045        SCRAP   \n",
       "1         2023-12-31  CHINA-WAREHOUSE      MAT-0193         6024   \n",
       "2         2023-12-31  CHINA-WAREHOUSE      MAT-0193         5755   \n",
       "3         2023-12-31  CHINA-WAREHOUSE      MAT-0193         3142   \n",
       "4         2023-12-31  CHINA-WAREHOUSE      MAT-0193         6734   \n",
       "\n",
       "   STOCK_SELL_VALUE CURRENCY        DATE  Quantity_KT_Inventory  \n",
       "0               211      CNY  2023-12-31               0.000164  \n",
       "1             87666      CNY  2023-12-31               0.000000  \n",
       "2            414419      CNY  2023-12-31               0.070720  \n",
       "3             71726      CNY  2023-12-31               0.012240  \n",
       "4             15939      CNY  2023-12-31               0.002720  "
      ]
     },
     "execution_count": 5,
     "metadata": {},
     "output_type": "execute_result"
    }
   ],
   "source": [
    "raw_inventory_china.head()"
   ]
  },
  {
   "cell_type": "code",
   "execution_count": 9,
   "metadata": {},
   "outputs": [
    {
     "data": {
      "text/plain": [
       "(18173, 7)"
      ]
     },
     "execution_count": 9,
     "metadata": {},
     "output_type": "execute_result"
    }
   ],
   "source": [
    "raw_outbound_china.shape"
   ]
  },
  {
   "cell_type": "code",
   "execution_count": 7,
   "metadata": {},
   "outputs": [
    {
     "name": "stdout",
     "output_type": "stream",
     "text": [
      "Inbound dates: 2023-11-03 - 2024-12-24\n",
      "Outbound dates: 2024-01-02 - 2024-12-31\n",
      "Inventory dates: 2023-12-31 - 2024-12-31\n"
     ]
    }
   ],
   "source": [
    "print(\"Inbound dates:\", raw_inbound_china['INBOUND_DATE'].min(), \"-\", raw_inbound_china['INBOUND_DATE'].max())\n",
    "print(\"Outbound dates:\", raw_outbound_china['OUTBOUND_DATE'].min(), \"-\", raw_outbound_china['OUTBOUND_DATE'].max())\n",
    "print(\"Inventory dates:\", raw_inventory_china['BALANCE_AS_OF_DATE'].min(), \"-\", raw_inventory_china['BALANCE_AS_OF_DATE'].max())"
   ]
  },
  {
   "cell_type": "code",
   "execution_count": 15,
   "id": "a2033e05",
   "metadata": {},
   "outputs": [
    {
     "data": {
      "text/plain": [
       "9465"
      ]
     },
     "execution_count": 15,
     "metadata": {},
     "output_type": "execute_result"
    }
   ],
   "source": [
    "raw_inbound_china.duplicated().sum()"
   ]
  },
  {
   "cell_type": "code",
   "execution_count": 17,
   "metadata": {},
   "outputs": [],
   "source": [
    "raw_inbound_china = raw_inbound_china.drop_duplicates()"
   ]
  },
  {
   "cell_type": "code",
   "execution_count": 19,
   "metadata": {},
   "outputs": [
    {
     "data": {
      "text/html": [
       "<div>\n",
       "<style scoped>\n",
       "    .dataframe tbody tr th:only-of-type {\n",
       "        vertical-align: middle;\n",
       "    }\n",
       "\n",
       "    .dataframe tbody tr th {\n",
       "        vertical-align: top;\n",
       "    }\n",
       "\n",
       "    .dataframe thead th {\n",
       "        text-align: right;\n",
       "    }\n",
       "</style>\n",
       "<table border=\"1\" class=\"dataframe\">\n",
       "  <thead>\n",
       "    <tr style=\"text-align: right;\">\n",
       "      <th></th>\n",
       "      <th>INBOUND_DATE</th>\n",
       "      <th>PLANT_NAME</th>\n",
       "      <th>MATERIAL_NAME</th>\n",
       "      <th>DATE</th>\n",
       "      <th>Quantity_KT_In</th>\n",
       "    </tr>\n",
       "  </thead>\n",
       "  <tbody>\n",
       "    <tr>\n",
       "      <th>0</th>\n",
       "      <td>2024-07-16</td>\n",
       "      <td>CHINA-WAREHOUSE</td>\n",
       "      <td>MAT-0156</td>\n",
       "      <td>2024-07-16</td>\n",
       "      <td>0.024750</td>\n",
       "    </tr>\n",
       "    <tr>\n",
       "      <th>3</th>\n",
       "      <td>2024-07-16</td>\n",
       "      <td>CHINA-WAREHOUSE</td>\n",
       "      <td>MAT-0156</td>\n",
       "      <td>2024-07-16</td>\n",
       "      <td>0.006875</td>\n",
       "    </tr>\n",
       "    <tr>\n",
       "      <th>4</th>\n",
       "      <td>2024-07-16</td>\n",
       "      <td>CHINA-WAREHOUSE</td>\n",
       "      <td>MAT-0156</td>\n",
       "      <td>2024-07-16</td>\n",
       "      <td>0.017875</td>\n",
       "    </tr>\n",
       "    <tr>\n",
       "      <th>5</th>\n",
       "      <td>2024-01-11</td>\n",
       "      <td>CHINA-WAREHOUSE</td>\n",
       "      <td>MAT-0112</td>\n",
       "      <td>2024-01-11</td>\n",
       "      <td>0.023375</td>\n",
       "    </tr>\n",
       "    <tr>\n",
       "      <th>8</th>\n",
       "      <td>2024-01-11</td>\n",
       "      <td>CHINA-WAREHOUSE</td>\n",
       "      <td>MAT-0112</td>\n",
       "      <td>2024-01-11</td>\n",
       "      <td>0.006875</td>\n",
       "    </tr>\n",
       "    <tr>\n",
       "      <th>...</th>\n",
       "      <td>...</td>\n",
       "      <td>...</td>\n",
       "      <td>...</td>\n",
       "      <td>...</td>\n",
       "      <td>...</td>\n",
       "    </tr>\n",
       "    <tr>\n",
       "      <th>13344</th>\n",
       "      <td>2024-12-22</td>\n",
       "      <td>CHINA-WAREHOUSE</td>\n",
       "      <td>MAT-0339</td>\n",
       "      <td>2024-12-22</td>\n",
       "      <td>0.025500</td>\n",
       "    </tr>\n",
       "    <tr>\n",
       "      <th>13345</th>\n",
       "      <td>2024-12-24</td>\n",
       "      <td>CHINA-WAREHOUSE</td>\n",
       "      <td>MAT-0265</td>\n",
       "      <td>2024-12-24</td>\n",
       "      <td>0.024750</td>\n",
       "    </tr>\n",
       "    <tr>\n",
       "      <th>13351</th>\n",
       "      <td>2024-12-24</td>\n",
       "      <td>CHINA-WAREHOUSE</td>\n",
       "      <td>MAT-0042</td>\n",
       "      <td>2024-12-24</td>\n",
       "      <td>0.024750</td>\n",
       "    </tr>\n",
       "    <tr>\n",
       "      <th>13355</th>\n",
       "      <td>2024-12-24</td>\n",
       "      <td>CHINA-WAREHOUSE</td>\n",
       "      <td>MAT-0232</td>\n",
       "      <td>2024-12-24</td>\n",
       "      <td>0.024750</td>\n",
       "    </tr>\n",
       "    <tr>\n",
       "      <th>13359</th>\n",
       "      <td>2024-12-24</td>\n",
       "      <td>CHINA-WAREHOUSE</td>\n",
       "      <td>MAT-0118</td>\n",
       "      <td>2024-12-24</td>\n",
       "      <td>0.024750</td>\n",
       "    </tr>\n",
       "  </tbody>\n",
       "</table>\n",
       "<p>3904 rows × 5 columns</p>\n",
       "</div>"
      ],
      "text/plain": [
       "      INBOUND_DATE       PLANT_NAME MATERIAL_NAME        DATE  Quantity_KT_In\n",
       "0       2024-07-16  CHINA-WAREHOUSE      MAT-0156  2024-07-16        0.024750\n",
       "3       2024-07-16  CHINA-WAREHOUSE      MAT-0156  2024-07-16        0.006875\n",
       "4       2024-07-16  CHINA-WAREHOUSE      MAT-0156  2024-07-16        0.017875\n",
       "5       2024-01-11  CHINA-WAREHOUSE      MAT-0112  2024-01-11        0.023375\n",
       "8       2024-01-11  CHINA-WAREHOUSE      MAT-0112  2024-01-11        0.006875\n",
       "...            ...              ...           ...         ...             ...\n",
       "13344   2024-12-22  CHINA-WAREHOUSE      MAT-0339  2024-12-22        0.025500\n",
       "13345   2024-12-24  CHINA-WAREHOUSE      MAT-0265  2024-12-24        0.024750\n",
       "13351   2024-12-24  CHINA-WAREHOUSE      MAT-0042  2024-12-24        0.024750\n",
       "13355   2024-12-24  CHINA-WAREHOUSE      MAT-0232  2024-12-24        0.024750\n",
       "13359   2024-12-24  CHINA-WAREHOUSE      MAT-0118  2024-12-24        0.024750\n",
       "\n",
       "[3904 rows x 5 columns]"
      ]
     },
     "execution_count": 19,
     "metadata": {},
     "output_type": "execute_result"
    }
   ],
   "source": [
    "raw_inbound_china"
   ]
  },
  {
   "cell_type": "code",
   "execution_count": null,
   "metadata": {},
   "outputs": [],
   "source": []
  },
  {
   "cell_type": "code",
   "execution_count": null,
   "id": "5419caa3",
   "metadata": {},
   "outputs": [],
   "source": []
  },
  {
   "cell_type": "code",
   "execution_count": null,
   "metadata": {},
   "outputs": [],
   "source": []
  }
 ],
 "metadata": {
  "kernelspec": {
   "display_name": "base",
   "language": "python",
   "name": "python3"
  },
  "language_info": {
   "codemirror_mode": {
    "name": "ipython",
    "version": 3
   },
   "file_extension": ".py",
   "mimetype": "text/x-python",
   "name": "python",
   "nbconvert_exporter": "python",
   "pygments_lexer": "ipython3",
   "version": "3.12.7"
  }
 },
 "nbformat": 4,
 "nbformat_minor": 5
}
