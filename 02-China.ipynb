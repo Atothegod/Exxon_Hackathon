{
 "cells": [
  {
   "cell_type": "markdown",
   "id": "2bf1d6a4",
   "metadata": {},
   "source": [
    "# **Libraries**"
   ]
  },
  {
   "cell_type": "code",
   "execution_count": 1,
   "id": "5d8cab43",
   "metadata": {},
   "outputs": [],
   "source": [
    "import pandas as pd\n",
    "import numpy as np\n",
    "import pandas as pd\n",
    "import numpy as np\n",
    "import matplotlib.pyplot as plt\n",
    "from sklearn.ensemble import GradientBoostingRegressor, RandomForestRegressor\n",
    "import xgboost as xgb\n",
    "from sklearn.preprocessing import RobustScaler\n",
    "from sklearn.metrics import mean_absolute_error, mean_squared_error\n",
    "import plotly.express as px\n",
    "from sklearn.linear_model import Ridge, LinearRegression\n",
    "from lightgbm import LGBMRegressor\n",
    "from sklearn.linear_model import Ridge\n",
    "from pulp import LpProblem, LpVariable, LpMinimize, lpSum, LpContinuous, value"
   ]
  },
  {
   "cell_type": "markdown",
   "id": "8ab9006a",
   "metadata": {},
   "source": [
    "# **Load Data**"
   ]
  },
  {
   "cell_type": "code",
   "execution_count": 2,
   "id": "85509b41",
   "metadata": {},
   "outputs": [],
   "source": [
    "# inventory\n",
    "raw_inventory_china = pd.read_csv(\"raw_inventory_china.csv\")\n",
    "\n",
    "# inbound\n",
    "raw_inbound_china = pd.read_csv(\"raw_inbound_china.csv\")\n",
    "\n",
    "# outbound\n",
    "raw_outbound_china = pd.read_csv(\"raw_outbound_china.csv\") "
   ]
  },
  {
   "cell_type": "markdown",
   "id": "ff67d62a",
   "metadata": {},
   "source": [
    "### **Sample of Each Dataset**"
   ]
  },
  {
   "cell_type": "code",
   "execution_count": 3,
   "id": "5248f730",
   "metadata": {},
   "outputs": [
    {
     "data": {
      "text/html": [
       "<div>\n",
       "<style scoped>\n",
       "    .dataframe tbody tr th:only-of-type {\n",
       "        vertical-align: middle;\n",
       "    }\n",
       "\n",
       "    .dataframe tbody tr th {\n",
       "        vertical-align: top;\n",
       "    }\n",
       "\n",
       "    .dataframe thead th {\n",
       "        text-align: right;\n",
       "    }\n",
       "</style>\n",
       "<table border=\"1\" class=\"dataframe\">\n",
       "  <thead>\n",
       "    <tr style=\"text-align: right;\">\n",
       "      <th></th>\n",
       "      <th>INBOUND_DATE</th>\n",
       "      <th>PLANT_NAME</th>\n",
       "      <th>MATERIAL_NAME</th>\n",
       "      <th>DATE</th>\n",
       "      <th>Quantity_KT_In</th>\n",
       "    </tr>\n",
       "  </thead>\n",
       "  <tbody>\n",
       "    <tr>\n",
       "      <th>11302</th>\n",
       "      <td>2024-10-13</td>\n",
       "      <td>CHINA-WAREHOUSE</td>\n",
       "      <td>MAT-0314</td>\n",
       "      <td>2024-10-13</td>\n",
       "      <td>25.50</td>\n",
       "    </tr>\n",
       "    <tr>\n",
       "      <th>5173</th>\n",
       "      <td>2024-05-03</td>\n",
       "      <td>CHINA-WAREHOUSE</td>\n",
       "      <td>MAT-0001</td>\n",
       "      <td>2024-05-03</td>\n",
       "      <td>25.50</td>\n",
       "    </tr>\n",
       "    <tr>\n",
       "      <th>3294</th>\n",
       "      <td>2024-02-24</td>\n",
       "      <td>CHINA-WAREHOUSE</td>\n",
       "      <td>MAT-0380</td>\n",
       "      <td>2024-02-24</td>\n",
       "      <td>24.75</td>\n",
       "    </tr>\n",
       "    <tr>\n",
       "      <th>6955</th>\n",
       "      <td>2024-05-14</td>\n",
       "      <td>CHINA-WAREHOUSE</td>\n",
       "      <td>MAT-0112</td>\n",
       "      <td>2024-05-14</td>\n",
       "      <td>24.75</td>\n",
       "    </tr>\n",
       "    <tr>\n",
       "      <th>12137</th>\n",
       "      <td>2024-11-22</td>\n",
       "      <td>CHINA-WAREHOUSE</td>\n",
       "      <td>MAT-0146</td>\n",
       "      <td>2024-11-22</td>\n",
       "      <td>24.75</td>\n",
       "    </tr>\n",
       "  </tbody>\n",
       "</table>\n",
       "</div>"
      ],
      "text/plain": [
       "      INBOUND_DATE       PLANT_NAME MATERIAL_NAME        DATE  Quantity_KT_In\n",
       "11302   2024-10-13  CHINA-WAREHOUSE      MAT-0314  2024-10-13           25.50\n",
       "5173    2024-05-03  CHINA-WAREHOUSE      MAT-0001  2024-05-03           25.50\n",
       "3294    2024-02-24  CHINA-WAREHOUSE      MAT-0380  2024-02-24           24.75\n",
       "6955    2024-05-14  CHINA-WAREHOUSE      MAT-0112  2024-05-14           24.75\n",
       "12137   2024-11-22  CHINA-WAREHOUSE      MAT-0146  2024-11-22           24.75"
      ]
     },
     "execution_count": 3,
     "metadata": {},
     "output_type": "execute_result"
    }
   ],
   "source": [
    "raw_inbound_china.sample(5)"
   ]
  },
  {
   "cell_type": "code",
   "execution_count": 4,
   "id": "981d97d0",
   "metadata": {},
   "outputs": [],
   "source": [
    "# raw_inventory_china.sample(5)"
   ]
  },
  {
   "cell_type": "code",
   "execution_count": 5,
   "id": "bbc98096",
   "metadata": {},
   "outputs": [
    {
     "data": {
      "text/html": [
       "<div>\n",
       "<style scoped>\n",
       "    .dataframe tbody tr th:only-of-type {\n",
       "        vertical-align: middle;\n",
       "    }\n",
       "\n",
       "    .dataframe tbody tr th {\n",
       "        vertical-align: top;\n",
       "    }\n",
       "\n",
       "    .dataframe thead th {\n",
       "        text-align: right;\n",
       "    }\n",
       "</style>\n",
       "<table border=\"1\" class=\"dataframe\">\n",
       "  <thead>\n",
       "    <tr style=\"text-align: right;\">\n",
       "      <th></th>\n",
       "      <th>OUTBOUND_DATE</th>\n",
       "      <th>PLANT_NAME</th>\n",
       "      <th>MODE_OF_TRANSPORT</th>\n",
       "      <th>MATERIAL_NAME</th>\n",
       "      <th>CUSTOMER_NUMBER</th>\n",
       "      <th>DATE</th>\n",
       "      <th>Quantity_KT_Out</th>\n",
       "    </tr>\n",
       "  </thead>\n",
       "  <tbody>\n",
       "    <tr>\n",
       "      <th>2657</th>\n",
       "      <td>2024-02-29</td>\n",
       "      <td>CHINA-WAREHOUSE</td>\n",
       "      <td>Truck</td>\n",
       "      <td>MAT-0356</td>\n",
       "      <td>CST-00058</td>\n",
       "      <td>2024-02-29</td>\n",
       "      <td>24.75</td>\n",
       "    </tr>\n",
       "    <tr>\n",
       "      <th>9291</th>\n",
       "      <td>2024-07-11</td>\n",
       "      <td>CHINA-WAREHOUSE</td>\n",
       "      <td>Truck</td>\n",
       "      <td>MAT-0322</td>\n",
       "      <td>CST-00049</td>\n",
       "      <td>2024-07-11</td>\n",
       "      <td>19.25</td>\n",
       "    </tr>\n",
       "    <tr>\n",
       "      <th>2747</th>\n",
       "      <td>2024-03-01</td>\n",
       "      <td>CHINA-WAREHOUSE</td>\n",
       "      <td>Truck</td>\n",
       "      <td>MAT-0009</td>\n",
       "      <td>CST-00161</td>\n",
       "      <td>2024-03-01</td>\n",
       "      <td>8.45</td>\n",
       "    </tr>\n",
       "    <tr>\n",
       "      <th>583</th>\n",
       "      <td>2024-01-09</td>\n",
       "      <td>CHINA-WAREHOUSE</td>\n",
       "      <td>Truck</td>\n",
       "      <td>MAT-0113</td>\n",
       "      <td>CST-00080</td>\n",
       "      <td>2024-01-09</td>\n",
       "      <td>0.53</td>\n",
       "    </tr>\n",
       "    <tr>\n",
       "      <th>13298</th>\n",
       "      <td>2024-09-28</td>\n",
       "      <td>CHINA-WAREHOUSE</td>\n",
       "      <td>Truck</td>\n",
       "      <td>MAT-0013</td>\n",
       "      <td>CST-00771</td>\n",
       "      <td>2024-09-28</td>\n",
       "      <td>6.00</td>\n",
       "    </tr>\n",
       "  </tbody>\n",
       "</table>\n",
       "</div>"
      ],
      "text/plain": [
       "      OUTBOUND_DATE       PLANT_NAME MODE_OF_TRANSPORT MATERIAL_NAME  \\\n",
       "2657     2024-02-29  CHINA-WAREHOUSE             Truck      MAT-0356   \n",
       "9291     2024-07-11  CHINA-WAREHOUSE             Truck      MAT-0322   \n",
       "2747     2024-03-01  CHINA-WAREHOUSE             Truck      MAT-0009   \n",
       "583      2024-01-09  CHINA-WAREHOUSE             Truck      MAT-0113   \n",
       "13298    2024-09-28  CHINA-WAREHOUSE             Truck      MAT-0013   \n",
       "\n",
       "      CUSTOMER_NUMBER        DATE  Quantity_KT_Out  \n",
       "2657        CST-00058  2024-02-29            24.75  \n",
       "9291        CST-00049  2024-07-11            19.25  \n",
       "2747        CST-00161  2024-03-01             8.45  \n",
       "583         CST-00080  2024-01-09             0.53  \n",
       "13298       CST-00771  2024-09-28             6.00  "
      ]
     },
     "execution_count": 5,
     "metadata": {},
     "output_type": "execute_result"
    }
   ],
   "source": [
    "raw_outbound_china.sample(5)"
   ]
  },
  {
   "cell_type": "markdown",
   "id": "ad7fa2de",
   "metadata": {},
   "source": [
    "---"
   ]
  },
  {
   "cell_type": "markdown",
   "id": "40af9197",
   "metadata": {},
   "source": [
    "# **China**"
   ]
  },
  {
   "cell_type": "code",
   "execution_count": 6,
   "id": "759d170e",
   "metadata": {},
   "outputs": [],
   "source": [
    "raw_inventory_china = pd.read_excel('exfolder/Real_Clean_China.xlsx')"
   ]
  },
  {
   "cell_type": "code",
   "execution_count": 7,
   "id": "c0224e64",
   "metadata": {},
   "outputs": [
    {
     "data": {
      "text/html": [
       "<div>\n",
       "<style scoped>\n",
       "    .dataframe tbody tr th:only-of-type {\n",
       "        vertical-align: middle;\n",
       "    }\n",
       "\n",
       "    .dataframe tbody tr th {\n",
       "        vertical-align: top;\n",
       "    }\n",
       "\n",
       "    .dataframe thead th {\n",
       "        text-align: right;\n",
       "    }\n",
       "</style>\n",
       "<table border=\"1\" class=\"dataframe\">\n",
       "  <thead>\n",
       "    <tr style=\"text-align: right;\">\n",
       "      <th></th>\n",
       "      <th>BALANCE_AS_OF_DATE</th>\n",
       "      <th>PLANT_NAME</th>\n",
       "      <th>MATERIAL_NAME</th>\n",
       "      <th>BATCH_NUMBER</th>\n",
       "      <th>UNRESTRICTED_STOCK_MT</th>\n",
       "      <th>STOCK_SELL_VALUE</th>\n",
       "    </tr>\n",
       "  </thead>\n",
       "  <tbody>\n",
       "    <tr>\n",
       "      <th>0</th>\n",
       "      <td>2023-12-31</td>\n",
       "      <td>CHINA-WAREHOUSE</td>\n",
       "      <td>MAT-0001</td>\n",
       "      <td>V1126A</td>\n",
       "      <td>83.950</td>\n",
       "      <td>1009919</td>\n",
       "    </tr>\n",
       "    <tr>\n",
       "      <th>1</th>\n",
       "      <td>2023-12-31</td>\n",
       "      <td>CHINA-WAREHOUSE</td>\n",
       "      <td>MAT-0001</td>\n",
       "      <td>V2662A</td>\n",
       "      <td>254.925</td>\n",
       "      <td>3066748</td>\n",
       "    </tr>\n",
       "    <tr>\n",
       "      <th>2</th>\n",
       "      <td>2023-12-31</td>\n",
       "      <td>CHINA-WAREHOUSE</td>\n",
       "      <td>MAT-0001</td>\n",
       "      <td>V2917A</td>\n",
       "      <td>1.275</td>\n",
       "      <td>15338</td>\n",
       "    </tr>\n",
       "    <tr>\n",
       "      <th>3</th>\n",
       "      <td>2023-12-31</td>\n",
       "      <td>CHINA-WAREHOUSE</td>\n",
       "      <td>MAT-0001</td>\n",
       "      <td>V3011A</td>\n",
       "      <td>1.300</td>\n",
       "      <td>15639</td>\n",
       "    </tr>\n",
       "    <tr>\n",
       "      <th>4</th>\n",
       "      <td>2023-12-31</td>\n",
       "      <td>CHINA-WAREHOUSE</td>\n",
       "      <td>MAT-0001</td>\n",
       "      <td>V3022A</td>\n",
       "      <td>1.450</td>\n",
       "      <td>17444</td>\n",
       "    </tr>\n",
       "  </tbody>\n",
       "</table>\n",
       "</div>"
      ],
      "text/plain": [
       "  BALANCE_AS_OF_DATE       PLANT_NAME MATERIAL_NAME BATCH_NUMBER  \\\n",
       "0         2023-12-31  CHINA-WAREHOUSE      MAT-0001       V1126A   \n",
       "1         2023-12-31  CHINA-WAREHOUSE      MAT-0001       V2662A   \n",
       "2         2023-12-31  CHINA-WAREHOUSE      MAT-0001       V2917A   \n",
       "3         2023-12-31  CHINA-WAREHOUSE      MAT-0001       V3011A   \n",
       "4         2023-12-31  CHINA-WAREHOUSE      MAT-0001       V3022A   \n",
       "\n",
       "   UNRESTRICTED_STOCK_MT  STOCK_SELL_VALUE  \n",
       "0                 83.950           1009919  \n",
       "1                254.925           3066748  \n",
       "2                  1.275             15338  \n",
       "3                  1.300             15639  \n",
       "4                  1.450             17444  "
      ]
     },
     "execution_count": 7,
     "metadata": {},
     "output_type": "execute_result"
    }
   ],
   "source": [
    "raw_inventory_china.head()"
   ]
  },
  {
   "cell_type": "code",
   "execution_count": 8,
   "id": "6df09c7c",
   "metadata": {},
   "outputs": [],
   "source": [
    "raw_inventory_china['Quantity_MT_Inventory'] = raw_inventory_china['UNRESTRICTED_STOCK_MT']"
   ]
  },
  {
   "cell_type": "markdown",
   "id": "b4b65ac7",
   "metadata": {},
   "source": [
    "### **Time Range Selection**"
   ]
  },
  {
   "cell_type": "code",
   "execution_count": 9,
   "id": "4ba5e09d",
   "metadata": {},
   "outputs": [
    {
     "name": "stdout",
     "output_type": "stream",
     "text": [
      "Inbound dates: 2023-11-03 - 2024-12-24\n",
      "Outbound dates: 2024-01-02 - 2024-12-31\n",
      "Inventory dates: 2023-12-31 00:00:00 - 2024-12-31 00:00:00\n"
     ]
    }
   ],
   "source": [
    "print(\"Inbound dates:\", raw_inbound_china['INBOUND_DATE'].min(), \"-\", raw_inbound_china['INBOUND_DATE'].max())\n",
    "print(\"Outbound dates:\", raw_outbound_china['OUTBOUND_DATE'].min(), \"-\", raw_outbound_china['OUTBOUND_DATE'].max())\n",
    "print(\"Inventory dates:\", raw_inventory_china['BALANCE_AS_OF_DATE'].min(), \"-\", raw_inventory_china['BALANCE_AS_OF_DATE'].max())"
   ]
  },
  {
   "cell_type": "code",
   "execution_count": 10,
   "id": "2aac6df0",
   "metadata": {},
   "outputs": [],
   "source": [
    "raw_inbound_china['INBOUND_DATE'] = pd.to_datetime(raw_inbound_china['INBOUND_DATE'])\n",
    "raw_inventory_china['BALANCE_AS_OF_DATE'] = pd.to_datetime(raw_inventory_china['BALANCE_AS_OF_DATE'])\n",
    "raw_outbound_china['OUTBOUND_DATE'] = pd.to_datetime(raw_outbound_china['OUTBOUND_DATE'])"
   ]
  },
  {
   "cell_type": "code",
   "execution_count": 11,
   "id": "459313e5",
   "metadata": {},
   "outputs": [],
   "source": [
    "start_date = pd.to_datetime('2024-01-01')\n",
    "end_date   = pd.to_datetime('2024-12-31')"
   ]
  },
  {
   "cell_type": "code",
   "execution_count": 12,
   "id": "19f30ad9",
   "metadata": {},
   "outputs": [],
   "source": [
    "inbound_china = raw_inbound_china[\n",
    "    (raw_inbound_china['INBOUND_DATE'] >= start_date) & \n",
    "    (raw_inbound_china['INBOUND_DATE'] <= end_date)\n",
    "].copy()\n",
    "\n",
    "outbound_china = raw_outbound_china[\n",
    "    (raw_outbound_china['OUTBOUND_DATE'] >= start_date) & \n",
    "    (raw_outbound_china['OUTBOUND_DATE'] <= end_date)\n",
    "].copy()\n",
    "\n",
    "inventory_china = raw_inventory_china[\n",
    "    (raw_inventory_china['BALANCE_AS_OF_DATE'] >= start_date) & \n",
    "    (raw_inventory_china['BALANCE_AS_OF_DATE'] <= end_date)\n",
    "].copy()"
   ]
  },
  {
   "cell_type": "code",
   "execution_count": 13,
   "id": "3ad55b26",
   "metadata": {},
   "outputs": [
    {
     "name": "stdout",
     "output_type": "stream",
     "text": [
      "Inbound dates: 2024-01-03 00:00:00 - 2024-12-24 00:00:00\n",
      "Outbound dates: 2024-01-02 00:00:00 - 2024-12-31 00:00:00\n",
      "Inventory dates: 2024-01-31 00:00:00 - 2024-12-31 00:00:00\n"
     ]
    }
   ],
   "source": [
    "print(\"Inbound dates:\", inbound_china['INBOUND_DATE'].min(), \"-\", raw_inbound_china['INBOUND_DATE'].max())\n",
    "print(\"Outbound dates:\", outbound_china['OUTBOUND_DATE'].min(), \"-\", raw_outbound_china['OUTBOUND_DATE'].max())\n",
    "print(\"Inventory dates:\", inventory_china['BALANCE_AS_OF_DATE'].min(), \"-\", raw_inventory_china['BALANCE_AS_OF_DATE'].max())"
   ]
  },
  {
   "cell_type": "markdown",
   "id": "f3a36076",
   "metadata": {},
   "source": [
    "---"
   ]
  },
  {
   "cell_type": "markdown",
   "id": "36f3b094",
   "metadata": {},
   "source": [
    "# **EDA**"
   ]
  },
  {
   "cell_type": "markdown",
   "id": "e38ecad3",
   "metadata": {},
   "source": [
    "### **Monthly of Inventory, Inbound & Outbound**"
   ]
  },
  {
   "cell_type": "markdown",
   "id": "9246161e",
   "metadata": {},
   "source": [
    "**Inventory**"
   ]
  },
  {
   "cell_type": "code",
   "execution_count": 14,
   "id": "1e43f656",
   "metadata": {},
   "outputs": [
    {
     "data": {
      "text/html": [
       "<div>\n",
       "<style scoped>\n",
       "    .dataframe tbody tr th:only-of-type {\n",
       "        vertical-align: middle;\n",
       "    }\n",
       "\n",
       "    .dataframe tbody tr th {\n",
       "        vertical-align: top;\n",
       "    }\n",
       "\n",
       "    .dataframe thead th {\n",
       "        text-align: right;\n",
       "    }\n",
       "</style>\n",
       "<table border=\"1\" class=\"dataframe\">\n",
       "  <thead>\n",
       "    <tr style=\"text-align: right;\">\n",
       "      <th></th>\n",
       "      <th>month</th>\n",
       "      <th>PLANT_NAME</th>\n",
       "      <th>Quantity_MT_Inventory</th>\n",
       "    </tr>\n",
       "  </thead>\n",
       "  <tbody>\n",
       "    <tr>\n",
       "      <th>0</th>\n",
       "      <td>2024-01-01</td>\n",
       "      <td>CHINA-WAREHOUSE</td>\n",
       "      <td>39012.368</td>\n",
       "    </tr>\n",
       "    <tr>\n",
       "      <th>1</th>\n",
       "      <td>2024-02-01</td>\n",
       "      <td>CHINA-WAREHOUSE</td>\n",
       "      <td>46217.648</td>\n",
       "    </tr>\n",
       "    <tr>\n",
       "      <th>2</th>\n",
       "      <td>2024-03-01</td>\n",
       "      <td>CHINA-WAREHOUSE</td>\n",
       "      <td>48478.708</td>\n",
       "    </tr>\n",
       "    <tr>\n",
       "      <th>3</th>\n",
       "      <td>2024-04-01</td>\n",
       "      <td>CHINA-WAREHOUSE</td>\n",
       "      <td>48415.015</td>\n",
       "    </tr>\n",
       "    <tr>\n",
       "      <th>4</th>\n",
       "      <td>2024-05-01</td>\n",
       "      <td>CHINA-WAREHOUSE</td>\n",
       "      <td>52826.486</td>\n",
       "    </tr>\n",
       "    <tr>\n",
       "      <th>5</th>\n",
       "      <td>2024-06-01</td>\n",
       "      <td>CHINA-WAREHOUSE</td>\n",
       "      <td>71362.441</td>\n",
       "    </tr>\n",
       "    <tr>\n",
       "      <th>6</th>\n",
       "      <td>2024-07-01</td>\n",
       "      <td>CHINA-WAREHOUSE</td>\n",
       "      <td>75614.624</td>\n",
       "    </tr>\n",
       "    <tr>\n",
       "      <th>7</th>\n",
       "      <td>2024-08-01</td>\n",
       "      <td>CHINA-WAREHOUSE</td>\n",
       "      <td>68138.683</td>\n",
       "    </tr>\n",
       "    <tr>\n",
       "      <th>8</th>\n",
       "      <td>2024-09-01</td>\n",
       "      <td>CHINA-WAREHOUSE</td>\n",
       "      <td>66701.368</td>\n",
       "    </tr>\n",
       "    <tr>\n",
       "      <th>9</th>\n",
       "      <td>2024-10-01</td>\n",
       "      <td>CHINA-WAREHOUSE</td>\n",
       "      <td>62785.369</td>\n",
       "    </tr>\n",
       "    <tr>\n",
       "      <th>10</th>\n",
       "      <td>2024-11-01</td>\n",
       "      <td>CHINA-WAREHOUSE</td>\n",
       "      <td>54764.596</td>\n",
       "    </tr>\n",
       "    <tr>\n",
       "      <th>11</th>\n",
       "      <td>2024-12-01</td>\n",
       "      <td>CHINA-WAREHOUSE</td>\n",
       "      <td>72626.420</td>\n",
       "    </tr>\n",
       "  </tbody>\n",
       "</table>\n",
       "</div>"
      ],
      "text/plain": [
       "        month       PLANT_NAME  Quantity_MT_Inventory\n",
       "0  2024-01-01  CHINA-WAREHOUSE              39012.368\n",
       "1  2024-02-01  CHINA-WAREHOUSE              46217.648\n",
       "2  2024-03-01  CHINA-WAREHOUSE              48478.708\n",
       "3  2024-04-01  CHINA-WAREHOUSE              48415.015\n",
       "4  2024-05-01  CHINA-WAREHOUSE              52826.486\n",
       "5  2024-06-01  CHINA-WAREHOUSE              71362.441\n",
       "6  2024-07-01  CHINA-WAREHOUSE              75614.624\n",
       "7  2024-08-01  CHINA-WAREHOUSE              68138.683\n",
       "8  2024-09-01  CHINA-WAREHOUSE              66701.368\n",
       "9  2024-10-01  CHINA-WAREHOUSE              62785.369\n",
       "10 2024-11-01  CHINA-WAREHOUSE              54764.596\n",
       "11 2024-12-01  CHINA-WAREHOUSE              72626.420"
      ]
     },
     "execution_count": 14,
     "metadata": {},
     "output_type": "execute_result"
    }
   ],
   "source": [
    "inventory_china['month'] = inventory_china['BALANCE_AS_OF_DATE'].dt.to_period('M').dt.to_timestamp()\n",
    "Inventory_monthly_china = (\n",
    "    inventory_china.groupby(['month', 'PLANT_NAME'])['Quantity_MT_Inventory']\n",
    "    .sum()\n",
    "    .reset_index()\n",
    ")\n",
    "Inventory_monthly_china"
   ]
  },
  {
   "cell_type": "markdown",
   "id": "8379eba3",
   "metadata": {},
   "source": [
    "**Inbound**"
   ]
  },
  {
   "cell_type": "code",
   "execution_count": 15,
   "id": "1e50dbf2",
   "metadata": {},
   "outputs": [
    {
     "data": {
      "text/html": [
       "<div>\n",
       "<style scoped>\n",
       "    .dataframe tbody tr th:only-of-type {\n",
       "        vertical-align: middle;\n",
       "    }\n",
       "\n",
       "    .dataframe tbody tr th {\n",
       "        vertical-align: top;\n",
       "    }\n",
       "\n",
       "    .dataframe thead th {\n",
       "        text-align: right;\n",
       "    }\n",
       "</style>\n",
       "<table border=\"1\" class=\"dataframe\">\n",
       "  <thead>\n",
       "    <tr style=\"text-align: right;\">\n",
       "      <th></th>\n",
       "      <th>month</th>\n",
       "      <th>PLANT_NAME</th>\n",
       "      <th>Quantity_KT_In</th>\n",
       "    </tr>\n",
       "  </thead>\n",
       "  <tbody>\n",
       "    <tr>\n",
       "      <th>0</th>\n",
       "      <td>2024-01-01</td>\n",
       "      <td>CHINA-WAREHOUSE</td>\n",
       "      <td>25025.125</td>\n",
       "    </tr>\n",
       "    <tr>\n",
       "      <th>1</th>\n",
       "      <td>2024-02-01</td>\n",
       "      <td>CHINA-WAREHOUSE</td>\n",
       "      <td>16469.113</td>\n",
       "    </tr>\n",
       "    <tr>\n",
       "      <th>2</th>\n",
       "      <td>2024-03-01</td>\n",
       "      <td>CHINA-WAREHOUSE</td>\n",
       "      <td>33598.812</td>\n",
       "    </tr>\n",
       "    <tr>\n",
       "      <th>3</th>\n",
       "      <td>2024-04-01</td>\n",
       "      <td>CHINA-WAREHOUSE</td>\n",
       "      <td>23836.500</td>\n",
       "    </tr>\n",
       "    <tr>\n",
       "      <th>4</th>\n",
       "      <td>2024-05-01</td>\n",
       "      <td>CHINA-WAREHOUSE</td>\n",
       "      <td>29770.405</td>\n",
       "    </tr>\n",
       "    <tr>\n",
       "      <th>5</th>\n",
       "      <td>2024-06-01</td>\n",
       "      <td>CHINA-WAREHOUSE</td>\n",
       "      <td>20254.925</td>\n",
       "    </tr>\n",
       "    <tr>\n",
       "      <th>6</th>\n",
       "      <td>2024-07-01</td>\n",
       "      <td>CHINA-WAREHOUSE</td>\n",
       "      <td>23471.777</td>\n",
       "    </tr>\n",
       "    <tr>\n",
       "      <th>7</th>\n",
       "      <td>2024-08-01</td>\n",
       "      <td>CHINA-WAREHOUSE</td>\n",
       "      <td>23469.684</td>\n",
       "    </tr>\n",
       "    <tr>\n",
       "      <th>8</th>\n",
       "      <td>2024-09-01</td>\n",
       "      <td>CHINA-WAREHOUSE</td>\n",
       "      <td>19945.650</td>\n",
       "    </tr>\n",
       "    <tr>\n",
       "      <th>9</th>\n",
       "      <td>2024-10-01</td>\n",
       "      <td>CHINA-WAREHOUSE</td>\n",
       "      <td>15933.650</td>\n",
       "    </tr>\n",
       "    <tr>\n",
       "      <th>10</th>\n",
       "      <td>2024-11-01</td>\n",
       "      <td>CHINA-WAREHOUSE</td>\n",
       "      <td>15277.488</td>\n",
       "    </tr>\n",
       "    <tr>\n",
       "      <th>11</th>\n",
       "      <td>2024-12-01</td>\n",
       "      <td>CHINA-WAREHOUSE</td>\n",
       "      <td>12629.075</td>\n",
       "    </tr>\n",
       "  </tbody>\n",
       "</table>\n",
       "</div>"
      ],
      "text/plain": [
       "        month       PLANT_NAME  Quantity_KT_In\n",
       "0  2024-01-01  CHINA-WAREHOUSE       25025.125\n",
       "1  2024-02-01  CHINA-WAREHOUSE       16469.113\n",
       "2  2024-03-01  CHINA-WAREHOUSE       33598.812\n",
       "3  2024-04-01  CHINA-WAREHOUSE       23836.500\n",
       "4  2024-05-01  CHINA-WAREHOUSE       29770.405\n",
       "5  2024-06-01  CHINA-WAREHOUSE       20254.925\n",
       "6  2024-07-01  CHINA-WAREHOUSE       23471.777\n",
       "7  2024-08-01  CHINA-WAREHOUSE       23469.684\n",
       "8  2024-09-01  CHINA-WAREHOUSE       19945.650\n",
       "9  2024-10-01  CHINA-WAREHOUSE       15933.650\n",
       "10 2024-11-01  CHINA-WAREHOUSE       15277.488\n",
       "11 2024-12-01  CHINA-WAREHOUSE       12629.075"
      ]
     },
     "execution_count": 15,
     "metadata": {},
     "output_type": "execute_result"
    }
   ],
   "source": [
    "inbound_china['month'] = inbound_china['INBOUND_DATE'].dt.to_period('M').dt.to_timestamp()\n",
    "\n",
    "Inbound_monthly_china = (\n",
    "    inbound_china.groupby(['month', 'PLANT_NAME'])['Quantity_KT_In']\n",
    "    .sum()\n",
    "    .reset_index()\n",
    ")\n",
    "Inbound_monthly_china"
   ]
  },
  {
   "cell_type": "markdown",
   "id": "4e63061a",
   "metadata": {},
   "source": [
    "**Outbound**"
   ]
  },
  {
   "cell_type": "code",
   "execution_count": 16,
   "id": "b23be15c",
   "metadata": {},
   "outputs": [
    {
     "data": {
      "text/html": [
       "<div>\n",
       "<style scoped>\n",
       "    .dataframe tbody tr th:only-of-type {\n",
       "        vertical-align: middle;\n",
       "    }\n",
       "\n",
       "    .dataframe tbody tr th {\n",
       "        vertical-align: top;\n",
       "    }\n",
       "\n",
       "    .dataframe thead th {\n",
       "        text-align: right;\n",
       "    }\n",
       "</style>\n",
       "<table border=\"1\" class=\"dataframe\">\n",
       "  <thead>\n",
       "    <tr style=\"text-align: right;\">\n",
       "      <th></th>\n",
       "      <th>month</th>\n",
       "      <th>PLANT_NAME</th>\n",
       "      <th>Quantity_KT_Out</th>\n",
       "    </tr>\n",
       "  </thead>\n",
       "  <tbody>\n",
       "    <tr>\n",
       "      <th>0</th>\n",
       "      <td>2024-01-01</td>\n",
       "      <td>CHINA-WAREHOUSE</td>\n",
       "      <td>25687.77</td>\n",
       "    </tr>\n",
       "    <tr>\n",
       "      <th>1</th>\n",
       "      <td>2024-02-01</td>\n",
       "      <td>CHINA-WAREHOUSE</td>\n",
       "      <td>14025.65</td>\n",
       "    </tr>\n",
       "    <tr>\n",
       "      <th>2</th>\n",
       "      <td>2024-03-01</td>\n",
       "      <td>CHINA-WAREHOUSE</td>\n",
       "      <td>20438.56</td>\n",
       "    </tr>\n",
       "    <tr>\n",
       "      <th>3</th>\n",
       "      <td>2024-04-01</td>\n",
       "      <td>CHINA-WAREHOUSE</td>\n",
       "      <td>21062.60</td>\n",
       "    </tr>\n",
       "    <tr>\n",
       "      <th>4</th>\n",
       "      <td>2024-05-01</td>\n",
       "      <td>CHINA-WAREHOUSE</td>\n",
       "      <td>22762.81</td>\n",
       "    </tr>\n",
       "  </tbody>\n",
       "</table>\n",
       "</div>"
      ],
      "text/plain": [
       "       month       PLANT_NAME  Quantity_KT_Out\n",
       "0 2024-01-01  CHINA-WAREHOUSE         25687.77\n",
       "1 2024-02-01  CHINA-WAREHOUSE         14025.65\n",
       "2 2024-03-01  CHINA-WAREHOUSE         20438.56\n",
       "3 2024-04-01  CHINA-WAREHOUSE         21062.60\n",
       "4 2024-05-01  CHINA-WAREHOUSE         22762.81"
      ]
     },
     "execution_count": 16,
     "metadata": {},
     "output_type": "execute_result"
    }
   ],
   "source": [
    "outbound_china['month'] = outbound_china['OUTBOUND_DATE'].dt.to_period('M').dt.to_timestamp()\n",
    "\n",
    "outbound_monthly_china = (\n",
    "    outbound_china.groupby(['month', 'PLANT_NAME'])['Quantity_KT_Out']\n",
    "    .sum()\n",
    "    .reset_index()\n",
    ")\n",
    "outbound_monthly_china.head(5)"
   ]
  },
  {
   "cell_type": "markdown",
   "id": "9628d0ce",
   "metadata": {},
   "source": [
    "## **Merge**"
   ]
  },
  {
   "cell_type": "code",
   "execution_count": 17,
   "id": "9a673f75",
   "metadata": {},
   "outputs": [
    {
     "data": {
      "text/html": [
       "<div>\n",
       "<style scoped>\n",
       "    .dataframe tbody tr th:only-of-type {\n",
       "        vertical-align: middle;\n",
       "    }\n",
       "\n",
       "    .dataframe tbody tr th {\n",
       "        vertical-align: top;\n",
       "    }\n",
       "\n",
       "    .dataframe thead th {\n",
       "        text-align: right;\n",
       "    }\n",
       "</style>\n",
       "<table border=\"1\" class=\"dataframe\">\n",
       "  <thead>\n",
       "    <tr style=\"text-align: right;\">\n",
       "      <th></th>\n",
       "      <th>month</th>\n",
       "      <th>PLANT_NAME</th>\n",
       "      <th>Quantity_KT_In</th>\n",
       "      <th>Quantity_KT_Out</th>\n",
       "      <th>Quantity_MT_Inventory</th>\n",
       "    </tr>\n",
       "  </thead>\n",
       "  <tbody>\n",
       "    <tr>\n",
       "      <th>5</th>\n",
       "      <td>2024-06-01</td>\n",
       "      <td>CHINA-WAREHOUSE</td>\n",
       "      <td>20254.925</td>\n",
       "      <td>21010.19</td>\n",
       "      <td>71362.441</td>\n",
       "    </tr>\n",
       "    <tr>\n",
       "      <th>6</th>\n",
       "      <td>2024-07-01</td>\n",
       "      <td>CHINA-WAREHOUSE</td>\n",
       "      <td>23471.777</td>\n",
       "      <td>21824.08</td>\n",
       "      <td>75614.624</td>\n",
       "    </tr>\n",
       "    <tr>\n",
       "      <th>7</th>\n",
       "      <td>2024-08-01</td>\n",
       "      <td>CHINA-WAREHOUSE</td>\n",
       "      <td>23469.684</td>\n",
       "      <td>20744.91</td>\n",
       "      <td>68138.683</td>\n",
       "    </tr>\n",
       "    <tr>\n",
       "      <th>1</th>\n",
       "      <td>2024-02-01</td>\n",
       "      <td>CHINA-WAREHOUSE</td>\n",
       "      <td>16469.113</td>\n",
       "      <td>14025.65</td>\n",
       "      <td>46217.648</td>\n",
       "    </tr>\n",
       "    <tr>\n",
       "      <th>10</th>\n",
       "      <td>2024-11-01</td>\n",
       "      <td>CHINA-WAREHOUSE</td>\n",
       "      <td>15277.488</td>\n",
       "      <td>22240.40</td>\n",
       "      <td>54764.596</td>\n",
       "    </tr>\n",
       "  </tbody>\n",
       "</table>\n",
       "</div>"
      ],
      "text/plain": [
       "        month       PLANT_NAME  Quantity_KT_In  Quantity_KT_Out  \\\n",
       "5  2024-06-01  CHINA-WAREHOUSE       20254.925         21010.19   \n",
       "6  2024-07-01  CHINA-WAREHOUSE       23471.777         21824.08   \n",
       "7  2024-08-01  CHINA-WAREHOUSE       23469.684         20744.91   \n",
       "1  2024-02-01  CHINA-WAREHOUSE       16469.113         14025.65   \n",
       "10 2024-11-01  CHINA-WAREHOUSE       15277.488         22240.40   \n",
       "\n",
       "    Quantity_MT_Inventory  \n",
       "5               71362.441  \n",
       "6               75614.624  \n",
       "7               68138.683  \n",
       "1               46217.648  \n",
       "10              54764.596  "
      ]
     },
     "execution_count": 17,
     "metadata": {},
     "output_type": "execute_result"
    }
   ],
   "source": [
    "df = pd.merge(\n",
    "    Inbound_monthly_china,\n",
    "    Inventory_monthly_china,\n",
    "    on=['month', 'PLANT_NAME'],\n",
    "    how='left'\n",
    ")\n",
    "df = pd.merge(\n",
    "    df,\n",
    "    outbound_monthly_china,\n",
    "    on=['month', 'PLANT_NAME'],\n",
    "    how='left'\n",
    ")\n",
    "df.fillna(0, inplace=True)\n",
    "df = df[['month', 'PLANT_NAME', 'Quantity_KT_In', 'Quantity_KT_Out', 'Quantity_MT_Inventory']]\n",
    "df.sample(5)"
   ]
  },
  {
   "cell_type": "code",
   "execution_count": 18,
   "id": "b61487d0",
   "metadata": {},
   "outputs": [
    {
     "data": {
      "image/png": "[encoded data removed]",
      "text/plain": [
       "<Figure size 900x500 with 1 Axes>"
      ]
     },
     "metadata": {},
     "output_type": "display_data"
    }
   ],
   "source": [
    "y = [58000]*1 + [70000] * 11\n",
    "plt.figure(figsize=(9, 5))\n",
    "plt.plot(df['month'], df['Quantity_KT_In'], marker='o', label='Inbound Qty (KT)')\n",
    "plt.plot(df['month'], df['Quantity_KT_Out'], marker='s', label='Outbound Qty (KT)')\n",
    "plt.plot(df['month'], y, color='r', linestyle='--', label='Baseline (WH Capacity (KT))')\n",
    "plt.plot(df['month'], df['Quantity_MT_Inventory'], marker='^', label='Inventory Qty (KT)')\n",
    "plt.title('Monthly Inbound, Outbound, and Inventory Qty (MT) - CHINA Warehouse')\n",
    "plt.xlabel('Month')\n",
    "plt.ylabel('Quantity (KT)')\n",
    "plt.legend()\n",
    "plt.grid(True)\n",
    "plt.xticks(rotation=45)\n",
    "plt.tight_layout()\n",
    "plt.show()"
   ]
  },
  {
   "cell_type": "code",
   "execution_count": 19,
   "id": "e5344fd4",
   "metadata": {},
   "outputs": [
    {
     "data": {
      "image/png": "[encoded data removed]",
      "text/plain": [
       "<Figure size 1000x500 with 1 Axes>"
      ]
     },
     "metadata": {},
     "output_type": "display_data"
    }
   ],
   "source": [
    "plt.figure(figsize=(10, 5))\n",
    "\n",
    "plt.plot(df['month'], df['Quantity_KT_In'], marker='o', label='Inbound Qty (KT)')\n",
    "plt.plot(df['month'], df['Quantity_KT_Out'], marker='s', label='Outbound Qty (KT)')\n",
    "\n",
    "plt.title('Inbound vs Outbound - China Warehouse (Monthly)')\n",
    "plt.xlabel('Month')\n",
    "plt.ylabel('Quantity (KT)')\n",
    "plt.legend()\n",
    "plt.grid(True)\n",
    "plt.xticks(rotation=45)\n",
    "\n",
    "plt.tight_layout()\n",
    "plt.show()"
   ]
  },
  {
   "cell_type": "code",
   "execution_count": 20,
   "id": "2d07bc9a",
   "metadata": {},
   "outputs": [
    {
     "data": {
      "image/png": "[encoded data removed]",
      "text/plain": [
       "<Figure size 1200x600 with 1 Axes>"
      ]
     },
     "metadata": {},
     "output_type": "display_data"
    }
   ],
   "source": [
    "plt.figure(figsize=(12, 6))\n",
    "plt.plot(df['month'], df['Quantity_MT_Inventory'], marker='^', label='Inventory Qty (KT)')\n",
    "plt.plot(df['month'], y, color='r', linestyle='--', label='Baseline (WH Capacity (KT))')\n",
    "plt.title('Inventory vs Baseline - Singapore Warehouse (Monthly)')\n",
    "plt.xlabel('Month')\n",
    "plt.ylabel('Quantity (KT)')\n",
    "plt.legend()\n",
    "plt.grid(True)\n",
    "plt.xticks(rotation=45)\n",
    "plt.tight_layout()\n",
    "plt.show()"
   ]
  },
  {
   "cell_type": "markdown",
   "id": "12f7d5e3",
   "metadata": {},
   "source": [
    "---"
   ]
  },
  {
   "cell_type": "markdown",
   "id": "cca94082",
   "metadata": {},
   "source": [
    "# **Forecasting**"
   ]
  },
  {
   "cell_type": "code",
   "execution_count": 21,
   "id": "372ec35c",
   "metadata": {},
   "outputs": [],
   "source": [
    "china_data = {\n",
    "    'Month': ['Jan-24', 'Feb-24', 'Mar-24', 'Apr-24', 'May-24', 'Jun-24', 'Jul-24', 'Aug-24', 'Sep-24', 'Oct-24', 'Nov-24', 'Dec-24'],\n",
    "    'Total Cap (KT)': [58000, 70000, 70000, 70000, 70000, 70000, 70000, 70000, 70000, 70000, 70000, 70000],\n",
    "    'Predicted Outbound (KT)': [22600, 21700, 22000, 23100, 26700, 21900, 36200, 22900, 26400, 28600, 21100, 21800],\n",
    "    'Predicted Inventory (KT)': [40000, 37000, 35000, 36000, 36000, 41000, 44000, 42000, 42000, 42000, 40000, 15000]\n",
    "}\n",
    "china_predicted = pd.DataFrame(china_data)\n",
    "china_predicted['Month'] = pd.to_datetime(china_predicted['Month'], format='%b-%y').dt.to_period('M')"
   ]
  },
  {
   "cell_type": "code",
   "execution_count": 22,
   "id": "8fc90440",
   "metadata": {},
   "outputs": [
    {
     "data": {
      "text/html": [
       "<div>\n",
       "<style scoped>\n",
       "    .dataframe tbody tr th:only-of-type {\n",
       "        vertical-align: middle;\n",
       "    }\n",
       "\n",
       "    .dataframe tbody tr th {\n",
       "        vertical-align: top;\n",
       "    }\n",
       "\n",
       "    .dataframe thead th {\n",
       "        text-align: right;\n",
       "    }\n",
       "</style>\n",
       "<table border=\"1\" class=\"dataframe\">\n",
       "  <thead>\n",
       "    <tr style=\"text-align: right;\">\n",
       "      <th></th>\n",
       "      <th>Month</th>\n",
       "      <th>Total Cap (KT)</th>\n",
       "      <th>Predicted Outbound (KT)</th>\n",
       "      <th>Predicted Inventory (KT)</th>\n",
       "    </tr>\n",
       "  </thead>\n",
       "  <tbody>\n",
       "    <tr>\n",
       "      <th>0</th>\n",
       "      <td>2024-01</td>\n",
       "      <td>58000</td>\n",
       "      <td>22600</td>\n",
       "      <td>40000</td>\n",
       "    </tr>\n",
       "    <tr>\n",
       "      <th>1</th>\n",
       "      <td>2024-02</td>\n",
       "      <td>70000</td>\n",
       "      <td>21700</td>\n",
       "      <td>37000</td>\n",
       "    </tr>\n",
       "    <tr>\n",
       "      <th>2</th>\n",
       "      <td>2024-03</td>\n",
       "      <td>70000</td>\n",
       "      <td>22000</td>\n",
       "      <td>35000</td>\n",
       "    </tr>\n",
       "    <tr>\n",
       "      <th>3</th>\n",
       "      <td>2024-04</td>\n",
       "      <td>70000</td>\n",
       "      <td>23100</td>\n",
       "      <td>36000</td>\n",
       "    </tr>\n",
       "    <tr>\n",
       "      <th>4</th>\n",
       "      <td>2024-05</td>\n",
       "      <td>70000</td>\n",
       "      <td>26700</td>\n",
       "      <td>36000</td>\n",
       "    </tr>\n",
       "    <tr>\n",
       "      <th>5</th>\n",
       "      <td>2024-06</td>\n",
       "      <td>70000</td>\n",
       "      <td>21900</td>\n",
       "      <td>41000</td>\n",
       "    </tr>\n",
       "    <tr>\n",
       "      <th>6</th>\n",
       "      <td>2024-07</td>\n",
       "      <td>70000</td>\n",
       "      <td>36200</td>\n",
       "      <td>44000</td>\n",
       "    </tr>\n",
       "    <tr>\n",
       "      <th>7</th>\n",
       "      <td>2024-08</td>\n",
       "      <td>70000</td>\n",
       "      <td>22900</td>\n",
       "      <td>42000</td>\n",
       "    </tr>\n",
       "    <tr>\n",
       "      <th>8</th>\n",
       "      <td>2024-09</td>\n",
       "      <td>70000</td>\n",
       "      <td>26400</td>\n",
       "      <td>42000</td>\n",
       "    </tr>\n",
       "    <tr>\n",
       "      <th>9</th>\n",
       "      <td>2024-10</td>\n",
       "      <td>70000</td>\n",
       "      <td>28600</td>\n",
       "      <td>42000</td>\n",
       "    </tr>\n",
       "    <tr>\n",
       "      <th>10</th>\n",
       "      <td>2024-11</td>\n",
       "      <td>70000</td>\n",
       "      <td>21100</td>\n",
       "      <td>40000</td>\n",
       "    </tr>\n",
       "    <tr>\n",
       "      <th>11</th>\n",
       "      <td>2024-12</td>\n",
       "      <td>70000</td>\n",
       "      <td>21800</td>\n",
       "      <td>15000</td>\n",
       "    </tr>\n",
       "  </tbody>\n",
       "</table>\n",
       "</div>"
      ],
      "text/plain": [
       "      Month  Total Cap (KT)  Predicted Outbound (KT)  Predicted Inventory (KT)\n",
       "0   2024-01           58000                    22600                     40000\n",
       "1   2024-02           70000                    21700                     37000\n",
       "2   2024-03           70000                    22000                     35000\n",
       "3   2024-04           70000                    23100                     36000\n",
       "4   2024-05           70000                    26700                     36000\n",
       "5   2024-06           70000                    21900                     41000\n",
       "6   2024-07           70000                    36200                     44000\n",
       "7   2024-08           70000                    22900                     42000\n",
       "8   2024-09           70000                    26400                     42000\n",
       "9   2024-10           70000                    28600                     42000\n",
       "10  2024-11           70000                    21100                     40000\n",
       "11  2024-12           70000                    21800                     15000"
      ]
     },
     "execution_count": 22,
     "metadata": {},
     "output_type": "execute_result"
    }
   ],
   "source": [
    "china_predicted"
   ]
  },
  {
   "cell_type": "code",
   "execution_count": 23,
   "id": "6308f747",
   "metadata": {},
   "outputs": [
    {
     "data": {
      "image/png": "[encoded data removed]",
      "text/plain": [
       "<Figure size 1200x600 with 1 Axes>"
      ]
     },
     "metadata": {},
     "output_type": "display_data"
    }
   ],
   "source": [
    "plt.figure(figsize=(12, 6))\n",
    "\n",
    "plt.plot(china_predicted['Month'].astype(str), china_predicted['Predicted Outbound (KT)'], marker='s', label='Predicted Outbound (KT)')\n",
    "plt.plot(china_predicted['Month'].astype(str), china_predicted['Predicted Inventory (KT)'], marker='^', label='Predicted Inventory (KT)')\n",
    "plt.plot(china_predicted['Month'].astype(str), china_predicted['Total Cap (KT)'], marker='o', linestyle='--', color='red', label='Total Cap (KT)')\n",
    "\n",
    "plt.title('Predicted Outbound, Inventory, and Total Cap - China Warehouse (Monthly)')\n",
    "plt.xlabel('Month')\n",
    "plt.ylabel('Quantity (KT)')\n",
    "plt.legend()\n",
    "plt.grid(True)\n",
    "plt.xticks(rotation=45)\n",
    "plt.tight_layout()\n",
    "plt.show()"
   ]
  },
  {
   "cell_type": "markdown",
   "id": "9737b49d",
   "metadata": {},
   "source": [
    "## **Inventory Pred vs Actual**"
   ]
  },
  {
   "cell_type": "code",
   "execution_count": 24,
   "id": "6ebe312b",
   "metadata": {},
   "outputs": [
    {
     "name": "stdout",
     "output_type": "stream",
     "text": [
      "Actual vs Predicted Inventory (China Warehouse):\n"
     ]
    },
    {
     "data": {
      "text/html": [
       "<div>\n",
       "<style scoped>\n",
       "    .dataframe tbody tr th:only-of-type {\n",
       "        vertical-align: middle;\n",
       "    }\n",
       "\n",
       "    .dataframe tbody tr th {\n",
       "        vertical-align: top;\n",
       "    }\n",
       "\n",
       "    .dataframe thead th {\n",
       "        text-align: right;\n",
       "    }\n",
       "</style>\n",
       "<table border=\"1\" class=\"dataframe\">\n",
       "  <thead>\n",
       "    <tr style=\"text-align: right;\">\n",
       "      <th></th>\n",
       "      <th>month</th>\n",
       "      <th>Quantity_MT_Inventory</th>\n",
       "      <th>Predicted_Inventory</th>\n",
       "      <th>Deviation</th>\n",
       "    </tr>\n",
       "  </thead>\n",
       "  <tbody>\n",
       "    <tr>\n",
       "      <th>0</th>\n",
       "      <td>2024-01-01</td>\n",
       "      <td>39012.368</td>\n",
       "      <td>40000</td>\n",
       "      <td>-987.632</td>\n",
       "    </tr>\n",
       "    <tr>\n",
       "      <th>1</th>\n",
       "      <td>2024-02-01</td>\n",
       "      <td>46217.648</td>\n",
       "      <td>37000</td>\n",
       "      <td>9217.648</td>\n",
       "    </tr>\n",
       "    <tr>\n",
       "      <th>2</th>\n",
       "      <td>2024-03-01</td>\n",
       "      <td>48478.708</td>\n",
       "      <td>35000</td>\n",
       "      <td>13478.708</td>\n",
       "    </tr>\n",
       "    <tr>\n",
       "      <th>3</th>\n",
       "      <td>2024-04-01</td>\n",
       "      <td>48415.015</td>\n",
       "      <td>36000</td>\n",
       "      <td>12415.015</td>\n",
       "    </tr>\n",
       "    <tr>\n",
       "      <th>4</th>\n",
       "      <td>2024-05-01</td>\n",
       "      <td>52826.486</td>\n",
       "      <td>36000</td>\n",
       "      <td>16826.486</td>\n",
       "    </tr>\n",
       "    <tr>\n",
       "      <th>5</th>\n",
       "      <td>2024-06-01</td>\n",
       "      <td>71362.441</td>\n",
       "      <td>41000</td>\n",
       "      <td>30362.441</td>\n",
       "    </tr>\n",
       "    <tr>\n",
       "      <th>6</th>\n",
       "      <td>2024-07-01</td>\n",
       "      <td>75614.624</td>\n",
       "      <td>44000</td>\n",
       "      <td>31614.624</td>\n",
       "    </tr>\n",
       "    <tr>\n",
       "      <th>7</th>\n",
       "      <td>2024-08-01</td>\n",
       "      <td>68138.683</td>\n",
       "      <td>42000</td>\n",
       "      <td>26138.683</td>\n",
       "    </tr>\n",
       "    <tr>\n",
       "      <th>8</th>\n",
       "      <td>2024-09-01</td>\n",
       "      <td>66701.368</td>\n",
       "      <td>42000</td>\n",
       "      <td>24701.368</td>\n",
       "    </tr>\n",
       "    <tr>\n",
       "      <th>9</th>\n",
       "      <td>2024-10-01</td>\n",
       "      <td>62785.369</td>\n",
       "      <td>42000</td>\n",
       "      <td>20785.369</td>\n",
       "    </tr>\n",
       "    <tr>\n",
       "      <th>10</th>\n",
       "      <td>2024-11-01</td>\n",
       "      <td>54764.596</td>\n",
       "      <td>40000</td>\n",
       "      <td>14764.596</td>\n",
       "    </tr>\n",
       "    <tr>\n",
       "      <th>11</th>\n",
       "      <td>2024-12-01</td>\n",
       "      <td>72626.420</td>\n",
       "      <td>15000</td>\n",
       "      <td>57626.420</td>\n",
       "    </tr>\n",
       "  </tbody>\n",
       "</table>\n",
       "</div>"
      ],
      "text/plain": [
       "        month  Quantity_MT_Inventory  Predicted_Inventory  Deviation\n",
       "0  2024-01-01              39012.368                40000   -987.632\n",
       "1  2024-02-01              46217.648                37000   9217.648\n",
       "2  2024-03-01              48478.708                35000  13478.708\n",
       "3  2024-04-01              48415.015                36000  12415.015\n",
       "4  2024-05-01              52826.486                36000  16826.486\n",
       "5  2024-06-01              71362.441                41000  30362.441\n",
       "6  2024-07-01              75614.624                44000  31614.624\n",
       "7  2024-08-01              68138.683                42000  26138.683\n",
       "8  2024-09-01              66701.368                42000  24701.368\n",
       "9  2024-10-01              62785.369                42000  20785.369\n",
       "10 2024-11-01              54764.596                40000  14764.596\n",
       "11 2024-12-01              72626.420                15000  57626.420"
      ]
     },
     "execution_count": 24,
     "metadata": {},
     "output_type": "execute_result"
    }
   ],
   "source": [
    "comparison = df[['month', 'Quantity_MT_Inventory']].copy()\n",
    "comparison['Predicted_Inventory'] = comparison['month'].apply(\n",
    "    lambda m: china_predicted.loc[china_predicted['Month'].dt.to_timestamp() == m, 'Predicted Inventory (KT)'].values[0]\n",
    "    if not china_predicted.loc[china_predicted['Month'].dt.to_timestamp() == m].empty else None\n",
    ")\n",
    "comparison['Deviation'] = comparison['Quantity_MT_Inventory'] - comparison['Predicted_Inventory']\n",
    "\n",
    "print(\"Actual vs Predicted Inventory (China Warehouse):\")\n",
    "comparison"
   ]
  },
  {
   "cell_type": "code",
   "execution_count": 25,
   "id": "7ab2b6af",
   "metadata": {},
   "outputs": [
    {
     "data": {
      "image/png": "[encoded data removed]",
      "text/plain": [
       "<Figure size 1200x600 with 1 Axes>"
      ]
     },
     "metadata": {},
     "output_type": "display_data"
    }
   ],
   "source": [
    "y = [58000]*1 + [70000] * 11\n",
    "plt.figure(figsize=(12, 6))\n",
    "plt.plot(df['month'], df['Quantity_MT_Inventory'], marker='o', label='Actual Inventory (KT)')\n",
    "plt.plot(df['month'], y, color='r', linestyle='--', label='Baseline (WH Capacity 53.5 KT)')\n",
    "plt.plot(china_predicted['Month'].dt.to_timestamp(), china_predicted['Predicted Inventory (KT)'], marker='^', label='Predicted Inventory (KT)')\n",
    "plt.title('Actual vs Predicted Inventory - Singapore Warehouse')\n",
    "plt.xlabel('Month')\n",
    "plt.ylabel('Inventory (KT)')\n",
    "plt.legend()\n",
    "plt.grid(True)\n",
    "plt.xticks(rotation=45)\n",
    "plt.tight_layout()\n",
    "plt.show()"
   ]
  },
  {
   "cell_type": "markdown",
   "id": "d9a72b63",
   "metadata": {},
   "source": [
    "## **Adjust Inventory Predicted**"
   ]
  },
  {
   "cell_type": "code",
   "execution_count": 26,
   "id": "5c386c85",
   "metadata": {},
   "outputs": [
    {
     "name": "stdout",
     "output_type": "stream",
     "text": [
      "[Train] MAE: 7019.23 | RMSE: 8154.21\n",
      "[Test ] MAE: 7001.35 | RMSE: 11186.33\n"
     ]
    }
   ],
   "source": [
    "comparison_valid = comparison.dropna(subset=['Predicted_Inventory', 'Quantity_MT_Inventory'])\n",
    "\n",
    "X = comparison_valid[['Predicted_Inventory']]\n",
    "y = comparison_valid['Quantity_MT_Inventory']\n",
    "\n",
    "scaler = RobustScaler()\n",
    "X_scaled = scaler.fit_transform(X)\n",
    "\n",
    "cut_off_date = pd.to_datetime('2024-09-30')\n",
    "\n",
    "train_mask = comparison_valid['month'] <= cut_off_date\n",
    "test_mask = comparison_valid['month'] > cut_off_date\n",
    "\n",
    "X_train = X_scaled[train_mask]\n",
    "X_test = X_scaled[test_mask]\n",
    "y_train = y[train_mask]\n",
    "y_test = y[test_mask]\n",
    "\n",
    "model = GradientBoostingRegressor(\n",
    "    n_estimators=100,\n",
    "    learning_rate=0.005,\n",
    "    max_depth=5,\n",
    "    min_samples_split=5,\n",
    "    min_samples_leaf=4,\n",
    "    random_state=42\n",
    ")\n",
    "\n",
    "model.fit(X_train, y_train) \n",
    "\n",
    "y_train_pred = model.predict(X_train)\n",
    "y_test_pred = model.predict(X_test)\n",
    "\n",
    "print(f\"[Train] MAE: {mean_absolute_error(y_train, y_train_pred):.2f} | RMSE: {np.sqrt(mean_squared_error(y_train, y_train_pred)):.2f}\")\n",
    "print(f\"[Test ] MAE: {mean_absolute_error(y_test, y_test_pred):.2f} | RMSE: {np.sqrt(mean_squared_error(y_test, y_test_pred)):.2f}\")"
   ]
  },
  {
   "cell_type": "code",
   "execution_count": 27,
   "id": "16ca59e6",
   "metadata": {},
   "outputs": [
    {
     "data": {
      "application/vnd.plotly.v1+json": {
       "config": {
        "plotlyServerURL": "https://plot.ly"
       },
       "data": [
        {
         "hovertemplate": "variable=Quantity_MT_Inventory<br>month=%{x}<br>value=%{y}<extra></extra>",
         "legendgroup": "Quantity_MT_Inventory",
         "line": {
          "color": "#636efa",
          "dash": "solid"
         },
         "marker": {
          "symbol": "circle"
         },
         "mode": "lines+markers",
         "name": "Quantity_MT_Inventory",
         "orientation": "v",
         "showlegend": true,
         "type": "scatter",
         "x": [
          "2024-01-01T00:00:00",
          "2024-02-01T00:00:00",
          "2024-03-01T00:00:00",
          "2024-04-01T00:00:00",
          "2024-05-01T00:00:00",
          "2024-06-01T00:00:00",
          "2024-07-01T00:00:00",
          "2024-08-01T00:00:00",
          "2024-09-01T00:00:00",
          "2024-10-01T00:00:00",
          "2024-11-01T00:00:00",
          "2024-12-01T00:00:00"
         ],
         "xaxis": "x",
         "y": [
          39012.368,
          46217.648,
          48478.708,
          48415.015,
          52826.486,
          71362.441,
          75614.624,
          68138.683,
          66701.368,
          62785.369,
          54764.596,
          72626.42
         ],
         "yaxis": "y"
        },
        {
         "hovertemplate": "variable=Predicted_Inventory<br>month=%{x}<br>value=%{y}<extra></extra>",
         "legendgroup": "Predicted_Inventory",
         "line": {
          "color": "#EF553B",
          "dash": "solid"
         },
         "marker": {
          "symbol": "circle"
         },
         "mode": "lines+markers",
         "name": "Predicted_Inventory",
         "orientation": "v",
         "showlegend": true,
         "type": "scatter",
         "x": [
          "2024-01-01T00:00:00",
          "2024-02-01T00:00:00",
          "2024-03-01T00:00:00",
          "2024-04-01T00:00:00",
          "2024-05-01T00:00:00",
          "2024-06-01T00:00:00",
          "2024-07-01T00:00:00",
          "2024-08-01T00:00:00",
          "2024-09-01T00:00:00",
          "2024-10-01T00:00:00",
          "2024-11-01T00:00:00",
          "2024-12-01T00:00:00"
         ],
         "xaxis": "x",
         "y": [
          40000,
          37000,
          35000,
          36000,
          36000,
          41000,
          44000,
          42000,
          42000,
          42000,
          40000,
          15000
         ],
         "yaxis": "y"
        },
        {
         "hovertemplate": "variable=Predicted_Adjusted<br>month=%{x}<br>value=%{y}<extra></extra>",
         "legendgroup": "Predicted_Adjusted",
         "line": {
          "color": "#00cc96",
          "dash": "solid"
         },
         "marker": {
          "symbol": "circle"
         },
         "mode": "lines+markers",
         "name": "Predicted_Adjusted",
         "orientation": "v",
         "showlegend": true,
         "type": "scatter",
         "x": [
          "2024-01-01T00:00:00",
          "2024-02-01T00:00:00",
          "2024-03-01T00:00:00",
          "2024-04-01T00:00:00",
          "2024-05-01T00:00:00",
          "2024-06-01T00:00:00",
          "2024-07-01T00:00:00",
          "2024-08-01T00:00:00",
          "2024-09-01T00:00:00",
          "2024-10-01T00:00:00",
          "2024-11-01T00:00:00",
          "2024-12-01T00:00:00"
         ],
         "xaxis": "x",
         "y": [
          53307.35134315579,
          53307.35134315579,
          53307.35134315579,
          53307.35134315579,
          53307.35134315579,
          62557.64607105522,
          62557.64607105522,
          62557.64607105522,
          62557.64607105522,
          62557.64607105522,
          53307.35134315579,
          53307.35134315579
         ],
         "yaxis": "y"
        }
       ],
       "layout": {
        "legend": {
         "title": {
          "text": "variable"
         },
         "tracegroupgap": 0
        },
        "template": {
         "data": {
          "bar": [
           {
            "error_x": {
             "color": "#2a3f5f"
            },
            "error_y": {
             "color": "#2a3f5f"
            },
            "marker": {
             "line": {
              "color": "#E5ECF6",
              "width": 0.5
             },
             "pattern": {
              "fillmode": "overlay",
              "size": 10,
              "solidity": 0.2
             }
            },
            "type": "bar"
           }
          ],
          "barpolar": [
           {
            "marker": {
             "line": {
              "color": "#E5ECF6",
              "width": 0.5
             },
             "pattern": {
              "fillmode": "overlay",
              "size": 10,
              "solidity": 0.2
             }
            },
            "type": "barpolar"
           }
          ],
          "carpet": [
           {
            "aaxis": {
             "endlinecolor": "#2a3f5f",
             "gridcolor": "white",
             "linecolor": "white",
             "minorgridcolor": "white",
             "startlinecolor": "#2a3f5f"
            },
            "baxis": {
             "endlinecolor": "#2a3f5f",
             "gridcolor": "white",
             "linecolor": "white",
             "minorgridcolor": "white",
             "startlinecolor": "#2a3f5f"
            },
            "type": "carpet"
           }
          ],
          "choropleth": [
           {
            "colorbar": {
             "outlinewidth": 0,
             "ticks": ""
            },
            "type": "choropleth"
           }
          ],
          "contour": [
           {
            "colorbar": {
             "outlinewidth": 0,
             "ticks": ""
            },
            "colorscale": [
             [
              0,
              "#0d0887"
             ],
             [
              0.1111111111111111,
              "#46039f"
             ],
             [
              0.2222222222222222,
              "#7201a8"
             ],
             [
              0.3333333333333333,
              "#9c179e"
             ],
             [
              0.4444444444444444,
              "#bd3786"
             ],
             [
              0.5555555555555556,
              "#d8576b"
             ],
             [
              0.6666666666666666,
              "#ed7953"
             ],
             [
              0.7777777777777778,
              "#fb9f3a"
             ],
             [
              0.8888888888888888,
              "#fdca26"
             ],
             [
              1,
              "#f0f921"
             ]
            ],
            "type": "contour"
           }
          ],
          "contourcarpet": [
           {
            "colorbar": {
             "outlinewidth": 0,
             "ticks": ""
            },
            "type": "contourcarpet"
           }
          ],
          "heatmap": [
           {
            "colorbar": {
             "outlinewidth": 0,
             "ticks": ""
            },
            "colorscale": [
             [
              0,
              "#0d0887"
             ],
             [
              0.1111111111111111,
              "#46039f"
             ],
             [
              0.2222222222222222,
              "#7201a8"
             ],
             [
              0.3333333333333333,
              "#9c179e"
             ],
             [
              0.4444444444444444,
              "#bd3786"
             ],
             [
              0.5555555555555556,
              "#d8576b"
             ],
             [
              0.6666666666666666,
              "#ed7953"
             ],
             [
              0.7777777777777778,
              "#fb9f3a"
             ],
             [
              0.8888888888888888,
              "#fdca26"
             ],
             [
              1,
              "#f0f921"
             ]
            ],
            "type": "heatmap"
           }
          ],
          "heatmapgl": [
           {
            "colorbar": {
             "outlinewidth": 0,
             "ticks": ""
            },
            "colorscale": [
             [
              0,
              "#0d0887"
             ],
             [
              0.1111111111111111,
              "#46039f"
             ],
             [
              0.2222222222222222,
              "#7201a8"
             ],
             [
              0.3333333333333333,
              "#9c179e"
             ],
             [
              0.4444444444444444,
              "#bd3786"
             ],
             [
              0.5555555555555556,
              "#d8576b"
             ],
             [
              0.6666666666666666,
              "#ed7953"
             ],
             [
              0.7777777777777778,
              "#fb9f3a"
             ],
             [
              0.8888888888888888,
              "#fdca26"
             ],
             [
              1,
              "#f0f921"
             ]
            ],
            "type": "heatmapgl"
           }
          ],
          "histogram": [
           {
            "marker": {
             "pattern": {
              "fillmode": "overlay",
              "size": 10,
              "solidity": 0.2
             }
            },
            "type": "histogram"
           }
          ],
          "histogram2d": [
           {
            "colorbar": {
             "outlinewidth": 0,
             "ticks": ""
            },
            "colorscale": [
             [
              0,
              "#0d0887"
             ],
             [
              0.1111111111111111,
              "#46039f"
             ],
             [
              0.2222222222222222,
              "#7201a8"
             ],
             [
              0.3333333333333333,
              "#9c179e"
             ],
             [
              0.4444444444444444,
              "#bd3786"
             ],
             [
              0.5555555555555556,
              "#d8576b"
             ],
             [
              0.6666666666666666,
              "#ed7953"
             ],
             [
              0.7777777777777778,
              "#fb9f3a"
             ],
             [
              0.8888888888888888,
              "#fdca26"
             ],
             [
              1,
              "#f0f921"
             ]
            ],
            "type": "histogram2d"
           }
          ],
          "histogram2dcontour": [
           {
            "colorbar": {
             "outlinewidth": 0,
             "ticks": ""
            },
            "colorscale": [
             [
              0,
              "#0d0887"
             ],
             [
              0.1111111111111111,
              "#46039f"
             ],
             [
              0.2222222222222222,
              "#7201a8"
             ],
             [
              0.3333333333333333,
              "#9c179e"
             ],
             [
              0.4444444444444444,
              "#bd3786"
             ],
             [
              0.5555555555555556,
              "#d8576b"
             ],
             [
              0.6666666666666666,
              "#ed7953"
             ],
             [
              0.7777777777777778,
              "#fb9f3a"
             ],
             [
              0.8888888888888888,
              "#fdca26"
             ],
             [
              1,
              "#f0f921"
             ]
            ],
            "type": "histogram2dcontour"
           }
          ],
          "mesh3d": [
           {
            "colorbar": {
             "outlinewidth": 0,
             "ticks": ""
            },
            "type": "mesh3d"
           }
          ],
          "parcoords": [
           {
            "line": {
             "colorbar": {
              "outlinewidth": 0,
              "ticks": ""
             }
            },
            "type": "parcoords"
           }
          ],
          "pie": [
           {
            "automargin": true,
            "type": "pie"
           }
          ],
          "scatter": [
           {
            "fillpattern": {
             "fillmode": "overlay",
             "size": 10,
             "solidity": 0.2
            },
            "type": "scatter"
           }
          ],
          "scatter3d": [
           {
            "line": {
             "colorbar": {
              "outlinewidth": 0,
              "ticks": ""
             }
            },
            "marker": {
             "colorbar": {
              "outlinewidth": 0,
              "ticks": ""
             }
            },
            "type": "scatter3d"
           }
          ],
          "scattercarpet": [
           {
            "marker": {
             "colorbar": {
              "outlinewidth": 0,
              "ticks": ""
             }
            },
            "type": "scattercarpet"
           }
          ],
          "scattergeo": [
           {
            "marker": {
             "colorbar": {
              "outlinewidth": 0,
              "ticks": ""
             }
            },
            "type": "scattergeo"
           }
          ],
          "scattergl": [
           {
            "marker": {
             "colorbar": {
              "outlinewidth": 0,
              "ticks": ""
             }
            },
            "type": "scattergl"
           }
          ],
          "scattermapbox": [
           {
            "marker": {
             "colorbar": {
              "outlinewidth": 0,
              "ticks": ""
             }
            },
            "type": "scattermapbox"
           }
          ],
          "scatterpolar": [
           {
            "marker": {
             "colorbar": {
              "outlinewidth": 0,
              "ticks": ""
             }
            },
            "type": "scatterpolar"
           }
          ],
          "scatterpolargl": [
           {
            "marker": {
             "colorbar": {
              "outlinewidth": 0,
              "ticks": ""
             }
            },
            "type": "scatterpolargl"
           }
          ],
          "scatterternary": [
           {
            "marker": {
             "colorbar": {
              "outlinewidth": 0,
              "ticks": ""
             }
            },
            "type": "scatterternary"
           }
          ],
          "surface": [
           {
            "colorbar": {
             "outlinewidth": 0,
             "ticks": ""
            },
            "colorscale": [
             [
              0,
              "#0d0887"
             ],
             [
              0.1111111111111111,
              "#46039f"
             ],
             [
              0.2222222222222222,
              "#7201a8"
             ],
             [
              0.3333333333333333,
              "#9c179e"
             ],
             [
              0.4444444444444444,
              "#bd3786"
             ],
             [
              0.5555555555555556,
              "#d8576b"
             ],
             [
              0.6666666666666666,
              "#ed7953"
             ],
             [
              0.7777777777777778,
              "#fb9f3a"
             ],
             [
              0.8888888888888888,
              "#fdca26"
             ],
             [
              1,
              "#f0f921"
             ]
            ],
            "type": "surface"
           }
          ],
          "table": [
           {
            "cells": {
             "fill": {
              "color": "#EBF0F8"
             },
             "line": {
              "color": "white"
             }
            },
            "header": {
             "fill": {
              "color": "#C8D4E3"
             },
             "line": {
              "color": "white"
             }
            },
            "type": "table"
           }
          ]
         },
         "layout": {
          "annotationdefaults": {
           "arrowcolor": "#2a3f5f",
           "arrowhead": 0,
           "arrowwidth": 1
          },
          "autotypenumbers": "strict",
          "coloraxis": {
           "colorbar": {
            "outlinewidth": 0,
            "ticks": ""
           }
          },
          "colorscale": {
           "diverging": [
            [
             0,
             "#8e0152"
            ],
            [
             0.1,
             "#c51b7d"
            ],
            [
             0.2,
             "#de77ae"
            ],
            [
             0.3,
             "#f1b6da"
            ],
            [
             0.4,
             "#fde0ef"
            ],
            [
             0.5,
             "#f7f7f7"
            ],
            [
             0.6,
             "#e6f5d0"
            ],
            [
             0.7,
             "#b8e186"
            ],
            [
             0.8,
             "#7fbc41"
            ],
            [
             0.9,
             "#4d9221"
            ],
            [
             1,
             "#276419"
            ]
           ],
           "sequential": [
            [
             0,
             "#0d0887"
            ],
            [
             0.1111111111111111,
             "#46039f"
            ],
            [
             0.2222222222222222,
             "#7201a8"
            ],
            [
             0.3333333333333333,
             "#9c179e"
            ],
            [
             0.4444444444444444,
             "#bd3786"
            ],
            [
             0.5555555555555556,
             "#d8576b"
            ],
            [
             0.6666666666666666,
             "#ed7953"
            ],
            [
             0.7777777777777778,
             "#fb9f3a"
            ],
            [
             0.8888888888888888,
             "#fdca26"
            ],
            [
             1,
             "#f0f921"
            ]
           ],
           "sequentialminus": [
            [
             0,
             "#0d0887"
            ],
            [
             0.1111111111111111,
             "#46039f"
            ],
            [
             0.2222222222222222,
             "#7201a8"
            ],
            [
             0.3333333333333333,
             "#9c179e"
            ],
            [
             0.4444444444444444,
             "#bd3786"
            ],
            [
             0.5555555555555556,
             "#d8576b"
            ],
            [
             0.6666666666666666,
             "#ed7953"
            ],
            [
             0.7777777777777778,
             "#fb9f3a"
            ],
            [
             0.8888888888888888,
             "#fdca26"
            ],
            [
             1,
             "#f0f921"
            ]
           ]
          },
          "colorway": [
           "#636efa",
           "#EF553B",
           "#00cc96",
           "#ab63fa",
           "#FFA15A",
           "#19d3f3",
           "#FF6692",
           "#B6E880",
           "#FF97FF",
           "#FECB52"
          ],
          "font": {
           "color": "#2a3f5f"
          },
          "geo": {
           "bgcolor": "white",
           "lakecolor": "white",
           "landcolor": "#E5ECF6",
           "showlakes": true,
           "showland": true,
           "subunitcolor": "white"
          },
          "hoverlabel": {
           "align": "left"
          },
          "hovermode": "closest",
          "mapbox": {
           "style": "light"
          },
          "paper_bgcolor": "white",
          "plot_bgcolor": "#E5ECF6",
          "polar": {
           "angularaxis": {
            "gridcolor": "white",
            "linecolor": "white",
            "ticks": ""
           },
           "bgcolor": "#E5ECF6",
           "radialaxis": {
            "gridcolor": "white",
            "linecolor": "white",
            "ticks": ""
           }
          },
          "scene": {
           "xaxis": {
            "backgroundcolor": "#E5ECF6",
            "gridcolor": "white",
            "gridwidth": 2,
            "linecolor": "white",
            "showbackground": true,
            "ticks": "",
            "zerolinecolor": "white"
           },
           "yaxis": {
            "backgroundcolor": "#E5ECF6",
            "gridcolor": "white",
            "gridwidth": 2,
            "linecolor": "white",
            "showbackground": true,
            "ticks": "",
            "zerolinecolor": "white"
           },
           "zaxis": {
            "backgroundcolor": "#E5ECF6",
            "gridcolor": "white",
            "gridwidth": 2,
            "linecolor": "white",
            "showbackground": true,
            "ticks": "",
            "zerolinecolor": "white"
           }
          },
          "shapedefaults": {
           "line": {
            "color": "#2a3f5f"
           }
          },
          "ternary": {
           "aaxis": {
            "gridcolor": "white",
            "linecolor": "white",
            "ticks": ""
           },
           "baxis": {
            "gridcolor": "white",
            "linecolor": "white",
            "ticks": ""
           },
           "bgcolor": "#E5ECF6",
           "caxis": {
            "gridcolor": "white",
            "linecolor": "white",
            "ticks": ""
           }
          },
          "title": {
           "x": 0.05
          },
          "xaxis": {
           "automargin": true,
           "gridcolor": "white",
           "linecolor": "white",
           "ticks": "",
           "title": {
            "standoff": 15
           },
           "zerolinecolor": "white",
           "zerolinewidth": 2
          },
          "yaxis": {
           "automargin": true,
           "gridcolor": "white",
           "linecolor": "white",
           "ticks": "",
           "title": {
            "standoff": 15
           },
           "zerolinecolor": "white",
           "zerolinewidth": 2
          }
         }
        },
        "title": {
         "text": "Actual vs Predicted Inventory"
        },
        "xaxis": {
         "anchor": "y",
         "domain": [
          0,
          1
         ],
         "title": {
          "text": "Month"
         }
        },
        "yaxis": {
         "anchor": "x",
         "domain": [
          0,
          1
         ],
         "title": {
          "text": "Inventory (KT)"
         }
        }
       }
      }
     },
     "metadata": {},
     "output_type": "display_data"
    }
   ],
   "source": [
    "X_all = scaler.transform(comparison[['Predicted_Inventory']].fillna(0))\n",
    "comparison['Predicted_Adjusted'] = model.predict(X_all)\n",
    "comparison['Deviation_Adjusted'] = comparison['Quantity_MT_Inventory'] - comparison['Predicted_Adjusted']\n",
    "\n",
    "\n",
    "fig = px.line(comparison, x='month', y=['Quantity_MT_Inventory', 'Predicted_Inventory', 'Predicted_Adjusted'],\n",
    "              title='Actual vs Predicted Inventory', markers=True)\n",
    "fig.update_layout(yaxis_title='Inventory (KT)', xaxis_title='Month')\n",
    "fig.show()"
   ]
  },
  {
   "cell_type": "markdown",
   "id": "4cc36ca3",
   "metadata": {},
   "source": [
    "# **Outbound Pred vs Actual**"
   ]
  },
  {
   "cell_type": "code",
   "execution_count": 28,
   "id": "c42e724d",
   "metadata": {},
   "outputs": [
    {
     "name": "stdout",
     "output_type": "stream",
     "text": [
      "Actual vs Predicted Outbound (China Warehouse):\n"
     ]
    },
    {
     "data": {
      "text/html": [
       "<div>\n",
       "<style scoped>\n",
       "    .dataframe tbody tr th:only-of-type {\n",
       "        vertical-align: middle;\n",
       "    }\n",
       "\n",
       "    .dataframe tbody tr th {\n",
       "        vertical-align: top;\n",
       "    }\n",
       "\n",
       "    .dataframe thead th {\n",
       "        text-align: right;\n",
       "    }\n",
       "</style>\n",
       "<table border=\"1\" class=\"dataframe\">\n",
       "  <thead>\n",
       "    <tr style=\"text-align: right;\">\n",
       "      <th></th>\n",
       "      <th>month</th>\n",
       "      <th>Quantity_KT_Out</th>\n",
       "      <th>Predicted_Outbound</th>\n",
       "      <th>Deviation</th>\n",
       "    </tr>\n",
       "  </thead>\n",
       "  <tbody>\n",
       "    <tr>\n",
       "      <th>0</th>\n",
       "      <td>2024-01-01</td>\n",
       "      <td>25687.77</td>\n",
       "      <td>22600</td>\n",
       "      <td>3087.77</td>\n",
       "    </tr>\n",
       "    <tr>\n",
       "      <th>1</th>\n",
       "      <td>2024-02-01</td>\n",
       "      <td>14025.65</td>\n",
       "      <td>21700</td>\n",
       "      <td>-7674.35</td>\n",
       "    </tr>\n",
       "    <tr>\n",
       "      <th>2</th>\n",
       "      <td>2024-03-01</td>\n",
       "      <td>20438.56</td>\n",
       "      <td>22000</td>\n",
       "      <td>-1561.44</td>\n",
       "    </tr>\n",
       "    <tr>\n",
       "      <th>3</th>\n",
       "      <td>2024-04-01</td>\n",
       "      <td>21062.60</td>\n",
       "      <td>23100</td>\n",
       "      <td>-2037.40</td>\n",
       "    </tr>\n",
       "    <tr>\n",
       "      <th>4</th>\n",
       "      <td>2024-05-01</td>\n",
       "      <td>22762.81</td>\n",
       "      <td>26700</td>\n",
       "      <td>-3937.19</td>\n",
       "    </tr>\n",
       "    <tr>\n",
       "      <th>5</th>\n",
       "      <td>2024-06-01</td>\n",
       "      <td>21010.19</td>\n",
       "      <td>21900</td>\n",
       "      <td>-889.81</td>\n",
       "    </tr>\n",
       "    <tr>\n",
       "      <th>6</th>\n",
       "      <td>2024-07-01</td>\n",
       "      <td>21824.08</td>\n",
       "      <td>36200</td>\n",
       "      <td>-14375.92</td>\n",
       "    </tr>\n",
       "    <tr>\n",
       "      <th>7</th>\n",
       "      <td>2024-08-01</td>\n",
       "      <td>20744.91</td>\n",
       "      <td>22900</td>\n",
       "      <td>-2155.09</td>\n",
       "    </tr>\n",
       "    <tr>\n",
       "      <th>8</th>\n",
       "      <td>2024-09-01</td>\n",
       "      <td>26569.43</td>\n",
       "      <td>26400</td>\n",
       "      <td>169.43</td>\n",
       "    </tr>\n",
       "    <tr>\n",
       "      <th>9</th>\n",
       "      <td>2024-10-01</td>\n",
       "      <td>23404.13</td>\n",
       "      <td>28600</td>\n",
       "      <td>-5195.87</td>\n",
       "    </tr>\n",
       "    <tr>\n",
       "      <th>10</th>\n",
       "      <td>2024-11-01</td>\n",
       "      <td>22240.40</td>\n",
       "      <td>21100</td>\n",
       "      <td>1140.40</td>\n",
       "    </tr>\n",
       "    <tr>\n",
       "      <th>11</th>\n",
       "      <td>2024-12-01</td>\n",
       "      <td>23099.15</td>\n",
       "      <td>21800</td>\n",
       "      <td>1299.15</td>\n",
       "    </tr>\n",
       "  </tbody>\n",
       "</table>\n",
       "</div>"
      ],
      "text/plain": [
       "        month  Quantity_KT_Out  Predicted_Outbound  Deviation\n",
       "0  2024-01-01         25687.77               22600    3087.77\n",
       "1  2024-02-01         14025.65               21700   -7674.35\n",
       "2  2024-03-01         20438.56               22000   -1561.44\n",
       "3  2024-04-01         21062.60               23100   -2037.40\n",
       "4  2024-05-01         22762.81               26700   -3937.19\n",
       "5  2024-06-01         21010.19               21900    -889.81\n",
       "6  2024-07-01         21824.08               36200  -14375.92\n",
       "7  2024-08-01         20744.91               22900   -2155.09\n",
       "8  2024-09-01         26569.43               26400     169.43\n",
       "9  2024-10-01         23404.13               28600   -5195.87\n",
       "10 2024-11-01         22240.40               21100    1140.40\n",
       "11 2024-12-01         23099.15               21800    1299.15"
      ]
     },
     "execution_count": 28,
     "metadata": {},
     "output_type": "execute_result"
    }
   ],
   "source": [
    "outbound_comparison = df[['month', 'Quantity_KT_Out']].copy()\n",
    "outbound_comparison['Predicted_Outbound'] = outbound_comparison['month'].apply(\n",
    "    lambda m: china_predicted.loc[china_predicted['Month'].dt.to_timestamp() == m, 'Predicted Outbound (KT)'].values[0]\n",
    "    if not china_predicted.loc[china_predicted['Month'].dt.to_timestamp() == m].empty else None\n",
    ")\n",
    "outbound_comparison['Deviation'] = outbound_comparison['Quantity_KT_Out'] - outbound_comparison['Predicted_Outbound']\n",
    "\n",
    "print(\"Actual vs Predicted Outbound (China Warehouse):\")\n",
    "outbound_comparison"
   ]
  },
  {
   "cell_type": "code",
   "execution_count": 29,
   "id": "daf16229",
   "metadata": {},
   "outputs": [
    {
     "data": {
      "image/png": "[encoded data removed]",
      "text/plain": [
       "<Figure size 1200x600 with 1 Axes>"
      ]
     },
     "metadata": {},
     "output_type": "display_data"
    }
   ],
   "source": [
    "plt.figure(figsize=(12, 6))\n",
    "plt.plot(df['month'], df['Quantity_KT_Out'], marker='o', label='Actual Outbound (KT)')\n",
    "plt.plot(china_predicted['Month'].dt.to_timestamp(), china_predicted['Predicted Outbound (KT)'], marker='^', label='Predicted Outbound (KT)')\n",
    "plt.title('Actual vs Predicted Outbound - China Warehouse')\n",
    "plt.xlabel('Month')\n",
    "plt.ylabel('Outbound (KT)')\n",
    "plt.legend()\n",
    "plt.grid(True)\n",
    "plt.xticks(rotation=45)\n",
    "plt.tight_layout()\n",
    "plt.show()"
   ]
  },
  {
   "cell_type": "markdown",
   "id": "c63cad65",
   "metadata": {},
   "source": [
    "## **Adjust Outbound Predicted**"
   ]
  },
  {
   "cell_type": "code",
   "execution_count": 30,
   "id": "fe4867cd",
   "metadata": {},
   "outputs": [
    {
     "name": "stdout",
     "output_type": "stream",
     "text": [
      "[Train] MAE: 2022.04 | RMSE: 2537.07\n",
      "[Test ] MAE: 2185.65 | RMSE: 2699.47\n"
     ]
    }
   ],
   "source": [
    "outbound_valid = outbound_comparison.dropna(subset=['Predicted_Outbound', 'Quantity_KT_Out'])\n",
    "\n",
    "X_out = outbound_valid[['Predicted_Outbound']]\n",
    "y_out = outbound_valid['Quantity_KT_Out']\n",
    "\n",
    "scaler_out = RobustScaler()\n",
    "X_out_scaled = scaler_out.fit_transform(X_out)\n",
    "\n",
    "train_mask = outbound_valid['month'] <= cut_off_date\n",
    "test_mask = outbound_valid['month'] > cut_off_date\n",
    "\n",
    "X_out_train = X_out_scaled[train_mask] \n",
    "X_out_test = X_out_scaled[test_mask]  \n",
    "y_out_train = y_out[train_mask]      \n",
    "y_out_test = y_out[test_mask]          \n",
    "\n",
    "model = RandomForestRegressor(\n",
    "    n_estimators=100,\n",
    "    max_depth=5,\n",
    "    min_samples_split=2,\n",
    "    min_samples_leaf=2,\n",
    "    random_state=42\n",
    ")\n",
    "\n",
    "model.fit(X_out_train, y_out_train)\n",
    "\n",
    "y_out_train_pred = model.predict(X_out_train)\n",
    "y_out_test_pred = model.predict(X_out_test)\n",
    "\n",
    "print(f\"[Train] MAE: {mean_absolute_error(y_out_train, y_out_train_pred):.2f} | RMSE: {np.sqrt(mean_squared_error(y_out_train, y_out_train_pred)):.2f}\")\n",
    "print(f\"[Test ] MAE: {mean_absolute_error(y_out_test, y_out_test_pred):.2f} | RMSE: {np.sqrt(mean_squared_error(y_out_test, y_out_test_pred)):.2f}\")"
   ]
  },
  {
   "cell_type": "code",
   "execution_count": 31,
   "id": "98895bf5",
   "metadata": {},
   "outputs": [
    {
     "data": {
      "application/vnd.plotly.v1+json": {
       "config": {
        "plotlyServerURL": "https://plot.ly"
       },
       "data": [
        {
         "hovertemplate": "variable=Quantity_KT_Out<br>month=%{x}<br>value=%{y}<extra></extra>",
         "legendgroup": "Quantity_KT_Out",
         "line": {
          "color": "#636efa",
          "dash": "solid"
         },
         "marker": {
          "symbol": "circle"
         },
         "mode": "lines+markers",
         "name": "Quantity_KT_Out",
         "orientation": "v",
         "showlegend": true,
         "type": "scatter",
         "x": [
          "2024-01-01T00:00:00",
          "2024-02-01T00:00:00",
          "2024-03-01T00:00:00",
          "2024-04-01T00:00:00",
          "2024-05-01T00:00:00",
          "2024-06-01T00:00:00",
          "2024-07-01T00:00:00",
          "2024-08-01T00:00:00",
          "2024-09-01T00:00:00",
          "2024-10-01T00:00:00",
          "2024-11-01T00:00:00",
          "2024-12-01T00:00:00"
         ],
         "xaxis": "x",
         "y": [
          25687.77,
          14025.65,
          20438.56,
          21062.6,
          22762.81,
          21010.19,
          21824.08,
          20744.91,
          26569.43,
          23404.13,
          22240.4,
          23099.15
         ],
         "yaxis": "y"
        },
        {
         "hovertemplate": "variable=Predicted_Outbound<br>month=%{x}<br>value=%{y}<extra></extra>",
         "legendgroup": "Predicted_Outbound",
         "line": {
          "color": "#EF553B",
          "dash": "solid"
         },
         "marker": {
          "symbol": "circle"
         },
         "mode": "lines+markers",
         "name": "Predicted_Outbound",
         "orientation": "v",
         "showlegend": true,
         "type": "scatter",
         "x": [
          "2024-01-01T00:00:00",
          "2024-02-01T00:00:00",
          "2024-03-01T00:00:00",
          "2024-04-01T00:00:00",
          "2024-05-01T00:00:00",
          "2024-06-01T00:00:00",
          "2024-07-01T00:00:00",
          "2024-08-01T00:00:00",
          "2024-09-01T00:00:00",
          "2024-10-01T00:00:00",
          "2024-11-01T00:00:00",
          "2024-12-01T00:00:00"
         ],
         "xaxis": "x",
         "y": [
          22600,
          21700,
          22000,
          23100,
          26700,
          21900,
          36200,
          22900,
          26400,
          28600,
          21100,
          21800
         ],
         "yaxis": "y"
        },
        {
         "hovertemplate": "variable=Predicted_Outbound_Adjusted<br>month=%{x}<br>value=%{y}<extra></extra>",
         "legendgroup": "Predicted_Outbound_Adjusted",
         "line": {
          "color": "#00cc96",
          "dash": "solid"
         },
         "marker": {
          "symbol": "circle"
         },
         "mode": "lines+markers",
         "name": "Predicted_Outbound_Adjusted",
         "orientation": "v",
         "showlegend": true,
         "type": "scatter",
         "x": [
          "2024-01-01T00:00:00",
          "2024-02-01T00:00:00",
          "2024-03-01T00:00:00",
          "2024-04-01T00:00:00",
          "2024-05-01T00:00:00",
          "2024-06-01T00:00:00",
          "2024-07-01T00:00:00",
          "2024-08-01T00:00:00",
          "2024-09-01T00:00:00",
          "2024-10-01T00:00:00",
          "2024-11-01T00:00:00",
          "2024-12-01T00:00:00"
         ],
         "xaxis": "x",
         "y": [
          22136.794961428568,
          19391.61162499999,
          20025.015826666666,
          21977.253879285712,
          23404.74769595237,
          19391.61162499999,
          23404.74769595237,
          21924.838430952375,
          23637.344877619045,
          23404.74769595237,
          19391.61162499999,
          19391.61162499999
         ],
         "yaxis": "y"
        }
       ],
       "layout": {
        "legend": {
         "title": {
          "text": "variable"
         },
         "tracegroupgap": 0
        },
        "template": {
         "data": {
          "bar": [
           {
            "error_x": {
             "color": "#2a3f5f"
            },
            "error_y": {
             "color": "#2a3f5f"
            },
            "marker": {
             "line": {
              "color": "#E5ECF6",
              "width": 0.5
             },
             "pattern": {
              "fillmode": "overlay",
              "size": 10,
              "solidity": 0.2
             }
            },
            "type": "bar"
           }
          ],
          "barpolar": [
           {
            "marker": {
             "line": {
              "color": "#E5ECF6",
              "width": 0.5
             },
             "pattern": {
              "fillmode": "overlay",
              "size": 10,
              "solidity": 0.2
             }
            },
            "type": "barpolar"
           }
          ],
          "carpet": [
           {
            "aaxis": {
             "endlinecolor": "#2a3f5f",
             "gridcolor": "white",
             "linecolor": "white",
             "minorgridcolor": "white",
             "startlinecolor": "#2a3f5f"
            },
            "baxis": {
             "endlinecolor": "#2a3f5f",
             "gridcolor": "white",
             "linecolor": "white",
             "minorgridcolor": "white",
             "startlinecolor": "#2a3f5f"
            },
            "type": "carpet"
           }
          ],
          "choropleth": [
           {
            "colorbar": {
             "outlinewidth": 0,
             "ticks": ""
            },
            "type": "choropleth"
           }
          ],
          "contour": [
           {
            "colorbar": {
             "outlinewidth": 0,
             "ticks": ""
            },
            "colorscale": [
             [
              0,
              "#0d0887"
             ],
             [
              0.1111111111111111,
              "#46039f"
             ],
             [
              0.2222222222222222,
              "#7201a8"
             ],
             [
              0.3333333333333333,
              "#9c179e"
             ],
             [
              0.4444444444444444,
              "#bd3786"
             ],
             [
              0.5555555555555556,
              "#d8576b"
             ],
             [
              0.6666666666666666,
              "#ed7953"
             ],
             [
              0.7777777777777778,
              "#fb9f3a"
             ],
             [
              0.8888888888888888,
              "#fdca26"
             ],
             [
              1,
              "#f0f921"
             ]
            ],
            "type": "contour"
           }
          ],
          "contourcarpet": [
           {
            "colorbar": {
             "outlinewidth": 0,
             "ticks": ""
            },
            "type": "contourcarpet"
           }
          ],
          "heatmap": [
           {
            "colorbar": {
             "outlinewidth": 0,
             "ticks": ""
            },
            "colorscale": [
             [
              0,
              "#0d0887"
             ],
             [
              0.1111111111111111,
              "#46039f"
             ],
             [
              0.2222222222222222,
              "#7201a8"
             ],
             [
              0.3333333333333333,
              "#9c179e"
             ],
             [
              0.4444444444444444,
              "#bd3786"
             ],
             [
              0.5555555555555556,
              "#d8576b"
             ],
             [
              0.6666666666666666,
              "#ed7953"
             ],
             [
              0.7777777777777778,
              "#fb9f3a"
             ],
             [
              0.8888888888888888,
              "#fdca26"
             ],
             [
              1,
              "#f0f921"
             ]
            ],
            "type": "heatmap"
           }
          ],
          "heatmapgl": [
           {
            "colorbar": {
             "outlinewidth": 0,
             "ticks": ""
            },
            "colorscale": [
             [
              0,
              "#0d0887"
             ],
             [
              0.1111111111111111,
              "#46039f"
             ],
             [
              0.2222222222222222,
              "#7201a8"
             ],
             [
              0.3333333333333333,
              "#9c179e"
             ],
             [
              0.4444444444444444,
              "#bd3786"
             ],
             [
              0.5555555555555556,
              "#d8576b"
             ],
             [
              0.6666666666666666,
              "#ed7953"
             ],
             [
              0.7777777777777778,
              "#fb9f3a"
             ],
             [
              0.8888888888888888,
              "#fdca26"
             ],
             [
              1,
              "#f0f921"
             ]
            ],
            "type": "heatmapgl"
           }
          ],
          "histogram": [
           {
            "marker": {
             "pattern": {
              "fillmode": "overlay",
              "size": 10,
              "solidity": 0.2
             }
            },
            "type": "histogram"
           }
          ],
          "histogram2d": [
           {
            "colorbar": {
             "outlinewidth": 0,
             "ticks": ""
            },
            "colorscale": [
             [
              0,
              "#0d0887"
             ],
             [
              0.1111111111111111,
              "#46039f"
             ],
             [
              0.2222222222222222,
              "#7201a8"
             ],
             [
              0.3333333333333333,
              "#9c179e"
             ],
             [
              0.4444444444444444,
              "#bd3786"
             ],
             [
              0.5555555555555556,
              "#d8576b"
             ],
             [
              0.6666666666666666,
              "#ed7953"
             ],
             [
              0.7777777777777778,
              "#fb9f3a"
             ],
             [
              0.8888888888888888,
              "#fdca26"
             ],
             [
              1,
              "#f0f921"
             ]
            ],
            "type": "histogram2d"
           }
          ],
          "histogram2dcontour": [
           {
            "colorbar": {
             "outlinewidth": 0,
             "ticks": ""
            },
            "colorscale": [
             [
              0,
              "#0d0887"
             ],
             [
              0.1111111111111111,
              "#46039f"
             ],
             [
              0.2222222222222222,
              "#7201a8"
             ],
             [
              0.3333333333333333,
              "#9c179e"
             ],
             [
              0.4444444444444444,
              "#bd3786"
             ],
             [
              0.5555555555555556,
              "#d8576b"
             ],
             [
              0.6666666666666666,
              "#ed7953"
             ],
             [
              0.7777777777777778,
              "#fb9f3a"
             ],
             [
              0.8888888888888888,
              "#fdca26"
             ],
             [
              1,
              "#f0f921"
             ]
            ],
            "type": "histogram2dcontour"
           }
          ],
          "mesh3d": [
           {
            "colorbar": {
             "outlinewidth": 0,
             "ticks": ""
            },
            "type": "mesh3d"
           }
          ],
          "parcoords": [
           {
            "line": {
             "colorbar": {
              "outlinewidth": 0,
              "ticks": ""
             }
            },
            "type": "parcoords"
           }
          ],
          "pie": [
           {
            "automargin": true,
            "type": "pie"
           }
          ],
          "scatter": [
           {
            "fillpattern": {
             "fillmode": "overlay",
             "size": 10,
             "solidity": 0.2
            },
            "type": "scatter"
           }
          ],
          "scatter3d": [
           {
            "line": {
             "colorbar": {
              "outlinewidth": 0,
              "ticks": ""
             }
            },
            "marker": {
             "colorbar": {
              "outlinewidth": 0,
              "ticks": ""
             }
            },
            "type": "scatter3d"
           }
          ],
          "scattercarpet": [
           {
            "marker": {
             "colorbar": {
              "outlinewidth": 0,
              "ticks": ""
             }
            },
            "type": "scattercarpet"
           }
          ],
          "scattergeo": [
           {
            "marker": {
             "colorbar": {
              "outlinewidth": 0,
              "ticks": ""
             }
            },
            "type": "scattergeo"
           }
          ],
          "scattergl": [
           {
            "marker": {
             "colorbar": {
              "outlinewidth": 0,
              "ticks": ""
             }
            },
            "type": "scattergl"
           }
          ],
          "scattermapbox": [
           {
            "marker": {
             "colorbar": {
              "outlinewidth": 0,
              "ticks": ""
             }
            },
            "type": "scattermapbox"
           }
          ],
          "scatterpolar": [
           {
            "marker": {
             "colorbar": {
              "outlinewidth": 0,
              "ticks": ""
             }
            },
            "type": "scatterpolar"
           }
          ],
          "scatterpolargl": [
           {
            "marker": {
             "colorbar": {
              "outlinewidth": 0,
              "ticks": ""
             }
            },
            "type": "scatterpolargl"
           }
          ],
          "scatterternary": [
           {
            "marker": {
             "colorbar": {
              "outlinewidth": 0,
              "ticks": ""
             }
            },
            "type": "scatterternary"
           }
          ],
          "surface": [
           {
            "colorbar": {
             "outlinewidth": 0,
             "ticks": ""
            },
            "colorscale": [
             [
              0,
              "#0d0887"
             ],
             [
              0.1111111111111111,
              "#46039f"
             ],
             [
              0.2222222222222222,
              "#7201a8"
             ],
             [
              0.3333333333333333,
              "#9c179e"
             ],
             [
              0.4444444444444444,
              "#bd3786"
             ],
             [
              0.5555555555555556,
              "#d8576b"
             ],
             [
              0.6666666666666666,
              "#ed7953"
             ],
             [
              0.7777777777777778,
              "#fb9f3a"
             ],
             [
              0.8888888888888888,
              "#fdca26"
             ],
             [
              1,
              "#f0f921"
             ]
            ],
            "type": "surface"
           }
          ],
          "table": [
           {
            "cells": {
             "fill": {
              "color": "#EBF0F8"
             },
             "line": {
              "color": "white"
             }
            },
            "header": {
             "fill": {
              "color": "#C8D4E3"
             },
             "line": {
              "color": "white"
             }
            },
            "type": "table"
           }
          ]
         },
         "layout": {
          "annotationdefaults": {
           "arrowcolor": "#2a3f5f",
           "arrowhead": 0,
           "arrowwidth": 1
          },
          "autotypenumbers": "strict",
          "coloraxis": {
           "colorbar": {
            "outlinewidth": 0,
            "ticks": ""
           }
          },
          "colorscale": {
           "diverging": [
            [
             0,
             "#8e0152"
            ],
            [
             0.1,
             "#c51b7d"
            ],
            [
             0.2,
             "#de77ae"
            ],
            [
             0.3,
             "#f1b6da"
            ],
            [
             0.4,
             "#fde0ef"
            ],
            [
             0.5,
             "#f7f7f7"
            ],
            [
             0.6,
             "#e6f5d0"
            ],
            [
             0.7,
             "#b8e186"
            ],
            [
             0.8,
             "#7fbc41"
            ],
            [
             0.9,
             "#4d9221"
            ],
            [
             1,
             "#276419"
            ]
           ],
           "sequential": [
            [
             0,
             "#0d0887"
            ],
            [
             0.1111111111111111,
             "#46039f"
            ],
            [
             0.2222222222222222,
             "#7201a8"
            ],
            [
             0.3333333333333333,
             "#9c179e"
            ],
            [
             0.4444444444444444,
             "#bd3786"
            ],
            [
             0.5555555555555556,
             "#d8576b"
            ],
            [
             0.6666666666666666,
             "#ed7953"
            ],
            [
             0.7777777777777778,
             "#fb9f3a"
            ],
            [
             0.8888888888888888,
             "#fdca26"
            ],
            [
             1,
             "#f0f921"
            ]
           ],
           "sequentialminus": [
            [
             0,
             "#0d0887"
            ],
            [
             0.1111111111111111,
             "#46039f"
            ],
            [
             0.2222222222222222,
             "#7201a8"
            ],
            [
             0.3333333333333333,
             "#9c179e"
            ],
            [
             0.4444444444444444,
             "#bd3786"
            ],
            [
             0.5555555555555556,
             "#d8576b"
            ],
            [
             0.6666666666666666,
             "#ed7953"
            ],
            [
             0.7777777777777778,
             "#fb9f3a"
            ],
            [
             0.8888888888888888,
             "#fdca26"
            ],
            [
             1,
             "#f0f921"
            ]
           ]
          },
          "colorway": [
           "#636efa",
           "#EF553B",
           "#00cc96",
           "#ab63fa",
           "#FFA15A",
           "#19d3f3",
           "#FF6692",
           "#B6E880",
           "#FF97FF",
           "#FECB52"
          ],
          "font": {
           "color": "#2a3f5f"
          },
          "geo": {
           "bgcolor": "white",
           "lakecolor": "white",
           "landcolor": "#E5ECF6",
           "showlakes": true,
           "showland": true,
           "subunitcolor": "white"
          },
          "hoverlabel": {
           "align": "left"
          },
          "hovermode": "closest",
          "mapbox": {
           "style": "light"
          },
          "paper_bgcolor": "white",
          "plot_bgcolor": "#E5ECF6",
          "polar": {
           "angularaxis": {
            "gridcolor": "white",
            "linecolor": "white",
            "ticks": ""
           },
           "bgcolor": "#E5ECF6",
           "radialaxis": {
            "gridcolor": "white",
            "linecolor": "white",
            "ticks": ""
           }
          },
          "scene": {
           "xaxis": {
            "backgroundcolor": "#E5ECF6",
            "gridcolor": "white",
            "gridwidth": 2,
            "linecolor": "white",
            "showbackground": true,
            "ticks": "",
            "zerolinecolor": "white"
           },
           "yaxis": {
            "backgroundcolor": "#E5ECF6",
            "gridcolor": "white",
            "gridwidth": 2,
            "linecolor": "white",
            "showbackground": true,
            "ticks": "",
            "zerolinecolor": "white"
           },
           "zaxis": {
            "backgroundcolor": "#E5ECF6",
            "gridcolor": "white",
            "gridwidth": 2,
            "linecolor": "white",
            "showbackground": true,
            "ticks": "",
            "zerolinecolor": "white"
           }
          },
          "shapedefaults": {
           "line": {
            "color": "#2a3f5f"
           }
          },
          "ternary": {
           "aaxis": {
            "gridcolor": "white",
            "linecolor": "white",
            "ticks": ""
           },
           "baxis": {
            "gridcolor": "white",
            "linecolor": "white",
            "ticks": ""
           },
           "bgcolor": "#E5ECF6",
           "caxis": {
            "gridcolor": "white",
            "linecolor": "white",
            "ticks": ""
           }
          },
          "title": {
           "x": 0.05
          },
          "xaxis": {
           "automargin": true,
           "gridcolor": "white",
           "linecolor": "white",
           "ticks": "",
           "title": {
            "standoff": 15
           },
           "zerolinecolor": "white",
           "zerolinewidth": 2
          },
          "yaxis": {
           "automargin": true,
           "gridcolor": "white",
           "linecolor": "white",
           "ticks": "",
           "title": {
            "standoff": 15
           },
           "zerolinecolor": "white",
           "zerolinewidth": 2
          }
         }
        },
        "title": {
         "text": "Actual vs Predicted Outbound"
        },
        "xaxis": {
         "anchor": "y",
         "domain": [
          0,
          1
         ],
         "title": {
          "text": "Month"
         }
        },
        "yaxis": {
         "anchor": "x",
         "domain": [
          0,
          1
         ],
         "title": {
          "text": "Outbound (KT)"
         }
        }
       }
      }
     },
     "metadata": {},
     "output_type": "display_data"
    }
   ],
   "source": [
    "X_out_all = scaler_out.transform(outbound_comparison[['Predicted_Outbound']].fillna(0))\n",
    "outbound_comparison['Predicted_Outbound_Adjusted'] = model.predict(X_out_all)\n",
    "outbound_comparison['Deviation_Adjusted'] = outbound_comparison['Quantity_KT_Out'] - outbound_comparison['Predicted_Outbound_Adjusted']\n",
    "\n",
    "\n",
    "fig = px.line(\n",
    "    outbound_comparison,\n",
    "    x='month',\n",
    "    y=['Quantity_KT_Out', 'Predicted_Outbound', 'Predicted_Outbound_Adjusted'],\n",
    "    title='Actual vs Predicted Outbound',\n",
    "    markers=True\n",
    ")\n",
    "\n",
    "fig.update_layout(yaxis_title='Outbound (KT)', xaxis_title='Month')\n",
    "fig.show()"
   ]
  },
  {
   "cell_type": "markdown",
   "id": "8f26ca51",
   "metadata": {},
   "source": [
    "---"
   ]
  },
  {
   "cell_type": "markdown",
   "id": "af7b2135",
   "metadata": {},
   "source": [
    "# **Optimization**"
   ]
  },
  {
   "cell_type": "markdown",
   "id": "185253ab",
   "metadata": {},
   "source": [
    "### **Create Dataframe For Optimization Model**"
   ]
  },
  {
   "cell_type": "code",
   "execution_count": 32,
   "id": "a1a5e7f7",
   "metadata": {},
   "outputs": [],
   "source": [
    "optimize = pd.DataFrame({\n",
    "    'Actual Inbound': Inbound_monthly_china['Quantity_KT_In'],\n",
    "    'Actual Outbound': outbound_monthly_china['Quantity_KT_Out'],\n",
    "    'Actual Inventory': Inventory_monthly_china['Quantity_MT_Inventory'],\n",
    "    'Adjusted Inventory': comparison['Predicted_Adjusted'],\n",
    "    'Adjusted Outbound': outbound_comparison['Predicted_Outbound_Adjusted'],\n",
    "    'Capacity' : china_predicted['Total Cap (KT)'].values\n",
    "})\n",
    "optimize['Overflow'] = optimize['Adjusted Inventory'] > optimize['Capacity']"
   ]
  },
  {
   "cell_type": "code",
   "execution_count": 33,
   "id": "ee33b44a",
   "metadata": {},
   "outputs": [
    {
     "data": {
      "text/html": [
       "<div>\n",
       "<style scoped>\n",
       "    .dataframe tbody tr th:only-of-type {\n",
       "        vertical-align: middle;\n",
       "    }\n",
       "\n",
       "    .dataframe tbody tr th {\n",
       "        vertical-align: top;\n",
       "    }\n",
       "\n",
       "    .dataframe thead th {\n",
       "        text-align: right;\n",
       "    }\n",
       "</style>\n",
       "<table border=\"1\" class=\"dataframe\">\n",
       "  <thead>\n",
       "    <tr style=\"text-align: right;\">\n",
       "      <th></th>\n",
       "      <th>Actual Inbound</th>\n",
       "      <th>Actual Outbound</th>\n",
       "      <th>Actual Inventory</th>\n",
       "      <th>Adjusted Inventory</th>\n",
       "      <th>Adjusted Outbound</th>\n",
       "      <th>Capacity</th>\n",
       "      <th>Overflow</th>\n",
       "    </tr>\n",
       "  </thead>\n",
       "  <tbody>\n",
       "    <tr>\n",
       "      <th>0</th>\n",
       "      <td>25025.125</td>\n",
       "      <td>25687.77</td>\n",
       "      <td>39012.368</td>\n",
       "      <td>53307.351343</td>\n",
       "      <td>22136.794961</td>\n",
       "      <td>58000</td>\n",
       "      <td>False</td>\n",
       "    </tr>\n",
       "    <tr>\n",
       "      <th>1</th>\n",
       "      <td>16469.113</td>\n",
       "      <td>14025.65</td>\n",
       "      <td>46217.648</td>\n",
       "      <td>53307.351343</td>\n",
       "      <td>19391.611625</td>\n",
       "      <td>70000</td>\n",
       "      <td>False</td>\n",
       "    </tr>\n",
       "    <tr>\n",
       "      <th>2</th>\n",
       "      <td>33598.812</td>\n",
       "      <td>20438.56</td>\n",
       "      <td>48478.708</td>\n",
       "      <td>53307.351343</td>\n",
       "      <td>20025.015827</td>\n",
       "      <td>70000</td>\n",
       "      <td>False</td>\n",
       "    </tr>\n",
       "    <tr>\n",
       "      <th>3</th>\n",
       "      <td>23836.500</td>\n",
       "      <td>21062.60</td>\n",
       "      <td>48415.015</td>\n",
       "      <td>53307.351343</td>\n",
       "      <td>21977.253879</td>\n",
       "      <td>70000</td>\n",
       "      <td>False</td>\n",
       "    </tr>\n",
       "    <tr>\n",
       "      <th>4</th>\n",
       "      <td>29770.405</td>\n",
       "      <td>22762.81</td>\n",
       "      <td>52826.486</td>\n",
       "      <td>53307.351343</td>\n",
       "      <td>23404.747696</td>\n",
       "      <td>70000</td>\n",
       "      <td>False</td>\n",
       "    </tr>\n",
       "    <tr>\n",
       "      <th>5</th>\n",
       "      <td>20254.925</td>\n",
       "      <td>21010.19</td>\n",
       "      <td>71362.441</td>\n",
       "      <td>62557.646071</td>\n",
       "      <td>19391.611625</td>\n",
       "      <td>70000</td>\n",
       "      <td>False</td>\n",
       "    </tr>\n",
       "    <tr>\n",
       "      <th>6</th>\n",
       "      <td>23471.777</td>\n",
       "      <td>21824.08</td>\n",
       "      <td>75614.624</td>\n",
       "      <td>62557.646071</td>\n",
       "      <td>23404.747696</td>\n",
       "      <td>70000</td>\n",
       "      <td>False</td>\n",
       "    </tr>\n",
       "    <tr>\n",
       "      <th>7</th>\n",
       "      <td>23469.684</td>\n",
       "      <td>20744.91</td>\n",
       "      <td>68138.683</td>\n",
       "      <td>62557.646071</td>\n",
       "      <td>21924.838431</td>\n",
       "      <td>70000</td>\n",
       "      <td>False</td>\n",
       "    </tr>\n",
       "    <tr>\n",
       "      <th>8</th>\n",
       "      <td>19945.650</td>\n",
       "      <td>26569.43</td>\n",
       "      <td>66701.368</td>\n",
       "      <td>62557.646071</td>\n",
       "      <td>23637.344878</td>\n",
       "      <td>70000</td>\n",
       "      <td>False</td>\n",
       "    </tr>\n",
       "    <tr>\n",
       "      <th>9</th>\n",
       "      <td>15933.650</td>\n",
       "      <td>23404.13</td>\n",
       "      <td>62785.369</td>\n",
       "      <td>62557.646071</td>\n",
       "      <td>23404.747696</td>\n",
       "      <td>70000</td>\n",
       "      <td>False</td>\n",
       "    </tr>\n",
       "    <tr>\n",
       "      <th>10</th>\n",
       "      <td>15277.488</td>\n",
       "      <td>22240.40</td>\n",
       "      <td>54764.596</td>\n",
       "      <td>53307.351343</td>\n",
       "      <td>19391.611625</td>\n",
       "      <td>70000</td>\n",
       "      <td>False</td>\n",
       "    </tr>\n",
       "    <tr>\n",
       "      <th>11</th>\n",
       "      <td>12629.075</td>\n",
       "      <td>23099.15</td>\n",
       "      <td>72626.420</td>\n",
       "      <td>53307.351343</td>\n",
       "      <td>19391.611625</td>\n",
       "      <td>70000</td>\n",
       "      <td>False</td>\n",
       "    </tr>\n",
       "  </tbody>\n",
       "</table>\n",
       "</div>"
      ],
      "text/plain": [
       "    Actual Inbound  Actual Outbound  Actual Inventory  Adjusted Inventory  \\\n",
       "0        25025.125         25687.77         39012.368        53307.351343   \n",
       "1        16469.113         14025.65         46217.648        53307.351343   \n",
       "2        33598.812         20438.56         48478.708        53307.351343   \n",
       "3        23836.500         21062.60         48415.015        53307.351343   \n",
       "4        29770.405         22762.81         52826.486        53307.351343   \n",
       "5        20254.925         21010.19         71362.441        62557.646071   \n",
       "6        23471.777         21824.08         75614.624        62557.646071   \n",
       "7        23469.684         20744.91         68138.683        62557.646071   \n",
       "8        19945.650         26569.43         66701.368        62557.646071   \n",
       "9        15933.650         23404.13         62785.369        62557.646071   \n",
       "10       15277.488         22240.40         54764.596        53307.351343   \n",
       "11       12629.075         23099.15         72626.420        53307.351343   \n",
       "\n",
       "    Adjusted Outbound  Capacity  Overflow  \n",
       "0        22136.794961     58000     False  \n",
       "1        19391.611625     70000     False  \n",
       "2        20025.015827     70000     False  \n",
       "3        21977.253879     70000     False  \n",
       "4        23404.747696     70000     False  \n",
       "5        19391.611625     70000     False  \n",
       "6        23404.747696     70000     False  \n",
       "7        21924.838431     70000     False  \n",
       "8        23637.344878     70000     False  \n",
       "9        23404.747696     70000     False  \n",
       "10       19391.611625     70000     False  \n",
       "11       19391.611625     70000     False  "
      ]
     },
     "execution_count": 33,
     "metadata": {},
     "output_type": "execute_result"
    }
   ],
   "source": [
    "optimize"
   ]
  },
  {
   "cell_type": "code",
   "execution_count": 34,
   "id": "1c45b06a",
   "metadata": {},
   "outputs": [],
   "source": [
    "# new_records = [\n",
    "#     [12.0, 9.5, 60, 48.2, 11.0, 53.5, True],\n",
    "#     [7.5, 13.0, 44.0, 45.0, 13.1, 53.5, False],\n",
    "#     [11.3, 14.8, 59, 43.0, 12.5, 53.5, True]\n",
    "# ]\n",
    "\n",
    "# columns = ['Actual Inbound', 'Actual Outbound', 'Actual Inventory',\n",
    "#            'Adjusted Inventory', 'Adjusted Outbound', 'Capacity', 'Overflow']\n",
    "\n",
    "# new_df = pd.DataFrame(new_records, columns=columns)\n",
    "# optimize = pd.concat([optimize, new_df], ignore_index=True)\n",
    "\n",
    "\n",
    "# optimize.tail()"
   ]
  },
  {
   "cell_type": "markdown",
   "id": "b3c37de6",
   "metadata": {},
   "source": [
    "### ---**You Can Append New Records to the `optimize` DataFrame**---"
   ]
  },
  {
   "cell_type": "markdown",
   "id": "0f955303",
   "metadata": {},
   "source": [
    "## **Optimization Model Function: Backtesting on Historical Data**"
   ]
  },
  {
   "cell_type": "markdown",
   "id": "8cc88109",
   "metadata": {},
   "source": [
    "- **Define a Function that applies the optimization logic using historical data to verify model correctness, behavior, and feasibility before applying to future scenarios.**"
   ]
  },
  {
   "cell_type": "code",
   "execution_count": 35,
   "id": "ab156a86",
   "metadata": {},
   "outputs": [],
   "source": [
    "from pulp import *\n",
    "\n",
    "def run_optimization(optimize):\n",
    "    model = LpProblem(\"Inventory_Optimization\", LpMinimize)\n",
    "    n = len(optimize)\n",
    "\n",
    "    inbound_vars = [LpVariable(f\"Inbound_{i}\", lowBound=0, cat=LpContinuous) for i in range(n)]\n",
    "    outbound_vars = [LpVariable(f\"Outbound_{i}\", lowBound=0, cat=LpContinuous) for i in range(n)]\n",
    "    inventory_vars = [LpVariable(f\"Inventory_{i}\", lowBound=0, cat=LpContinuous) for i in range(n)]\n",
    "    overflow_vars = [LpVariable(f\"Overflow_{i}\", lowBound=0, cat=LpContinuous) for i in range(n)]\n",
    "    understock_vars = [LpVariable(f\"Understock_{i}\", lowBound=0, cat=LpContinuous) for i in range(n)]\n",
    "    deviation_vars = [LpVariable(f\"InvDeviation_{i}\", lowBound=0, cat=LpContinuous) for i in range(n)]\n",
    "\n",
    "    capacity = optimize['Capacity'].values\n",
    "    adjusted_outbound = optimize['Actual Outbound'].values\n",
    "    cap_70 = 0.70 * capacity\n",
    "    cap_80 = 0.80 * capacity\n",
    "    target_inventory = 0.75 * capacity\n",
    "\n",
    "    # Weights (can be tuned)\n",
    "    overflow_penalty = 1\n",
    "    understock_penalty = 1\n",
    "    deviation_penalty = 2  # Make this >1 to encourage staying near target\n",
    "    outbound_reward = 1\n",
    "\n",
    "    # Objective Function\n",
    "    model += (\n",
    "        lpSum(overflow_penalty * overflow_vars[i] +\n",
    "              understock_penalty * understock_vars[i] +\n",
    "              deviation_penalty * deviation_vars[i] -\n",
    "              outbound_reward * outbound_vars[i]\n",
    "              for i in range(n))\n",
    "    )\n",
    "\n",
    "    for i in range(n):\n",
    "        if i == 0:\n",
    "            model += inventory_vars[i] == optimize['Actual Inventory'].iloc[0] + inbound_vars[i] - outbound_vars[i]\n",
    "        else:\n",
    "            model += inventory_vars[i] == inventory_vars[i - 1] + inbound_vars[i] - outbound_vars[i]\n",
    "\n",
    "        model += outbound_vars[i] <= adjusted_outbound[i]\n",
    "        model += inbound_vars[i] >= 5  # Minimum inbound constraint\n",
    "\n",
    "        # Overflow and understock constraints\n",
    "        model += overflow_vars[i] >= inventory_vars[i] - cap_80[i]\n",
    "        model += understock_vars[i] >= cap_70[i] - inventory_vars[i]\n",
    "\n",
    "        # Target deviation constraint\n",
    "        model += deviation_vars[i] >= inventory_vars[i] - target_inventory[i]\n",
    "        model += deviation_vars[i] >= target_inventory[i] - inventory_vars[i]\n",
    "\n",
    "    # Solve\n",
    "    model.solve()\n",
    "\n",
    "    # Write back results\n",
    "    optimize['Optimized Inbound'] = [inbound_vars[i].varValue for i in range(n)]\n",
    "    optimize['Optimized Outbound'] = [outbound_vars[i].varValue for i in range(n)]\n",
    "    optimize['Optimized Inventory'] = [inventory_vars[i].varValue for i in range(n)]\n",
    "    optimize['Overflow'] = [overflow_vars[i].varValue for i in range(n)]\n",
    "    optimize['Understock'] = [understock_vars[i].varValue for i in range(n)]\n",
    "    optimize['Inventory Deviation'] = [deviation_vars[i].varValue for i in range(n)]\n",
    "    optimize['Cap_70'] = cap_70\n",
    "    optimize['Cap_75'] = target_inventory\n",
    "    optimize['Cap_80'] = cap_80\n",
    "\n",
    "    return optimize\n"
   ]
  },
  {
   "cell_type": "code",
   "execution_count": 36,
   "id": "2203735d",
   "metadata": {},
   "outputs": [],
   "source": [
    "opt_head_9 = optimize.head(9).copy()"
   ]
  },
  {
   "cell_type": "code",
   "execution_count": 37,
   "id": "e1463486",
   "metadata": {},
   "outputs": [],
   "source": [
    "opt_head_9 = run_optimization(opt_head_9)\n",
    "opt_head_9['Cap_70'] = opt_head_9['Capacity'] * 0.70\n",
    "opt_head_9['Cap_80'] = opt_head_9['Capacity'] * 0.80"
   ]
  },
  {
   "cell_type": "code",
   "execution_count": 38,
   "id": "7601f1ad",
   "metadata": {},
   "outputs": [
    {
     "data": {
      "text/html": [
       "<div>\n",
       "<style scoped>\n",
       "    .dataframe tbody tr th:only-of-type {\n",
       "        vertical-align: middle;\n",
       "    }\n",
       "\n",
       "    .dataframe tbody tr th {\n",
       "        vertical-align: top;\n",
       "    }\n",
       "\n",
       "    .dataframe thead th {\n",
       "        text-align: right;\n",
       "    }\n",
       "</style>\n",
       "<table border=\"1\" class=\"dataframe\">\n",
       "  <thead>\n",
       "    <tr style=\"text-align: right;\">\n",
       "      <th></th>\n",
       "      <th>Actual Inbound</th>\n",
       "      <th>Actual Outbound</th>\n",
       "      <th>Actual Inventory</th>\n",
       "      <th>Adjusted Inventory</th>\n",
       "      <th>Adjusted Outbound</th>\n",
       "      <th>Capacity</th>\n",
       "      <th>Overflow</th>\n",
       "      <th>Optimized Inbound</th>\n",
       "      <th>Optimized Outbound</th>\n",
       "      <th>Optimized Inventory</th>\n",
       "      <th>Understock</th>\n",
       "      <th>Inventory Deviation</th>\n",
       "      <th>Cap_70</th>\n",
       "      <th>Cap_75</th>\n",
       "      <th>Cap_80</th>\n",
       "    </tr>\n",
       "  </thead>\n",
       "  <tbody>\n",
       "    <tr>\n",
       "      <th>0</th>\n",
       "      <td>25025.125</td>\n",
       "      <td>25687.77</td>\n",
       "      <td>39012.368</td>\n",
       "      <td>53307.351343</td>\n",
       "      <td>22136.794961</td>\n",
       "      <td>58000</td>\n",
       "      <td>0.0</td>\n",
       "      <td>30175.402</td>\n",
       "      <td>25687.77</td>\n",
       "      <td>43500.0</td>\n",
       "      <td>0.0</td>\n",
       "      <td>0.0</td>\n",
       "      <td>40600.0</td>\n",
       "      <td>43500.0</td>\n",
       "      <td>46400.0</td>\n",
       "    </tr>\n",
       "    <tr>\n",
       "      <th>1</th>\n",
       "      <td>16469.113</td>\n",
       "      <td>14025.65</td>\n",
       "      <td>46217.648</td>\n",
       "      <td>53307.351343</td>\n",
       "      <td>19391.611625</td>\n",
       "      <td>70000</td>\n",
       "      <td>0.0</td>\n",
       "      <td>23025.650</td>\n",
       "      <td>14025.65</td>\n",
       "      <td>52500.0</td>\n",
       "      <td>0.0</td>\n",
       "      <td>0.0</td>\n",
       "      <td>49000.0</td>\n",
       "      <td>52500.0</td>\n",
       "      <td>56000.0</td>\n",
       "    </tr>\n",
       "    <tr>\n",
       "      <th>2</th>\n",
       "      <td>33598.812</td>\n",
       "      <td>20438.56</td>\n",
       "      <td>48478.708</td>\n",
       "      <td>53307.351343</td>\n",
       "      <td>20025.015827</td>\n",
       "      <td>70000</td>\n",
       "      <td>0.0</td>\n",
       "      <td>20438.560</td>\n",
       "      <td>20438.56</td>\n",
       "      <td>52500.0</td>\n",
       "      <td>0.0</td>\n",
       "      <td>0.0</td>\n",
       "      <td>49000.0</td>\n",
       "      <td>52500.0</td>\n",
       "      <td>56000.0</td>\n",
       "    </tr>\n",
       "    <tr>\n",
       "      <th>3</th>\n",
       "      <td>23836.500</td>\n",
       "      <td>21062.60</td>\n",
       "      <td>48415.015</td>\n",
       "      <td>53307.351343</td>\n",
       "      <td>21977.253879</td>\n",
       "      <td>70000</td>\n",
       "      <td>0.0</td>\n",
       "      <td>21062.600</td>\n",
       "      <td>21062.60</td>\n",
       "      <td>52500.0</td>\n",
       "      <td>0.0</td>\n",
       "      <td>0.0</td>\n",
       "      <td>49000.0</td>\n",
       "      <td>52500.0</td>\n",
       "      <td>56000.0</td>\n",
       "    </tr>\n",
       "    <tr>\n",
       "      <th>4</th>\n",
       "      <td>29770.405</td>\n",
       "      <td>22762.81</td>\n",
       "      <td>52826.486</td>\n",
       "      <td>53307.351343</td>\n",
       "      <td>23404.747696</td>\n",
       "      <td>70000</td>\n",
       "      <td>0.0</td>\n",
       "      <td>22762.810</td>\n",
       "      <td>22762.81</td>\n",
       "      <td>52500.0</td>\n",
       "      <td>0.0</td>\n",
       "      <td>0.0</td>\n",
       "      <td>49000.0</td>\n",
       "      <td>52500.0</td>\n",
       "      <td>56000.0</td>\n",
       "    </tr>\n",
       "    <tr>\n",
       "      <th>5</th>\n",
       "      <td>20254.925</td>\n",
       "      <td>21010.19</td>\n",
       "      <td>71362.441</td>\n",
       "      <td>62557.646071</td>\n",
       "      <td>19391.611625</td>\n",
       "      <td>70000</td>\n",
       "      <td>0.0</td>\n",
       "      <td>21010.190</td>\n",
       "      <td>21010.19</td>\n",
       "      <td>52500.0</td>\n",
       "      <td>0.0</td>\n",
       "      <td>0.0</td>\n",
       "      <td>49000.0</td>\n",
       "      <td>52500.0</td>\n",
       "      <td>56000.0</td>\n",
       "    </tr>\n",
       "    <tr>\n",
       "      <th>6</th>\n",
       "      <td>23471.777</td>\n",
       "      <td>21824.08</td>\n",
       "      <td>75614.624</td>\n",
       "      <td>62557.646071</td>\n",
       "      <td>23404.747696</td>\n",
       "      <td>70000</td>\n",
       "      <td>0.0</td>\n",
       "      <td>21824.080</td>\n",
       "      <td>21824.08</td>\n",
       "      <td>52500.0</td>\n",
       "      <td>0.0</td>\n",
       "      <td>0.0</td>\n",
       "      <td>49000.0</td>\n",
       "      <td>52500.0</td>\n",
       "      <td>56000.0</td>\n",
       "    </tr>\n",
       "    <tr>\n",
       "      <th>7</th>\n",
       "      <td>23469.684</td>\n",
       "      <td>20744.91</td>\n",
       "      <td>68138.683</td>\n",
       "      <td>62557.646071</td>\n",
       "      <td>21924.838431</td>\n",
       "      <td>70000</td>\n",
       "      <td>0.0</td>\n",
       "      <td>20744.910</td>\n",
       "      <td>20744.91</td>\n",
       "      <td>52500.0</td>\n",
       "      <td>0.0</td>\n",
       "      <td>0.0</td>\n",
       "      <td>49000.0</td>\n",
       "      <td>52500.0</td>\n",
       "      <td>56000.0</td>\n",
       "    </tr>\n",
       "    <tr>\n",
       "      <th>8</th>\n",
       "      <td>19945.650</td>\n",
       "      <td>26569.43</td>\n",
       "      <td>66701.368</td>\n",
       "      <td>62557.646071</td>\n",
       "      <td>23637.344878</td>\n",
       "      <td>70000</td>\n",
       "      <td>0.0</td>\n",
       "      <td>26569.430</td>\n",
       "      <td>26569.43</td>\n",
       "      <td>52500.0</td>\n",
       "      <td>0.0</td>\n",
       "      <td>0.0</td>\n",
       "      <td>49000.0</td>\n",
       "      <td>52500.0</td>\n",
       "      <td>56000.0</td>\n",
       "    </tr>\n",
       "  </tbody>\n",
       "</table>\n",
       "</div>"
      ],
      "text/plain": [
       "   Actual Inbound  Actual Outbound  Actual Inventory  Adjusted Inventory  \\\n",
       "0       25025.125         25687.77         39012.368        53307.351343   \n",
       "1       16469.113         14025.65         46217.648        53307.351343   \n",
       "2       33598.812         20438.56         48478.708        53307.351343   \n",
       "3       23836.500         21062.60         48415.015        53307.351343   \n",
       "4       29770.405         22762.81         52826.486        53307.351343   \n",
       "5       20254.925         21010.19         71362.441        62557.646071   \n",
       "6       23471.777         21824.08         75614.624        62557.646071   \n",
       "7       23469.684         20744.91         68138.683        62557.646071   \n",
       "8       19945.650         26569.43         66701.368        62557.646071   \n",
       "\n",
       "   Adjusted Outbound  Capacity  Overflow  Optimized Inbound  \\\n",
       "0       22136.794961     58000       0.0          30175.402   \n",
       "1       19391.611625     70000       0.0          23025.650   \n",
       "2       20025.015827     70000       0.0          20438.560   \n",
       "3       21977.253879     70000       0.0          21062.600   \n",
       "4       23404.747696     70000       0.0          22762.810   \n",
       "5       19391.611625     70000       0.0          21010.190   \n",
       "6       23404.747696     70000       0.0          21824.080   \n",
       "7       21924.838431     70000       0.0          20744.910   \n",
       "8       23637.344878     70000       0.0          26569.430   \n",
       "\n",
       "   Optimized Outbound  Optimized Inventory  Understock  Inventory Deviation  \\\n",
       "0            25687.77              43500.0         0.0                  0.0   \n",
       "1            14025.65              52500.0         0.0                  0.0   \n",
       "2            20438.56              52500.0         0.0                  0.0   \n",
       "3            21062.60              52500.0         0.0                  0.0   \n",
       "4            22762.81              52500.0         0.0                  0.0   \n",
       "5            21010.19              52500.0         0.0                  0.0   \n",
       "6            21824.08              52500.0         0.0                  0.0   \n",
       "7            20744.91              52500.0         0.0                  0.0   \n",
       "8            26569.43              52500.0         0.0                  0.0   \n",
       "\n",
       "    Cap_70   Cap_75   Cap_80  \n",
       "0  40600.0  43500.0  46400.0  \n",
       "1  49000.0  52500.0  56000.0  \n",
       "2  49000.0  52500.0  56000.0  \n",
       "3  49000.0  52500.0  56000.0  \n",
       "4  49000.0  52500.0  56000.0  \n",
       "5  49000.0  52500.0  56000.0  \n",
       "6  49000.0  52500.0  56000.0  \n",
       "7  49000.0  52500.0  56000.0  \n",
       "8  49000.0  52500.0  56000.0  "
      ]
     },
     "execution_count": 38,
     "metadata": {},
     "output_type": "execute_result"
    }
   ],
   "source": [
    "opt_head_9"
   ]
  },
  {
   "cell_type": "code",
   "execution_count": 39,
   "id": "5af2e7f2",
   "metadata": {},
   "outputs": [
    {
     "data": {
      "image/png": "[encoded data removed]",
      "text/plain": [
       "<Figure size 1400x600 with 1 Axes>"
      ]
     },
     "metadata": {},
     "output_type": "display_data"
    }
   ],
   "source": [
    "opt_head_9 = opt_head_9.sort_index()\n",
    "x1 = opt_head_9.index\n",
    "month_labels = df.loc[x1, 'month'].dt.strftime('%b-%Y').values\n",
    "plt.figure(figsize=(14,6))\n",
    "# plt.plot(x1, opt_head_9['Actual Outbound'], label='Actual Outbound', color='black', marker='o')\n",
    "plt.plot(x1, opt_head_9['Actual Inventory'], label='Actual Inventory', color='blue', marker='o')\n",
    "plt.plot(x1, opt_head_9['Actual Inbound'], label='Actual Inbound', color='purple', marker='x')\n",
    "# plt.plot(x1, opt_head_9['Actual Outbound'], label='Actual Outbound', color='black', marker='o')\n",
    "# plt.plot(x1, opt_head_9['Optimized Inventory'], label='Optimized Inventory', color='blue', marker='^')\n",
    "# plt.plot(x1, opt_head_9['Optimized Inbound'], label='Optimized Inbound', color='purple', marker='s')\n",
    "\n",
    "plt.plot(x1, opt_head_9['Capacity'], label='Capacity', color='red', linestyle='--')\n",
    "# plt.plot(x1, opt_head_9['Cap_70'], label='Cap 70%', color='gray', linestyle='--')\n",
    "plt.plot(x1, opt_head_9['Cap_70'], label='Cap 70% (Critical)', color='orange', linestyle='--', linewidth=2.5)\n",
    "plt.plot(x1, opt_head_9['Cap_80'], label='Cap 80% (Critical)', color='orange', linestyle='--', linewidth=2.5)\n",
    "\n",
    "\n",
    "plt.title('Inventory & Inbound vs Capacity (First 9 Months)')\n",
    "plt.xlabel('Month Index')\n",
    "plt.ylabel('Quantity (KT)')\n",
    "plt.legend()\n",
    "plt.grid(True, linestyle='--', alpha=0.5)\n",
    "plt.xticks(x1, month_labels, rotation=45)\n",
    "plt.tight_layout()\n",
    "plt.show()"
   ]
  },
  {
   "cell_type": "markdown",
   "id": "ed2b995a",
   "metadata": {},
   "source": [
    "---"
   ]
  },
  {
   "cell_type": "markdown",
   "id": "b4d17746",
   "metadata": {},
   "source": [
    "## **Build a New Optimization Function for `pred_data`**"
   ]
  },
  {
   "cell_type": "markdown",
   "id": "3768f866",
   "metadata": {},
   "source": [
    "- **Construct a new optimization function that applies the same logic as the previous model, adapted to handle `pred_data` (forecasted or incoming new data).**"
   ]
  },
  {
   "cell_type": "code",
   "execution_count": 40,
   "id": "33dd4b73",
   "metadata": {},
   "outputs": [],
   "source": [
    "def run_forecast_optimization(df_forecast, last_inventory, fixed_inbound_dict=None):\n",
    "    n = len(df_forecast)\n",
    "\n",
    "    model = LpProblem(\"Inventory_Optimization\", LpMinimize)\n",
    "\n",
    "    # Variables\n",
    "    inbound_vars = [LpVariable(f\"Inbound_{i}\", lowBound=0, cat=LpContinuous) for i in range(n)]\n",
    "    outbound_vars = [LpVariable(f\"Outbound_{i}\", lowBound=0, cat=LpContinuous) for i in range(n)]\n",
    "    inventory_vars = [LpVariable(f\"Inventory_{i}\", lowBound=0, cat=LpContinuous) for i in range(n)]\n",
    "    overflow_vars = [LpVariable(f\"Overflow_{i}\", lowBound=0, cat=LpContinuous) for i in range(n)]\n",
    "    understock_vars = [LpVariable(f\"Understock_{i}\", lowBound=0, cat=LpContinuous) for i in range(n)]\n",
    "\n",
    "    # Parameters\n",
    "    adjusted_outbound = df_forecast['Adjusted Outbound'].values\n",
    "    capacity = df_forecast['Capacity'].values\n",
    "\n",
    "    cap_80 = 0.8 * capacity\n",
    "    cap_70 = 0.7 * capacity\n",
    "\n",
    "    # Inventory balance constraint\n",
    "    for i in range(n):\n",
    "        if i == 0:\n",
    "            model += inventory_vars[i] == last_inventory + inbound_vars[i] - outbound_vars[i]\n",
    "        else:\n",
    "            model += inventory_vars[i] == inventory_vars[i-1] + inbound_vars[i] - outbound_vars[i]\n",
    "\n",
    "    # Fix inbound where known (if fixed_inbound_dict is provided)\n",
    "    if fixed_inbound_dict:\n",
    "        for relative_idx, value in fixed_inbound_dict.items():\n",
    "            if 0 <= relative_idx < n:\n",
    "                model += inbound_vars[relative_idx] == value\n",
    "\n",
    "    # Outbound constraints\n",
    "    for i in range(n):\n",
    "        model += outbound_vars[i] <= adjusted_outbound[i]\n",
    "        model += inbound_vars[i] >= 5  # Min inbound\n",
    "\n",
    "    # Overflow & understock constraints\n",
    "    for i in range(n):\n",
    "        model += overflow_vars[i] >= inventory_vars[i] - cap_80[i]\n",
    "        model += overflow_vars[i] >= 0\n",
    "        model += understock_vars[i] >= cap_70[i] - inventory_vars[i]\n",
    "        model += understock_vars[i] >= 0\n",
    "\n",
    "    # Objective\n",
    "    model += -lpSum(outbound_vars) + lpSum(overflow_vars) * 1 + lpSum(understock_vars) * 1\n",
    "\n",
    "    model.solve()\n",
    "\n",
    "    # Results\n",
    "    df_result = df_forecast.copy()\n",
    "    df_result['Optimized Inbound'] = [v.value() for v in inbound_vars]\n",
    "    df_result['Optimized Outbound'] = [v.value() for v in outbound_vars]\n",
    "    df_result['Optimized Inventory'] = [v.value() for v in inventory_vars]\n",
    "    df_result['Overflow'] = [v.value() for v in overflow_vars]\n",
    "    df_result['Understock'] = [v.value() for v in understock_vars]\n",
    "    df_result['Cap_70'] = cap_70\n",
    "    df_result['Cap_80'] = cap_80\n",
    "\n",
    "    return df_result"
   ]
  },
  {
   "cell_type": "code",
   "execution_count": 41,
   "id": "33a89a50",
   "metadata": {},
   "outputs": [
    {
     "data": {
      "text/html": [
       "<div>\n",
       "<style scoped>\n",
       "    .dataframe tbody tr th:only-of-type {\n",
       "        vertical-align: middle;\n",
       "    }\n",
       "\n",
       "    .dataframe tbody tr th {\n",
       "        vertical-align: top;\n",
       "    }\n",
       "\n",
       "    .dataframe thead th {\n",
       "        text-align: right;\n",
       "    }\n",
       "</style>\n",
       "<table border=\"1\" class=\"dataframe\">\n",
       "  <thead>\n",
       "    <tr style=\"text-align: right;\">\n",
       "      <th></th>\n",
       "      <th>Actual Inbound</th>\n",
       "      <th>Actual Outbound</th>\n",
       "      <th>Actual Inventory</th>\n",
       "      <th>Adjusted Inventory</th>\n",
       "      <th>Adjusted Outbound</th>\n",
       "      <th>Capacity</th>\n",
       "      <th>Overflow</th>\n",
       "    </tr>\n",
       "  </thead>\n",
       "  <tbody>\n",
       "    <tr>\n",
       "      <th>1</th>\n",
       "      <td>25025.125</td>\n",
       "      <td>25687.77</td>\n",
       "      <td>39012.368</td>\n",
       "      <td>53307.351343</td>\n",
       "      <td>22136.794961</td>\n",
       "      <td>58000</td>\n",
       "      <td>False</td>\n",
       "    </tr>\n",
       "    <tr>\n",
       "      <th>2</th>\n",
       "      <td>16469.113</td>\n",
       "      <td>14025.65</td>\n",
       "      <td>46217.648</td>\n",
       "      <td>53307.351343</td>\n",
       "      <td>19391.611625</td>\n",
       "      <td>70000</td>\n",
       "      <td>False</td>\n",
       "    </tr>\n",
       "    <tr>\n",
       "      <th>3</th>\n",
       "      <td>33598.812</td>\n",
       "      <td>20438.56</td>\n",
       "      <td>48478.708</td>\n",
       "      <td>53307.351343</td>\n",
       "      <td>20025.015827</td>\n",
       "      <td>70000</td>\n",
       "      <td>False</td>\n",
       "    </tr>\n",
       "    <tr>\n",
       "      <th>4</th>\n",
       "      <td>23836.500</td>\n",
       "      <td>21062.60</td>\n",
       "      <td>48415.015</td>\n",
       "      <td>53307.351343</td>\n",
       "      <td>21977.253879</td>\n",
       "      <td>70000</td>\n",
       "      <td>False</td>\n",
       "    </tr>\n",
       "    <tr>\n",
       "      <th>5</th>\n",
       "      <td>29770.405</td>\n",
       "      <td>22762.81</td>\n",
       "      <td>52826.486</td>\n",
       "      <td>53307.351343</td>\n",
       "      <td>23404.747696</td>\n",
       "      <td>70000</td>\n",
       "      <td>False</td>\n",
       "    </tr>\n",
       "    <tr>\n",
       "      <th>6</th>\n",
       "      <td>20254.925</td>\n",
       "      <td>21010.19</td>\n",
       "      <td>71362.441</td>\n",
       "      <td>62557.646071</td>\n",
       "      <td>19391.611625</td>\n",
       "      <td>70000</td>\n",
       "      <td>False</td>\n",
       "    </tr>\n",
       "    <tr>\n",
       "      <th>7</th>\n",
       "      <td>23471.777</td>\n",
       "      <td>21824.08</td>\n",
       "      <td>75614.624</td>\n",
       "      <td>62557.646071</td>\n",
       "      <td>23404.747696</td>\n",
       "      <td>70000</td>\n",
       "      <td>False</td>\n",
       "    </tr>\n",
       "    <tr>\n",
       "      <th>8</th>\n",
       "      <td>23469.684</td>\n",
       "      <td>20744.91</td>\n",
       "      <td>68138.683</td>\n",
       "      <td>62557.646071</td>\n",
       "      <td>21924.838431</td>\n",
       "      <td>70000</td>\n",
       "      <td>False</td>\n",
       "    </tr>\n",
       "    <tr>\n",
       "      <th>9</th>\n",
       "      <td>19945.650</td>\n",
       "      <td>26569.43</td>\n",
       "      <td>66701.368</td>\n",
       "      <td>62557.646071</td>\n",
       "      <td>23637.344878</td>\n",
       "      <td>70000</td>\n",
       "      <td>False</td>\n",
       "    </tr>\n",
       "    <tr>\n",
       "      <th>10</th>\n",
       "      <td>15933.650</td>\n",
       "      <td>23404.13</td>\n",
       "      <td>62785.369</td>\n",
       "      <td>62557.646071</td>\n",
       "      <td>23404.747696</td>\n",
       "      <td>70000</td>\n",
       "      <td>False</td>\n",
       "    </tr>\n",
       "    <tr>\n",
       "      <th>11</th>\n",
       "      <td>15277.488</td>\n",
       "      <td>22240.40</td>\n",
       "      <td>54764.596</td>\n",
       "      <td>53307.351343</td>\n",
       "      <td>19391.611625</td>\n",
       "      <td>70000</td>\n",
       "      <td>False</td>\n",
       "    </tr>\n",
       "    <tr>\n",
       "      <th>12</th>\n",
       "      <td>12629.075</td>\n",
       "      <td>23099.15</td>\n",
       "      <td>72626.420</td>\n",
       "      <td>53307.351343</td>\n",
       "      <td>19391.611625</td>\n",
       "      <td>70000</td>\n",
       "      <td>False</td>\n",
       "    </tr>\n",
       "  </tbody>\n",
       "</table>\n",
       "</div>"
      ],
      "text/plain": [
       "    Actual Inbound  Actual Outbound  Actual Inventory  Adjusted Inventory  \\\n",
       "1        25025.125         25687.77         39012.368        53307.351343   \n",
       "2        16469.113         14025.65         46217.648        53307.351343   \n",
       "3        33598.812         20438.56         48478.708        53307.351343   \n",
       "4        23836.500         21062.60         48415.015        53307.351343   \n",
       "5        29770.405         22762.81         52826.486        53307.351343   \n",
       "6        20254.925         21010.19         71362.441        62557.646071   \n",
       "7        23471.777         21824.08         75614.624        62557.646071   \n",
       "8        23469.684         20744.91         68138.683        62557.646071   \n",
       "9        19945.650         26569.43         66701.368        62557.646071   \n",
       "10       15933.650         23404.13         62785.369        62557.646071   \n",
       "11       15277.488         22240.40         54764.596        53307.351343   \n",
       "12       12629.075         23099.15         72626.420        53307.351343   \n",
       "\n",
       "    Adjusted Outbound  Capacity  Overflow  \n",
       "1        22136.794961     58000     False  \n",
       "2        19391.611625     70000     False  \n",
       "3        20025.015827     70000     False  \n",
       "4        21977.253879     70000     False  \n",
       "5        23404.747696     70000     False  \n",
       "6        19391.611625     70000     False  \n",
       "7        23404.747696     70000     False  \n",
       "8        21924.838431     70000     False  \n",
       "9        23637.344878     70000     False  \n",
       "10       23404.747696     70000     False  \n",
       "11       19391.611625     70000     False  \n",
       "12       19391.611625     70000     False  "
      ]
     },
     "execution_count": 41,
     "metadata": {},
     "output_type": "execute_result"
    }
   ],
   "source": [
    "optimize.index = optimize.index+1\n",
    "optimize"
   ]
  },
  {
   "cell_type": "markdown",
   "id": "b32bd831",
   "metadata": {},
   "source": [
    "### **Initial Target for the New Optimization Model: `optimize.iloc[-3:]` (Last 3 Records)**"
   ]
  },
  {
   "cell_type": "code",
   "execution_count": 42,
   "id": "71bb248d",
   "metadata": {},
   "outputs": [],
   "source": [
    "# opt_last3 = optimize.iloc[-3:].copy()\n",
    "opt_last3 = optimize.iloc[-3:].copy()"
   ]
  },
  {
   "cell_type": "code",
   "execution_count": 43,
   "id": "caed1f12",
   "metadata": {},
   "outputs": [
    {
     "data": {
      "text/html": [
       "<div>\n",
       "<style scoped>\n",
       "    .dataframe tbody tr th:only-of-type {\n",
       "        vertical-align: middle;\n",
       "    }\n",
       "\n",
       "    .dataframe tbody tr th {\n",
       "        vertical-align: top;\n",
       "    }\n",
       "\n",
       "    .dataframe thead th {\n",
       "        text-align: right;\n",
       "    }\n",
       "</style>\n",
       "<table border=\"1\" class=\"dataframe\">\n",
       "  <thead>\n",
       "    <tr style=\"text-align: right;\">\n",
       "      <th></th>\n",
       "      <th>Actual Inbound</th>\n",
       "      <th>Actual Outbound</th>\n",
       "      <th>Actual Inventory</th>\n",
       "      <th>Adjusted Inventory</th>\n",
       "      <th>Adjusted Outbound</th>\n",
       "      <th>Capacity</th>\n",
       "      <th>Overflow</th>\n",
       "    </tr>\n",
       "  </thead>\n",
       "  <tbody>\n",
       "    <tr>\n",
       "      <th>10</th>\n",
       "      <td>15933.650</td>\n",
       "      <td>23404.13</td>\n",
       "      <td>62785.369</td>\n",
       "      <td>62557.646071</td>\n",
       "      <td>23404.747696</td>\n",
       "      <td>70000</td>\n",
       "      <td>False</td>\n",
       "    </tr>\n",
       "    <tr>\n",
       "      <th>11</th>\n",
       "      <td>15277.488</td>\n",
       "      <td>22240.40</td>\n",
       "      <td>54764.596</td>\n",
       "      <td>53307.351343</td>\n",
       "      <td>19391.611625</td>\n",
       "      <td>70000</td>\n",
       "      <td>False</td>\n",
       "    </tr>\n",
       "    <tr>\n",
       "      <th>12</th>\n",
       "      <td>12629.075</td>\n",
       "      <td>23099.15</td>\n",
       "      <td>72626.420</td>\n",
       "      <td>53307.351343</td>\n",
       "      <td>19391.611625</td>\n",
       "      <td>70000</td>\n",
       "      <td>False</td>\n",
       "    </tr>\n",
       "  </tbody>\n",
       "</table>\n",
       "</div>"
      ],
      "text/plain": [
       "    Actual Inbound  Actual Outbound  Actual Inventory  Adjusted Inventory  \\\n",
       "10       15933.650         23404.13         62785.369        62557.646071   \n",
       "11       15277.488         22240.40         54764.596        53307.351343   \n",
       "12       12629.075         23099.15         72626.420        53307.351343   \n",
       "\n",
       "    Adjusted Outbound  Capacity  Overflow  \n",
       "10       23404.747696     70000     False  \n",
       "11       19391.611625     70000     False  \n",
       "12       19391.611625     70000     False  "
      ]
     },
     "execution_count": 43,
     "metadata": {},
     "output_type": "execute_result"
    }
   ],
   "source": [
    "opt_last3"
   ]
  },
  {
   "cell_type": "markdown",
   "id": "103a2153",
   "metadata": {},
   "source": [
    "- **The latest inventory value is a key input to the optimization model, as all calculations are anchored from this current stock level.**"
   ]
  },
  {
   "cell_type": "code",
   "execution_count": 44,
   "id": "bed450e2",
   "metadata": {},
   "outputs": [
    {
     "data": {
      "text/plain": [
       "66701.368"
      ]
     },
     "execution_count": 44,
     "metadata": {},
     "output_type": "execute_result"
    }
   ],
   "source": [
    "opt_start_idx = opt_last3.index[0] \n",
    "last_inventory = optimize.loc[opt_start_idx - 1, 'Actual Inventory']\n",
    "last_inventory"
   ]
  },
  {
   "cell_type": "code",
   "execution_count": 45,
   "id": "0dcf077a",
   "metadata": {},
   "outputs": [],
   "source": [
    "fixed_inbound_dict = {\n",
    "    0: optimize.loc[opt_start_idx, 'Actual Inbound'],       # เดือน 10\n",
    "    1: optimize.loc[opt_start_idx + 1, 'Actual Inbound'],   # เดือน 11\n",
    "}"
   ]
  },
  {
   "cell_type": "code",
   "execution_count": 46,
   "id": "1c9479b4",
   "metadata": {},
   "outputs": [],
   "source": [
    "opt_last3 = run_forecast_optimization(opt_last3, last_inventory, fixed_inbound_dict=fixed_inbound_dict)\n",
    "opt_last3 = opt_last3.sort_index()"
   ]
  },
  {
   "cell_type": "code",
   "execution_count": 47,
   "id": "e9fb00ae",
   "metadata": {},
   "outputs": [
    {
     "data": {
      "image/png": "[encoded data removed]",
      "text/plain": [
       "<Figure size 1400x600 with 1 Axes>"
      ]
     },
     "metadata": {},
     "output_type": "display_data"
    }
   ],
   "source": [
    "x = opt_last3.index\n",
    "y_inbound = opt_last3['Optimized Inbound']\n",
    "\n",
    "plt.figure(figsize=(14,6))\n",
    "\n",
    "# เส้นหลัก Optimized Inbound\n",
    "plt.plot(x, y_inbound, label='Optimized Inbound', color='orange', marker='s')\n",
    "\n",
    "# จุดสุดท้าย (เด่นๆ)\n",
    "last_x = x[-1]\n",
    "last_y = y_inbound.iloc[-1]\n",
    "\n",
    "plt.scatter(\n",
    "    last_x, last_y,\n",
    "    color='limegreen',       # สีเขียวเด่น\n",
    "    s=200,                   # ขนาดใหญ่\n",
    "    edgecolors='black',      # ขอบดำ\n",
    "    linewidths=2,\n",
    "    zorder=10,               # ให้อยู่บนสุด\n",
    "    label='Final Optimized Inbound'\n",
    ")\n",
    "\n",
    "# เพิ่ม Annotation\n",
    "# plt.annotate(\n",
    "#     f'Final: {last_y:.0f}',\n",
    "#     xy=(last_x, last_y),\n",
    "#     xytext=(last_x, last_y + 60),  # ปรับระยะห่างข้อความ\n",
    "#     fontsize=11,\n",
    "#     color='green',\n",
    "#     weight='bold',\n",
    "#     arrowprops=dict(\n",
    "#         facecolor='limegreen',\n",
    "#         edgecolor='black',\n",
    "#         arrowstyle='->',\n",
    "#         lw=2\n",
    "#     )\n",
    "# )\n",
    "\n",
    "# เส้นอื่น ๆ\n",
    "plt.plot(x, opt_last3['Optimized Inventory'], label='Inventory', color='blue', marker='^')\n",
    "plt.plot(x, opt_last3['Capacity'], label='Capacity', color='red', linestyle='--')\n",
    "plt.plot(x, opt_last3['Cap_70'], label='70% Capacity', color='gray', linestyle=':')\n",
    "plt.plot(x, opt_last3['Cap_80'], label='80% Capacity', color='gray', linestyle=':')\n",
    "plt.plot(x, opt_last3['Adjusted Outbound'], label='Adjusted Outbound', color='purple', marker='x')\n",
    "# รูปแบบกราฟ\n",
    "plt.title('Inventory & Inbound vs Capacity (Last 3 periods)', fontsize=14)\n",
    "plt.xlabel('Time')\n",
    "plt.ylabel('Volume')\n",
    "plt.legend()\n",
    "plt.grid(True, linestyle='--', alpha=0.5)\n",
    "plt.xticks(x, x, rotation=45)\n",
    "plt.tight_layout()\n",
    "plt.show()\n"
   ]
  },
  {
   "cell_type": "code",
   "execution_count": 48,
   "id": "2bccff0d",
   "metadata": {},
   "outputs": [],
   "source": [
    "combined_df = pd.concat([opt_head_9, opt_last3], ignore_index=True)"
   ]
  },
  {
   "cell_type": "code",
   "execution_count": 49,
   "id": "daa2547a",
   "metadata": {},
   "outputs": [],
   "source": [
    "combined_df.to_csv('optim_china.csv', index=False, encoding='utf-8-sig')"
   ]
  },
  {
   "cell_type": "code",
   "execution_count": 50,
   "id": "6a19856a",
   "metadata": {},
   "outputs": [
    {
     "data": {
      "text/html": [
       "<div>\n",
       "<style scoped>\n",
       "    .dataframe tbody tr th:only-of-type {\n",
       "        vertical-align: middle;\n",
       "    }\n",
       "\n",
       "    .dataframe tbody tr th {\n",
       "        vertical-align: top;\n",
       "    }\n",
       "\n",
       "    .dataframe thead th {\n",
       "        text-align: right;\n",
       "    }\n",
       "</style>\n",
       "<table border=\"1\" class=\"dataframe\">\n",
       "  <thead>\n",
       "    <tr style=\"text-align: right;\">\n",
       "      <th></th>\n",
       "      <th>Actual Inbound</th>\n",
       "      <th>Actual Outbound</th>\n",
       "      <th>Actual Inventory</th>\n",
       "      <th>Adjusted Inventory</th>\n",
       "      <th>Adjusted Outbound</th>\n",
       "      <th>Capacity</th>\n",
       "      <th>Overflow</th>\n",
       "      <th>Optimized Inbound</th>\n",
       "      <th>Optimized Outbound</th>\n",
       "      <th>Optimized Inventory</th>\n",
       "      <th>Understock</th>\n",
       "      <th>Inventory Deviation</th>\n",
       "      <th>Cap_70</th>\n",
       "      <th>Cap_75</th>\n",
       "      <th>Cap_80</th>\n",
       "    </tr>\n",
       "  </thead>\n",
       "  <tbody>\n",
       "    <tr>\n",
       "      <th>0</th>\n",
       "      <td>25025.125</td>\n",
       "      <td>25687.77</td>\n",
       "      <td>39012.368</td>\n",
       "      <td>53307.351343</td>\n",
       "      <td>22136.794961</td>\n",
       "      <td>58000</td>\n",
       "      <td>0.0000</td>\n",
       "      <td>30175.402</td>\n",
       "      <td>25687.770</td>\n",
       "      <td>43500.000</td>\n",
       "      <td>0.0</td>\n",
       "      <td>0.0</td>\n",
       "      <td>40600.0</td>\n",
       "      <td>43500.0</td>\n",
       "      <td>46400.0</td>\n",
       "    </tr>\n",
       "    <tr>\n",
       "      <th>1</th>\n",
       "      <td>16469.113</td>\n",
       "      <td>14025.65</td>\n",
       "      <td>46217.648</td>\n",
       "      <td>53307.351343</td>\n",
       "      <td>19391.611625</td>\n",
       "      <td>70000</td>\n",
       "      <td>0.0000</td>\n",
       "      <td>23025.650</td>\n",
       "      <td>14025.650</td>\n",
       "      <td>52500.000</td>\n",
       "      <td>0.0</td>\n",
       "      <td>0.0</td>\n",
       "      <td>49000.0</td>\n",
       "      <td>52500.0</td>\n",
       "      <td>56000.0</td>\n",
       "    </tr>\n",
       "    <tr>\n",
       "      <th>2</th>\n",
       "      <td>33598.812</td>\n",
       "      <td>20438.56</td>\n",
       "      <td>48478.708</td>\n",
       "      <td>53307.351343</td>\n",
       "      <td>20025.015827</td>\n",
       "      <td>70000</td>\n",
       "      <td>0.0000</td>\n",
       "      <td>20438.560</td>\n",
       "      <td>20438.560</td>\n",
       "      <td>52500.000</td>\n",
       "      <td>0.0</td>\n",
       "      <td>0.0</td>\n",
       "      <td>49000.0</td>\n",
       "      <td>52500.0</td>\n",
       "      <td>56000.0</td>\n",
       "    </tr>\n",
       "    <tr>\n",
       "      <th>3</th>\n",
       "      <td>23836.500</td>\n",
       "      <td>21062.60</td>\n",
       "      <td>48415.015</td>\n",
       "      <td>53307.351343</td>\n",
       "      <td>21977.253879</td>\n",
       "      <td>70000</td>\n",
       "      <td>0.0000</td>\n",
       "      <td>21062.600</td>\n",
       "      <td>21062.600</td>\n",
       "      <td>52500.000</td>\n",
       "      <td>0.0</td>\n",
       "      <td>0.0</td>\n",
       "      <td>49000.0</td>\n",
       "      <td>52500.0</td>\n",
       "      <td>56000.0</td>\n",
       "    </tr>\n",
       "    <tr>\n",
       "      <th>4</th>\n",
       "      <td>29770.405</td>\n",
       "      <td>22762.81</td>\n",
       "      <td>52826.486</td>\n",
       "      <td>53307.351343</td>\n",
       "      <td>23404.747696</td>\n",
       "      <td>70000</td>\n",
       "      <td>0.0000</td>\n",
       "      <td>22762.810</td>\n",
       "      <td>22762.810</td>\n",
       "      <td>52500.000</td>\n",
       "      <td>0.0</td>\n",
       "      <td>0.0</td>\n",
       "      <td>49000.0</td>\n",
       "      <td>52500.0</td>\n",
       "      <td>56000.0</td>\n",
       "    </tr>\n",
       "    <tr>\n",
       "      <th>5</th>\n",
       "      <td>20254.925</td>\n",
       "      <td>21010.19</td>\n",
       "      <td>71362.441</td>\n",
       "      <td>62557.646071</td>\n",
       "      <td>19391.611625</td>\n",
       "      <td>70000</td>\n",
       "      <td>0.0000</td>\n",
       "      <td>21010.190</td>\n",
       "      <td>21010.190</td>\n",
       "      <td>52500.000</td>\n",
       "      <td>0.0</td>\n",
       "      <td>0.0</td>\n",
       "      <td>49000.0</td>\n",
       "      <td>52500.0</td>\n",
       "      <td>56000.0</td>\n",
       "    </tr>\n",
       "    <tr>\n",
       "      <th>6</th>\n",
       "      <td>23471.777</td>\n",
       "      <td>21824.08</td>\n",
       "      <td>75614.624</td>\n",
       "      <td>62557.646071</td>\n",
       "      <td>23404.747696</td>\n",
       "      <td>70000</td>\n",
       "      <td>0.0000</td>\n",
       "      <td>21824.080</td>\n",
       "      <td>21824.080</td>\n",
       "      <td>52500.000</td>\n",
       "      <td>0.0</td>\n",
       "      <td>0.0</td>\n",
       "      <td>49000.0</td>\n",
       "      <td>52500.0</td>\n",
       "      <td>56000.0</td>\n",
       "    </tr>\n",
       "    <tr>\n",
       "      <th>7</th>\n",
       "      <td>23469.684</td>\n",
       "      <td>20744.91</td>\n",
       "      <td>68138.683</td>\n",
       "      <td>62557.646071</td>\n",
       "      <td>21924.838431</td>\n",
       "      <td>70000</td>\n",
       "      <td>0.0000</td>\n",
       "      <td>20744.910</td>\n",
       "      <td>20744.910</td>\n",
       "      <td>52500.000</td>\n",
       "      <td>0.0</td>\n",
       "      <td>0.0</td>\n",
       "      <td>49000.0</td>\n",
       "      <td>52500.0</td>\n",
       "      <td>56000.0</td>\n",
       "    </tr>\n",
       "    <tr>\n",
       "      <th>8</th>\n",
       "      <td>19945.650</td>\n",
       "      <td>26569.43</td>\n",
       "      <td>66701.368</td>\n",
       "      <td>62557.646071</td>\n",
       "      <td>23637.344878</td>\n",
       "      <td>70000</td>\n",
       "      <td>0.0000</td>\n",
       "      <td>26569.430</td>\n",
       "      <td>26569.430</td>\n",
       "      <td>52500.000</td>\n",
       "      <td>0.0</td>\n",
       "      <td>0.0</td>\n",
       "      <td>49000.0</td>\n",
       "      <td>52500.0</td>\n",
       "      <td>56000.0</td>\n",
       "    </tr>\n",
       "    <tr>\n",
       "      <th>9</th>\n",
       "      <td>15933.650</td>\n",
       "      <td>23404.13</td>\n",
       "      <td>62785.369</td>\n",
       "      <td>62557.646071</td>\n",
       "      <td>23404.747696</td>\n",
       "      <td>70000</td>\n",
       "      <td>3230.2703</td>\n",
       "      <td>15933.650</td>\n",
       "      <td>23404.748</td>\n",
       "      <td>59230.270</td>\n",
       "      <td>0.0</td>\n",
       "      <td>NaN</td>\n",
       "      <td>49000.0</td>\n",
       "      <td>NaN</td>\n",
       "      <td>56000.0</td>\n",
       "    </tr>\n",
       "    <tr>\n",
       "      <th>10</th>\n",
       "      <td>15277.488</td>\n",
       "      <td>22240.40</td>\n",
       "      <td>54764.596</td>\n",
       "      <td>53307.351343</td>\n",
       "      <td>19391.611625</td>\n",
       "      <td>70000</td>\n",
       "      <td>0.0000</td>\n",
       "      <td>15277.488</td>\n",
       "      <td>19391.612</td>\n",
       "      <td>55116.147</td>\n",
       "      <td>0.0</td>\n",
       "      <td>NaN</td>\n",
       "      <td>49000.0</td>\n",
       "      <td>NaN</td>\n",
       "      <td>56000.0</td>\n",
       "    </tr>\n",
       "    <tr>\n",
       "      <th>11</th>\n",
       "      <td>12629.075</td>\n",
       "      <td>23099.15</td>\n",
       "      <td>72626.420</td>\n",
       "      <td>53307.351343</td>\n",
       "      <td>19391.611625</td>\n",
       "      <td>70000</td>\n",
       "      <td>0.0000</td>\n",
       "      <td>20275.465</td>\n",
       "      <td>19391.612</td>\n",
       "      <td>56000.000</td>\n",
       "      <td>0.0</td>\n",
       "      <td>NaN</td>\n",
       "      <td>49000.0</td>\n",
       "      <td>NaN</td>\n",
       "      <td>56000.0</td>\n",
       "    </tr>\n",
       "  </tbody>\n",
       "</table>\n",
       "</div>"
      ],
      "text/plain": [
       "    Actual Inbound  Actual Outbound  Actual Inventory  Adjusted Inventory  \\\n",
       "0        25025.125         25687.77         39012.368        53307.351343   \n",
       "1        16469.113         14025.65         46217.648        53307.351343   \n",
       "2        33598.812         20438.56         48478.708        53307.351343   \n",
       "3        23836.500         21062.60         48415.015        53307.351343   \n",
       "4        29770.405         22762.81         52826.486        53307.351343   \n",
       "5        20254.925         21010.19         71362.441        62557.646071   \n",
       "6        23471.777         21824.08         75614.624        62557.646071   \n",
       "7        23469.684         20744.91         68138.683        62557.646071   \n",
       "8        19945.650         26569.43         66701.368        62557.646071   \n",
       "9        15933.650         23404.13         62785.369        62557.646071   \n",
       "10       15277.488         22240.40         54764.596        53307.351343   \n",
       "11       12629.075         23099.15         72626.420        53307.351343   \n",
       "\n",
       "    Adjusted Outbound  Capacity   Overflow  Optimized Inbound  \\\n",
       "0        22136.794961     58000     0.0000          30175.402   \n",
       "1        19391.611625     70000     0.0000          23025.650   \n",
       "2        20025.015827     70000     0.0000          20438.560   \n",
       "3        21977.253879     70000     0.0000          21062.600   \n",
       "4        23404.747696     70000     0.0000          22762.810   \n",
       "5        19391.611625     70000     0.0000          21010.190   \n",
       "6        23404.747696     70000     0.0000          21824.080   \n",
       "7        21924.838431     70000     0.0000          20744.910   \n",
       "8        23637.344878     70000     0.0000          26569.430   \n",
       "9        23404.747696     70000  3230.2703          15933.650   \n",
       "10       19391.611625     70000     0.0000          15277.488   \n",
       "11       19391.611625     70000     0.0000          20275.465   \n",
       "\n",
       "    Optimized Outbound  Optimized Inventory  Understock  Inventory Deviation  \\\n",
       "0            25687.770            43500.000         0.0                  0.0   \n",
       "1            14025.650            52500.000         0.0                  0.0   \n",
       "2            20438.560            52500.000         0.0                  0.0   \n",
       "3            21062.600            52500.000         0.0                  0.0   \n",
       "4            22762.810            52500.000         0.0                  0.0   \n",
       "5            21010.190            52500.000         0.0                  0.0   \n",
       "6            21824.080            52500.000         0.0                  0.0   \n",
       "7            20744.910            52500.000         0.0                  0.0   \n",
       "8            26569.430            52500.000         0.0                  0.0   \n",
       "9            23404.748            59230.270         0.0                  NaN   \n",
       "10           19391.612            55116.147         0.0                  NaN   \n",
       "11           19391.612            56000.000         0.0                  NaN   \n",
       "\n",
       "     Cap_70   Cap_75   Cap_80  \n",
       "0   40600.0  43500.0  46400.0  \n",
       "1   49000.0  52500.0  56000.0  \n",
       "2   49000.0  52500.0  56000.0  \n",
       "3   49000.0  52500.0  56000.0  \n",
       "4   49000.0  52500.0  56000.0  \n",
       "5   49000.0  52500.0  56000.0  \n",
       "6   49000.0  52500.0  56000.0  \n",
       "7   49000.0  52500.0  56000.0  \n",
       "8   49000.0  52500.0  56000.0  \n",
       "9   49000.0      NaN  56000.0  \n",
       "10  49000.0      NaN  56000.0  \n",
       "11  49000.0      NaN  56000.0  "
      ]
     },
     "execution_count": 50,
     "metadata": {},
     "output_type": "execute_result"
    }
   ],
   "source": [
    "combined_df"
   ]
  },
  {
   "cell_type": "markdown",
   "id": "5c0467f7",
   "metadata": {},
   "source": [
    "---"
   ]
  },
  {
   "cell_type": "markdown",
   "id": "269858d8",
   "metadata": {},
   "source": [
    "**End of Notebook – Thank you**"
   ]
  }
 ],
 "metadata": {
  "kernelspec": {
   "display_name": "base",
   "language": "python",
   "name": "python3"
  },
  "language_info": {
   "codemirror_mode": {
    "name": "ipython",
    "version": 3
   },
   "file_extension": ".py",
   "mimetype": "text/x-python",
   "name": "python",
   "nbconvert_exporter": "python",
   "pygments_lexer": "ipython3",
   "version": "3.12.7"
  }
 },
 "nbformat": 4,
 "nbformat_minor": 5
}
