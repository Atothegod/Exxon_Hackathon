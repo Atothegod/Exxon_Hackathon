{
 "cells": [
  {
   "cell_type": "markdown",
   "id": "2bf1d6a4",
   "metadata": {},
   "source": [
    "# **Libraries**"
   ]
  },
  {
   "cell_type": "code",
   "execution_count": 47,
   "id": "5d8cab43",
   "metadata": {},
   "outputs": [],
   "source": [
    "import pandas as pd\n",
    "import numpy as np\n",
    "import pandas as pd\n",
    "import numpy as np\n",
    "import matplotlib.pyplot as plt\n",
    "from sklearn.ensemble import GradientBoostingRegressor, RandomForestRegressor\n",
    "import xgboost as xgb\n",
    "from sklearn.preprocessing import RobustScaler\n",
    "from sklearn.metrics import mean_absolute_error, mean_squared_error\n",
    "import plotly.express as px\n",
    "from sklearn.linear_model import Ridge, LinearRegression\n",
    "from lightgbm import LGBMRegressor\n",
    "from sklearn.linear_model import Ridge\n",
    "from pulp import LpProblem, LpVariable, LpMinimize, lpSum, LpContinuous, value"
   ]
  },
  {
   "cell_type": "markdown",
   "id": "8ab9006a",
   "metadata": {},
   "source": [
    "# **Load Data**"
   ]
  },
  {
   "cell_type": "code",
   "execution_count": 2,
   "id": "85509b41",
   "metadata": {},
   "outputs": [],
   "source": [
    "# inventory\n",
    "raw_inventory_china = pd.read_csv(\"raw_inventory_china.csv\")\n",
    "\n",
    "# inbound\n",
    "raw_inbound_china = pd.read_csv(\"raw_inbound_china.csv\")\n",
    "\n",
    "# outbound\n",
    "raw_outbound_china = pd.read_csv(\"raw_outbound_china.csv\") "
   ]
  },
  {
   "cell_type": "markdown",
   "id": "ff67d62a",
   "metadata": {},
   "source": [
    "### **Sample of Each Dataset**"
   ]
  },
  {
   "cell_type": "code",
   "execution_count": 46,
   "id": "5248f730",
   "metadata": {},
   "outputs": [
    {
     "data": {
      "text/html": [
       "<div>\n",
       "<style scoped>\n",
       "    .dataframe tbody tr th:only-of-type {\n",
       "        vertical-align: middle;\n",
       "    }\n",
       "\n",
       "    .dataframe tbody tr th {\n",
       "        vertical-align: top;\n",
       "    }\n",
       "\n",
       "    .dataframe thead th {\n",
       "        text-align: right;\n",
       "    }\n",
       "</style>\n",
       "<table border=\"1\" class=\"dataframe\">\n",
       "  <thead>\n",
       "    <tr style=\"text-align: right;\">\n",
       "      <th></th>\n",
       "      <th>INBOUND_DATE</th>\n",
       "      <th>PLANT_NAME</th>\n",
       "      <th>MATERIAL_NAME</th>\n",
       "      <th>DATE</th>\n",
       "      <th>Quantity_KT_In</th>\n",
       "    </tr>\n",
       "  </thead>\n",
       "  <tbody>\n",
       "    <tr>\n",
       "      <th>12440</th>\n",
       "      <td>2024-11-24</td>\n",
       "      <td>CHINA-WAREHOUSE</td>\n",
       "      <td>MAT-0144</td>\n",
       "      <td>2024-11-24</td>\n",
       "      <td>0.0255</td>\n",
       "    </tr>\n",
       "  </tbody>\n",
       "</table>\n",
       "</div>"
      ],
      "text/plain": [
       "      INBOUND_DATE       PLANT_NAME MATERIAL_NAME        DATE  Quantity_KT_In\n",
       "12440   2024-11-24  CHINA-WAREHOUSE      MAT-0144  2024-11-24          0.0255"
      ]
     },
     "execution_count": 46,
     "metadata": {},
     "output_type": "execute_result"
    }
   ],
   "source": [
    "raw_inbound_china.sample(5)"
   ]
  },
  {
   "cell_type": "code",
   "execution_count": 4,
   "id": "981d97d0",
   "metadata": {},
   "outputs": [
    {
     "data": {
      "text/html": [
       "<div>\n",
       "<style scoped>\n",
       "    .dataframe tbody tr th:only-of-type {\n",
       "        vertical-align: middle;\n",
       "    }\n",
       "\n",
       "    .dataframe tbody tr th {\n",
       "        vertical-align: top;\n",
       "    }\n",
       "\n",
       "    .dataframe thead th {\n",
       "        text-align: right;\n",
       "    }\n",
       "</style>\n",
       "<table border=\"1\" class=\"dataframe\">\n",
       "  <thead>\n",
       "    <tr style=\"text-align: right;\">\n",
       "      <th></th>\n",
       "      <th>BALANCE_AS_OF_DATE</th>\n",
       "      <th>PLANT_NAME</th>\n",
       "      <th>MATERIAL_NAME</th>\n",
       "      <th>BATCH_NUMBER</th>\n",
       "      <th>STOCK_SELL_VALUE</th>\n",
       "      <th>CURRENCY</th>\n",
       "      <th>DATE</th>\n",
       "      <th>Quantity_KT_Inventory</th>\n",
       "    </tr>\n",
       "  </thead>\n",
       "  <tbody>\n",
       "    <tr>\n",
       "      <th>0</th>\n",
       "      <td>2023-12-31</td>\n",
       "      <td>CHINA-WAREHOUSE</td>\n",
       "      <td>MAT-0045</td>\n",
       "      <td>SCRAP</td>\n",
       "      <td>211</td>\n",
       "      <td>CNY</td>\n",
       "      <td>2023-12-31</td>\n",
       "      <td>0.000164</td>\n",
       "    </tr>\n",
       "    <tr>\n",
       "      <th>1</th>\n",
       "      <td>2023-12-31</td>\n",
       "      <td>CHINA-WAREHOUSE</td>\n",
       "      <td>MAT-0193</td>\n",
       "      <td>6024</td>\n",
       "      <td>87666</td>\n",
       "      <td>CNY</td>\n",
       "      <td>2023-12-31</td>\n",
       "      <td>0.000000</td>\n",
       "    </tr>\n",
       "    <tr>\n",
       "      <th>2</th>\n",
       "      <td>2023-12-31</td>\n",
       "      <td>CHINA-WAREHOUSE</td>\n",
       "      <td>MAT-0193</td>\n",
       "      <td>5755</td>\n",
       "      <td>414419</td>\n",
       "      <td>CNY</td>\n",
       "      <td>2023-12-31</td>\n",
       "      <td>0.070720</td>\n",
       "    </tr>\n",
       "    <tr>\n",
       "      <th>3</th>\n",
       "      <td>2023-12-31</td>\n",
       "      <td>CHINA-WAREHOUSE</td>\n",
       "      <td>MAT-0193</td>\n",
       "      <td>3142</td>\n",
       "      <td>71726</td>\n",
       "      <td>CNY</td>\n",
       "      <td>2023-12-31</td>\n",
       "      <td>0.012240</td>\n",
       "    </tr>\n",
       "    <tr>\n",
       "      <th>4</th>\n",
       "      <td>2023-12-31</td>\n",
       "      <td>CHINA-WAREHOUSE</td>\n",
       "      <td>MAT-0193</td>\n",
       "      <td>6734</td>\n",
       "      <td>15939</td>\n",
       "      <td>CNY</td>\n",
       "      <td>2023-12-31</td>\n",
       "      <td>0.002720</td>\n",
       "    </tr>\n",
       "  </tbody>\n",
       "</table>\n",
       "</div>"
      ],
      "text/plain": [
       "  BALANCE_AS_OF_DATE       PLANT_NAME MATERIAL_NAME BATCH_NUMBER  \\\n",
       "0         2023-12-31  CHINA-WAREHOUSE      MAT-0045        SCRAP   \n",
       "1         2023-12-31  CHINA-WAREHOUSE      MAT-0193         6024   \n",
       "2         2023-12-31  CHINA-WAREHOUSE      MAT-0193         5755   \n",
       "3         2023-12-31  CHINA-WAREHOUSE      MAT-0193         3142   \n",
       "4         2023-12-31  CHINA-WAREHOUSE      MAT-0193         6734   \n",
       "\n",
       "   STOCK_SELL_VALUE CURRENCY        DATE  Quantity_KT_Inventory  \n",
       "0               211      CNY  2023-12-31               0.000164  \n",
       "1             87666      CNY  2023-12-31               0.000000  \n",
       "2            414419      CNY  2023-12-31               0.070720  \n",
       "3             71726      CNY  2023-12-31               0.012240  \n",
       "4             15939      CNY  2023-12-31               0.002720  "
      ]
     },
     "execution_count": 4,
     "metadata": {},
     "output_type": "execute_result"
    }
   ],
   "source": [
    "raw_inventory_china.sample(5)"
   ]
  },
  {
   "cell_type": "code",
   "execution_count": 5,
   "id": "bbc98096",
   "metadata": {},
   "outputs": [
    {
     "data": {
      "text/html": [
       "<div>\n",
       "<style scoped>\n",
       "    .dataframe tbody tr th:only-of-type {\n",
       "        vertical-align: middle;\n",
       "    }\n",
       "\n",
       "    .dataframe tbody tr th {\n",
       "        vertical-align: top;\n",
       "    }\n",
       "\n",
       "    .dataframe thead th {\n",
       "        text-align: right;\n",
       "    }\n",
       "</style>\n",
       "<table border=\"1\" class=\"dataframe\">\n",
       "  <thead>\n",
       "    <tr style=\"text-align: right;\">\n",
       "      <th></th>\n",
       "      <th>OUTBOUND_DATE</th>\n",
       "      <th>PLANT_NAME</th>\n",
       "      <th>MODE_OF_TRANSPORT</th>\n",
       "      <th>MATERIAL_NAME</th>\n",
       "      <th>CUSTOMER_NUMBER</th>\n",
       "      <th>DATE</th>\n",
       "      <th>Quantity_KT_Out</th>\n",
       "    </tr>\n",
       "  </thead>\n",
       "  <tbody>\n",
       "    <tr>\n",
       "      <th>0</th>\n",
       "      <td>2024-01-02</td>\n",
       "      <td>CHINA-WAREHOUSE</td>\n",
       "      <td>Truck</td>\n",
       "      <td>MAT-0013</td>\n",
       "      <td>CST-00001</td>\n",
       "      <td>2024-01-02</td>\n",
       "      <td>0.0255</td>\n",
       "    </tr>\n",
       "    <tr>\n",
       "      <th>1</th>\n",
       "      <td>2024-01-02</td>\n",
       "      <td>CHINA-WAREHOUSE</td>\n",
       "      <td>Truck</td>\n",
       "      <td>MAT-0013</td>\n",
       "      <td>CST-00001</td>\n",
       "      <td>2024-01-02</td>\n",
       "      <td>0.0255</td>\n",
       "    </tr>\n",
       "    <tr>\n",
       "      <th>2</th>\n",
       "      <td>2024-01-02</td>\n",
       "      <td>CHINA-WAREHOUSE</td>\n",
       "      <td>Truck</td>\n",
       "      <td>MAT-0268</td>\n",
       "      <td>CST-00002</td>\n",
       "      <td>2024-01-02</td>\n",
       "      <td>0.0255</td>\n",
       "    </tr>\n",
       "    <tr>\n",
       "      <th>3</th>\n",
       "      <td>2024-01-02</td>\n",
       "      <td>CHINA-WAREHOUSE</td>\n",
       "      <td>Truck</td>\n",
       "      <td>MAT-0268</td>\n",
       "      <td>CST-00002</td>\n",
       "      <td>2024-01-02</td>\n",
       "      <td>0.0255</td>\n",
       "    </tr>\n",
       "    <tr>\n",
       "      <th>4</th>\n",
       "      <td>2024-01-02</td>\n",
       "      <td>CHINA-WAREHOUSE</td>\n",
       "      <td>Truck</td>\n",
       "      <td>MAT-0268</td>\n",
       "      <td>CST-00002</td>\n",
       "      <td>2024-01-02</td>\n",
       "      <td>0.0255</td>\n",
       "    </tr>\n",
       "  </tbody>\n",
       "</table>\n",
       "</div>"
      ],
      "text/plain": [
       "  OUTBOUND_DATE       PLANT_NAME MODE_OF_TRANSPORT MATERIAL_NAME  \\\n",
       "0    2024-01-02  CHINA-WAREHOUSE             Truck      MAT-0013   \n",
       "1    2024-01-02  CHINA-WAREHOUSE             Truck      MAT-0013   \n",
       "2    2024-01-02  CHINA-WAREHOUSE             Truck      MAT-0268   \n",
       "3    2024-01-02  CHINA-WAREHOUSE             Truck      MAT-0268   \n",
       "4    2024-01-02  CHINA-WAREHOUSE             Truck      MAT-0268   \n",
       "\n",
       "  CUSTOMER_NUMBER        DATE  Quantity_KT_Out  \n",
       "0       CST-00001  2024-01-02           0.0255  \n",
       "1       CST-00001  2024-01-02           0.0255  \n",
       "2       CST-00002  2024-01-02           0.0255  \n",
       "3       CST-00002  2024-01-02           0.0255  \n",
       "4       CST-00002  2024-01-02           0.0255  "
      ]
     },
     "execution_count": 5,
     "metadata": {},
     "output_type": "execute_result"
    }
   ],
   "source": [
    "raw_outbound_china.sample(5)"
   ]
  },
  {
   "cell_type": "markdown",
   "id": "ad7fa2de",
   "metadata": {},
   "source": [
    "---"
   ]
  },
  {
   "cell_type": "markdown",
   "id": "40af9197",
   "metadata": {},
   "source": [
    "# **China**"
   ]
  },
  {
   "cell_type": "markdown",
   "id": "b4b65ac7",
   "metadata": {},
   "source": [
    "### **Time Range Selection**"
   ]
  },
  {
   "cell_type": "code",
   "execution_count": 6,
   "id": "4ba5e09d",
   "metadata": {},
   "outputs": [
    {
     "name": "stdout",
     "output_type": "stream",
     "text": [
      "Inbound dates: 2023-11-03 - 2024-12-24\n",
      "Outbound dates: 2024-01-02 - 2024-12-31\n",
      "Inventory dates: 2023-12-31 - 2024-12-31\n"
     ]
    }
   ],
   "source": [
    "print(\"Inbound dates:\", raw_inbound_china['INBOUND_DATE'].min(), \"-\", raw_inbound_china['INBOUND_DATE'].max())\n",
    "print(\"Outbound dates:\", raw_outbound_china['OUTBOUND_DATE'].min(), \"-\", raw_outbound_china['OUTBOUND_DATE'].max())\n",
    "print(\"Inventory dates:\", raw_inventory_china['BALANCE_AS_OF_DATE'].min(), \"-\", raw_inventory_china['BALANCE_AS_OF_DATE'].max())"
   ]
  },
  {
   "cell_type": "code",
   "execution_count": 7,
   "id": "2aac6df0",
   "metadata": {},
   "outputs": [],
   "source": [
    "raw_inbound_china['INBOUND_DATE'] = pd.to_datetime(raw_inbound_china['INBOUND_DATE'])\n",
    "raw_inventory_china['BALANCE_AS_OF_DATE'] = pd.to_datetime(raw_inventory_china['BALANCE_AS_OF_DATE'])\n",
    "raw_outbound_china['OUTBOUND_DATE'] = pd.to_datetime(raw_outbound_china['OUTBOUND_DATE'])"
   ]
  },
  {
   "cell_type": "code",
   "execution_count": null,
   "id": "459313e5",
   "metadata": {},
   "outputs": [],
   "source": [
    "start_date = pd.to_datetime('2024-01-01')\n",
    "end_date   = pd.to_datetime('2024-12-31')"
   ]
  },
  {
   "cell_type": "code",
   "execution_count": null,
   "id": "19f30ad9",
   "metadata": {},
   "outputs": [],
   "source": [
    "inbound_china = raw_inbound_china[\n",
    "    (raw_inbound_china['INBOUND_DATE'] >= start_date) & \n",
    "    (raw_inbound_china['INBOUND_DATE'] <= end_date)\n",
    "].copy()\n",
    "\n",
    "outbound_china = raw_outbound_china[\n",
    "    (raw_outbound_china['OUTBOUND_DATE'] >= start_date) & \n",
    "    (raw_outbound_china['OUTBOUND_DATE'] <= end_date)\n",
    "].copy()\n",
    "\n",
    "inventory_china = raw_inventory_china[\n",
    "    (raw_inventory_china['BALANCE_AS_OF_DATE'] >= start_date) & \n",
    "    (raw_inventory_china['BALANCE_AS_OF_DATE'] <= end_date)\n",
    "].copy()"
   ]
  },
  {
   "cell_type": "code",
   "execution_count": 10,
   "id": "3ad55b26",
   "metadata": {},
   "outputs": [
    {
     "name": "stdout",
     "output_type": "stream",
     "text": [
      "Inbound dates: 2024-01-03 00:00:00 - 2024-12-24 00:00:00\n",
      "Outbound dates: 2024-01-02 00:00:00 - 2024-12-31 00:00:00\n",
      "Inventory dates: 2024-01-31 00:00:00 - 2024-12-31 00:00:00\n"
     ]
    }
   ],
   "source": [
    "print(\"Inbound dates:\", inbound_china['INBOUND_DATE'].min(), \"-\", raw_inbound_china['INBOUND_DATE'].max())\n",
    "print(\"Outbound dates:\", outbound_china['OUTBOUND_DATE'].min(), \"-\", raw_outbound_china['OUTBOUND_DATE'].max())\n",
    "print(\"Inventory dates:\", inventory_china['BALANCE_AS_OF_DATE'].min(), \"-\", raw_inventory_china['BALANCE_AS_OF_DATE'].max())"
   ]
  },
  {
   "cell_type": "markdown",
   "id": "f3a36076",
   "metadata": {},
   "source": [
    "---"
   ]
  },
  {
   "cell_type": "markdown",
   "id": "36f3b094",
   "metadata": {},
   "source": [
    "# **EDA**"
   ]
  },
  {
   "cell_type": "markdown",
   "id": "e38ecad3",
   "metadata": {},
   "source": [
    "### **Monthly of Inventory, Inbound & Outbound**"
   ]
  },
  {
   "cell_type": "markdown",
   "id": "9246161e",
   "metadata": {},
   "source": [
    "**Inventory**"
   ]
  },
  {
   "cell_type": "code",
   "execution_count": 12,
   "id": "1e43f656",
   "metadata": {},
   "outputs": [
    {
     "data": {
      "text/html": [
       "<div>\n",
       "<style scoped>\n",
       "    .dataframe tbody tr th:only-of-type {\n",
       "        vertical-align: middle;\n",
       "    }\n",
       "\n",
       "    .dataframe tbody tr th {\n",
       "        vertical-align: top;\n",
       "    }\n",
       "\n",
       "    .dataframe thead th {\n",
       "        text-align: right;\n",
       "    }\n",
       "</style>\n",
       "<table border=\"1\" class=\"dataframe\">\n",
       "  <thead>\n",
       "    <tr style=\"text-align: right;\">\n",
       "      <th></th>\n",
       "      <th>month</th>\n",
       "      <th>PLANT_NAME</th>\n",
       "      <th>Quantity_KT_Inventory</th>\n",
       "    </tr>\n",
       "  </thead>\n",
       "  <tbody>\n",
       "    <tr>\n",
       "      <th>0</th>\n",
       "      <td>2024-01-01</td>\n",
       "      <td>CHINA-WAREHOUSE</td>\n",
       "      <td>39.023693</td>\n",
       "    </tr>\n",
       "    <tr>\n",
       "      <th>1</th>\n",
       "      <td>2024-02-01</td>\n",
       "      <td>CHINA-WAREHOUSE</td>\n",
       "      <td>46.217648</td>\n",
       "    </tr>\n",
       "    <tr>\n",
       "      <th>2</th>\n",
       "      <td>2024-03-01</td>\n",
       "      <td>CHINA-WAREHOUSE</td>\n",
       "      <td>48.478708</td>\n",
       "    </tr>\n",
       "    <tr>\n",
       "      <th>3</th>\n",
       "      <td>2024-04-01</td>\n",
       "      <td>CHINA-WAREHOUSE</td>\n",
       "      <td>48.415015</td>\n",
       "    </tr>\n",
       "    <tr>\n",
       "      <th>4</th>\n",
       "      <td>2024-05-01</td>\n",
       "      <td>CHINA-WAREHOUSE</td>\n",
       "      <td>52.826486</td>\n",
       "    </tr>\n",
       "  </tbody>\n",
       "</table>\n",
       "</div>"
      ],
      "text/plain": [
       "       month       PLANT_NAME  Quantity_KT_Inventory\n",
       "0 2024-01-01  CHINA-WAREHOUSE              39.023693\n",
       "1 2024-02-01  CHINA-WAREHOUSE              46.217648\n",
       "2 2024-03-01  CHINA-WAREHOUSE              48.478708\n",
       "3 2024-04-01  CHINA-WAREHOUSE              48.415015\n",
       "4 2024-05-01  CHINA-WAREHOUSE              52.826486"
      ]
     },
     "execution_count": 12,
     "metadata": {},
     "output_type": "execute_result"
    }
   ],
   "source": [
    "inventory_china['month'] = inventory_china['BALANCE_AS_OF_DATE'].dt.to_period('M').dt.to_timestamp()\n",
    "\n",
    "Inventory_monthly_china = (\n",
    "    inventory_china.groupby(['month', 'PLANT_NAME'])['Quantity_KT_Inventory']\n",
    "    .sum()\n",
    "    .reset_index()\n",
    ")\n",
    "Inventory_monthly_china.head(5)"
   ]
  },
  {
   "cell_type": "markdown",
   "id": "8379eba3",
   "metadata": {},
   "source": [
    "**Inbound**"
   ]
  },
  {
   "cell_type": "code",
   "execution_count": 13,
   "id": "1e50dbf2",
   "metadata": {},
   "outputs": [
    {
     "data": {
      "text/html": [
       "<div>\n",
       "<style scoped>\n",
       "    .dataframe tbody tr th:only-of-type {\n",
       "        vertical-align: middle;\n",
       "    }\n",
       "\n",
       "    .dataframe tbody tr th {\n",
       "        vertical-align: top;\n",
       "    }\n",
       "\n",
       "    .dataframe thead th {\n",
       "        text-align: right;\n",
       "    }\n",
       "</style>\n",
       "<table border=\"1\" class=\"dataframe\">\n",
       "  <thead>\n",
       "    <tr style=\"text-align: right;\">\n",
       "      <th></th>\n",
       "      <th>month</th>\n",
       "      <th>PLANT_NAME</th>\n",
       "      <th>Quantity_KT_In</th>\n",
       "    </tr>\n",
       "  </thead>\n",
       "  <tbody>\n",
       "    <tr>\n",
       "      <th>0</th>\n",
       "      <td>2024-01-01</td>\n",
       "      <td>CHINA-WAREHOUSE</td>\n",
       "      <td>25.025125</td>\n",
       "    </tr>\n",
       "    <tr>\n",
       "      <th>1</th>\n",
       "      <td>2024-02-01</td>\n",
       "      <td>CHINA-WAREHOUSE</td>\n",
       "      <td>16.469113</td>\n",
       "    </tr>\n",
       "    <tr>\n",
       "      <th>2</th>\n",
       "      <td>2024-03-01</td>\n",
       "      <td>CHINA-WAREHOUSE</td>\n",
       "      <td>33.598812</td>\n",
       "    </tr>\n",
       "    <tr>\n",
       "      <th>3</th>\n",
       "      <td>2024-04-01</td>\n",
       "      <td>CHINA-WAREHOUSE</td>\n",
       "      <td>23.836500</td>\n",
       "    </tr>\n",
       "    <tr>\n",
       "      <th>4</th>\n",
       "      <td>2024-05-01</td>\n",
       "      <td>CHINA-WAREHOUSE</td>\n",
       "      <td>29.770405</td>\n",
       "    </tr>\n",
       "  </tbody>\n",
       "</table>\n",
       "</div>"
      ],
      "text/plain": [
       "       month       PLANT_NAME  Quantity_KT_In\n",
       "0 2024-01-01  CHINA-WAREHOUSE       25.025125\n",
       "1 2024-02-01  CHINA-WAREHOUSE       16.469113\n",
       "2 2024-03-01  CHINA-WAREHOUSE       33.598812\n",
       "3 2024-04-01  CHINA-WAREHOUSE       23.836500\n",
       "4 2024-05-01  CHINA-WAREHOUSE       29.770405"
      ]
     },
     "execution_count": 13,
     "metadata": {},
     "output_type": "execute_result"
    }
   ],
   "source": [
    "inbound_china['month'] = inbound_china['INBOUND_DATE'].dt.to_period('M').dt.to_timestamp()\n",
    "\n",
    "Inbound_monthly_china = (\n",
    "    inbound_china.groupby(['month', 'PLANT_NAME'])['Quantity_KT_In']\n",
    "    .sum()\n",
    "    .reset_index()\n",
    ")\n",
    "Inbound_monthly_china.head(5)"
   ]
  },
  {
   "cell_type": "markdown",
   "id": "4e63061a",
   "metadata": {},
   "source": [
    "**Outbound**"
   ]
  },
  {
   "cell_type": "code",
   "execution_count": 14,
   "id": "b23be15c",
   "metadata": {},
   "outputs": [
    {
     "data": {
      "text/html": [
       "<div>\n",
       "<style scoped>\n",
       "    .dataframe tbody tr th:only-of-type {\n",
       "        vertical-align: middle;\n",
       "    }\n",
       "\n",
       "    .dataframe tbody tr th {\n",
       "        vertical-align: top;\n",
       "    }\n",
       "\n",
       "    .dataframe thead th {\n",
       "        text-align: right;\n",
       "    }\n",
       "</style>\n",
       "<table border=\"1\" class=\"dataframe\">\n",
       "  <thead>\n",
       "    <tr style=\"text-align: right;\">\n",
       "      <th></th>\n",
       "      <th>month</th>\n",
       "      <th>PLANT_NAME</th>\n",
       "      <th>Quantity_KT_Out</th>\n",
       "    </tr>\n",
       "  </thead>\n",
       "  <tbody>\n",
       "    <tr>\n",
       "      <th>0</th>\n",
       "      <td>2024-01-01</td>\n",
       "      <td>CHINA-WAREHOUSE</td>\n",
       "      <td>25.68777</td>\n",
       "    </tr>\n",
       "    <tr>\n",
       "      <th>1</th>\n",
       "      <td>2024-02-01</td>\n",
       "      <td>CHINA-WAREHOUSE</td>\n",
       "      <td>14.02565</td>\n",
       "    </tr>\n",
       "    <tr>\n",
       "      <th>2</th>\n",
       "      <td>2024-03-01</td>\n",
       "      <td>CHINA-WAREHOUSE</td>\n",
       "      <td>20.43856</td>\n",
       "    </tr>\n",
       "    <tr>\n",
       "      <th>3</th>\n",
       "      <td>2024-04-01</td>\n",
       "      <td>CHINA-WAREHOUSE</td>\n",
       "      <td>21.06260</td>\n",
       "    </tr>\n",
       "    <tr>\n",
       "      <th>4</th>\n",
       "      <td>2024-05-01</td>\n",
       "      <td>CHINA-WAREHOUSE</td>\n",
       "      <td>22.76281</td>\n",
       "    </tr>\n",
       "  </tbody>\n",
       "</table>\n",
       "</div>"
      ],
      "text/plain": [
       "       month       PLANT_NAME  Quantity_KT_Out\n",
       "0 2024-01-01  CHINA-WAREHOUSE         25.68777\n",
       "1 2024-02-01  CHINA-WAREHOUSE         14.02565\n",
       "2 2024-03-01  CHINA-WAREHOUSE         20.43856\n",
       "3 2024-04-01  CHINA-WAREHOUSE         21.06260\n",
       "4 2024-05-01  CHINA-WAREHOUSE         22.76281"
      ]
     },
     "execution_count": 14,
     "metadata": {},
     "output_type": "execute_result"
    }
   ],
   "source": [
    "outbound_china['month'] = outbound_china['OUTBOUND_DATE'].dt.to_period('M').dt.to_timestamp()\n",
    "\n",
    "outbound_monthly_china = (\n",
    "    outbound_china.groupby(['month', 'PLANT_NAME'])['Quantity_KT_Out']\n",
    "    .sum()\n",
    "    .reset_index()\n",
    ")\n",
    "outbound_monthly_china.head(5)"
   ]
  },
  {
   "cell_type": "markdown",
   "id": "9628d0ce",
   "metadata": {},
   "source": [
    "## **Merge**"
   ]
  },
  {
   "cell_type": "code",
   "execution_count": 15,
   "id": "9a673f75",
   "metadata": {},
   "outputs": [
    {
     "data": {
      "text/html": [
       "<div>\n",
       "<style scoped>\n",
       "    .dataframe tbody tr th:only-of-type {\n",
       "        vertical-align: middle;\n",
       "    }\n",
       "\n",
       "    .dataframe tbody tr th {\n",
       "        vertical-align: top;\n",
       "    }\n",
       "\n",
       "    .dataframe thead th {\n",
       "        text-align: right;\n",
       "    }\n",
       "</style>\n",
       "<table border=\"1\" class=\"dataframe\">\n",
       "  <thead>\n",
       "    <tr style=\"text-align: right;\">\n",
       "      <th></th>\n",
       "      <th>month</th>\n",
       "      <th>PLANT_NAME</th>\n",
       "      <th>Quantity_KT_In</th>\n",
       "      <th>Quantity_KT_Inventory</th>\n",
       "      <th>Quantity_KT_Out</th>\n",
       "    </tr>\n",
       "  </thead>\n",
       "  <tbody>\n",
       "    <tr>\n",
       "      <th>10</th>\n",
       "      <td>2024-11-01</td>\n",
       "      <td>CHINA-WAREHOUSE</td>\n",
       "      <td>15.277488</td>\n",
       "      <td>54.764596</td>\n",
       "      <td>22.24040</td>\n",
       "    </tr>\n",
       "    <tr>\n",
       "      <th>1</th>\n",
       "      <td>2024-02-01</td>\n",
       "      <td>CHINA-WAREHOUSE</td>\n",
       "      <td>16.469113</td>\n",
       "      <td>46.217648</td>\n",
       "      <td>14.02565</td>\n",
       "    </tr>\n",
       "    <tr>\n",
       "      <th>0</th>\n",
       "      <td>2024-01-01</td>\n",
       "      <td>CHINA-WAREHOUSE</td>\n",
       "      <td>25.025125</td>\n",
       "      <td>39.023693</td>\n",
       "      <td>25.68777</td>\n",
       "    </tr>\n",
       "    <tr>\n",
       "      <th>4</th>\n",
       "      <td>2024-05-01</td>\n",
       "      <td>CHINA-WAREHOUSE</td>\n",
       "      <td>29.770405</td>\n",
       "      <td>52.826486</td>\n",
       "      <td>22.76281</td>\n",
       "    </tr>\n",
       "    <tr>\n",
       "      <th>8</th>\n",
       "      <td>2024-09-01</td>\n",
       "      <td>CHINA-WAREHOUSE</td>\n",
       "      <td>19.945650</td>\n",
       "      <td>66.701368</td>\n",
       "      <td>26.56943</td>\n",
       "    </tr>\n",
       "  </tbody>\n",
       "</table>\n",
       "</div>"
      ],
      "text/plain": [
       "        month       PLANT_NAME  Quantity_KT_In  Quantity_KT_Inventory  \\\n",
       "10 2024-11-01  CHINA-WAREHOUSE       15.277488              54.764596   \n",
       "1  2024-02-01  CHINA-WAREHOUSE       16.469113              46.217648   \n",
       "0  2024-01-01  CHINA-WAREHOUSE       25.025125              39.023693   \n",
       "4  2024-05-01  CHINA-WAREHOUSE       29.770405              52.826486   \n",
       "8  2024-09-01  CHINA-WAREHOUSE       19.945650              66.701368   \n",
       "\n",
       "    Quantity_KT_Out  \n",
       "10         22.24040  \n",
       "1          14.02565  \n",
       "0          25.68777  \n",
       "4          22.76281  \n",
       "8          26.56943  "
      ]
     },
     "execution_count": 15,
     "metadata": {},
     "output_type": "execute_result"
    }
   ],
   "source": [
    "df = pd.merge(\n",
    "    Inbound_monthly_china,\n",
    "    Inventory_monthly_china,\n",
    "    on=['month', 'PLANT_NAME'],\n",
    "    how='left'\n",
    ")\n",
    "df = pd.merge(\n",
    "    df,\n",
    "    outbound_monthly_china,\n",
    "    on=['month', 'PLANT_NAME'],\n",
    "    how='left'\n",
    ")\n",
    "df.fillna(0, inplace=True)\n",
    "df = df[['month', 'PLANT_NAME', 'Quantity_KT_In', 'Quantity_KT_Out', 'Quantity_KT_Inventory']]\n",
    "df.sample(5)"
   ]
  },
  {
   "cell_type": "code",
   "execution_count": 48,
   "id": "b61487d0",
   "metadata": {},
   "outputs": [
    {
     "data": {
      "image/png": "[encoded data removed]",
      "text/plain": [
       "<Figure size 900x500 with 1 Axes>"
      ]
     },
     "metadata": {},
     "output_type": "display_data"
    }
   ],
   "source": [
    "y = [58]*1 + [70] * 11\n",
    "plt.figure(figsize=(9, 5))\n",
    "plt.plot(df['month'], df['Quantity_KT_In'], marker='o', label='Inbound Qty (KT)')\n",
    "plt.plot(df['month'], df['Quantity_KT_Out'], marker='s', label='Outbound Qty (KT)')\n",
    "plt.plot(df['month'], y, color='r', linestyle='--', label='Baseline (WH Capacity (KT))')\n",
    "plt.plot(df['month'], df['Quantity_KT_Inventory'], marker='^', label='Inventory Qty (KT)')\n",
    "plt.title('Monthly Inbound, Outbound, and Inventory Qty (MT) - CHINA Warehouse')\n",
    "plt.xlabel('Month')\n",
    "plt.ylabel('Quantity (KT)')\n",
    "plt.legend()\n",
    "plt.grid(True)\n",
    "plt.xticks(rotation=45)\n",
    "plt.tight_layout()\n",
    "plt.show()"
   ]
  },
  {
   "cell_type": "code",
   "execution_count": 18,
   "id": "e5344fd4",
   "metadata": {},
   "outputs": [
    {
     "data": {
      "image/png": "[encoded data removed]",
      "text/plain": [
       "<Figure size 1000x500 with 1 Axes>"
      ]
     },
     "metadata": {},
     "output_type": "display_data"
    }
   ],
   "source": [
    "plt.figure(figsize=(10, 5))\n",
    "\n",
    "plt.plot(df['month'], df['Quantity_KT_In'], marker='o', label='Inbound Qty (KT)')\n",
    "plt.plot(df['month'], df['Quantity_KT_Out'], marker='s', label='Outbound Qty (KT)')\n",
    "\n",
    "plt.title('Inbound vs Outbound - China Warehouse (Monthly)')\n",
    "plt.xlabel('Month')\n",
    "plt.ylabel('Quantity (KT)')\n",
    "plt.legend()\n",
    "plt.grid(True)\n",
    "plt.xticks(rotation=45)\n",
    "\n",
    "plt.tight_layout()\n",
    "plt.show()"
   ]
  },
  {
   "cell_type": "code",
   "execution_count": 49,
   "id": "2d07bc9a",
   "metadata": {},
   "outputs": [
    {
     "data": {
      "image/png": "[encoded data removed]",
      "text/plain": [
       "<Figure size 1200x600 with 1 Axes>"
      ]
     },
     "metadata": {},
     "output_type": "display_data"
    }
   ],
   "source": [
    "plt.figure(figsize=(12, 6))\n",
    "plt.plot(df['month'], df['Quantity_KT_Inventory'], marker='^', label='Inventory Qty (KT)')\n",
    "plt.plot(df['month'], y, color='r', linestyle='--', label='Baseline (WH Capacity (KT))')\n",
    "plt.title('Inventory vs Baseline - Singapore Warehouse (Monthly)')\n",
    "plt.xlabel('Month')\n",
    "plt.ylabel('Quantity (KT)')\n",
    "plt.legend()\n",
    "plt.grid(True)\n",
    "plt.xticks(rotation=45)\n",
    "plt.tight_layout()\n",
    "plt.show()"
   ]
  },
  {
   "cell_type": "markdown",
   "id": "12f7d5e3",
   "metadata": {},
   "source": [
    "---"
   ]
  },
  {
   "cell_type": "markdown",
   "id": "cca94082",
   "metadata": {},
   "source": [
    "# **Forecasting**"
   ]
  },
  {
   "cell_type": "code",
   "execution_count": 20,
   "id": "372ec35c",
   "metadata": {},
   "outputs": [],
   "source": [
    "china_data = {\n",
    "    'Month': ['Jan-24', 'Feb-24', 'Mar-24', 'Apr-24', 'May-24', 'Jun-24', 'Jul-24', 'Aug-24', 'Sep-24', 'Oct-24', 'Nov-24', 'Dec-24'],\n",
    "    'Total Cap (KT)': [58, 70, 70, 70, 70, 70, 70, 70, 70, 70, 70, 70],\n",
    "    'Predicted Outbound (KT)': [22.6, 21.7, 22, 23.1, 26.7, 21.9, 36.2, 22.9, 26.4, 28.6, 21.1, 21.8],\n",
    "    'Predicted Inventory (KT)': [40, 37, 35, 36, 36, 41, 44, 42, 42, 42, 40, 15]\n",
    "}\n",
    "china_predicted = pd.DataFrame(china_data)\n",
    "china_predicted['Month'] = pd.to_datetime(china_predicted['Month'], format='%b-%y').dt.to_period('M')"
   ]
  },
  {
   "cell_type": "code",
   "execution_count": 21,
   "id": "8fc90440",
   "metadata": {},
   "outputs": [
    {
     "data": {
      "text/html": [
       "<div>\n",
       "<style scoped>\n",
       "    .dataframe tbody tr th:only-of-type {\n",
       "        vertical-align: middle;\n",
       "    }\n",
       "\n",
       "    .dataframe tbody tr th {\n",
       "        vertical-align: top;\n",
       "    }\n",
       "\n",
       "    .dataframe thead th {\n",
       "        text-align: right;\n",
       "    }\n",
       "</style>\n",
       "<table border=\"1\" class=\"dataframe\">\n",
       "  <thead>\n",
       "    <tr style=\"text-align: right;\">\n",
       "      <th></th>\n",
       "      <th>Month</th>\n",
       "      <th>Total Cap (KT)</th>\n",
       "      <th>Predicted Outbound (KT)</th>\n",
       "      <th>Predicted Inventory (KT)</th>\n",
       "    </tr>\n",
       "  </thead>\n",
       "  <tbody>\n",
       "    <tr>\n",
       "      <th>0</th>\n",
       "      <td>2024-01</td>\n",
       "      <td>58</td>\n",
       "      <td>22.6</td>\n",
       "      <td>40</td>\n",
       "    </tr>\n",
       "    <tr>\n",
       "      <th>1</th>\n",
       "      <td>2024-02</td>\n",
       "      <td>70</td>\n",
       "      <td>21.7</td>\n",
       "      <td>37</td>\n",
       "    </tr>\n",
       "    <tr>\n",
       "      <th>2</th>\n",
       "      <td>2024-03</td>\n",
       "      <td>70</td>\n",
       "      <td>22.0</td>\n",
       "      <td>35</td>\n",
       "    </tr>\n",
       "    <tr>\n",
       "      <th>3</th>\n",
       "      <td>2024-04</td>\n",
       "      <td>70</td>\n",
       "      <td>23.1</td>\n",
       "      <td>36</td>\n",
       "    </tr>\n",
       "    <tr>\n",
       "      <th>4</th>\n",
       "      <td>2024-05</td>\n",
       "      <td>70</td>\n",
       "      <td>26.7</td>\n",
       "      <td>36</td>\n",
       "    </tr>\n",
       "    <tr>\n",
       "      <th>5</th>\n",
       "      <td>2024-06</td>\n",
       "      <td>70</td>\n",
       "      <td>21.9</td>\n",
       "      <td>41</td>\n",
       "    </tr>\n",
       "    <tr>\n",
       "      <th>6</th>\n",
       "      <td>2024-07</td>\n",
       "      <td>70</td>\n",
       "      <td>36.2</td>\n",
       "      <td>44</td>\n",
       "    </tr>\n",
       "    <tr>\n",
       "      <th>7</th>\n",
       "      <td>2024-08</td>\n",
       "      <td>70</td>\n",
       "      <td>22.9</td>\n",
       "      <td>42</td>\n",
       "    </tr>\n",
       "    <tr>\n",
       "      <th>8</th>\n",
       "      <td>2024-09</td>\n",
       "      <td>70</td>\n",
       "      <td>26.4</td>\n",
       "      <td>42</td>\n",
       "    </tr>\n",
       "    <tr>\n",
       "      <th>9</th>\n",
       "      <td>2024-10</td>\n",
       "      <td>70</td>\n",
       "      <td>28.6</td>\n",
       "      <td>42</td>\n",
       "    </tr>\n",
       "    <tr>\n",
       "      <th>10</th>\n",
       "      <td>2024-11</td>\n",
       "      <td>70</td>\n",
       "      <td>21.1</td>\n",
       "      <td>40</td>\n",
       "    </tr>\n",
       "    <tr>\n",
       "      <th>11</th>\n",
       "      <td>2024-12</td>\n",
       "      <td>70</td>\n",
       "      <td>21.8</td>\n",
       "      <td>15</td>\n",
       "    </tr>\n",
       "  </tbody>\n",
       "</table>\n",
       "</div>"
      ],
      "text/plain": [
       "      Month  Total Cap (KT)  Predicted Outbound (KT)  Predicted Inventory (KT)\n",
       "0   2024-01              58                     22.6                        40\n",
       "1   2024-02              70                     21.7                        37\n",
       "2   2024-03              70                     22.0                        35\n",
       "3   2024-04              70                     23.1                        36\n",
       "4   2024-05              70                     26.7                        36\n",
       "5   2024-06              70                     21.9                        41\n",
       "6   2024-07              70                     36.2                        44\n",
       "7   2024-08              70                     22.9                        42\n",
       "8   2024-09              70                     26.4                        42\n",
       "9   2024-10              70                     28.6                        42\n",
       "10  2024-11              70                     21.1                        40\n",
       "11  2024-12              70                     21.8                        15"
      ]
     },
     "execution_count": 21,
     "metadata": {},
     "output_type": "execute_result"
    }
   ],
   "source": [
    "china_predicted"
   ]
  },
  {
   "cell_type": "code",
   "execution_count": 22,
   "id": "6308f747",
   "metadata": {},
   "outputs": [
    {
     "data": {
      "image/png": "[encoded data removed]",
      "text/plain": [
       "<Figure size 1200x600 with 1 Axes>"
      ]
     },
     "metadata": {},
     "output_type": "display_data"
    }
   ],
   "source": [
    "plt.figure(figsize=(12, 6))\n",
    "\n",
    "plt.plot(china_predicted['Month'].astype(str), china_predicted['Predicted Outbound (KT)'], marker='s', label='Predicted Outbound (KT)')\n",
    "plt.plot(china_predicted['Month'].astype(str), china_predicted['Predicted Inventory (KT)'], marker='^', label='Predicted Inventory (KT)')\n",
    "plt.plot(china_predicted['Month'].astype(str), china_predicted['Total Cap (KT)'], marker='o', linestyle='--', color='red', label='Total Cap (KT)')\n",
    "\n",
    "plt.title('Predicted Outbound, Inventory, and Total Cap - China Warehouse (Monthly)')\n",
    "plt.xlabel('Month')\n",
    "plt.ylabel('Quantity (KT)')\n",
    "plt.legend()\n",
    "plt.grid(True)\n",
    "plt.xticks(rotation=45)\n",
    "plt.tight_layout()\n",
    "plt.show()"
   ]
  },
  {
   "cell_type": "markdown",
   "id": "9737b49d",
   "metadata": {},
   "source": [
    "## **Inventory Pred vs Actual**"
   ]
  },
  {
   "cell_type": "code",
   "execution_count": 23,
   "id": "6ebe312b",
   "metadata": {},
   "outputs": [
    {
     "name": "stdout",
     "output_type": "stream",
     "text": [
      "Actual vs Predicted Inventory (China Warehouse):\n"
     ]
    },
    {
     "data": {
      "text/html": [
       "<div>\n",
       "<style scoped>\n",
       "    .dataframe tbody tr th:only-of-type {\n",
       "        vertical-align: middle;\n",
       "    }\n",
       "\n",
       "    .dataframe tbody tr th {\n",
       "        vertical-align: top;\n",
       "    }\n",
       "\n",
       "    .dataframe thead th {\n",
       "        text-align: right;\n",
       "    }\n",
       "</style>\n",
       "<table border=\"1\" class=\"dataframe\">\n",
       "  <thead>\n",
       "    <tr style=\"text-align: right;\">\n",
       "      <th></th>\n",
       "      <th>month</th>\n",
       "      <th>Quantity_KT_Inventory</th>\n",
       "      <th>Predicted_Inventory</th>\n",
       "      <th>Deviation</th>\n",
       "    </tr>\n",
       "  </thead>\n",
       "  <tbody>\n",
       "    <tr>\n",
       "      <th>0</th>\n",
       "      <td>2024-01-01</td>\n",
       "      <td>39.023693</td>\n",
       "      <td>40</td>\n",
       "      <td>-0.976307</td>\n",
       "    </tr>\n",
       "    <tr>\n",
       "      <th>1</th>\n",
       "      <td>2024-02-01</td>\n",
       "      <td>46.217648</td>\n",
       "      <td>37</td>\n",
       "      <td>9.217648</td>\n",
       "    </tr>\n",
       "    <tr>\n",
       "      <th>2</th>\n",
       "      <td>2024-03-01</td>\n",
       "      <td>48.478708</td>\n",
       "      <td>35</td>\n",
       "      <td>13.478708</td>\n",
       "    </tr>\n",
       "    <tr>\n",
       "      <th>3</th>\n",
       "      <td>2024-04-01</td>\n",
       "      <td>48.415015</td>\n",
       "      <td>36</td>\n",
       "      <td>12.415015</td>\n",
       "    </tr>\n",
       "    <tr>\n",
       "      <th>4</th>\n",
       "      <td>2024-05-01</td>\n",
       "      <td>52.826486</td>\n",
       "      <td>36</td>\n",
       "      <td>16.826486</td>\n",
       "    </tr>\n",
       "    <tr>\n",
       "      <th>5</th>\n",
       "      <td>2024-06-01</td>\n",
       "      <td>72.547766</td>\n",
       "      <td>41</td>\n",
       "      <td>31.547766</td>\n",
       "    </tr>\n",
       "    <tr>\n",
       "      <th>6</th>\n",
       "      <td>2024-07-01</td>\n",
       "      <td>76.147124</td>\n",
       "      <td>44</td>\n",
       "      <td>32.147124</td>\n",
       "    </tr>\n",
       "    <tr>\n",
       "      <th>7</th>\n",
       "      <td>2024-08-01</td>\n",
       "      <td>68.138683</td>\n",
       "      <td>42</td>\n",
       "      <td>26.138683</td>\n",
       "    </tr>\n",
       "    <tr>\n",
       "      <th>8</th>\n",
       "      <td>2024-09-01</td>\n",
       "      <td>66.701368</td>\n",
       "      <td>42</td>\n",
       "      <td>24.701368</td>\n",
       "    </tr>\n",
       "    <tr>\n",
       "      <th>9</th>\n",
       "      <td>2024-10-01</td>\n",
       "      <td>62.785369</td>\n",
       "      <td>42</td>\n",
       "      <td>20.785369</td>\n",
       "    </tr>\n",
       "    <tr>\n",
       "      <th>10</th>\n",
       "      <td>2024-11-01</td>\n",
       "      <td>54.764596</td>\n",
       "      <td>40</td>\n",
       "      <td>14.764596</td>\n",
       "    </tr>\n",
       "    <tr>\n",
       "      <th>11</th>\n",
       "      <td>2024-12-01</td>\n",
       "      <td>72.677170</td>\n",
       "      <td>15</td>\n",
       "      <td>57.677170</td>\n",
       "    </tr>\n",
       "  </tbody>\n",
       "</table>\n",
       "</div>"
      ],
      "text/plain": [
       "        month  Quantity_KT_Inventory  Predicted_Inventory  Deviation\n",
       "0  2024-01-01              39.023693                   40  -0.976307\n",
       "1  2024-02-01              46.217648                   37   9.217648\n",
       "2  2024-03-01              48.478708                   35  13.478708\n",
       "3  2024-04-01              48.415015                   36  12.415015\n",
       "4  2024-05-01              52.826486                   36  16.826486\n",
       "5  2024-06-01              72.547766                   41  31.547766\n",
       "6  2024-07-01              76.147124                   44  32.147124\n",
       "7  2024-08-01              68.138683                   42  26.138683\n",
       "8  2024-09-01              66.701368                   42  24.701368\n",
       "9  2024-10-01              62.785369                   42  20.785369\n",
       "10 2024-11-01              54.764596                   40  14.764596\n",
       "11 2024-12-01              72.677170                   15  57.677170"
      ]
     },
     "execution_count": 23,
     "metadata": {},
     "output_type": "execute_result"
    }
   ],
   "source": [
    "comparison = df[['month', 'Quantity_KT_Inventory']].copy()\n",
    "comparison['Predicted_Inventory'] = comparison['month'].apply(\n",
    "    lambda m: china_predicted.loc[china_predicted['Month'].dt.to_timestamp() == m, 'Predicted Inventory (KT)'].values[0]\n",
    "    if not china_predicted.loc[china_predicted['Month'].dt.to_timestamp() == m].empty else None\n",
    ")\n",
    "comparison['Deviation'] = comparison['Quantity_KT_Inventory'] - comparison['Predicted_Inventory']\n",
    "\n",
    "print(\"Actual vs Predicted Inventory (China Warehouse):\")\n",
    "comparison"
   ]
  },
  {
   "cell_type": "code",
   "execution_count": 24,
   "id": "7ab2b6af",
   "metadata": {},
   "outputs": [
    {
     "data": {
      "image/png": "[encoded data removed]",
      "text/plain": [
       "<Figure size 1200x600 with 1 Axes>"
      ]
     },
     "metadata": {},
     "output_type": "display_data"
    }
   ],
   "source": [
    "plt.figure(figsize=(12, 6))\n",
    "plt.plot(df['month'], df['Quantity_KT_Inventory'], marker='o', label='Actual Inventory (KT)')\n",
    "plt.plot(df['month'], y, color='r', linestyle='--', label='Baseline (WH Capacity KT)')\n",
    "plt.plot(china_predicted['Month'].dt.to_timestamp(), china_predicted['Predicted Inventory (KT)'], marker='^', label='Predicted Inventory (KT)')\n",
    "plt.title('Actual vs Predicted Inventory - China Warehouse')\n",
    "plt.xlabel('Month')\n",
    "plt.ylabel('Inventory (KT)')\n",
    "plt.legend()\n",
    "plt.grid(True)\n",
    "plt.xticks(rotation=45)\n",
    "plt.tight_layout()\n",
    "plt.show()"
   ]
  },
  {
   "cell_type": "markdown",
   "id": "d9a72b63",
   "metadata": {},
   "source": [
    "## **Adjust Inventory Predicted**"
   ]
  },
  {
   "cell_type": "code",
   "execution_count": 50,
   "id": "5c386c85",
   "metadata": {},
   "outputs": [
    {
     "name": "stdout",
     "output_type": "stream",
     "text": [
      "[Train] MAE: 7.15 | RMSE: 8.32\n",
      "[Test ] MAE: 6.88 | RMSE: 11.14\n"
     ]
    }
   ],
   "source": [
    "comparison_valid = comparison.dropna(subset=['Predicted_Inventory', 'Quantity_KT_Inventory'])\n",
    "\n",
    "X = comparison_valid[['Predicted_Inventory']]\n",
    "y = comparison_valid['Quantity_KT_Inventory']\n",
    "\n",
    "scaler = RobustScaler()\n",
    "X_scaled = scaler.fit_transform(X)\n",
    "\n",
    "cut_off_date = pd.to_datetime('2024-09-30')\n",
    "\n",
    "train_mask = comparison_valid['month'] <= cut_off_date\n",
    "test_mask = comparison_valid['month'] > cut_off_date\n",
    "\n",
    "X_train = X_scaled[train_mask]\n",
    "X_test = X_scaled[test_mask]\n",
    "y_train = y[train_mask]\n",
    "y_test = y[test_mask]\n",
    "\n",
    "model = GradientBoostingRegressor(\n",
    "    n_estimators=100,\n",
    "    learning_rate=0.005,\n",
    "    max_depth=5,\n",
    "    min_samples_split=5,\n",
    "    min_samples_leaf=4,\n",
    "    random_state=42\n",
    ")\n",
    "\n",
    "model.fit(X_train, y_train) \n",
    "\n",
    "y_train_pred = model.predict(X_train)\n",
    "y_test_pred = model.predict(X_test)\n",
    "\n",
    "print(f\"[Train] MAE: {mean_absolute_error(y_train, y_train_pred):.2f} | RMSE: {np.sqrt(mean_squared_error(y_train, y_train_pred)):.2f}\")\n",
    "print(f\"[Test ] MAE: {mean_absolute_error(y_test, y_test_pred):.2f} | RMSE: {np.sqrt(mean_squared_error(y_test, y_test_pred)):.2f}\")"
   ]
  },
  {
   "cell_type": "code",
   "execution_count": 51,
   "id": "16ca59e6",
   "metadata": {},
   "outputs": [
    {
     "data": {
      "application/vnd.plotly.v1+json": {
       "config": {
        "plotlyServerURL": "https://plot.ly"
       },
       "data": [
        {
         "hovertemplate": "variable=Quantity_KT_Inventory<br>month=%{x}<br>value=%{y}<extra></extra>",
         "legendgroup": "Quantity_KT_Inventory",
         "line": {
          "color": "#636efa",
          "dash": "solid"
         },
         "marker": {
          "symbol": "circle"
         },
         "mode": "lines+markers",
         "name": "Quantity_KT_Inventory",
         "orientation": "v",
         "showlegend": true,
         "type": "scatter",
         "x": [
          "2024-01-01T00:00:00",
          "2024-02-01T00:00:00",
          "2024-03-01T00:00:00",
          "2024-04-01T00:00:00",
          "2024-05-01T00:00:00",
          "2024-06-01T00:00:00",
          "2024-07-01T00:00:00",
          "2024-08-01T00:00:00",
          "2024-09-01T00:00:00",
          "2024-10-01T00:00:00",
          "2024-11-01T00:00:00",
          "2024-12-01T00:00:00"
         ],
         "xaxis": "x",
         "y": [
          39.023693,
          46.217648,
          48.478708,
          48.415015,
          52.826486,
          72.547766,
          76.147124,
          68.138683,
          66.701368,
          62.785369,
          54.764596,
          72.67717
         ],
         "yaxis": "y"
        },
        {
         "hovertemplate": "variable=Predicted_Inventory<br>month=%{x}<br>value=%{y}<extra></extra>",
         "legendgroup": "Predicted_Inventory",
         "line": {
          "color": "#EF553B",
          "dash": "solid"
         },
         "marker": {
          "symbol": "circle"
         },
         "mode": "lines+markers",
         "name": "Predicted_Inventory",
         "orientation": "v",
         "showlegend": true,
         "type": "scatter",
         "x": [
          "2024-01-01T00:00:00",
          "2024-02-01T00:00:00",
          "2024-03-01T00:00:00",
          "2024-04-01T00:00:00",
          "2024-05-01T00:00:00",
          "2024-06-01T00:00:00",
          "2024-07-01T00:00:00",
          "2024-08-01T00:00:00",
          "2024-09-01T00:00:00",
          "2024-10-01T00:00:00",
          "2024-11-01T00:00:00",
          "2024-12-01T00:00:00"
         ],
         "xaxis": "x",
         "y": [
          40,
          37,
          35,
          36,
          36,
          41,
          44,
          42,
          42,
          42,
          40,
          15
         ],
         "yaxis": "y"
        },
        {
         "hovertemplate": "variable=Predicted_Adjusted<br>month=%{x}<br>value=%{y}<extra></extra>",
         "legendgroup": "Predicted_Adjusted",
         "line": {
          "color": "#00cc96",
          "dash": "solid"
         },
         "marker": {
          "symbol": "circle"
         },
         "mode": "lines+markers",
         "name": "Predicted_Adjusted",
         "orientation": "v",
         "showlegend": true,
         "type": "scatter",
         "x": [
          "2024-01-01T00:00:00",
          "2024-02-01T00:00:00",
          "2024-03-01T00:00:00",
          "2024-04-01T00:00:00",
          "2024-05-01T00:00:00",
          "2024-06-01T00:00:00",
          "2024-07-01T00:00:00",
          "2024-08-01T00:00:00",
          "2024-09-01T00:00:00",
          "2024-10-01T00:00:00",
          "2024-11-01T00:00:00",
          "2024-12-01T00:00:00"
         ],
         "xaxis": "x",
         "y": [
          53.4246296009236,
          53.4246296009236,
          53.4246296009236,
          53.4246296009236,
          53.4246296009236,
          62.84333574884548,
          62.84333574884548,
          62.84333574884548,
          62.84333574884548,
          62.84333574884548,
          53.4246296009236,
          53.4246296009236
         ],
         "yaxis": "y"
        }
       ],
       "layout": {
        "legend": {
         "title": {
          "text": "variable"
         },
         "tracegroupgap": 0
        },
        "template": {
         "data": {
          "bar": [
           {
            "error_x": {
             "color": "#2a3f5f"
            },
            "error_y": {
             "color": "#2a3f5f"
            },
            "marker": {
             "line": {
              "color": "#E5ECF6",
              "width": 0.5
             },
             "pattern": {
              "fillmode": "overlay",
              "size": 10,
              "solidity": 0.2
             }
            },
            "type": "bar"
           }
          ],
          "barpolar": [
           {
            "marker": {
             "line": {
              "color": "#E5ECF6",
              "width": 0.5
             },
             "pattern": {
              "fillmode": "overlay",
              "size": 10,
              "solidity": 0.2
             }
            },
            "type": "barpolar"
           }
          ],
          "carpet": [
           {
            "aaxis": {
             "endlinecolor": "#2a3f5f",
             "gridcolor": "white",
             "linecolor": "white",
             "minorgridcolor": "white",
             "startlinecolor": "#2a3f5f"
            },
            "baxis": {
             "endlinecolor": "#2a3f5f",
             "gridcolor": "white",
             "linecolor": "white",
             "minorgridcolor": "white",
             "startlinecolor": "#2a3f5f"
            },
            "type": "carpet"
           }
          ],
          "choropleth": [
           {
            "colorbar": {
             "outlinewidth": 0,
             "ticks": ""
            },
            "type": "choropleth"
           }
          ],
          "contour": [
           {
            "colorbar": {
             "outlinewidth": 0,
             "ticks": ""
            },
            "colorscale": [
             [
              0,
              "#0d0887"
             ],
             [
              0.1111111111111111,
              "#46039f"
             ],
             [
              0.2222222222222222,
              "#7201a8"
             ],
             [
              0.3333333333333333,
              "#9c179e"
             ],
             [
              0.4444444444444444,
              "#bd3786"
             ],
             [
              0.5555555555555556,
              "#d8576b"
             ],
             [
              0.6666666666666666,
              "#ed7953"
             ],
             [
              0.7777777777777778,
              "#fb9f3a"
             ],
             [
              0.8888888888888888,
              "#fdca26"
             ],
             [
              1,
              "#f0f921"
             ]
            ],
            "type": "contour"
           }
          ],
          "contourcarpet": [
           {
            "colorbar": {
             "outlinewidth": 0,
             "ticks": ""
            },
            "type": "contourcarpet"
           }
          ],
          "heatmap": [
           {
            "colorbar": {
             "outlinewidth": 0,
             "ticks": ""
            },
            "colorscale": [
             [
              0,
              "#0d0887"
             ],
             [
              0.1111111111111111,
              "#46039f"
             ],
             [
              0.2222222222222222,
              "#7201a8"
             ],
             [
              0.3333333333333333,
              "#9c179e"
             ],
             [
              0.4444444444444444,
              "#bd3786"
             ],
             [
              0.5555555555555556,
              "#d8576b"
             ],
             [
              0.6666666666666666,
              "#ed7953"
             ],
             [
              0.7777777777777778,
              "#fb9f3a"
             ],
             [
              0.8888888888888888,
              "#fdca26"
             ],
             [
              1,
              "#f0f921"
             ]
            ],
            "type": "heatmap"
           }
          ],
          "heatmapgl": [
           {
            "colorbar": {
             "outlinewidth": 0,
             "ticks": ""
            },
            "colorscale": [
             [
              0,
              "#0d0887"
             ],
             [
              0.1111111111111111,
              "#46039f"
             ],
             [
              0.2222222222222222,
              "#7201a8"
             ],
             [
              0.3333333333333333,
              "#9c179e"
             ],
             [
              0.4444444444444444,
              "#bd3786"
             ],
             [
              0.5555555555555556,
              "#d8576b"
             ],
             [
              0.6666666666666666,
              "#ed7953"
             ],
             [
              0.7777777777777778,
              "#fb9f3a"
             ],
             [
              0.8888888888888888,
              "#fdca26"
             ],
             [
              1,
              "#f0f921"
             ]
            ],
            "type": "heatmapgl"
           }
          ],
          "histogram": [
           {
            "marker": {
             "pattern": {
              "fillmode": "overlay",
              "size": 10,
              "solidity": 0.2
             }
            },
            "type": "histogram"
           }
          ],
          "histogram2d": [
           {
            "colorbar": {
             "outlinewidth": 0,
             "ticks": ""
            },
            "colorscale": [
             [
              0,
              "#0d0887"
             ],
             [
              0.1111111111111111,
              "#46039f"
             ],
             [
              0.2222222222222222,
              "#7201a8"
             ],
             [
              0.3333333333333333,
              "#9c179e"
             ],
             [
              0.4444444444444444,
              "#bd3786"
             ],
             [
              0.5555555555555556,
              "#d8576b"
             ],
             [
              0.6666666666666666,
              "#ed7953"
             ],
             [
              0.7777777777777778,
              "#fb9f3a"
             ],
             [
              0.8888888888888888,
              "#fdca26"
             ],
             [
              1,
              "#f0f921"
             ]
            ],
            "type": "histogram2d"
           }
          ],
          "histogram2dcontour": [
           {
            "colorbar": {
             "outlinewidth": 0,
             "ticks": ""
            },
            "colorscale": [
             [
              0,
              "#0d0887"
             ],
             [
              0.1111111111111111,
              "#46039f"
             ],
             [
              0.2222222222222222,
              "#7201a8"
             ],
             [
              0.3333333333333333,
              "#9c179e"
             ],
             [
              0.4444444444444444,
              "#bd3786"
             ],
             [
              0.5555555555555556,
              "#d8576b"
             ],
             [
              0.6666666666666666,
              "#ed7953"
             ],
             [
              0.7777777777777778,
              "#fb9f3a"
             ],
             [
              0.8888888888888888,
              "#fdca26"
             ],
             [
              1,
              "#f0f921"
             ]
            ],
            "type": "histogram2dcontour"
           }
          ],
          "mesh3d": [
           {
            "colorbar": {
             "outlinewidth": 0,
             "ticks": ""
            },
            "type": "mesh3d"
           }
          ],
          "parcoords": [
           {
            "line": {
             "colorbar": {
              "outlinewidth": 0,
              "ticks": ""
             }
            },
            "type": "parcoords"
           }
          ],
          "pie": [
           {
            "automargin": true,
            "type": "pie"
           }
          ],
          "scatter": [
           {
            "fillpattern": {
             "fillmode": "overlay",
             "size": 10,
             "solidity": 0.2
            },
            "type": "scatter"
           }
          ],
          "scatter3d": [
           {
            "line": {
             "colorbar": {
              "outlinewidth": 0,
              "ticks": ""
             }
            },
            "marker": {
             "colorbar": {
              "outlinewidth": 0,
              "ticks": ""
             }
            },
            "type": "scatter3d"
           }
          ],
          "scattercarpet": [
           {
            "marker": {
             "colorbar": {
              "outlinewidth": 0,
              "ticks": ""
             }
            },
            "type": "scattercarpet"
           }
          ],
          "scattergeo": [
           {
            "marker": {
             "colorbar": {
              "outlinewidth": 0,
              "ticks": ""
             }
            },
            "type": "scattergeo"
           }
          ],
          "scattergl": [
           {
            "marker": {
             "colorbar": {
              "outlinewidth": 0,
              "ticks": ""
             }
            },
            "type": "scattergl"
           }
          ],
          "scattermapbox": [
           {
            "marker": {
             "colorbar": {
              "outlinewidth": 0,
              "ticks": ""
             }
            },
            "type": "scattermapbox"
           }
          ],
          "scatterpolar": [
           {
            "marker": {
             "colorbar": {
              "outlinewidth": 0,
              "ticks": ""
             }
            },
            "type": "scatterpolar"
           }
          ],
          "scatterpolargl": [
           {
            "marker": {
             "colorbar": {
              "outlinewidth": 0,
              "ticks": ""
             }
            },
            "type": "scatterpolargl"
           }
          ],
          "scatterternary": [
           {
            "marker": {
             "colorbar": {
              "outlinewidth": 0,
              "ticks": ""
             }
            },
            "type": "scatterternary"
           }
          ],
          "surface": [
           {
            "colorbar": {
             "outlinewidth": 0,
             "ticks": ""
            },
            "colorscale": [
             [
              0,
              "#0d0887"
             ],
             [
              0.1111111111111111,
              "#46039f"
             ],
             [
              0.2222222222222222,
              "#7201a8"
             ],
             [
              0.3333333333333333,
              "#9c179e"
             ],
             [
              0.4444444444444444,
              "#bd3786"
             ],
             [
              0.5555555555555556,
              "#d8576b"
             ],
             [
              0.6666666666666666,
              "#ed7953"
             ],
             [
              0.7777777777777778,
              "#fb9f3a"
             ],
             [
              0.8888888888888888,
              "#fdca26"
             ],
             [
              1,
              "#f0f921"
             ]
            ],
            "type": "surface"
           }
          ],
          "table": [
           {
            "cells": {
             "fill": {
              "color": "#EBF0F8"
             },
             "line": {
              "color": "white"
             }
            },
            "header": {
             "fill": {
              "color": "#C8D4E3"
             },
             "line": {
              "color": "white"
             }
            },
            "type": "table"
           }
          ]
         },
         "layout": {
          "annotationdefaults": {
           "arrowcolor": "#2a3f5f",
           "arrowhead": 0,
           "arrowwidth": 1
          },
          "autotypenumbers": "strict",
          "coloraxis": {
           "colorbar": {
            "outlinewidth": 0,
            "ticks": ""
           }
          },
          "colorscale": {
           "diverging": [
            [
             0,
             "#8e0152"
            ],
            [
             0.1,
             "#c51b7d"
            ],
            [
             0.2,
             "#de77ae"
            ],
            [
             0.3,
             "#f1b6da"
            ],
            [
             0.4,
             "#fde0ef"
            ],
            [
             0.5,
             "#f7f7f7"
            ],
            [
             0.6,
             "#e6f5d0"
            ],
            [
             0.7,
             "#b8e186"
            ],
            [
             0.8,
             "#7fbc41"
            ],
            [
             0.9,
             "#4d9221"
            ],
            [
             1,
             "#276419"
            ]
           ],
           "sequential": [
            [
             0,
             "#0d0887"
            ],
            [
             0.1111111111111111,
             "#46039f"
            ],
            [
             0.2222222222222222,
             "#7201a8"
            ],
            [
             0.3333333333333333,
             "#9c179e"
            ],
            [
             0.4444444444444444,
             "#bd3786"
            ],
            [
             0.5555555555555556,
             "#d8576b"
            ],
            [
             0.6666666666666666,
             "#ed7953"
            ],
            [
             0.7777777777777778,
             "#fb9f3a"
            ],
            [
             0.8888888888888888,
             "#fdca26"
            ],
            [
             1,
             "#f0f921"
            ]
           ],
           "sequentialminus": [
            [
             0,
             "#0d0887"
            ],
            [
             0.1111111111111111,
             "#46039f"
            ],
            [
             0.2222222222222222,
             "#7201a8"
            ],
            [
             0.3333333333333333,
             "#9c179e"
            ],
            [
             0.4444444444444444,
             "#bd3786"
            ],
            [
             0.5555555555555556,
             "#d8576b"
            ],
            [
             0.6666666666666666,
             "#ed7953"
            ],
            [
             0.7777777777777778,
             "#fb9f3a"
            ],
            [
             0.8888888888888888,
             "#fdca26"
            ],
            [
             1,
             "#f0f921"
            ]
           ]
          },
          "colorway": [
           "#636efa",
           "#EF553B",
           "#00cc96",
           "#ab63fa",
           "#FFA15A",
           "#19d3f3",
           "#FF6692",
           "#B6E880",
           "#FF97FF",
           "#FECB52"
          ],
          "font": {
           "color": "#2a3f5f"
          },
          "geo": {
           "bgcolor": "white",
           "lakecolor": "white",
           "landcolor": "#E5ECF6",
           "showlakes": true,
           "showland": true,
           "subunitcolor": "white"
          },
          "hoverlabel": {
           "align": "left"
          },
          "hovermode": "closest",
          "mapbox": {
           "style": "light"
          },
          "paper_bgcolor": "white",
          "plot_bgcolor": "#E5ECF6",
          "polar": {
           "angularaxis": {
            "gridcolor": "white",
            "linecolor": "white",
            "ticks": ""
           },
           "bgcolor": "#E5ECF6",
           "radialaxis": {
            "gridcolor": "white",
            "linecolor": "white",
            "ticks": ""
           }
          },
          "scene": {
           "xaxis": {
            "backgroundcolor": "#E5ECF6",
            "gridcolor": "white",
            "gridwidth": 2,
            "linecolor": "white",
            "showbackground": true,
            "ticks": "",
            "zerolinecolor": "white"
           },
           "yaxis": {
            "backgroundcolor": "#E5ECF6",
            "gridcolor": "white",
            "gridwidth": 2,
            "linecolor": "white",
            "showbackground": true,
            "ticks": "",
            "zerolinecolor": "white"
           },
           "zaxis": {
            "backgroundcolor": "#E5ECF6",
            "gridcolor": "white",
            "gridwidth": 2,
            "linecolor": "white",
            "showbackground": true,
            "ticks": "",
            "zerolinecolor": "white"
           }
          },
          "shapedefaults": {
           "line": {
            "color": "#2a3f5f"
           }
          },
          "ternary": {
           "aaxis": {
            "gridcolor": "white",
            "linecolor": "white",
            "ticks": ""
           },
           "baxis": {
            "gridcolor": "white",
            "linecolor": "white",
            "ticks": ""
           },
           "bgcolor": "#E5ECF6",
           "caxis": {
            "gridcolor": "white",
            "linecolor": "white",
            "ticks": ""
           }
          },
          "title": {
           "x": 0.05
          },
          "xaxis": {
           "automargin": true,
           "gridcolor": "white",
           "linecolor": "white",
           "ticks": "",
           "title": {
            "standoff": 15
           },
           "zerolinecolor": "white",
           "zerolinewidth": 2
          },
          "yaxis": {
           "automargin": true,
           "gridcolor": "white",
           "linecolor": "white",
           "ticks": "",
           "title": {
            "standoff": 15
           },
           "zerolinecolor": "white",
           "zerolinewidth": 2
          }
         }
        },
        "title": {
         "text": "Actual vs Predicted Inventory"
        },
        "xaxis": {
         "anchor": "y",
         "domain": [
          0,
          1
         ],
         "title": {
          "text": "Month"
         }
        },
        "yaxis": {
         "anchor": "x",
         "domain": [
          0,
          1
         ],
         "title": {
          "text": "Inventory (KT)"
         }
        }
       }
      }
     },
     "metadata": {},
     "output_type": "display_data"
    }
   ],
   "source": [
    "X_all = scaler.transform(comparison[['Predicted_Inventory']].fillna(0))\n",
    "comparison['Predicted_Adjusted'] = model.predict(X_all)\n",
    "comparison['Deviation_Adjusted'] = comparison['Quantity_KT_Inventory'] - comparison['Predicted_Adjusted']\n",
    "\n",
    "\n",
    "fig = px.line(comparison, x='month', y=['Quantity_KT_Inventory', 'Predicted_Inventory', 'Predicted_Adjusted'],\n",
    "              title='Actual vs Predicted Inventory', markers=True)\n",
    "fig.update_layout(yaxis_title='Inventory (KT)', xaxis_title='Month')\n",
    "fig.show()"
   ]
  },
  {
   "cell_type": "markdown",
   "id": "4cc36ca3",
   "metadata": {},
   "source": [
    "# **Outbound Pred vs Actual**"
   ]
  },
  {
   "cell_type": "code",
   "execution_count": 27,
   "id": "c42e724d",
   "metadata": {},
   "outputs": [
    {
     "name": "stdout",
     "output_type": "stream",
     "text": [
      "Actual vs Predicted Outbound (China Warehouse):\n"
     ]
    },
    {
     "data": {
      "text/html": [
       "<div>\n",
       "<style scoped>\n",
       "    .dataframe tbody tr th:only-of-type {\n",
       "        vertical-align: middle;\n",
       "    }\n",
       "\n",
       "    .dataframe tbody tr th {\n",
       "        vertical-align: top;\n",
       "    }\n",
       "\n",
       "    .dataframe thead th {\n",
       "        text-align: right;\n",
       "    }\n",
       "</style>\n",
       "<table border=\"1\" class=\"dataframe\">\n",
       "  <thead>\n",
       "    <tr style=\"text-align: right;\">\n",
       "      <th></th>\n",
       "      <th>month</th>\n",
       "      <th>Quantity_KT_Out</th>\n",
       "      <th>Predicted_Outbound</th>\n",
       "      <th>Deviation</th>\n",
       "    </tr>\n",
       "  </thead>\n",
       "  <tbody>\n",
       "    <tr>\n",
       "      <th>0</th>\n",
       "      <td>2024-01-01</td>\n",
       "      <td>25.68777</td>\n",
       "      <td>22.6</td>\n",
       "      <td>3.08777</td>\n",
       "    </tr>\n",
       "    <tr>\n",
       "      <th>1</th>\n",
       "      <td>2024-02-01</td>\n",
       "      <td>14.02565</td>\n",
       "      <td>21.7</td>\n",
       "      <td>-7.67435</td>\n",
       "    </tr>\n",
       "    <tr>\n",
       "      <th>2</th>\n",
       "      <td>2024-03-01</td>\n",
       "      <td>20.43856</td>\n",
       "      <td>22.0</td>\n",
       "      <td>-1.56144</td>\n",
       "    </tr>\n",
       "    <tr>\n",
       "      <th>3</th>\n",
       "      <td>2024-04-01</td>\n",
       "      <td>21.06260</td>\n",
       "      <td>23.1</td>\n",
       "      <td>-2.03740</td>\n",
       "    </tr>\n",
       "    <tr>\n",
       "      <th>4</th>\n",
       "      <td>2024-05-01</td>\n",
       "      <td>22.76281</td>\n",
       "      <td>26.7</td>\n",
       "      <td>-3.93719</td>\n",
       "    </tr>\n",
       "    <tr>\n",
       "      <th>5</th>\n",
       "      <td>2024-06-01</td>\n",
       "      <td>21.01019</td>\n",
       "      <td>21.9</td>\n",
       "      <td>-0.88981</td>\n",
       "    </tr>\n",
       "    <tr>\n",
       "      <th>6</th>\n",
       "      <td>2024-07-01</td>\n",
       "      <td>21.82408</td>\n",
       "      <td>36.2</td>\n",
       "      <td>-14.37592</td>\n",
       "    </tr>\n",
       "    <tr>\n",
       "      <th>7</th>\n",
       "      <td>2024-08-01</td>\n",
       "      <td>20.74491</td>\n",
       "      <td>22.9</td>\n",
       "      <td>-2.15509</td>\n",
       "    </tr>\n",
       "    <tr>\n",
       "      <th>8</th>\n",
       "      <td>2024-09-01</td>\n",
       "      <td>26.56943</td>\n",
       "      <td>26.4</td>\n",
       "      <td>0.16943</td>\n",
       "    </tr>\n",
       "    <tr>\n",
       "      <th>9</th>\n",
       "      <td>2024-10-01</td>\n",
       "      <td>23.40413</td>\n",
       "      <td>28.6</td>\n",
       "      <td>-5.19587</td>\n",
       "    </tr>\n",
       "    <tr>\n",
       "      <th>10</th>\n",
       "      <td>2024-11-01</td>\n",
       "      <td>22.24040</td>\n",
       "      <td>21.1</td>\n",
       "      <td>1.14040</td>\n",
       "    </tr>\n",
       "    <tr>\n",
       "      <th>11</th>\n",
       "      <td>2024-12-01</td>\n",
       "      <td>23.09915</td>\n",
       "      <td>21.8</td>\n",
       "      <td>1.29915</td>\n",
       "    </tr>\n",
       "  </tbody>\n",
       "</table>\n",
       "</div>"
      ],
      "text/plain": [
       "        month  Quantity_KT_Out  Predicted_Outbound  Deviation\n",
       "0  2024-01-01         25.68777                22.6    3.08777\n",
       "1  2024-02-01         14.02565                21.7   -7.67435\n",
       "2  2024-03-01         20.43856                22.0   -1.56144\n",
       "3  2024-04-01         21.06260                23.1   -2.03740\n",
       "4  2024-05-01         22.76281                26.7   -3.93719\n",
       "5  2024-06-01         21.01019                21.9   -0.88981\n",
       "6  2024-07-01         21.82408                36.2  -14.37592\n",
       "7  2024-08-01         20.74491                22.9   -2.15509\n",
       "8  2024-09-01         26.56943                26.4    0.16943\n",
       "9  2024-10-01         23.40413                28.6   -5.19587\n",
       "10 2024-11-01         22.24040                21.1    1.14040\n",
       "11 2024-12-01         23.09915                21.8    1.29915"
      ]
     },
     "execution_count": 27,
     "metadata": {},
     "output_type": "execute_result"
    }
   ],
   "source": [
    "outbound_comparison = df[['month', 'Quantity_KT_Out']].copy()\n",
    "outbound_comparison['Predicted_Outbound'] = outbound_comparison['month'].apply(\n",
    "    lambda m: china_predicted.loc[china_predicted['Month'].dt.to_timestamp() == m, 'Predicted Outbound (KT)'].values[0]\n",
    "    if not china_predicted.loc[china_predicted['Month'].dt.to_timestamp() == m].empty else None\n",
    ")\n",
    "outbound_comparison['Deviation'] = outbound_comparison['Quantity_KT_Out'] - outbound_comparison['Predicted_Outbound']\n",
    "\n",
    "print(\"Actual vs Predicted Outbound (China Warehouse):\")\n",
    "outbound_comparison"
   ]
  },
  {
   "cell_type": "code",
   "execution_count": 28,
   "id": "daf16229",
   "metadata": {},
   "outputs": [
    {
     "data": {
      "image/png": "[encoded data removed]",
      "text/plain": [
       "<Figure size 1200x600 with 1 Axes>"
      ]
     },
     "metadata": {},
     "output_type": "display_data"
    }
   ],
   "source": [
    "plt.figure(figsize=(12, 6))\n",
    "plt.plot(df['month'], df['Quantity_KT_Out'], marker='o', label='Actual Outbound (KT)')\n",
    "plt.plot(china_predicted['Month'].dt.to_timestamp(), china_predicted['Predicted Outbound (KT)'], marker='^', label='Predicted Outbound (KT)')\n",
    "plt.title('Actual vs Predicted Outbound - China Warehouse')\n",
    "plt.xlabel('Month')\n",
    "plt.ylabel('Outbound (KT)')\n",
    "plt.legend()\n",
    "plt.grid(True)\n",
    "plt.xticks(rotation=45)\n",
    "plt.tight_layout()\n",
    "plt.show()"
   ]
  },
  {
   "cell_type": "markdown",
   "id": "c63cad65",
   "metadata": {},
   "source": [
    "## **Adjust Outbound Predicted**"
   ]
  },
  {
   "cell_type": "code",
   "execution_count": 52,
   "id": "fe4867cd",
   "metadata": {},
   "outputs": [
    {
     "name": "stdout",
     "output_type": "stream",
     "text": [
      "[Train] MAE: 2.02 | RMSE: 2.54\n",
      "[Test ] MAE: 2.19 | RMSE: 2.70\n"
     ]
    }
   ],
   "source": [
    "outbound_valid = outbound_comparison.dropna(subset=['Predicted_Outbound', 'Quantity_KT_Out'])\n",
    "\n",
    "X_out = outbound_valid[['Predicted_Outbound']]\n",
    "y_out = outbound_valid['Quantity_KT_Out']\n",
    "\n",
    "scaler_out = RobustScaler()\n",
    "X_out_scaled = scaler_out.fit_transform(X_out)\n",
    "\n",
    "train_mask = outbound_valid['month'] <= cut_off_date\n",
    "test_mask = outbound_valid['month'] > cut_off_date\n",
    "\n",
    "X_out_train = X_out_scaled[train_mask] \n",
    "X_out_test = X_out_scaled[test_mask]  \n",
    "y_out_train = y_out[train_mask]      \n",
    "y_out_test = y_out[test_mask]          \n",
    "\n",
    "model = RandomForestRegressor(\n",
    "    n_estimators=100,\n",
    "    max_depth=5,\n",
    "    min_samples_split=2,\n",
    "    min_samples_leaf=2,\n",
    "    random_state=42\n",
    ")\n",
    "\n",
    "model.fit(X_out_train, y_out_train)\n",
    "\n",
    "y_out_train_pred = model.predict(X_out_train)\n",
    "y_out_test_pred = model.predict(X_out_test)\n",
    "\n",
    "print(f\"[Train] MAE: {mean_absolute_error(y_out_train, y_out_train_pred):.2f} | RMSE: {np.sqrt(mean_squared_error(y_out_train, y_out_train_pred)):.2f}\")\n",
    "print(f\"[Test ] MAE: {mean_absolute_error(y_out_test, y_out_test_pred):.2f} | RMSE: {np.sqrt(mean_squared_error(y_out_test, y_out_test_pred)):.2f}\")"
   ]
  },
  {
   "cell_type": "code",
   "execution_count": 31,
   "id": "98895bf5",
   "metadata": {},
   "outputs": [
    {
     "data": {
      "application/vnd.plotly.v1+json": {
       "config": {
        "plotlyServerURL": "https://plot.ly"
       },
       "data": [
        {
         "hovertemplate": "variable=Quantity_KT_Out<br>month=%{x}<br>value=%{y}<extra></extra>",
         "legendgroup": "Quantity_KT_Out",
         "line": {
          "color": "#636efa",
          "dash": "solid"
         },
         "marker": {
          "symbol": "circle"
         },
         "mode": "lines+markers",
         "name": "Quantity_KT_Out",
         "orientation": "v",
         "showlegend": true,
         "type": "scatter",
         "x": [
          "2024-01-01T00:00:00",
          "2024-02-01T00:00:00",
          "2024-03-01T00:00:00",
          "2024-04-01T00:00:00",
          "2024-05-01T00:00:00",
          "2024-06-01T00:00:00",
          "2024-07-01T00:00:00",
          "2024-08-01T00:00:00",
          "2024-09-01T00:00:00",
          "2024-10-01T00:00:00",
          "2024-11-01T00:00:00",
          "2024-12-01T00:00:00"
         ],
         "xaxis": "x",
         "y": [
          25.687769999999997,
          14.025649999999999,
          20.43856,
          21.062599999999996,
          22.762809999999998,
          21.010189999999998,
          21.82408,
          20.744909999999997,
          26.569429999999997,
          23.404129999999995,
          22.240399999999998,
          23.099149999999998
         ],
         "yaxis": "y"
        },
        {
         "hovertemplate": "variable=Predicted_Outbound<br>month=%{x}<br>value=%{y}<extra></extra>",
         "legendgroup": "Predicted_Outbound",
         "line": {
          "color": "#EF553B",
          "dash": "solid"
         },
         "marker": {
          "symbol": "circle"
         },
         "mode": "lines+markers",
         "name": "Predicted_Outbound",
         "orientation": "v",
         "showlegend": true,
         "type": "scatter",
         "x": [
          "2024-01-01T00:00:00",
          "2024-02-01T00:00:00",
          "2024-03-01T00:00:00",
          "2024-04-01T00:00:00",
          "2024-05-01T00:00:00",
          "2024-06-01T00:00:00",
          "2024-07-01T00:00:00",
          "2024-08-01T00:00:00",
          "2024-09-01T00:00:00",
          "2024-10-01T00:00:00",
          "2024-11-01T00:00:00",
          "2024-12-01T00:00:00"
         ],
         "xaxis": "x",
         "y": [
          22.6,
          21.7,
          22,
          23.1,
          26.7,
          21.9,
          36.2,
          22.9,
          26.4,
          28.6,
          21.1,
          21.8
         ],
         "yaxis": "y"
        },
        {
         "hovertemplate": "variable=Predicted_Outbound_Adjusted<br>month=%{x}<br>value=%{y}<extra></extra>",
         "legendgroup": "Predicted_Outbound_Adjusted",
         "line": {
          "color": "#00cc96",
          "dash": "solid"
         },
         "marker": {
          "symbol": "circle"
         },
         "mode": "lines+markers",
         "name": "Predicted_Outbound_Adjusted",
         "orientation": "v",
         "showlegend": true,
         "type": "scatter",
         "x": [
          "2024-01-01T00:00:00",
          "2024-02-01T00:00:00",
          "2024-03-01T00:00:00",
          "2024-04-01T00:00:00",
          "2024-05-01T00:00:00",
          "2024-06-01T00:00:00",
          "2024-07-01T00:00:00",
          "2024-08-01T00:00:00",
          "2024-09-01T00:00:00",
          "2024-10-01T00:00:00",
          "2024-11-01T00:00:00",
          "2024-12-01T00:00:00"
         ],
         "xaxis": "x",
         "y": [
          22.136794961428567,
          19.391611625,
          20.02501582666667,
          21.97725387928572,
          23.404747695952377,
          19.391611625,
          23.404747695952377,
          21.924838430952377,
          23.637344877619043,
          23.404747695952377,
          19.391611625,
          19.391611625
         ],
         "yaxis": "y"
        }
       ],
       "layout": {
        "legend": {
         "title": {
          "text": "variable"
         },
         "tracegroupgap": 0
        },
        "template": {
         "data": {
          "bar": [
           {
            "error_x": {
             "color": "#2a3f5f"
            },
            "error_y": {
             "color": "#2a3f5f"
            },
            "marker": {
             "line": {
              "color": "#E5ECF6",
              "width": 0.5
             },
             "pattern": {
              "fillmode": "overlay",
              "size": 10,
              "solidity": 0.2
             }
            },
            "type": "bar"
           }
          ],
          "barpolar": [
           {
            "marker": {
             "line": {
              "color": "#E5ECF6",
              "width": 0.5
             },
             "pattern": {
              "fillmode": "overlay",
              "size": 10,
              "solidity": 0.2
             }
            },
            "type": "barpolar"
           }
          ],
          "carpet": [
           {
            "aaxis": {
             "endlinecolor": "#2a3f5f",
             "gridcolor": "white",
             "linecolor": "white",
             "minorgridcolor": "white",
             "startlinecolor": "#2a3f5f"
            },
            "baxis": {
             "endlinecolor": "#2a3f5f",
             "gridcolor": "white",
             "linecolor": "white",
             "minorgridcolor": "white",
             "startlinecolor": "#2a3f5f"
            },
            "type": "carpet"
           }
          ],
          "choropleth": [
           {
            "colorbar": {
             "outlinewidth": 0,
             "ticks": ""
            },
            "type": "choropleth"
           }
          ],
          "contour": [
           {
            "colorbar": {
             "outlinewidth": 0,
             "ticks": ""
            },
            "colorscale": [
             [
              0,
              "#0d0887"
             ],
             [
              0.1111111111111111,
              "#46039f"
             ],
             [
              0.2222222222222222,
              "#7201a8"
             ],
             [
              0.3333333333333333,
              "#9c179e"
             ],
             [
              0.4444444444444444,
              "#bd3786"
             ],
             [
              0.5555555555555556,
              "#d8576b"
             ],
             [
              0.6666666666666666,
              "#ed7953"
             ],
             [
              0.7777777777777778,
              "#fb9f3a"
             ],
             [
              0.8888888888888888,
              "#fdca26"
             ],
             [
              1,
              "#f0f921"
             ]
            ],
            "type": "contour"
           }
          ],
          "contourcarpet": [
           {
            "colorbar": {
             "outlinewidth": 0,
             "ticks": ""
            },
            "type": "contourcarpet"
           }
          ],
          "heatmap": [
           {
            "colorbar": {
             "outlinewidth": 0,
             "ticks": ""
            },
            "colorscale": [
             [
              0,
              "#0d0887"
             ],
             [
              0.1111111111111111,
              "#46039f"
             ],
             [
              0.2222222222222222,
              "#7201a8"
             ],
             [
              0.3333333333333333,
              "#9c179e"
             ],
             [
              0.4444444444444444,
              "#bd3786"
             ],
             [
              0.5555555555555556,
              "#d8576b"
             ],
             [
              0.6666666666666666,
              "#ed7953"
             ],
             [
              0.7777777777777778,
              "#fb9f3a"
             ],
             [
              0.8888888888888888,
              "#fdca26"
             ],
             [
              1,
              "#f0f921"
             ]
            ],
            "type": "heatmap"
           }
          ],
          "heatmapgl": [
           {
            "colorbar": {
             "outlinewidth": 0,
             "ticks": ""
            },
            "colorscale": [
             [
              0,
              "#0d0887"
             ],
             [
              0.1111111111111111,
              "#46039f"
             ],
             [
              0.2222222222222222,
              "#7201a8"
             ],
             [
              0.3333333333333333,
              "#9c179e"
             ],
             [
              0.4444444444444444,
              "#bd3786"
             ],
             [
              0.5555555555555556,
              "#d8576b"
             ],
             [
              0.6666666666666666,
              "#ed7953"
             ],
             [
              0.7777777777777778,
              "#fb9f3a"
             ],
             [
              0.8888888888888888,
              "#fdca26"
             ],
             [
              1,
              "#f0f921"
             ]
            ],
            "type": "heatmapgl"
           }
          ],
          "histogram": [
           {
            "marker": {
             "pattern": {
              "fillmode": "overlay",
              "size": 10,
              "solidity": 0.2
             }
            },
            "type": "histogram"
           }
          ],
          "histogram2d": [
           {
            "colorbar": {
             "outlinewidth": 0,
             "ticks": ""
            },
            "colorscale": [
             [
              0,
              "#0d0887"
             ],
             [
              0.1111111111111111,
              "#46039f"
             ],
             [
              0.2222222222222222,
              "#7201a8"
             ],
             [
              0.3333333333333333,
              "#9c179e"
             ],
             [
              0.4444444444444444,
              "#bd3786"
             ],
             [
              0.5555555555555556,
              "#d8576b"
             ],
             [
              0.6666666666666666,
              "#ed7953"
             ],
             [
              0.7777777777777778,
              "#fb9f3a"
             ],
             [
              0.8888888888888888,
              "#fdca26"
             ],
             [
              1,
              "#f0f921"
             ]
            ],
            "type": "histogram2d"
           }
          ],
          "histogram2dcontour": [
           {
            "colorbar": {
             "outlinewidth": 0,
             "ticks": ""
            },
            "colorscale": [
             [
              0,
              "#0d0887"
             ],
             [
              0.1111111111111111,
              "#46039f"
             ],
             [
              0.2222222222222222,
              "#7201a8"
             ],
             [
              0.3333333333333333,
              "#9c179e"
             ],
             [
              0.4444444444444444,
              "#bd3786"
             ],
             [
              0.5555555555555556,
              "#d8576b"
             ],
             [
              0.6666666666666666,
              "#ed7953"
             ],
             [
              0.7777777777777778,
              "#fb9f3a"
             ],
             [
              0.8888888888888888,
              "#fdca26"
             ],
             [
              1,
              "#f0f921"
             ]
            ],
            "type": "histogram2dcontour"
           }
          ],
          "mesh3d": [
           {
            "colorbar": {
             "outlinewidth": 0,
             "ticks": ""
            },
            "type": "mesh3d"
           }
          ],
          "parcoords": [
           {
            "line": {
             "colorbar": {
              "outlinewidth": 0,
              "ticks": ""
             }
            },
            "type": "parcoords"
           }
          ],
          "pie": [
           {
            "automargin": true,
            "type": "pie"
           }
          ],
          "scatter": [
           {
            "fillpattern": {
             "fillmode": "overlay",
             "size": 10,
             "solidity": 0.2
            },
            "type": "scatter"
           }
          ],
          "scatter3d": [
           {
            "line": {
             "colorbar": {
              "outlinewidth": 0,
              "ticks": ""
             }
            },
            "marker": {
             "colorbar": {
              "outlinewidth": 0,
              "ticks": ""
             }
            },
            "type": "scatter3d"
           }
          ],
          "scattercarpet": [
           {
            "marker": {
             "colorbar": {
              "outlinewidth": 0,
              "ticks": ""
             }
            },
            "type": "scattercarpet"
           }
          ],
          "scattergeo": [
           {
            "marker": {
             "colorbar": {
              "outlinewidth": 0,
              "ticks": ""
             }
            },
            "type": "scattergeo"
           }
          ],
          "scattergl": [
           {
            "marker": {
             "colorbar": {
              "outlinewidth": 0,
              "ticks": ""
             }
            },
            "type": "scattergl"
           }
          ],
          "scattermapbox": [
           {
            "marker": {
             "colorbar": {
              "outlinewidth": 0,
              "ticks": ""
             }
            },
            "type": "scattermapbox"
           }
          ],
          "scatterpolar": [
           {
            "marker": {
             "colorbar": {
              "outlinewidth": 0,
              "ticks": ""
             }
            },
            "type": "scatterpolar"
           }
          ],
          "scatterpolargl": [
           {
            "marker": {
             "colorbar": {
              "outlinewidth": 0,
              "ticks": ""
             }
            },
            "type": "scatterpolargl"
           }
          ],
          "scatterternary": [
           {
            "marker": {
             "colorbar": {
              "outlinewidth": 0,
              "ticks": ""
             }
            },
            "type": "scatterternary"
           }
          ],
          "surface": [
           {
            "colorbar": {
             "outlinewidth": 0,
             "ticks": ""
            },
            "colorscale": [
             [
              0,
              "#0d0887"
             ],
             [
              0.1111111111111111,
              "#46039f"
             ],
             [
              0.2222222222222222,
              "#7201a8"
             ],
             [
              0.3333333333333333,
              "#9c179e"
             ],
             [
              0.4444444444444444,
              "#bd3786"
             ],
             [
              0.5555555555555556,
              "#d8576b"
             ],
             [
              0.6666666666666666,
              "#ed7953"
             ],
             [
              0.7777777777777778,
              "#fb9f3a"
             ],
             [
              0.8888888888888888,
              "#fdca26"
             ],
             [
              1,
              "#f0f921"
             ]
            ],
            "type": "surface"
           }
          ],
          "table": [
           {
            "cells": {
             "fill": {
              "color": "#EBF0F8"
             },
             "line": {
              "color": "white"
             }
            },
            "header": {
             "fill": {
              "color": "#C8D4E3"
             },
             "line": {
              "color": "white"
             }
            },
            "type": "table"
           }
          ]
         },
         "layout": {
          "annotationdefaults": {
           "arrowcolor": "#2a3f5f",
           "arrowhead": 0,
           "arrowwidth": 1
          },
          "autotypenumbers": "strict",
          "coloraxis": {
           "colorbar": {
            "outlinewidth": 0,
            "ticks": ""
           }
          },
          "colorscale": {
           "diverging": [
            [
             0,
             "#8e0152"
            ],
            [
             0.1,
             "#c51b7d"
            ],
            [
             0.2,
             "#de77ae"
            ],
            [
             0.3,
             "#f1b6da"
            ],
            [
             0.4,
             "#fde0ef"
            ],
            [
             0.5,
             "#f7f7f7"
            ],
            [
             0.6,
             "#e6f5d0"
            ],
            [
             0.7,
             "#b8e186"
            ],
            [
             0.8,
             "#7fbc41"
            ],
            [
             0.9,
             "#4d9221"
            ],
            [
             1,
             "#276419"
            ]
           ],
           "sequential": [
            [
             0,
             "#0d0887"
            ],
            [
             0.1111111111111111,
             "#46039f"
            ],
            [
             0.2222222222222222,
             "#7201a8"
            ],
            [
             0.3333333333333333,
             "#9c179e"
            ],
            [
             0.4444444444444444,
             "#bd3786"
            ],
            [
             0.5555555555555556,
             "#d8576b"
            ],
            [
             0.6666666666666666,
             "#ed7953"
            ],
            [
             0.7777777777777778,
             "#fb9f3a"
            ],
            [
             0.8888888888888888,
             "#fdca26"
            ],
            [
             1,
             "#f0f921"
            ]
           ],
           "sequentialminus": [
            [
             0,
             "#0d0887"
            ],
            [
             0.1111111111111111,
             "#46039f"
            ],
            [
             0.2222222222222222,
             "#7201a8"
            ],
            [
             0.3333333333333333,
             "#9c179e"
            ],
            [
             0.4444444444444444,
             "#bd3786"
            ],
            [
             0.5555555555555556,
             "#d8576b"
            ],
            [
             0.6666666666666666,
             "#ed7953"
            ],
            [
             0.7777777777777778,
             "#fb9f3a"
            ],
            [
             0.8888888888888888,
             "#fdca26"
            ],
            [
             1,
             "#f0f921"
            ]
           ]
          },
          "colorway": [
           "#636efa",
           "#EF553B",
           "#00cc96",
           "#ab63fa",
           "#FFA15A",
           "#19d3f3",
           "#FF6692",
           "#B6E880",
           "#FF97FF",
           "#FECB52"
          ],
          "font": {
           "color": "#2a3f5f"
          },
          "geo": {
           "bgcolor": "white",
           "lakecolor": "white",
           "landcolor": "#E5ECF6",
           "showlakes": true,
           "showland": true,
           "subunitcolor": "white"
          },
          "hoverlabel": {
           "align": "left"
          },
          "hovermode": "closest",
          "mapbox": {
           "style": "light"
          },
          "paper_bgcolor": "white",
          "plot_bgcolor": "#E5ECF6",
          "polar": {
           "angularaxis": {
            "gridcolor": "white",
            "linecolor": "white",
            "ticks": ""
           },
           "bgcolor": "#E5ECF6",
           "radialaxis": {
            "gridcolor": "white",
            "linecolor": "white",
            "ticks": ""
           }
          },
          "scene": {
           "xaxis": {
            "backgroundcolor": "#E5ECF6",
            "gridcolor": "white",
            "gridwidth": 2,
            "linecolor": "white",
            "showbackground": true,
            "ticks": "",
            "zerolinecolor": "white"
           },
           "yaxis": {
            "backgroundcolor": "#E5ECF6",
            "gridcolor": "white",
            "gridwidth": 2,
            "linecolor": "white",
            "showbackground": true,
            "ticks": "",
            "zerolinecolor": "white"
           },
           "zaxis": {
            "backgroundcolor": "#E5ECF6",
            "gridcolor": "white",
            "gridwidth": 2,
            "linecolor": "white",
            "showbackground": true,
            "ticks": "",
            "zerolinecolor": "white"
           }
          },
          "shapedefaults": {
           "line": {
            "color": "#2a3f5f"
           }
          },
          "ternary": {
           "aaxis": {
            "gridcolor": "white",
            "linecolor": "white",
            "ticks": ""
           },
           "baxis": {
            "gridcolor": "white",
            "linecolor": "white",
            "ticks": ""
           },
           "bgcolor": "#E5ECF6",
           "caxis": {
            "gridcolor": "white",
            "linecolor": "white",
            "ticks": ""
           }
          },
          "title": {
           "x": 0.05
          },
          "xaxis": {
           "automargin": true,
           "gridcolor": "white",
           "linecolor": "white",
           "ticks": "",
           "title": {
            "standoff": 15
           },
           "zerolinecolor": "white",
           "zerolinewidth": 2
          },
          "yaxis": {
           "automargin": true,
           "gridcolor": "white",
           "linecolor": "white",
           "ticks": "",
           "title": {
            "standoff": 15
           },
           "zerolinecolor": "white",
           "zerolinewidth": 2
          }
         }
        },
        "title": {
         "text": "Actual vs Predicted Outbound"
        },
        "xaxis": {
         "anchor": "y",
         "domain": [
          0,
          1
         ],
         "title": {
          "text": "Month"
         }
        },
        "yaxis": {
         "anchor": "x",
         "domain": [
          0,
          1
         ],
         "title": {
          "text": "Outbound (KT)"
         }
        }
       }
      }
     },
     "metadata": {},
     "output_type": "display_data"
    }
   ],
   "source": [
    "X_out_all = scaler_out.transform(outbound_comparison[['Predicted_Outbound']].fillna(0))\n",
    "outbound_comparison['Predicted_Outbound_Adjusted'] = model.predict(X_out_all)\n",
    "outbound_comparison['Deviation_Adjusted'] = outbound_comparison['Quantity_KT_Out'] - outbound_comparison['Predicted_Outbound_Adjusted']\n",
    "\n",
    "\n",
    "fig = px.line(\n",
    "    outbound_comparison,\n",
    "    x='month',\n",
    "    y=['Quantity_KT_Out', 'Predicted_Outbound', 'Predicted_Outbound_Adjusted'],\n",
    "    title='Actual vs Predicted Outbound',\n",
    "    markers=True\n",
    ")\n",
    "\n",
    "fig.update_layout(yaxis_title='Outbound (KT)', xaxis_title='Month')\n",
    "fig.show()"
   ]
  },
  {
   "cell_type": "markdown",
   "id": "8f26ca51",
   "metadata": {},
   "source": [
    "---"
   ]
  },
  {
   "cell_type": "markdown",
   "id": "af7b2135",
   "metadata": {},
   "source": [
    "# **Optimization**"
   ]
  },
  {
   "cell_type": "markdown",
   "id": "185253ab",
   "metadata": {},
   "source": [
    "### **Create Dataframe For Optimization Model**"
   ]
  },
  {
   "cell_type": "code",
   "execution_count": null,
   "id": "a1a5e7f7",
   "metadata": {},
   "outputs": [],
   "source": [
    "optimize = pd.DataFrame({\n",
    "    'Actual Inbound': Inbound_monthly_china['Quantity_KT_In'],\n",
    "    'Actual Outbound': outbound_monthly_china['Quantity_KT_Out'],\n",
    "    'Actual Inventory': Inventory_monthly_china['Quantity_KT_Inventory'],\n",
    "    'Adjusted Inventory': comparison['Predicted_Adjusted'],\n",
    "    'Adjusted Outbound': outbound_comparison['Predicted_Outbound_Adjusted'],\n",
    "    'Capacity' : china_predicted['Total Cap (KT)'].values\n",
    "})\n",
    "optimize['Overflow'] = optimize['Adjusted Inventory'] > optimize['Capacity']"
   ]
  },
  {
   "cell_type": "code",
   "execution_count": 35,
   "id": "ee33b44a",
   "metadata": {},
   "outputs": [
    {
     "data": {
      "text/html": [
       "<div>\n",
       "<style scoped>\n",
       "    .dataframe tbody tr th:only-of-type {\n",
       "        vertical-align: middle;\n",
       "    }\n",
       "\n",
       "    .dataframe tbody tr th {\n",
       "        vertical-align: top;\n",
       "    }\n",
       "\n",
       "    .dataframe thead th {\n",
       "        text-align: right;\n",
       "    }\n",
       "</style>\n",
       "<table border=\"1\" class=\"dataframe\">\n",
       "  <thead>\n",
       "    <tr style=\"text-align: right;\">\n",
       "      <th></th>\n",
       "      <th>Actual Inbound</th>\n",
       "      <th>Actual Outbound</th>\n",
       "      <th>Actual Inventory</th>\n",
       "      <th>Adjusted Inventory</th>\n",
       "      <th>Adjusted Outbound</th>\n",
       "      <th>Capacity</th>\n",
       "      <th>Overflow</th>\n",
       "    </tr>\n",
       "  </thead>\n",
       "  <tbody>\n",
       "    <tr>\n",
       "      <th>0</th>\n",
       "      <td>25.025125</td>\n",
       "      <td>25.68777</td>\n",
       "      <td>39.023693</td>\n",
       "      <td>53.424630</td>\n",
       "      <td>22.136795</td>\n",
       "      <td>58</td>\n",
       "      <td>False</td>\n",
       "    </tr>\n",
       "    <tr>\n",
       "      <th>1</th>\n",
       "      <td>16.469113</td>\n",
       "      <td>14.02565</td>\n",
       "      <td>46.217648</td>\n",
       "      <td>53.424630</td>\n",
       "      <td>19.391612</td>\n",
       "      <td>70</td>\n",
       "      <td>False</td>\n",
       "    </tr>\n",
       "    <tr>\n",
       "      <th>2</th>\n",
       "      <td>33.598812</td>\n",
       "      <td>20.43856</td>\n",
       "      <td>48.478708</td>\n",
       "      <td>53.424630</td>\n",
       "      <td>20.025016</td>\n",
       "      <td>70</td>\n",
       "      <td>False</td>\n",
       "    </tr>\n",
       "    <tr>\n",
       "      <th>3</th>\n",
       "      <td>23.836500</td>\n",
       "      <td>21.06260</td>\n",
       "      <td>48.415015</td>\n",
       "      <td>53.424630</td>\n",
       "      <td>21.977254</td>\n",
       "      <td>70</td>\n",
       "      <td>False</td>\n",
       "    </tr>\n",
       "    <tr>\n",
       "      <th>4</th>\n",
       "      <td>29.770405</td>\n",
       "      <td>22.76281</td>\n",
       "      <td>52.826486</td>\n",
       "      <td>53.424630</td>\n",
       "      <td>23.404748</td>\n",
       "      <td>70</td>\n",
       "      <td>False</td>\n",
       "    </tr>\n",
       "    <tr>\n",
       "      <th>5</th>\n",
       "      <td>20.254925</td>\n",
       "      <td>21.01019</td>\n",
       "      <td>72.547766</td>\n",
       "      <td>62.843336</td>\n",
       "      <td>19.391612</td>\n",
       "      <td>70</td>\n",
       "      <td>False</td>\n",
       "    </tr>\n",
       "    <tr>\n",
       "      <th>6</th>\n",
       "      <td>23.471777</td>\n",
       "      <td>21.82408</td>\n",
       "      <td>76.147124</td>\n",
       "      <td>62.843336</td>\n",
       "      <td>23.404748</td>\n",
       "      <td>70</td>\n",
       "      <td>False</td>\n",
       "    </tr>\n",
       "    <tr>\n",
       "      <th>7</th>\n",
       "      <td>23.469684</td>\n",
       "      <td>20.74491</td>\n",
       "      <td>68.138683</td>\n",
       "      <td>62.843336</td>\n",
       "      <td>21.924838</td>\n",
       "      <td>70</td>\n",
       "      <td>False</td>\n",
       "    </tr>\n",
       "    <tr>\n",
       "      <th>8</th>\n",
       "      <td>19.945650</td>\n",
       "      <td>26.56943</td>\n",
       "      <td>66.701368</td>\n",
       "      <td>62.843336</td>\n",
       "      <td>23.637345</td>\n",
       "      <td>70</td>\n",
       "      <td>False</td>\n",
       "    </tr>\n",
       "    <tr>\n",
       "      <th>9</th>\n",
       "      <td>15.933650</td>\n",
       "      <td>23.40413</td>\n",
       "      <td>62.785369</td>\n",
       "      <td>62.843336</td>\n",
       "      <td>23.404748</td>\n",
       "      <td>70</td>\n",
       "      <td>False</td>\n",
       "    </tr>\n",
       "    <tr>\n",
       "      <th>10</th>\n",
       "      <td>15.277488</td>\n",
       "      <td>22.24040</td>\n",
       "      <td>54.764596</td>\n",
       "      <td>53.424630</td>\n",
       "      <td>19.391612</td>\n",
       "      <td>70</td>\n",
       "      <td>False</td>\n",
       "    </tr>\n",
       "    <tr>\n",
       "      <th>11</th>\n",
       "      <td>12.629075</td>\n",
       "      <td>23.09915</td>\n",
       "      <td>72.677170</td>\n",
       "      <td>53.424630</td>\n",
       "      <td>19.391612</td>\n",
       "      <td>70</td>\n",
       "      <td>False</td>\n",
       "    </tr>\n",
       "  </tbody>\n",
       "</table>\n",
       "</div>"
      ],
      "text/plain": [
       "    Actual Inbound  Actual Outbound  Actual Inventory  Adjusted Inventory  \\\n",
       "0        25.025125         25.68777         39.023693           53.424630   \n",
       "1        16.469113         14.02565         46.217648           53.424630   \n",
       "2        33.598812         20.43856         48.478708           53.424630   \n",
       "3        23.836500         21.06260         48.415015           53.424630   \n",
       "4        29.770405         22.76281         52.826486           53.424630   \n",
       "5        20.254925         21.01019         72.547766           62.843336   \n",
       "6        23.471777         21.82408         76.147124           62.843336   \n",
       "7        23.469684         20.74491         68.138683           62.843336   \n",
       "8        19.945650         26.56943         66.701368           62.843336   \n",
       "9        15.933650         23.40413         62.785369           62.843336   \n",
       "10       15.277488         22.24040         54.764596           53.424630   \n",
       "11       12.629075         23.09915         72.677170           53.424630   \n",
       "\n",
       "    Adjusted Outbound  Capacity  Overflow  \n",
       "0           22.136795        58     False  \n",
       "1           19.391612        70     False  \n",
       "2           20.025016        70     False  \n",
       "3           21.977254        70     False  \n",
       "4           23.404748        70     False  \n",
       "5           19.391612        70     False  \n",
       "6           23.404748        70     False  \n",
       "7           21.924838        70     False  \n",
       "8           23.637345        70     False  \n",
       "9           23.404748        70     False  \n",
       "10          19.391612        70     False  \n",
       "11          19.391612        70     False  "
      ]
     },
     "execution_count": 35,
     "metadata": {},
     "output_type": "execute_result"
    }
   ],
   "source": [
    "optimize"
   ]
  },
  {
   "cell_type": "markdown",
   "id": "b3c37de6",
   "metadata": {},
   "source": [
    "### ---**You Can Append New Records to the `optimize` DataFrame**---"
   ]
  },
  {
   "cell_type": "markdown",
   "id": "0f955303",
   "metadata": {},
   "source": [
    "## **Optimization Model Function: Backtesting on Historical Data**"
   ]
  },
  {
   "cell_type": "markdown",
   "id": "8cc88109",
   "metadata": {},
   "source": [
    "- **Define a Function that applies the optimization logic using historical data to verify model correctness, behavior, and feasibility before applying to future scenarios.**"
   ]
  },
  {
   "cell_type": "code",
   "execution_count": 36,
   "id": "ab156a86",
   "metadata": {},
   "outputs": [],
   "source": [
    "def run_optimization(optimize):\n",
    "    model = LpProblem(\"Inventory_Optimization\", LpMinimize)\n",
    "    n = len(optimize)\n",
    "\n",
    "    inbound_vars = [LpVariable(f\"Inbound_{i}\", lowBound=0, cat=LpContinuous) for i in range(n)]\n",
    "    outbound_vars = [LpVariable(f\"Outbound_{i}\", lowBound=0, cat=LpContinuous) for i in range(n)]\n",
    "    inventory_vars = [LpVariable(f\"Inventory_{i}\", lowBound=0, cat=LpContinuous) for i in range(n)]\n",
    "    overflow_vars = [LpVariable(f\"Overflow_{i}\", lowBound=0, cat=LpContinuous) for i in range(n)]\n",
    "    understock_vars = [LpVariable(f\"Understock_{i}\", lowBound=0, cat=LpContinuous) for i in range(n)]\n",
    "\n",
    "    capacity = optimize['Capacity'].values\n",
    "    adjusted_outbound = optimize['Actual Outbound'].values\n",
    "    cap_75 = 0.75 * capacity\n",
    "    cap_80 = 0.8 * capacity\n",
    "\n",
    "    # Objective: penalize overflow and understock, reward outbound\n",
    "    model += (\n",
    "        lpSum(overflow_vars) * 1 +\n",
    "        lpSum(understock_vars) * 1 -\n",
    "        lpSum(outbound_vars)\n",
    "    )\n",
    "\n",
    "    for i in range(n):\n",
    "        if i == 0:\n",
    "            model += inventory_vars[i] == optimize['Actual Inventory'].iloc[0] + inbound_vars[i] - outbound_vars[i]\n",
    "        else:\n",
    "            model += inventory_vars[i] == inventory_vars[i - 1] + inbound_vars[i] - outbound_vars[i]\n",
    "\n",
    "        model += outbound_vars[i] <= adjusted_outbound[i]\n",
    "        model += inbound_vars[i] >= 5  # supplier constraint\n",
    "\n",
    "        # Tight overflow/understock constraints\n",
    "        model += overflow_vars[i] >= inventory_vars[i] - cap_80[i]\n",
    "        model += understock_vars[i] >= cap_75[i] - inventory_vars[i]\n",
    "        model += overflow_vars[i] >= 0\n",
    "        model += understock_vars[i] >= 0\n",
    "\n",
    "    model.solve()\n",
    "\n",
    "    optimize['Optimized Inbound'] = [inbound_vars[i].varValue for i in range(n)]\n",
    "    optimize['Optimized Outbound'] = [outbound_vars[i].varValue for i in range(n)]\n",
    "    optimize['Optimized Inventory'] = [inventory_vars[i].varValue for i in range(n)]\n",
    "    optimize['Overflow'] = [overflow_vars[i].varValue for i in range(n)]\n",
    "    optimize['Understock'] = [understock_vars[i].varValue for i in range(n)]\n",
    "    optimize['Cap_75'] = cap_75\n",
    "    optimize['Cap_80'] = cap_80\n",
    "\n",
    "    return optimize\n"
   ]
  },
  {
   "cell_type": "code",
   "execution_count": 37,
   "id": "2203735d",
   "metadata": {},
   "outputs": [],
   "source": [
    "opt_head_9 = optimize.head(9).copy()"
   ]
  },
  {
   "cell_type": "code",
   "execution_count": 38,
   "id": "e1463486",
   "metadata": {},
   "outputs": [],
   "source": [
    "opt_head_9 = run_optimization(opt_head_9)\n",
    "opt_head_9['Cap_70'] = opt_head_9['Capacity'] * 0.70\n",
    "opt_head_9['Cap_80'] = opt_head_9['Capacity'] * 0.80"
   ]
  },
  {
   "cell_type": "code",
   "execution_count": 39,
   "id": "5af2e7f2",
   "metadata": {},
   "outputs": [
    {
     "data": {
      "image/png": "[encoded data removed]",
      "text/plain": [
       "<Figure size 1400x600 with 1 Axes>"
      ]
     },
     "metadata": {},
     "output_type": "display_data"
    }
   ],
   "source": [
    "opt_head_9 = opt_head_9.sort_index()\n",
    "x1 = opt_head_9.index\n",
    "month_labels = df.loc[x1, 'month'].dt.strftime('%b-%Y').values\n",
    "plt.figure(figsize=(14,6))\n",
    "\n",
    "plt.plot(x1, opt_head_9['Actual Inventory'], label='Actual Inventory', color='green', marker='o')\n",
    "plt.plot(x1, opt_head_9['Optimized Inventory'], label='Optimized Inventory', color='blue', marker='^')\n",
    "plt.plot(x1, opt_head_9['Optimized Inbound'], label='Optimized Inbound', color='orange', marker='s')\n",
    "\n",
    "plt.plot(x1, opt_head_9['Capacity'], label='Capacity', color='red', linestyle='--')\n",
    "plt.plot(x1, opt_head_9['Cap_70'], label='Cap 70%', color='gray', linestyle='--')\n",
    "plt.plot(x1, opt_head_9['Cap_80'], label='Cap 80%', color='gray', linestyle='--')\n",
    "\n",
    "plt.title('Inventory & Inbound vs Capacity (First 9 Months)')\n",
    "plt.xlabel('Month Index')\n",
    "plt.ylabel('Quantity (KT)')\n",
    "plt.legend()\n",
    "plt.grid(True, linestyle='--', alpha=0.5)\n",
    "plt.xticks(x1, month_labels, rotation=45)\n",
    "plt.tight_layout()\n",
    "plt.show()"
   ]
  },
  {
   "cell_type": "markdown",
   "id": "ed2b995a",
   "metadata": {},
   "source": [
    "---"
   ]
  },
  {
   "cell_type": "markdown",
   "id": "b4d17746",
   "metadata": {},
   "source": [
    "## **Build a New Optimization Function for `pred_data`**"
   ]
  },
  {
   "cell_type": "markdown",
   "id": "3768f866",
   "metadata": {},
   "source": [
    "- **Construct a new optimization function that applies the same logic as the previous model, adapted to handle `pred_data` (forecasted or incoming new data).**"
   ]
  },
  {
   "cell_type": "code",
   "execution_count": 40,
   "id": "33dd4b73",
   "metadata": {},
   "outputs": [],
   "source": [
    "def run_forecast_optimization(df_forecast, last_inventory):\n",
    "    n = len(df_forecast)\n",
    "    \n",
    "    # Initialize LP model\n",
    "    model = LpProblem(\"Inventory_Optimization\", LpMinimize)\n",
    "\n",
    "    # Variables\n",
    "    inbound_vars = [LpVariable(f\"Inbound_{i}\", lowBound=0, cat=LpContinuous) for i in range(n)]\n",
    "    outbound_vars = [LpVariable(f\"Outbound_{i}\", lowBound=0, cat=LpContinuous) for i in range(n)]\n",
    "    inventory_vars = [LpVariable(f\"Inventory_{i}\", lowBound=0, cat=LpContinuous) for i in range(n)]\n",
    "    overflow_vars = [LpVariable(f\"Overflow_{i}\", lowBound=0, cat=LpContinuous) for i in range(n)]\n",
    "    understock_vars = [LpVariable(f\"Understock_{i}\", lowBound=0, cat=LpContinuous) for i in range(n)]\n",
    "\n",
    "    # Parameters\n",
    "    adjusted_outbound = df_forecast['Adjusted Outbound'].values\n",
    "    adjusted_inventory = df_forecast['Adjusted Inventory'].values\n",
    "    capacity = df_forecast['Capacity'].values\n",
    "\n",
    "    cap_80 = 0.8 * capacity\n",
    "    cap_70 = 0.7 * capacity\n",
    "\n",
    "    # Inventory balance constraint\n",
    "    for i in range(n):\n",
    "        if i == 0:\n",
    "            model += inventory_vars[i] == last_inventory + inbound_vars[i] - outbound_vars[i]\n",
    "        else:\n",
    "            model += inventory_vars[i] == inventory_vars[i-1] + inbound_vars[i] - outbound_vars[i]\n",
    "\n",
    "    # Constraints: outbound cannot exceed adjusted\n",
    "    for i in range(n):\n",
    "        model += outbound_vars[i] <= adjusted_outbound[i]\n",
    "        model += inbound_vars[i] >= 5\n",
    "\n",
    "    # Overflow & understock constraints\n",
    "    for i in range(n):\n",
    "        model += overflow_vars[i] >= inventory_vars[i] - cap_80[i]\n",
    "        model += overflow_vars[i] >= 0\n",
    "        model += understock_vars[i] >= cap_70[i] - inventory_vars[i]\n",
    "        model += understock_vars[i] >= 0\n",
    "\n",
    "    # Objective: maximize outbound, penalize overflow and understock\n",
    "    model += -lpSum(outbound_vars) + lpSum(overflow_vars) * 1 + lpSum(understock_vars) * 1\n",
    "\n",
    "    # Solve\n",
    "    model.solve()\n",
    "\n",
    "    # Collect results\n",
    "    df_result = df_forecast.copy()\n",
    "    df_result['Optimized Inbound'] = [value(v) for v in inbound_vars]\n",
    "    df_result['Optimized Outbound'] = [value(v) for v in outbound_vars]\n",
    "    df_result['Optimized Inventory'] = [value(v) for v in inventory_vars]\n",
    "    df_result['Overflow'] = [value(v) for v in overflow_vars]\n",
    "    df_result['Understock'] = [value(v) for v in understock_vars]\n",
    "    df_result['Cap_70'] = cap_70\n",
    "    df_result['Cap_80'] = cap_80\n",
    "\n",
    "    return df_result\n"
   ]
  },
  {
   "cell_type": "code",
   "execution_count": 41,
   "id": "33a89a50",
   "metadata": {},
   "outputs": [
    {
     "data": {
      "text/html": [
       "<div>\n",
       "<style scoped>\n",
       "    .dataframe tbody tr th:only-of-type {\n",
       "        vertical-align: middle;\n",
       "    }\n",
       "\n",
       "    .dataframe tbody tr th {\n",
       "        vertical-align: top;\n",
       "    }\n",
       "\n",
       "    .dataframe thead th {\n",
       "        text-align: right;\n",
       "    }\n",
       "</style>\n",
       "<table border=\"1\" class=\"dataframe\">\n",
       "  <thead>\n",
       "    <tr style=\"text-align: right;\">\n",
       "      <th></th>\n",
       "      <th>Actual Inbound</th>\n",
       "      <th>Actual Outbound</th>\n",
       "      <th>Actual Inventory</th>\n",
       "      <th>Adjusted Inventory</th>\n",
       "      <th>Adjusted Outbound</th>\n",
       "      <th>Capacity</th>\n",
       "      <th>Overflow</th>\n",
       "    </tr>\n",
       "  </thead>\n",
       "  <tbody>\n",
       "    <tr>\n",
       "      <th>0</th>\n",
       "      <td>25.025125</td>\n",
       "      <td>25.68777</td>\n",
       "      <td>39.023693</td>\n",
       "      <td>53.424630</td>\n",
       "      <td>22.136795</td>\n",
       "      <td>58</td>\n",
       "      <td>False</td>\n",
       "    </tr>\n",
       "    <tr>\n",
       "      <th>1</th>\n",
       "      <td>16.469113</td>\n",
       "      <td>14.02565</td>\n",
       "      <td>46.217648</td>\n",
       "      <td>53.424630</td>\n",
       "      <td>19.391612</td>\n",
       "      <td>70</td>\n",
       "      <td>False</td>\n",
       "    </tr>\n",
       "    <tr>\n",
       "      <th>2</th>\n",
       "      <td>33.598812</td>\n",
       "      <td>20.43856</td>\n",
       "      <td>48.478708</td>\n",
       "      <td>53.424630</td>\n",
       "      <td>20.025016</td>\n",
       "      <td>70</td>\n",
       "      <td>False</td>\n",
       "    </tr>\n",
       "    <tr>\n",
       "      <th>3</th>\n",
       "      <td>23.836500</td>\n",
       "      <td>21.06260</td>\n",
       "      <td>48.415015</td>\n",
       "      <td>53.424630</td>\n",
       "      <td>21.977254</td>\n",
       "      <td>70</td>\n",
       "      <td>False</td>\n",
       "    </tr>\n",
       "    <tr>\n",
       "      <th>4</th>\n",
       "      <td>29.770405</td>\n",
       "      <td>22.76281</td>\n",
       "      <td>52.826486</td>\n",
       "      <td>53.424630</td>\n",
       "      <td>23.404748</td>\n",
       "      <td>70</td>\n",
       "      <td>False</td>\n",
       "    </tr>\n",
       "    <tr>\n",
       "      <th>5</th>\n",
       "      <td>20.254925</td>\n",
       "      <td>21.01019</td>\n",
       "      <td>72.547766</td>\n",
       "      <td>62.843336</td>\n",
       "      <td>19.391612</td>\n",
       "      <td>70</td>\n",
       "      <td>False</td>\n",
       "    </tr>\n",
       "    <tr>\n",
       "      <th>6</th>\n",
       "      <td>23.471777</td>\n",
       "      <td>21.82408</td>\n",
       "      <td>76.147124</td>\n",
       "      <td>62.843336</td>\n",
       "      <td>23.404748</td>\n",
       "      <td>70</td>\n",
       "      <td>False</td>\n",
       "    </tr>\n",
       "    <tr>\n",
       "      <th>7</th>\n",
       "      <td>23.469684</td>\n",
       "      <td>20.74491</td>\n",
       "      <td>68.138683</td>\n",
       "      <td>62.843336</td>\n",
       "      <td>21.924838</td>\n",
       "      <td>70</td>\n",
       "      <td>False</td>\n",
       "    </tr>\n",
       "    <tr>\n",
       "      <th>8</th>\n",
       "      <td>19.945650</td>\n",
       "      <td>26.56943</td>\n",
       "      <td>66.701368</td>\n",
       "      <td>62.843336</td>\n",
       "      <td>23.637345</td>\n",
       "      <td>70</td>\n",
       "      <td>False</td>\n",
       "    </tr>\n",
       "    <tr>\n",
       "      <th>9</th>\n",
       "      <td>15.933650</td>\n",
       "      <td>23.40413</td>\n",
       "      <td>62.785369</td>\n",
       "      <td>62.843336</td>\n",
       "      <td>23.404748</td>\n",
       "      <td>70</td>\n",
       "      <td>False</td>\n",
       "    </tr>\n",
       "    <tr>\n",
       "      <th>10</th>\n",
       "      <td>15.277488</td>\n",
       "      <td>22.24040</td>\n",
       "      <td>54.764596</td>\n",
       "      <td>53.424630</td>\n",
       "      <td>19.391612</td>\n",
       "      <td>70</td>\n",
       "      <td>False</td>\n",
       "    </tr>\n",
       "    <tr>\n",
       "      <th>11</th>\n",
       "      <td>12.629075</td>\n",
       "      <td>23.09915</td>\n",
       "      <td>72.677170</td>\n",
       "      <td>53.424630</td>\n",
       "      <td>19.391612</td>\n",
       "      <td>70</td>\n",
       "      <td>False</td>\n",
       "    </tr>\n",
       "  </tbody>\n",
       "</table>\n",
       "</div>"
      ],
      "text/plain": [
       "    Actual Inbound  Actual Outbound  Actual Inventory  Adjusted Inventory  \\\n",
       "0        25.025125         25.68777         39.023693           53.424630   \n",
       "1        16.469113         14.02565         46.217648           53.424630   \n",
       "2        33.598812         20.43856         48.478708           53.424630   \n",
       "3        23.836500         21.06260         48.415015           53.424630   \n",
       "4        29.770405         22.76281         52.826486           53.424630   \n",
       "5        20.254925         21.01019         72.547766           62.843336   \n",
       "6        23.471777         21.82408         76.147124           62.843336   \n",
       "7        23.469684         20.74491         68.138683           62.843336   \n",
       "8        19.945650         26.56943         66.701368           62.843336   \n",
       "9        15.933650         23.40413         62.785369           62.843336   \n",
       "10       15.277488         22.24040         54.764596           53.424630   \n",
       "11       12.629075         23.09915         72.677170           53.424630   \n",
       "\n",
       "    Adjusted Outbound  Capacity  Overflow  \n",
       "0           22.136795        58     False  \n",
       "1           19.391612        70     False  \n",
       "2           20.025016        70     False  \n",
       "3           21.977254        70     False  \n",
       "4           23.404748        70     False  \n",
       "5           19.391612        70     False  \n",
       "6           23.404748        70     False  \n",
       "7           21.924838        70     False  \n",
       "8           23.637345        70     False  \n",
       "9           23.404748        70     False  \n",
       "10          19.391612        70     False  \n",
       "11          19.391612        70     False  "
      ]
     },
     "execution_count": 41,
     "metadata": {},
     "output_type": "execute_result"
    }
   ],
   "source": [
    "optimize"
   ]
  },
  {
   "cell_type": "markdown",
   "id": "b32bd831",
   "metadata": {},
   "source": [
    "### **Initial Target for the New Optimization Model: `optimize.iloc[-3:]` (Last 3 Records)**"
   ]
  },
  {
   "cell_type": "code",
   "execution_count": 42,
   "id": "71bb248d",
   "metadata": {},
   "outputs": [],
   "source": [
    "opt_last3 = optimize.iloc[-3:].copy()"
   ]
  },
  {
   "cell_type": "markdown",
   "id": "103a2153",
   "metadata": {},
   "source": [
    "- **The latest inventory value is a key input to the optimization model, as all calculations are anchored from this current stock level.**"
   ]
  },
  {
   "cell_type": "code",
   "execution_count": 43,
   "id": "bed450e2",
   "metadata": {},
   "outputs": [
    {
     "data": {
      "text/plain": [
       "66.701368"
      ]
     },
     "execution_count": 43,
     "metadata": {},
     "output_type": "execute_result"
    }
   ],
   "source": [
    "opt_start_idx = opt_last3.index[0] \n",
    "last_inventory = optimize.loc[opt_start_idx - 1, 'Actual Inventory']\n",
    "last_inventory"
   ]
  },
  {
   "cell_type": "code",
   "execution_count": 44,
   "id": "1c9479b4",
   "metadata": {},
   "outputs": [],
   "source": [
    "opt_last3 = run_forecast_optimization(opt_last3, last_inventory)\n",
    "opt_last3 = opt_last3.sort_index()"
   ]
  },
  {
   "cell_type": "code",
   "execution_count": 45,
   "id": "e9fb00ae",
   "metadata": {},
   "outputs": [
    {
     "data": {
      "image/png": "[encoded data removed]",
      "text/plain": [
       "<Figure size 1400x600 with 1 Axes>"
      ]
     },
     "metadata": {},
     "output_type": "display_data"
    }
   ],
   "source": [
    "x = opt_last3.index\n",
    "month_labels_last3 = df.loc[x, 'month'].dt.strftime('%b-%Y').values\n",
    "\n",
    "\n",
    "plt.figure(figsize=(14,6))\n",
    "\n",
    "plt.plot(x, opt_last3['Adjusted Inventory'], label='Adjusted Inventory', color='green', marker='o')\n",
    "plt.plot(x, opt_last3['Optimized Inventory'], label='Optimized Inventory', color='blue', marker='^')\n",
    "plt.plot(x, opt_last3['Optimized Inbound'], label='Optimized Inbound', color='orange', marker='s')\n",
    "\n",
    "plt.plot(x, opt_last3['Capacity'], label='Capacity', color='red', linestyle='--')\n",
    "plt.plot(x, opt_last3['Cap_70'], label='70% Capacity', color='gray', linestyle=':')\n",
    "plt.plot(x, opt_last3['Cap_80'], label='80% Capacity', color='gray', linestyle=':')\n",
    "\n",
    "plt.title('Inventory & Inbound vs Capacity (Last 3 periods)')\n",
    "plt.xlabel('Time')\n",
    "plt.ylabel('Volume')\n",
    "plt.legend()\n",
    "plt.grid(True, linestyle='--', alpha=0.5)\n",
    "plt.xticks(x, month_labels_last3, rotation=45)\n",
    "plt.tight_layout()\n",
    "plt.show()\n"
   ]
  },
  {
   "cell_type": "markdown",
   "id": "5c0467f7",
   "metadata": {},
   "source": [
    "---"
   ]
  },
  {
   "cell_type": "markdown",
   "id": "269858d8",
   "metadata": {},
   "source": [
    "**End of Notebook – Thank you**"
   ]
  }
 ],
 "metadata": {
  "kernelspec": {
   "display_name": "base",
   "language": "python",
   "name": "python3"
  },
  "language_info": {
   "codemirror_mode": {
    "name": "ipython",
    "version": 3
   },
   "file_extension": ".py",
   "mimetype": "text/x-python",
   "name": "python",
   "nbconvert_exporter": "python",
   "pygments_lexer": "ipython3",
   "version": "3.12.7"
  }
 },
 "nbformat": 4,
 "nbformat_minor": 5
}
